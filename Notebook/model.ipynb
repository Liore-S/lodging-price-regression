{
 "cells": [
  {
   "cell_type": "code",
   "execution_count": 1,
   "metadata": {},
   "outputs": [],
   "source": [
    "import pandas as pd\n",
    "import numpy as np\n",
    "import matplotlib.pyplot as plt\n",
    "import seaborn as sns\n",
    "from sklearn.model_selection import train_test_split\n",
    "from sklearn.metrics import r2_score, mean_squared_error, mean_absolute_error\n",
    "from sklearn.model_selection import GridSearchCV\n",
    "from sklearn.linear_model import LassoCV\n",
    "from sklearn.preprocessing import StandardScaler\n",
    "from sklearn.linear_model import LinearRegression\n",
    "\n",
    "import xgboost as xgb"
   ]
  },
  {
   "cell_type": "markdown",
   "metadata": {},
   "source": [
    "## Input data"
   ]
  },
  {
   "cell_type": "markdown",
   "metadata": {},
   "source": [
    "## Lasso Regularization"
   ]
  },
  {
   "cell_type": "code",
   "execution_count": 4,
   "metadata": {},
   "outputs": [],
   "source": [
    "# scaler = StandardScaler()\n",
    "# X_scale = scaler.fit_transform(X)\n",
    "# # X_testScale = scaler.transform(X_test)"
   ]
  },
  {
   "cell_type": "code",
   "execution_count": 5,
   "metadata": {},
   "outputs": [],
   "source": [
    "# X_train, X_test, y_train, y_test = train_test_split(X_scale, y, test_size=0.1, random_state=42)\n",
    "# print(X_train.shape, X_test.shape, y_train.shape, y_test.shape)"
   ]
  },
  {
   "cell_type": "code",
   "execution_count": 6,
   "metadata": {},
   "outputs": [],
   "source": [
    "# from sklearn.feature_selection import SelectFromModel\n",
    "\n",
    "\n",
    "# sel_ = LassoCV(alphas = [0.00001, 0.0001, 0.001, 0.01, 0.1, 1, 10, 100], max_iter=10000, cv=5)\n",
    "# sel_.fit(X_train, y_train)\n",
    "# print(sel_.score(X_train, y_train))\n",
    "# print(sel_.score(X_test, y_test))"
   ]
  },
  {
   "cell_type": "code",
   "execution_count": 7,
   "metadata": {},
   "outputs": [],
   "source": [
    "# np.abs(sel_.coef_)"
   ]
  },
  {
   "cell_type": "code",
   "execution_count": 8,
   "metadata": {},
   "outputs": [],
   "source": [
    "# selected_feat = X.columns[(sel_.get_support().tolist())]\n",
    "# print('total features: {}'.format((X.shape[1])))\n",
    "# print('selected features: {}'.format(len(selected_feat)))\n",
    "# print('features with coefficients shrank to zero: {}'.format(\n",
    "#       np.sum(sel_.estimator_.coef_ == 0)))"
   ]
  },
  {
   "cell_type": "code",
   "execution_count": 9,
   "metadata": {},
   "outputs": [],
   "source": [
    "# removed_feats = X_train.columns[(sel_.estimator_.coef_ == 0).ravel().tolist()]\n",
    "# removed_feats"
   ]
  },
  {
   "cell_type": "code",
   "execution_count": 10,
   "metadata": {},
   "outputs": [],
   "source": [
    "# dfFull = dfFull.drop(removed_feats, axis=1)\n",
    "# dfFull.shape"
   ]
  },
  {
   "cell_type": "code",
   "execution_count": 11,
   "metadata": {},
   "outputs": [],
   "source": [
    "# # Train the model with XGBoost\n",
    "# xg_reg = xgb.XGBRegressor(objective ='reg:squarederror', colsample_bytree = 0.3, learning_rate = 0.2,\n",
    "#                 max_depth = 10, n_estimators = 400)\n",
    "# xg_reg.fit(X_train, y_train)\n",
    "\n",
    "# preds = xg_reg.predict(X_train)\n",
    "# print('Train evaluation')\n",
    "# print('RMSE: ', '{0:,.0f}'.format(mean_squared_error(y_train, preds, squared=False)))\n",
    "# print('R2: ',round( r2_score(y_train, preds),3))\n",
    "# print('-'*20)\n",
    "# preds = xg_reg.predict(X_test)\n",
    "# print('Test evaluation')\n",
    "# print('RMSE: ', '{0:,.0f}'.format(mean_squared_error(y_test, preds, squared=False)))\n",
    "# print('R2: ',round( r2_score(y_test, preds),3))"
   ]
  },
  {
   "cell_type": "markdown",
   "metadata": {},
   "source": [
    "## Selected Feature"
   ]
  },
  {
   "cell_type": "code",
   "execution_count": 2,
   "metadata": {},
   "outputs": [
    {
     "data": {
      "text/html": [
       "<div>\n",
       "<style scoped>\n",
       "    .dataframe tbody tr th:only-of-type {\n",
       "        vertical-align: middle;\n",
       "    }\n",
       "\n",
       "    .dataframe tbody tr th {\n",
       "        vertical-align: top;\n",
       "    }\n",
       "\n",
       "    .dataframe thead th {\n",
       "        text-align: right;\n",
       "    }\n",
       "</style>\n",
       "<table border=\"1\" class=\"dataframe\">\n",
       "  <thead>\n",
       "    <tr style=\"text-align: right;\">\n",
       "      <th></th>\n",
       "      <th>originalRate</th>\n",
       "      <th>starRating</th>\n",
       "      <th>size</th>\n",
       "      <th>HAIR_DRYER</th>\n",
       "      <th>BATHTUB</th>\n",
       "      <th>PRIVATE_POOL</th>\n",
       "      <th>IN_ROOM_SAFE</th>\n",
       "    </tr>\n",
       "  </thead>\n",
       "  <tbody>\n",
       "    <tr>\n",
       "      <th>0</th>\n",
       "      <td>1227273</td>\n",
       "      <td>4.0</td>\n",
       "      <td>46.0</td>\n",
       "      <td>1.0</td>\n",
       "      <td>1.0</td>\n",
       "      <td>0.0</td>\n",
       "      <td>1.0</td>\n",
       "    </tr>\n",
       "    <tr>\n",
       "      <th>1</th>\n",
       "      <td>596694</td>\n",
       "      <td>4.0</td>\n",
       "      <td>31.0</td>\n",
       "      <td>1.0</td>\n",
       "      <td>1.0</td>\n",
       "      <td>0.0</td>\n",
       "      <td>1.0</td>\n",
       "    </tr>\n",
       "  </tbody>\n",
       "</table>\n",
       "</div>"
      ],
      "text/plain": [
       "   originalRate  starRating  size  HAIR_DRYER  BATHTUB  PRIVATE_POOL  \\\n",
       "0       1227273         4.0  46.0         1.0      1.0           0.0   \n",
       "1        596694         4.0  31.0         1.0      1.0           0.0   \n",
       "\n",
       "   IN_ROOM_SAFE  \n",
       "0           1.0  \n",
       "1           1.0  "
      ]
     },
     "execution_count": 2,
     "metadata": {},
     "output_type": "execute_result"
    }
   ],
   "source": [
    "# df = pd.read_csv('../Dataset/selected_feature.csv')\n",
    "# df.dropna(inplace=True)\n",
    "# df.head(2)"
   ]
  },
  {
   "cell_type": "code",
   "execution_count": 12,
   "metadata": {},
   "outputs": [],
   "source": [
    "# X = df.drop('originalRate', axis=1)\n",
    "# y = df['originalRate']"
   ]
  },
  {
   "cell_type": "code",
   "execution_count": 13,
   "metadata": {},
   "outputs": [
    {
     "name": "stdout",
     "output_type": "stream",
     "text": [
      "(4700, 6) (248, 6) (4700,) (248,)\n"
     ]
    }
   ],
   "source": [
    "# X_train, X_test, y_train, y_test = train_test_split(X, y, test_size=0.05, random_state=42)\n",
    "# print(X_train.shape, X_test.shape, y_train.shape, y_test.shape)"
   ]
  },
  {
   "cell_type": "code",
   "execution_count": 14,
   "metadata": {},
   "outputs": [],
   "source": [
    "# sum(y_train)/len(y_train)"
   ]
  },
  {
   "cell_type": "code",
   "execution_count": 15,
   "metadata": {},
   "outputs": [],
   "source": [
    "# sum(y_test)/len(y_test)"
   ]
  },
  {
   "cell_type": "code",
   "execution_count": 16,
   "metadata": {},
   "outputs": [
    {
     "name": "stdout",
     "output_type": "stream",
     "text": [
      "Train evaluation\n",
      "RMSE:  1,492,569\n",
      "R2:  0.837\n",
      "Test evaluation\n",
      "RMSE:  2,830,370\n",
      "R2:  0.537\n"
     ]
    }
   ],
   "source": [
    "# Train the model with XGBoost\n",
    "# xg_reg = xgb.XGBRegressor(objective ='reg:squarederror', colsample_bytree = 1, learning_rate = 0.1,\n",
    "#                 max_depth = 100, n_estimators = 400)\n",
    "# xg_reg.fit(X_train, y_train)\n",
    "\n",
    "# print('Train evaluation')\n",
    "# preds = xg_reg.predict(X_train)\n",
    "# print('RMSE: ', '{0:,.0f}'.format(mean_squared_error(y_train, preds, squared=False)))\n",
    "# print('R2: ', round(r2_score(y_train, preds),3))\n",
    "\n",
    "# preds = xg_reg.predict(X_test)\n",
    "# print('Test evaluation')\n",
    "# print('RMSE: ', '{0:,.0f}'.format(mean_squared_error(y_test, preds, squared=False)))\n",
    "# print('R2: ', round(r2_score(y_test, preds),3))"
   ]
  },
  {
   "cell_type": "markdown",
   "metadata": {},
   "source": [
    "### Selected features"
   ]
  },
  {
   "cell_type": "markdown",
   "metadata": {},
   "source": [
    "## Full Feature"
   ]
  },
  {
   "cell_type": "code",
   "execution_count": 3,
   "metadata": {},
   "outputs": [
    {
     "data": {
      "text/html": [
       "<div>\n",
       "<style scoped>\n",
       "    .dataframe tbody tr th:only-of-type {\n",
       "        vertical-align: middle;\n",
       "    }\n",
       "\n",
       "    .dataframe tbody tr th {\n",
       "        vertical-align: top;\n",
       "    }\n",
       "\n",
       "    .dataframe thead th {\n",
       "        text-align: right;\n",
       "    }\n",
       "</style>\n",
       "<table border=\"1\" class=\"dataframe\">\n",
       "  <thead>\n",
       "    <tr style=\"text-align: right;\">\n",
       "      <th></th>\n",
       "      <th>originalRate</th>\n",
       "      <th>size</th>\n",
       "      <th>starRating</th>\n",
       "      <th>AIR_CONDITIONING</th>\n",
       "      <th>BALCONY_TERRACE</th>\n",
       "      <th>BATHROBES</th>\n",
       "      <th>BATHTUB</th>\n",
       "      <th>BLACKOUT_DRAPES_CURTAINS</th>\n",
       "      <th>COFFEE_TEA_MAKER</th>\n",
       "      <th>COMPLIMENTARY_BOTTLED_WATER</th>\n",
       "      <th>...</th>\n",
       "      <th>PARK</th>\n",
       "      <th>HOSPITAL</th>\n",
       "      <th>MUSEUM</th>\n",
       "      <th>GALLERY</th>\n",
       "      <th>PLACE_OF_WORSHIP</th>\n",
       "      <th>TRAIN_STATION</th>\n",
       "      <th>ZOO</th>\n",
       "      <th>ENTERTAINMENT</th>\n",
       "      <th>GARDEN.1</th>\n",
       "      <th>THEATER</th>\n",
       "    </tr>\n",
       "  </thead>\n",
       "  <tbody>\n",
       "    <tr>\n",
       "      <th>0</th>\n",
       "      <td>1227273</td>\n",
       "      <td>46.0</td>\n",
       "      <td>4.0</td>\n",
       "      <td>1.0</td>\n",
       "      <td>1.0</td>\n",
       "      <td>1.0</td>\n",
       "      <td>1.0</td>\n",
       "      <td>1.0</td>\n",
       "      <td>1.0</td>\n",
       "      <td>1.0</td>\n",
       "      <td>...</td>\n",
       "      <td>0.0</td>\n",
       "      <td>0.0</td>\n",
       "      <td>0.0</td>\n",
       "      <td>0.0</td>\n",
       "      <td>0.0</td>\n",
       "      <td>0.0</td>\n",
       "      <td>0.0</td>\n",
       "      <td>0.0</td>\n",
       "      <td>0.0</td>\n",
       "      <td>0.0</td>\n",
       "    </tr>\n",
       "    <tr>\n",
       "      <th>1</th>\n",
       "      <td>596694</td>\n",
       "      <td>31.0</td>\n",
       "      <td>4.0</td>\n",
       "      <td>1.0</td>\n",
       "      <td>0.0</td>\n",
       "      <td>1.0</td>\n",
       "      <td>1.0</td>\n",
       "      <td>1.0</td>\n",
       "      <td>1.0</td>\n",
       "      <td>1.0</td>\n",
       "      <td>...</td>\n",
       "      <td>0.0</td>\n",
       "      <td>0.0</td>\n",
       "      <td>0.0</td>\n",
       "      <td>0.0</td>\n",
       "      <td>0.0</td>\n",
       "      <td>0.0</td>\n",
       "      <td>0.0</td>\n",
       "      <td>0.0</td>\n",
       "      <td>0.0</td>\n",
       "      <td>0.0</td>\n",
       "    </tr>\n",
       "  </tbody>\n",
       "</table>\n",
       "<p>2 rows × 294 columns</p>\n",
       "</div>"
      ],
      "text/plain": [
       "   originalRate  size  starRating  AIR_CONDITIONING  BALCONY_TERRACE  \\\n",
       "0       1227273  46.0         4.0               1.0              1.0   \n",
       "1        596694  31.0         4.0               1.0              0.0   \n",
       "\n",
       "   BATHROBES  BATHTUB  BLACKOUT_DRAPES_CURTAINS  COFFEE_TEA_MAKER  \\\n",
       "0        1.0      1.0                       1.0               1.0   \n",
       "1        1.0      1.0                       1.0               1.0   \n",
       "\n",
       "   COMPLIMENTARY_BOTTLED_WATER  ...  PARK  HOSPITAL  MUSEUM  GALLERY  \\\n",
       "0                          1.0  ...   0.0       0.0     0.0      0.0   \n",
       "1                          1.0  ...   0.0       0.0     0.0      0.0   \n",
       "\n",
       "   PLACE_OF_WORSHIP  TRAIN_STATION  ZOO  ENTERTAINMENT  GARDEN.1  THEATER  \n",
       "0               0.0            0.0  0.0            0.0       0.0      0.0  \n",
       "1               0.0            0.0  0.0            0.0       0.0      0.0  \n",
       "\n",
       "[2 rows x 294 columns]"
      ]
     },
     "execution_count": 3,
     "metadata": {},
     "output_type": "execute_result"
    }
   ],
   "source": [
    "dfFull = pd.read_csv('../Dataset/full_feature.csv')\n",
    "dfFull.dropna(inplace=True)\n",
    "dfFull.head(2)"
   ]
  },
  {
   "cell_type": "code",
   "execution_count": 17,
   "metadata": {},
   "outputs": [],
   "source": [
    "X = dfFull.drop('originalRate', axis=1)\n",
    "y = dfFull['originalRate']"
   ]
  },
  {
   "cell_type": "code",
   "execution_count": 18,
   "metadata": {},
   "outputs": [
    {
     "name": "stdout",
     "output_type": "stream",
     "text": [
      "(4625, 293) (244, 293) (4625,) (244,)\n"
     ]
    }
   ],
   "source": [
    "X_train, X_test, y_train, y_test = train_test_split(X, y, test_size=0.05, random_state=42)\n",
    "print(X_train.shape, X_test.shape, y_train.shape, y_test.shape)"
   ]
  },
  {
   "cell_type": "code",
   "execution_count": 19,
   "metadata": {},
   "outputs": [
    {
     "name": "stdout",
     "output_type": "stream",
     "text": [
      "Train evaluation\n",
      "RMSE:  669,175\n",
      "R2:  0.967\n",
      "Test evaluation\n",
      "RMSE:  1,965,216\n",
      "R2:  0.796\n"
     ]
    }
   ],
   "source": [
    "# Train the model with XGBoost\n",
    "xg_reg = xgb.XGBRegressor(objective ='reg:squarederror', colsample_bytree = 1, learning_rate = 0.1,\n",
    "                max_depth = 100, n_estimators = 400)\n",
    "xg_reg.fit(X_train, y_train)\n",
    "\n",
    "print('Train evaluation')\n",
    "preds = xg_reg.predict(X_train)\n",
    "print('RMSE: ', '{0:,.0f}'.format(mean_squared_error(y_train, preds, squared=False)))\n",
    "print('R2: ', round(r2_score(y_train, preds),3))\n",
    "\n",
    "preds = xg_reg.predict(X_test)\n",
    "print('Test evaluation')\n",
    "print('RMSE: ', '{0:,.0f}'.format(mean_squared_error(y_test, preds, squared=False)))\n",
    "print('R2: ', round(r2_score(y_test, preds),3))\n"
   ]
  },
  {
   "cell_type": "code",
   "execution_count": 20,
   "metadata": {},
   "outputs": [
    {
     "data": {
      "image/png": "[encoded data removed]",
      "text/plain": [
       "<Figure size 1200x800 with 1 Axes>"
      ]
     },
     "metadata": {},
     "output_type": "display_data"
    }
   ],
   "source": [
    "xg_reg.feature_importances_\n",
    "\n",
    "feature_importance = xg_reg.feature_importances_[:5]\n",
    "feature_importance = 100.0 * (feature_importance / feature_importance.max())\n",
    "sorted_idx = np.argsort(feature_importance)\n",
    "pos = np.arange(sorted_idx.shape[0]) + .5\n",
    "plt.figure(figsize=(12, 8))\n",
    "plt.subplot(1, 2, 2)\n",
    "plt.barh(pos, feature_importance[sorted_idx], align='center')\n",
    "plt.yticks(pos, X.columns[sorted_idx])\n",
    "plt.title('Feature Importance (MDI)')\n",
    "plt.show()"
   ]
  }
 ],
 "metadata": {
  "kernelspec": {
   "display_name": "Python 3.10.6 64-bit",
   "language": "python",
   "name": "python3"
  },
  "language_info": {
   "codemirror_mode": {
    "name": "ipython",
    "version": 3
   },
   "file_extension": ".py",
   "mimetype": "text/x-python",
   "name": "python",
   "nbconvert_exporter": "python",
   "pygments_lexer": "ipython3",
   "version": "3.10.6"
  },
  "orig_nbformat": 4,
  "vscode": {
   "interpreter": {
    "hash": "c7c132e493bab3f05dc3eecde52b8af768e79f0c26a7d99c1a59f019ffce2dd8"
   }
  }
 },
 "nbformat": 4,
 "nbformat_minor": 2
}
