{
 "cells": [
  {
   "cell_type": "code",
   "execution_count": 1,
   "metadata": {},
   "outputs": [],
   "source": [
    "import sqlite3\n",
    "import pandas as pd\n",
    "import numpy as np\n",
    "import matplotlib.pyplot as plt\n",
    "import seaborn as sns"
   ]
  },
  {
   "cell_type": "markdown",
   "metadata": {},
   "source": [
    "## Convert SQLite to Dataframe"
   ]
  },
  {
   "cell_type": "code",
   "execution_count": 2,
   "metadata": {},
   "outputs": [],
   "source": [
    "con = sqlite3.connect('../Dataset/hotel-directories-ORI.sqlite3')\n",
    "df_room = pd.read_sql_query(\"SELECT * FROM hotel_rooms\", con)\n",
    "df_hotel = pd.read_sql_query(\"SELECT * FROM hotels\", con)"
   ]
  },
  {
   "cell_type": "code",
   "execution_count": 3,
   "metadata": {},
   "outputs": [],
   "source": [
    "df_room.to_csv('../Dataset/rooms.csv', index=False)\n",
    "df_hotel.to_csv('../Dataset/hotels.csv', index=False)"
   ]
  },
  {
   "cell_type": "code",
   "execution_count": 4,
   "metadata": {},
   "outputs": [
    {
     "data": {
      "text/html": [
       "<div>\n",
       "<style scoped>\n",
       "    .dataframe tbody tr th:only-of-type {\n",
       "        vertical-align: middle;\n",
       "    }\n",
       "\n",
       "    .dataframe tbody tr th {\n",
       "        vertical-align: top;\n",
       "    }\n",
       "\n",
       "    .dataframe thead th {\n",
       "        text-align: right;\n",
       "    }\n",
       "</style>\n",
       "<table border=\"1\" class=\"dataframe\">\n",
       "  <thead>\n",
       "    <tr style=\"text-align: right;\">\n",
       "      <th></th>\n",
       "      <th>id</th>\n",
       "      <th>hotelId</th>\n",
       "      <th>name</th>\n",
       "      <th>images</th>\n",
       "      <th>roomType</th>\n",
       "      <th>description</th>\n",
       "      <th>originalDescription</th>\n",
       "      <th>bedDescription</th>\n",
       "      <th>size</th>\n",
       "      <th>rate</th>\n",
       "      <th>...</th>\n",
       "      <th>numExtraBeds</th>\n",
       "      <th>numChargedRooms</th>\n",
       "      <th>numRemainingRooms</th>\n",
       "      <th>numBreakfastIncluded</th>\n",
       "      <th>isBreakfastIncluded</th>\n",
       "      <th>isWifiIncluded</th>\n",
       "      <th>isRefundable</th>\n",
       "      <th>hasLivingRoom</th>\n",
       "      <th>extraBedIsIncluded</th>\n",
       "      <th>facilities</th>\n",
       "    </tr>\n",
       "  </thead>\n",
       "  <tbody>\n",
       "    <tr>\n",
       "      <th>0</th>\n",
       "      <td>1000009181</td>\n",
       "      <td>3000020003208</td>\n",
       "      <td>Family</td>\n",
       "      <td>[\"https://ik.imagekit.io/tvlk/generic-asset/dg...</td>\n",
       "      <td>Family</td>\n",
       "      <td>None</td>\n",
       "      <td>None</td>\n",
       "      <td>None</td>\n",
       "      <td>30.0</td>\n",
       "      <td>{\"amount\":\"989182\",\"currency\":\"IDR\",\"tax\":\"207...</td>\n",
       "      <td>...</td>\n",
       "      <td>0</td>\n",
       "      <td>1</td>\n",
       "      <td>3</td>\n",
       "      <td>NaN</td>\n",
       "      <td>1</td>\n",
       "      <td>1</td>\n",
       "      <td>1</td>\n",
       "      <td>0</td>\n",
       "      <td>0</td>\n",
       "      <td>[\"AIR_CONDITIONING\",\"BATHROBES\",\"BLACKOUT_DRAP...</td>\n",
       "    </tr>\n",
       "    <tr>\n",
       "      <th>1</th>\n",
       "      <td>1000009219</td>\n",
       "      <td>3000020003208</td>\n",
       "      <td>President Suite</td>\n",
       "      <td>[\"https://ik.imagekit.io/tvlk/generic-asset/dg...</td>\n",
       "      <td>President Suite</td>\n",
       "      <td>None</td>\n",
       "      <td>None</td>\n",
       "      <td>None</td>\n",
       "      <td>75.0</td>\n",
       "      <td>{\"amount\":\"3272727\",\"currency\":\"IDR\",\"tax\":\"68...</td>\n",
       "      <td>...</td>\n",
       "      <td>0</td>\n",
       "      <td>1</td>\n",
       "      <td>1</td>\n",
       "      <td>NaN</td>\n",
       "      <td>1</td>\n",
       "      <td>1</td>\n",
       "      <td>1</td>\n",
       "      <td>0</td>\n",
       "      <td>0</td>\n",
       "      <td>[\"AIR_CONDITIONING\",\"BATHROBES\",\"BLACKOUT_DRAP...</td>\n",
       "    </tr>\n",
       "  </tbody>\n",
       "</table>\n",
       "<p>2 rows × 25 columns</p>\n",
       "</div>"
      ],
      "text/plain": [
       "           id        hotelId             name  \\\n",
       "0  1000009181  3000020003208           Family   \n",
       "1  1000009219  3000020003208  President Suite   \n",
       "\n",
       "                                              images         roomType  \\\n",
       "0  [\"https://ik.imagekit.io/tvlk/generic-asset/dg...           Family   \n",
       "1  [\"https://ik.imagekit.io/tvlk/generic-asset/dg...  President Suite   \n",
       "\n",
       "  description originalDescription bedDescription  size  \\\n",
       "0        None                None           None  30.0   \n",
       "1        None                None           None  75.0   \n",
       "\n",
       "                                                rate  ... numExtraBeds  \\\n",
       "0  {\"amount\":\"989182\",\"currency\":\"IDR\",\"tax\":\"207...  ...            0   \n",
       "1  {\"amount\":\"3272727\",\"currency\":\"IDR\",\"tax\":\"68...  ...            0   \n",
       "\n",
       "   numChargedRooms  numRemainingRooms  numBreakfastIncluded  \\\n",
       "0                1                  3                   NaN   \n",
       "1                1                  1                   NaN   \n",
       "\n",
       "   isBreakfastIncluded  isWifiIncluded  isRefundable  hasLivingRoom  \\\n",
       "0                    1               1             1              0   \n",
       "1                    1               1             1              0   \n",
       "\n",
       "   extraBedIsIncluded                                         facilities  \n",
       "0                   0  [\"AIR_CONDITIONING\",\"BATHROBES\",\"BLACKOUT_DRAP...  \n",
       "1                   0  [\"AIR_CONDITIONING\",\"BATHROBES\",\"BLACKOUT_DRAP...  \n",
       "\n",
       "[2 rows x 25 columns]"
      ]
     },
     "execution_count": 4,
     "metadata": {},
     "output_type": "execute_result"
    }
   ],
   "source": [
    "df_room.head(2)"
   ]
  },
  {
   "cell_type": "code",
   "execution_count": 5,
   "metadata": {},
   "outputs": [
    {
     "data": {
      "text/html": [
       "<div>\n",
       "<style scoped>\n",
       "    .dataframe tbody tr th:only-of-type {\n",
       "        vertical-align: middle;\n",
       "    }\n",
       "\n",
       "    .dataframe tbody tr th {\n",
       "        vertical-align: top;\n",
       "    }\n",
       "\n",
       "    .dataframe thead th {\n",
       "        text-align: right;\n",
       "    }\n",
       "</style>\n",
       "<table border=\"1\" class=\"dataframe\">\n",
       "  <thead>\n",
       "    <tr style=\"text-align: right;\">\n",
       "      <th></th>\n",
       "      <th>id</th>\n",
       "      <th>type</th>\n",
       "      <th>name</th>\n",
       "      <th>displayName</th>\n",
       "      <th>description</th>\n",
       "      <th>link</th>\n",
       "      <th>address</th>\n",
       "      <th>region</th>\n",
       "      <th>city</th>\n",
       "      <th>province</th>\n",
       "      <th>...</th>\n",
       "      <th>images</th>\n",
       "      <th>facilities</th>\n",
       "      <th>properties</th>\n",
       "      <th>nearestPointOfInterests</th>\n",
       "      <th>starRating</th>\n",
       "      <th>userRating</th>\n",
       "      <th>userRatingInfo</th>\n",
       "      <th>numReviews</th>\n",
       "      <th>latitude</th>\n",
       "      <th>longitude</th>\n",
       "    </tr>\n",
       "  </thead>\n",
       "  <tbody>\n",
       "    <tr>\n",
       "      <th>0</th>\n",
       "      <td>3000020003208</td>\n",
       "      <td>Hotel</td>\n",
       "      <td>Kyriad Hotel Muraya Aceh</td>\n",
       "      <td>Kyriad Hotel Muraya Aceh</td>\n",
       "      <td>&lt;p&gt;&lt;b&gt;Lokasi&lt;/b&gt;&lt;br&gt;Kyriad Hotel Muraya Aceh b...</td>\n",
       "      <td>https://www.traveloka.com/id-id/hotel/detail?s...</td>\n",
       "      <td>Jalan Tengku H. Mohd Daud Beureueuh No. 5 Kuta...</td>\n",
       "      <td>Aceh</td>\n",
       "      <td>Banda Aceh</td>\n",
       "      <td>Aceh</td>\n",
       "      <td>...</td>\n",
       "      <td>[\"https://ik.imagekit.io/tvlk/apr-asset/dgXfoy...</td>\n",
       "      <td>[\"CARPARK\",\"COFFEE_OR_TEA_IN_LOBBY\",\"COFFEE_SH...</td>\n",
       "      <td>{\"checkInTime\":\"14:00\",\"checkOutTime\":\"12:00\",...</td>\n",
       "      <td>[{\"landmarkId\":\"6254734\",\"geoId\":null,\"name\":\"...</td>\n",
       "      <td>4.0</td>\n",
       "      <td>8.6</td>\n",
       "      <td>Mengesankan</td>\n",
       "      <td>1845.0</td>\n",
       "      <td>5.556686</td>\n",
       "      <td>95.322269</td>\n",
       "    </tr>\n",
       "    <tr>\n",
       "      <th>1</th>\n",
       "      <td>3000010003879</td>\n",
       "      <td>Hotel</td>\n",
       "      <td>Hermes Palace by BENCOOLEN</td>\n",
       "      <td>Hermes Palace by BENCOOLEN</td>\n",
       "      <td>&lt;p&gt;&lt;b&gt;Lokasi&lt;/b&gt;&lt;br&gt;Hermes Palace by BENCOOLEN...</td>\n",
       "      <td>https://www.traveloka.com/id-id/hotel/detail?s...</td>\n",
       "      <td>Jalan. T. Panglima Nyak Makam Banda Aceh Aceh ...</td>\n",
       "      <td>Aceh</td>\n",
       "      <td>Banda Aceh</td>\n",
       "      <td>Aceh</td>\n",
       "      <td>...</td>\n",
       "      <td>[\"https://ik.imagekit.io/tvlk/apr-asset/dgXfoy...</td>\n",
       "      <td>[\"CARPARK\",\"COFFEE_SHOP\",\"ELEVATOR\",\"HAS_24_HO...</td>\n",
       "      <td>{\"checkInTime\":\"14:00\",\"checkOutTime\":\"12:00\",...</td>\n",
       "      <td>[{\"landmarkId\":\"6254734\",\"geoId\":null,\"name\":\"...</td>\n",
       "      <td>5.0</td>\n",
       "      <td>8.4</td>\n",
       "      <td>Mengesankan</td>\n",
       "      <td>2525.0</td>\n",
       "      <td>5.556202</td>\n",
       "      <td>95.344114</td>\n",
       "    </tr>\n",
       "  </tbody>\n",
       "</table>\n",
       "<p>2 rows × 24 columns</p>\n",
       "</div>"
      ],
      "text/plain": [
       "              id   type                        name  \\\n",
       "0  3000020003208  Hotel    Kyriad Hotel Muraya Aceh   \n",
       "1  3000010003879  Hotel  Hermes Palace by BENCOOLEN   \n",
       "\n",
       "                  displayName  \\\n",
       "0    Kyriad Hotel Muraya Aceh   \n",
       "1  Hermes Palace by BENCOOLEN   \n",
       "\n",
       "                                         description  \\\n",
       "0  <p><b>Lokasi</b><br>Kyriad Hotel Muraya Aceh b...   \n",
       "1  <p><b>Lokasi</b><br>Hermes Palace by BENCOOLEN...   \n",
       "\n",
       "                                                link  \\\n",
       "0  https://www.traveloka.com/id-id/hotel/detail?s...   \n",
       "1  https://www.traveloka.com/id-id/hotel/detail?s...   \n",
       "\n",
       "                                             address region        city  \\\n",
       "0  Jalan Tengku H. Mohd Daud Beureueuh No. 5 Kuta...   Aceh  Banda Aceh   \n",
       "1  Jalan. T. Panglima Nyak Makam Banda Aceh Aceh ...   Aceh  Banda Aceh   \n",
       "\n",
       "  province  ...                                             images  \\\n",
       "0     Aceh  ...  [\"https://ik.imagekit.io/tvlk/apr-asset/dgXfoy...   \n",
       "1     Aceh  ...  [\"https://ik.imagekit.io/tvlk/apr-asset/dgXfoy...   \n",
       "\n",
       "                                          facilities  \\\n",
       "0  [\"CARPARK\",\"COFFEE_OR_TEA_IN_LOBBY\",\"COFFEE_SH...   \n",
       "1  [\"CARPARK\",\"COFFEE_SHOP\",\"ELEVATOR\",\"HAS_24_HO...   \n",
       "\n",
       "                                          properties  \\\n",
       "0  {\"checkInTime\":\"14:00\",\"checkOutTime\":\"12:00\",...   \n",
       "1  {\"checkInTime\":\"14:00\",\"checkOutTime\":\"12:00\",...   \n",
       "\n",
       "                             nearestPointOfInterests starRating userRating  \\\n",
       "0  [{\"landmarkId\":\"6254734\",\"geoId\":null,\"name\":\"...        4.0        8.6   \n",
       "1  [{\"landmarkId\":\"6254734\",\"geoId\":null,\"name\":\"...        5.0        8.4   \n",
       "\n",
       "  userRatingInfo numReviews  latitude  longitude  \n",
       "0    Mengesankan     1845.0  5.556686  95.322269  \n",
       "1    Mengesankan     2525.0  5.556202  95.344114  \n",
       "\n",
       "[2 rows x 24 columns]"
      ]
     },
     "execution_count": 5,
     "metadata": {},
     "output_type": "execute_result"
    }
   ],
   "source": [
    "df_hotel.head(2)"
   ]
  },
  {
   "cell_type": "markdown",
   "metadata": {},
   "source": [
    "## Drop Unnecessary Column"
   ]
  },
  {
   "cell_type": "code",
   "execution_count": 6,
   "metadata": {},
   "outputs": [
    {
     "data": {
      "text/html": [
       "<div>\n",
       "<style scoped>\n",
       "    .dataframe tbody tr th:only-of-type {\n",
       "        vertical-align: middle;\n",
       "    }\n",
       "\n",
       "    .dataframe tbody tr th {\n",
       "        vertical-align: top;\n",
       "    }\n",
       "\n",
       "    .dataframe thead th {\n",
       "        text-align: right;\n",
       "    }\n",
       "</style>\n",
       "<table border=\"1\" class=\"dataframe\">\n",
       "  <thead>\n",
       "    <tr style=\"text-align: right;\">\n",
       "      <th></th>\n",
       "      <th>id</th>\n",
       "      <th>hotelId</th>\n",
       "      <th>name</th>\n",
       "      <th>roomType</th>\n",
       "      <th>size</th>\n",
       "      <th>originalRate</th>\n",
       "      <th>baseOccupancy</th>\n",
       "      <th>maxChildOccupancy</th>\n",
       "      <th>maxChildAge</th>\n",
       "      <th>isBreakfastIncluded</th>\n",
       "      <th>isWifiIncluded</th>\n",
       "      <th>isRefundable</th>\n",
       "      <th>hasLivingRoom</th>\n",
       "      <th>facilities</th>\n",
       "    </tr>\n",
       "  </thead>\n",
       "  <tbody>\n",
       "    <tr>\n",
       "      <th>0</th>\n",
       "      <td>1000009181</td>\n",
       "      <td>3000020003208</td>\n",
       "      <td>Family</td>\n",
       "      <td>Family</td>\n",
       "      <td>30.0</td>\n",
       "      <td>{\"amount\":\"999174\",\"currency\":\"IDR\",\"tax\":\"209...</td>\n",
       "      <td>2</td>\n",
       "      <td>1</td>\n",
       "      <td>10</td>\n",
       "      <td>1</td>\n",
       "      <td>1</td>\n",
       "      <td>1</td>\n",
       "      <td>0</td>\n",
       "      <td>[\"AIR_CONDITIONING\",\"BATHROBES\",\"BLACKOUT_DRAP...</td>\n",
       "    </tr>\n",
       "    <tr>\n",
       "      <th>1</th>\n",
       "      <td>1000009219</td>\n",
       "      <td>3000020003208</td>\n",
       "      <td>President Suite</td>\n",
       "      <td>President Suite</td>\n",
       "      <td>75.0</td>\n",
       "      <td>{\"amount\":\"3305785\",\"currency\":\"IDR\",\"tax\":\"69...</td>\n",
       "      <td>2</td>\n",
       "      <td>1</td>\n",
       "      <td>10</td>\n",
       "      <td>1</td>\n",
       "      <td>1</td>\n",
       "      <td>1</td>\n",
       "      <td>0</td>\n",
       "      <td>[\"AIR_CONDITIONING\",\"BATHROBES\",\"BLACKOUT_DRAP...</td>\n",
       "    </tr>\n",
       "  </tbody>\n",
       "</table>\n",
       "</div>"
      ],
      "text/plain": [
       "           id        hotelId             name         roomType  size  \\\n",
       "0  1000009181  3000020003208           Family           Family  30.0   \n",
       "1  1000009219  3000020003208  President Suite  President Suite  75.0   \n",
       "\n",
       "                                        originalRate  baseOccupancy  \\\n",
       "0  {\"amount\":\"999174\",\"currency\":\"IDR\",\"tax\":\"209...              2   \n",
       "1  {\"amount\":\"3305785\",\"currency\":\"IDR\",\"tax\":\"69...              2   \n",
       "\n",
       "   maxChildOccupancy  maxChildAge  isBreakfastIncluded  isWifiIncluded  \\\n",
       "0                  1           10                    1               1   \n",
       "1                  1           10                    1               1   \n",
       "\n",
       "   isRefundable  hasLivingRoom  \\\n",
       "0             1              0   \n",
       "1             1              0   \n",
       "\n",
       "                                          facilities  \n",
       "0  [\"AIR_CONDITIONING\",\"BATHROBES\",\"BLACKOUT_DRAP...  \n",
       "1  [\"AIR_CONDITIONING\",\"BATHROBES\",\"BLACKOUT_DRAP...  "
      ]
     },
     "execution_count": 6,
     "metadata": {},
     "output_type": "execute_result"
    }
   ],
   "source": [
    "room_drop = ['images', 'description', 'bedDescription', 'originalDescription', 'rate', 'maxOccupancy', 'numRemainingRooms', 'numBreakfastIncluded', 'extraBedIsIncluded', 'numExtraBeds', 'numChargedRooms']\n",
    "for column_name in room_drop:\n",
    "    df_room.drop(column_name, axis=1, inplace=True)\n",
    "\n",
    "df_room.head(2)"
   ]
  },
  {
   "cell_type": "code",
   "execution_count": 7,
   "metadata": {},
   "outputs": [
    {
     "data": {
      "text/html": [
       "<div>\n",
       "<style scoped>\n",
       "    .dataframe tbody tr th:only-of-type {\n",
       "        vertical-align: middle;\n",
       "    }\n",
       "\n",
       "    .dataframe tbody tr th {\n",
       "        vertical-align: top;\n",
       "    }\n",
       "\n",
       "    .dataframe thead th {\n",
       "        text-align: right;\n",
       "    }\n",
       "</style>\n",
       "<table border=\"1\" class=\"dataframe\">\n",
       "  <thead>\n",
       "    <tr style=\"text-align: right;\">\n",
       "      <th></th>\n",
       "      <th>id</th>\n",
       "      <th>type</th>\n",
       "      <th>name</th>\n",
       "      <th>city</th>\n",
       "      <th>province</th>\n",
       "      <th>facilities</th>\n",
       "      <th>properties</th>\n",
       "      <th>nearestPointOfInterests</th>\n",
       "      <th>starRating</th>\n",
       "      <th>userRatingInfo</th>\n",
       "      <th>numReviews</th>\n",
       "    </tr>\n",
       "  </thead>\n",
       "  <tbody>\n",
       "    <tr>\n",
       "      <th>0</th>\n",
       "      <td>3000020003208</td>\n",
       "      <td>Hotel</td>\n",
       "      <td>Kyriad Hotel Muraya Aceh</td>\n",
       "      <td>Banda Aceh</td>\n",
       "      <td>Aceh</td>\n",
       "      <td>[\"CARPARK\",\"COFFEE_OR_TEA_IN_LOBBY\",\"COFFEE_SH...</td>\n",
       "      <td>{\"checkInTime\":\"14:00\",\"checkOutTime\":\"12:00\",...</td>\n",
       "      <td>[{\"landmarkId\":\"6254734\",\"geoId\":null,\"name\":\"...</td>\n",
       "      <td>4.0</td>\n",
       "      <td>Mengesankan</td>\n",
       "      <td>1845.0</td>\n",
       "    </tr>\n",
       "    <tr>\n",
       "      <th>1</th>\n",
       "      <td>3000010003879</td>\n",
       "      <td>Hotel</td>\n",
       "      <td>Hermes Palace by BENCOOLEN</td>\n",
       "      <td>Banda Aceh</td>\n",
       "      <td>Aceh</td>\n",
       "      <td>[\"CARPARK\",\"COFFEE_SHOP\",\"ELEVATOR\",\"HAS_24_HO...</td>\n",
       "      <td>{\"checkInTime\":\"14:00\",\"checkOutTime\":\"12:00\",...</td>\n",
       "      <td>[{\"landmarkId\":\"6254734\",\"geoId\":null,\"name\":\"...</td>\n",
       "      <td>5.0</td>\n",
       "      <td>Mengesankan</td>\n",
       "      <td>2525.0</td>\n",
       "    </tr>\n",
       "  </tbody>\n",
       "</table>\n",
       "</div>"
      ],
      "text/plain": [
       "              id   type                        name        city province  \\\n",
       "0  3000020003208  Hotel    Kyriad Hotel Muraya Aceh  Banda Aceh     Aceh   \n",
       "1  3000010003879  Hotel  Hermes Palace by BENCOOLEN  Banda Aceh     Aceh   \n",
       "\n",
       "                                          facilities  \\\n",
       "0  [\"CARPARK\",\"COFFEE_OR_TEA_IN_LOBBY\",\"COFFEE_SH...   \n",
       "1  [\"CARPARK\",\"COFFEE_SHOP\",\"ELEVATOR\",\"HAS_24_HO...   \n",
       "\n",
       "                                          properties  \\\n",
       "0  {\"checkInTime\":\"14:00\",\"checkOutTime\":\"12:00\",...   \n",
       "1  {\"checkInTime\":\"14:00\",\"checkOutTime\":\"12:00\",...   \n",
       "\n",
       "                             nearestPointOfInterests  starRating  \\\n",
       "0  [{\"landmarkId\":\"6254734\",\"geoId\":null,\"name\":\"...         4.0   \n",
       "1  [{\"landmarkId\":\"6254734\",\"geoId\":null,\"name\":\"...         5.0   \n",
       "\n",
       "  userRatingInfo  numReviews  \n",
       "0    Mengesankan      1845.0  \n",
       "1    Mengesankan      2525.0  "
      ]
     },
     "execution_count": 7,
     "metadata": {},
     "output_type": "execute_result"
    }
   ],
   "source": [
    "hotel_drop = ['displayName', 'description', 'link', 'address', 'region', 'country', 'geodirectoryId', 'postal', 'image', 'images', 'userRating', 'latitude', 'longitude']\n",
    "for column_name in hotel_drop:\n",
    "    df_hotel.drop(column_name, axis=1, inplace=True)\n",
    "\n",
    "df_hotel.head(2)"
   ]
  },
  {
   "cell_type": "markdown",
   "metadata": {},
   "source": [
    "## Combine Dataset Based on ID"
   ]
  },
  {
   "cell_type": "code",
   "execution_count": 8,
   "metadata": {},
   "outputs": [
    {
     "data": {
      "text/html": [
       "<div>\n",
       "<style scoped>\n",
       "    .dataframe tbody tr th:only-of-type {\n",
       "        vertical-align: middle;\n",
       "    }\n",
       "\n",
       "    .dataframe tbody tr th {\n",
       "        vertical-align: top;\n",
       "    }\n",
       "\n",
       "    .dataframe thead th {\n",
       "        text-align: right;\n",
       "    }\n",
       "</style>\n",
       "<table border=\"1\" class=\"dataframe\">\n",
       "  <thead>\n",
       "    <tr style=\"text-align: right;\">\n",
       "      <th></th>\n",
       "      <th>hotelId</th>\n",
       "      <th>type</th>\n",
       "      <th>hotelName</th>\n",
       "      <th>city</th>\n",
       "      <th>province</th>\n",
       "      <th>hotelFacilities</th>\n",
       "      <th>properties</th>\n",
       "      <th>nearestPointOfInterests</th>\n",
       "      <th>starRating</th>\n",
       "      <th>userRatingInfo</th>\n",
       "      <th>numReviews</th>\n",
       "    </tr>\n",
       "  </thead>\n",
       "  <tbody>\n",
       "    <tr>\n",
       "      <th>0</th>\n",
       "      <td>3000020003208</td>\n",
       "      <td>Hotel</td>\n",
       "      <td>Kyriad Hotel Muraya Aceh</td>\n",
       "      <td>Banda Aceh</td>\n",
       "      <td>Aceh</td>\n",
       "      <td>[\"CARPARK\",\"COFFEE_OR_TEA_IN_LOBBY\",\"COFFEE_SH...</td>\n",
       "      <td>{\"checkInTime\":\"14:00\",\"checkOutTime\":\"12:00\",...</td>\n",
       "      <td>[{\"landmarkId\":\"6254734\",\"geoId\":null,\"name\":\"...</td>\n",
       "      <td>4.0</td>\n",
       "      <td>Mengesankan</td>\n",
       "      <td>1845.0</td>\n",
       "    </tr>\n",
       "    <tr>\n",
       "      <th>1</th>\n",
       "      <td>3000010003879</td>\n",
       "      <td>Hotel</td>\n",
       "      <td>Hermes Palace by BENCOOLEN</td>\n",
       "      <td>Banda Aceh</td>\n",
       "      <td>Aceh</td>\n",
       "      <td>[\"CARPARK\",\"COFFEE_SHOP\",\"ELEVATOR\",\"HAS_24_HO...</td>\n",
       "      <td>{\"checkInTime\":\"14:00\",\"checkOutTime\":\"12:00\",...</td>\n",
       "      <td>[{\"landmarkId\":\"6254734\",\"geoId\":null,\"name\":\"...</td>\n",
       "      <td>5.0</td>\n",
       "      <td>Mengesankan</td>\n",
       "      <td>2525.0</td>\n",
       "    </tr>\n",
       "  </tbody>\n",
       "</table>\n",
       "</div>"
      ],
      "text/plain": [
       "         hotelId   type                   hotelName        city province  \\\n",
       "0  3000020003208  Hotel    Kyriad Hotel Muraya Aceh  Banda Aceh     Aceh   \n",
       "1  3000010003879  Hotel  Hermes Palace by BENCOOLEN  Banda Aceh     Aceh   \n",
       "\n",
       "                                     hotelFacilities  \\\n",
       "0  [\"CARPARK\",\"COFFEE_OR_TEA_IN_LOBBY\",\"COFFEE_SH...   \n",
       "1  [\"CARPARK\",\"COFFEE_SHOP\",\"ELEVATOR\",\"HAS_24_HO...   \n",
       "\n",
       "                                          properties  \\\n",
       "0  {\"checkInTime\":\"14:00\",\"checkOutTime\":\"12:00\",...   \n",
       "1  {\"checkInTime\":\"14:00\",\"checkOutTime\":\"12:00\",...   \n",
       "\n",
       "                             nearestPointOfInterests  starRating  \\\n",
       "0  [{\"landmarkId\":\"6254734\",\"geoId\":null,\"name\":\"...         4.0   \n",
       "1  [{\"landmarkId\":\"6254734\",\"geoId\":null,\"name\":\"...         5.0   \n",
       "\n",
       "  userRatingInfo  numReviews  \n",
       "0    Mengesankan      1845.0  \n",
       "1    Mengesankan      2525.0  "
      ]
     },
     "execution_count": 8,
     "metadata": {},
     "output_type": "execute_result"
    }
   ],
   "source": [
    "# rename columns\n",
    "\n",
    "df_hotel.rename(columns={'id': 'hotelId'}, inplace=True)\n",
    "df_hotel.rename(columns={'name': 'hotelName'}, inplace=True)\n",
    "df_hotel.rename(columns={'facilities': 'hotelFacilities'}, inplace=True)\n",
    "df_room.rename(columns={'facilities': 'roomFacilities'}, inplace=True)\n",
    "df_hotel.head(2)"
   ]
  },
  {
   "cell_type": "code",
   "execution_count": 9,
   "metadata": {},
   "outputs": [
    {
     "data": {
      "text/html": [
       "<div>\n",
       "<style scoped>\n",
       "    .dataframe tbody tr th:only-of-type {\n",
       "        vertical-align: middle;\n",
       "    }\n",
       "\n",
       "    .dataframe tbody tr th {\n",
       "        vertical-align: top;\n",
       "    }\n",
       "\n",
       "    .dataframe thead th {\n",
       "        text-align: right;\n",
       "    }\n",
       "</style>\n",
       "<table border=\"1\" class=\"dataframe\">\n",
       "  <thead>\n",
       "    <tr style=\"text-align: right;\">\n",
       "      <th></th>\n",
       "      <th>hotelId</th>\n",
       "      <th>type</th>\n",
       "      <th>hotelName</th>\n",
       "      <th>city</th>\n",
       "      <th>province</th>\n",
       "      <th>hotelFacilities</th>\n",
       "      <th>properties</th>\n",
       "      <th>nearestPointOfInterests</th>\n",
       "      <th>starRating</th>\n",
       "      <th>userRatingInfo</th>\n",
       "      <th>...</th>\n",
       "      <th>size</th>\n",
       "      <th>originalRate</th>\n",
       "      <th>baseOccupancy</th>\n",
       "      <th>maxChildOccupancy</th>\n",
       "      <th>maxChildAge</th>\n",
       "      <th>isBreakfastIncluded</th>\n",
       "      <th>isWifiIncluded</th>\n",
       "      <th>isRefundable</th>\n",
       "      <th>hasLivingRoom</th>\n",
       "      <th>roomFacilities</th>\n",
       "    </tr>\n",
       "  </thead>\n",
       "  <tbody>\n",
       "    <tr>\n",
       "      <th>0</th>\n",
       "      <td>3000020003208</td>\n",
       "      <td>Hotel</td>\n",
       "      <td>Kyriad Hotel Muraya Aceh</td>\n",
       "      <td>Banda Aceh</td>\n",
       "      <td>Aceh</td>\n",
       "      <td>[\"CARPARK\",\"COFFEE_OR_TEA_IN_LOBBY\",\"COFFEE_SH...</td>\n",
       "      <td>{\"checkInTime\":\"14:00\",\"checkOutTime\":\"12:00\",...</td>\n",
       "      <td>[{\"landmarkId\":\"6254734\",\"geoId\":null,\"name\":\"...</td>\n",
       "      <td>4.0</td>\n",
       "      <td>Mengesankan</td>\n",
       "      <td>...</td>\n",
       "      <td>30.0</td>\n",
       "      <td>{\"amount\":\"999174\",\"currency\":\"IDR\",\"tax\":\"209...</td>\n",
       "      <td>2</td>\n",
       "      <td>1</td>\n",
       "      <td>10</td>\n",
       "      <td>1</td>\n",
       "      <td>1</td>\n",
       "      <td>1</td>\n",
       "      <td>0</td>\n",
       "      <td>[\"AIR_CONDITIONING\",\"BATHROBES\",\"BLACKOUT_DRAP...</td>\n",
       "    </tr>\n",
       "    <tr>\n",
       "      <th>1</th>\n",
       "      <td>3000020003208</td>\n",
       "      <td>Hotel</td>\n",
       "      <td>Kyriad Hotel Muraya Aceh</td>\n",
       "      <td>Banda Aceh</td>\n",
       "      <td>Aceh</td>\n",
       "      <td>[\"CARPARK\",\"COFFEE_OR_TEA_IN_LOBBY\",\"COFFEE_SH...</td>\n",
       "      <td>{\"checkInTime\":\"14:00\",\"checkOutTime\":\"12:00\",...</td>\n",
       "      <td>[{\"landmarkId\":\"6254734\",\"geoId\":null,\"name\":\"...</td>\n",
       "      <td>4.0</td>\n",
       "      <td>Mengesankan</td>\n",
       "      <td>...</td>\n",
       "      <td>75.0</td>\n",
       "      <td>{\"amount\":\"3305785\",\"currency\":\"IDR\",\"tax\":\"69...</td>\n",
       "      <td>2</td>\n",
       "      <td>1</td>\n",
       "      <td>10</td>\n",
       "      <td>1</td>\n",
       "      <td>1</td>\n",
       "      <td>1</td>\n",
       "      <td>0</td>\n",
       "      <td>[\"AIR_CONDITIONING\",\"BATHROBES\",\"BLACKOUT_DRAP...</td>\n",
       "    </tr>\n",
       "  </tbody>\n",
       "</table>\n",
       "<p>2 rows × 24 columns</p>\n",
       "</div>"
      ],
      "text/plain": [
       "         hotelId   type                 hotelName        city province  \\\n",
       "0  3000020003208  Hotel  Kyriad Hotel Muraya Aceh  Banda Aceh     Aceh   \n",
       "1  3000020003208  Hotel  Kyriad Hotel Muraya Aceh  Banda Aceh     Aceh   \n",
       "\n",
       "                                     hotelFacilities  \\\n",
       "0  [\"CARPARK\",\"COFFEE_OR_TEA_IN_LOBBY\",\"COFFEE_SH...   \n",
       "1  [\"CARPARK\",\"COFFEE_OR_TEA_IN_LOBBY\",\"COFFEE_SH...   \n",
       "\n",
       "                                          properties  \\\n",
       "0  {\"checkInTime\":\"14:00\",\"checkOutTime\":\"12:00\",...   \n",
       "1  {\"checkInTime\":\"14:00\",\"checkOutTime\":\"12:00\",...   \n",
       "\n",
       "                             nearestPointOfInterests  starRating  \\\n",
       "0  [{\"landmarkId\":\"6254734\",\"geoId\":null,\"name\":\"...         4.0   \n",
       "1  [{\"landmarkId\":\"6254734\",\"geoId\":null,\"name\":\"...         4.0   \n",
       "\n",
       "  userRatingInfo  ...  size  \\\n",
       "0    Mengesankan  ...  30.0   \n",
       "1    Mengesankan  ...  75.0   \n",
       "\n",
       "                                        originalRate baseOccupancy  \\\n",
       "0  {\"amount\":\"999174\",\"currency\":\"IDR\",\"tax\":\"209...             2   \n",
       "1  {\"amount\":\"3305785\",\"currency\":\"IDR\",\"tax\":\"69...             2   \n",
       "\n",
       "  maxChildOccupancy maxChildAge isBreakfastIncluded  isWifiIncluded  \\\n",
       "0                 1          10                   1               1   \n",
       "1                 1          10                   1               1   \n",
       "\n",
       "   isRefundable  hasLivingRoom  \\\n",
       "0             1              0   \n",
       "1             1              0   \n",
       "\n",
       "                                      roomFacilities  \n",
       "0  [\"AIR_CONDITIONING\",\"BATHROBES\",\"BLACKOUT_DRAP...  \n",
       "1  [\"AIR_CONDITIONING\",\"BATHROBES\",\"BLACKOUT_DRAP...  \n",
       "\n",
       "[2 rows x 24 columns]"
      ]
     },
     "execution_count": 9,
     "metadata": {},
     "output_type": "execute_result"
    }
   ],
   "source": [
    "df = pd.merge(df_hotel, df_room, on='hotelId', how='inner')\n",
    "df.head(2)"
   ]
  },
  {
   "cell_type": "markdown",
   "metadata": {},
   "source": [
    "### Filter for only Bali Province"
   ]
  },
  {
   "cell_type": "code",
   "execution_count": 10,
   "metadata": {},
   "outputs": [
    {
     "data": {
      "text/plain": [
       "(7221, 24)"
      ]
     },
     "execution_count": 10,
     "metadata": {},
     "output_type": "execute_result"
    }
   ],
   "source": [
    "df = df[df['province'] == 'Bali']\n",
    "df.reset_index(drop=True, inplace=True)\n",
    "df.shape"
   ]
  },
  {
   "cell_type": "code",
   "execution_count": 11,
   "metadata": {},
   "outputs": [
    {
     "name": "stdout",
     "output_type": "stream",
     "text": [
      "(7221, 15)\n"
     ]
    },
    {
     "data": {
      "text/html": [
       "<div>\n",
       "<style scoped>\n",
       "    .dataframe tbody tr th:only-of-type {\n",
       "        vertical-align: middle;\n",
       "    }\n",
       "\n",
       "    .dataframe tbody tr th {\n",
       "        vertical-align: top;\n",
       "    }\n",
       "\n",
       "    .dataframe thead th {\n",
       "        text-align: right;\n",
       "    }\n",
       "</style>\n",
       "<table border=\"1\" class=\"dataframe\">\n",
       "  <thead>\n",
       "    <tr style=\"text-align: right;\">\n",
       "      <th></th>\n",
       "      <th>type</th>\n",
       "      <th>city</th>\n",
       "      <th>hotelFacilities</th>\n",
       "      <th>nearestPointOfInterests</th>\n",
       "      <th>starRating</th>\n",
       "      <th>size</th>\n",
       "      <th>originalRate</th>\n",
       "      <th>baseOccupancy</th>\n",
       "      <th>maxChildOccupancy</th>\n",
       "      <th>maxChildAge</th>\n",
       "      <th>isBreakfastIncluded</th>\n",
       "      <th>isWifiIncluded</th>\n",
       "      <th>isRefundable</th>\n",
       "      <th>hasLivingRoom</th>\n",
       "      <th>roomFacilities</th>\n",
       "    </tr>\n",
       "  </thead>\n",
       "  <tbody>\n",
       "    <tr>\n",
       "      <th>0</th>\n",
       "      <td>Hotel</td>\n",
       "      <td>Badung</td>\n",
       "      <td>[\"CARPARK\",\"ELEVATOR\",\"HAS_24_HOUR_ROOM_SERVIC...</td>\n",
       "      <td>[{\"landmarkId\":\"91589773100576\",\"geoId\":null,\"...</td>\n",
       "      <td>4.0</td>\n",
       "      <td>46.0</td>\n",
       "      <td>{\"amount\":\"1227273\",\"currency\":\"IDR\",\"tax\":\"25...</td>\n",
       "      <td>3</td>\n",
       "      <td>1</td>\n",
       "      <td>5</td>\n",
       "      <td>1</td>\n",
       "      <td>1</td>\n",
       "      <td>1</td>\n",
       "      <td>0</td>\n",
       "      <td>[\"AIR_CONDITIONING\",\"BALCONY_TERRACE\",\"BATHROB...</td>\n",
       "    </tr>\n",
       "    <tr>\n",
       "      <th>1</th>\n",
       "      <td>Hotel</td>\n",
       "      <td>Badung</td>\n",
       "      <td>[\"CARPARK\",\"ELEVATOR\",\"HAS_24_HOUR_ROOM_SERVIC...</td>\n",
       "      <td>[{\"landmarkId\":\"91589773100576\",\"geoId\":null,\"...</td>\n",
       "      <td>4.0</td>\n",
       "      <td>31.0</td>\n",
       "      <td>{\"amount\":\"596694\",\"currency\":\"IDR\",\"tax\":\"125...</td>\n",
       "      <td>2</td>\n",
       "      <td>1</td>\n",
       "      <td>5</td>\n",
       "      <td>0</td>\n",
       "      <td>1</td>\n",
       "      <td>1</td>\n",
       "      <td>0</td>\n",
       "      <td>[\"AIR_CONDITIONING\",\"BATHROBES\",\"BATHTUB\",\"BLA...</td>\n",
       "    </tr>\n",
       "    <tr>\n",
       "      <th>2</th>\n",
       "      <td>Hotel</td>\n",
       "      <td>Badung</td>\n",
       "      <td>[\"CARPARK\",\"ELEVATOR\",\"HAS_24_HOUR_ROOM_SERVIC...</td>\n",
       "      <td>[{\"landmarkId\":\"91589773100576\",\"geoId\":null,\"...</td>\n",
       "      <td>4.0</td>\n",
       "      <td>52.0</td>\n",
       "      <td>{\"amount\":\"1450413\",\"currency\":\"IDR\",\"tax\":\"30...</td>\n",
       "      <td>2</td>\n",
       "      <td>1</td>\n",
       "      <td>5</td>\n",
       "      <td>1</td>\n",
       "      <td>1</td>\n",
       "      <td>1</td>\n",
       "      <td>1</td>\n",
       "      <td>[\"AIR_CONDITIONING\",\"BALCONY_TERRACE\",\"BATHROB...</td>\n",
       "    </tr>\n",
       "  </tbody>\n",
       "</table>\n",
       "</div>"
      ],
      "text/plain": [
       "    type    city                                    hotelFacilities  \\\n",
       "0  Hotel  Badung  [\"CARPARK\",\"ELEVATOR\",\"HAS_24_HOUR_ROOM_SERVIC...   \n",
       "1  Hotel  Badung  [\"CARPARK\",\"ELEVATOR\",\"HAS_24_HOUR_ROOM_SERVIC...   \n",
       "2  Hotel  Badung  [\"CARPARK\",\"ELEVATOR\",\"HAS_24_HOUR_ROOM_SERVIC...   \n",
       "\n",
       "                             nearestPointOfInterests  starRating  size  \\\n",
       "0  [{\"landmarkId\":\"91589773100576\",\"geoId\":null,\"...         4.0  46.0   \n",
       "1  [{\"landmarkId\":\"91589773100576\",\"geoId\":null,\"...         4.0  31.0   \n",
       "2  [{\"landmarkId\":\"91589773100576\",\"geoId\":null,\"...         4.0  52.0   \n",
       "\n",
       "                                        originalRate  baseOccupancy  \\\n",
       "0  {\"amount\":\"1227273\",\"currency\":\"IDR\",\"tax\":\"25...              3   \n",
       "1  {\"amount\":\"596694\",\"currency\":\"IDR\",\"tax\":\"125...              2   \n",
       "2  {\"amount\":\"1450413\",\"currency\":\"IDR\",\"tax\":\"30...              2   \n",
       "\n",
       "   maxChildOccupancy  maxChildAge  isBreakfastIncluded  isWifiIncluded  \\\n",
       "0                  1            5                    1               1   \n",
       "1                  1            5                    0               1   \n",
       "2                  1            5                    1               1   \n",
       "\n",
       "   isRefundable  hasLivingRoom  \\\n",
       "0             1              0   \n",
       "1             1              0   \n",
       "2             1              1   \n",
       "\n",
       "                                      roomFacilities  \n",
       "0  [\"AIR_CONDITIONING\",\"BALCONY_TERRACE\",\"BATHROB...  \n",
       "1  [\"AIR_CONDITIONING\",\"BATHROBES\",\"BATHTUB\",\"BLA...  \n",
       "2  [\"AIR_CONDITIONING\",\"BALCONY_TERRACE\",\"BATHROB...  "
      ]
     },
     "execution_count": 11,
     "metadata": {},
     "output_type": "execute_result"
    }
   ],
   "source": [
    "# drop another columns\n",
    "drop = ['hotelId', 'hotelName', 'province', 'properties', 'userRatingInfo', 'numReviews', 'id', 'name', 'roomType']\n",
    "for column_name in drop:\n",
    "    df.drop(column_name, axis=1, inplace=True)\n",
    "print(df.shape)\n",
    "df.head(3)"
   ]
  },
  {
   "cell_type": "code",
   "execution_count": 12,
   "metadata": {},
   "outputs": [],
   "source": [
    "# Plotting Hotel Type\n",
    "# plt.figure(figsize=(13, 5))\n",
    "# sns.countplot(x='type', data=df)\n",
    "# plt.show()"
   ]
  },
  {
   "cell_type": "markdown",
   "metadata": {},
   "source": [
    "## Data Cleaning"
   ]
  },
  {
   "cell_type": "code",
   "execution_count": 13,
   "metadata": {},
   "outputs": [
    {
     "data": {
      "text/plain": [
       "type                          0\n",
       "city                          0\n",
       "hotelFacilities               0\n",
       "nearestPointOfInterests       0\n",
       "starRating                    0\n",
       "size                       2084\n",
       "originalRate                  0\n",
       "baseOccupancy                 0\n",
       "maxChildOccupancy             0\n",
       "maxChildAge                   0\n",
       "isBreakfastIncluded           0\n",
       "isWifiIncluded                0\n",
       "isRefundable                  0\n",
       "hasLivingRoom                 0\n",
       "roomFacilities                0\n",
       "dtype: int64"
      ]
     },
     "execution_count": 13,
     "metadata": {},
     "output_type": "execute_result"
    }
   ],
   "source": [
    "df.isnull().sum()"
   ]
  },
  {
   "cell_type": "code",
   "execution_count": 14,
   "metadata": {},
   "outputs": [
    {
     "data": {
      "text/plain": [
       "True"
      ]
     },
     "execution_count": 14,
     "metadata": {},
     "output_type": "execute_result"
    }
   ],
   "source": [
    "df.duplicated().any()"
   ]
  },
  {
   "cell_type": "code",
   "execution_count": 15,
   "metadata": {},
   "outputs": [
    {
     "data": {
      "text/plain": [
       "(5137, 15)"
      ]
     },
     "execution_count": 15,
     "metadata": {},
     "output_type": "execute_result"
    }
   ],
   "source": [
    "df.dropna(inplace=True)\n",
    "df.reset_index(drop=True, inplace=True)\n",
    "df.shape"
   ]
  },
  {
   "cell_type": "markdown",
   "metadata": {},
   "source": [
    "## Feature Processing"
   ]
  },
  {
   "cell_type": "markdown",
   "metadata": {},
   "source": [
    "### Original Rate/Target Processing"
   ]
  },
  {
   "cell_type": "code",
   "execution_count": 16,
   "metadata": {},
   "outputs": [
    {
     "data": {
      "text/plain": [
       "'{\"amount\":\"1227273\",\"currency\":\"IDR\",\"tax\":\"257727\"}'"
      ]
     },
     "execution_count": 16,
     "metadata": {},
     "output_type": "execute_result"
    }
   ],
   "source": [
    "df.loc[0, 'originalRate']"
   ]
  },
  {
   "cell_type": "code",
   "execution_count": 17,
   "metadata": {},
   "outputs": [
    {
     "data": {
      "text/html": [
       "<div>\n",
       "<style scoped>\n",
       "    .dataframe tbody tr th:only-of-type {\n",
       "        vertical-align: middle;\n",
       "    }\n",
       "\n",
       "    .dataframe tbody tr th {\n",
       "        vertical-align: top;\n",
       "    }\n",
       "\n",
       "    .dataframe thead th {\n",
       "        text-align: right;\n",
       "    }\n",
       "</style>\n",
       "<table border=\"1\" class=\"dataframe\">\n",
       "  <thead>\n",
       "    <tr style=\"text-align: right;\">\n",
       "      <th></th>\n",
       "      <th>type</th>\n",
       "      <th>city</th>\n",
       "      <th>hotelFacilities</th>\n",
       "      <th>nearestPointOfInterests</th>\n",
       "      <th>starRating</th>\n",
       "      <th>size</th>\n",
       "      <th>originalRate</th>\n",
       "      <th>baseOccupancy</th>\n",
       "      <th>maxChildOccupancy</th>\n",
       "      <th>maxChildAge</th>\n",
       "      <th>isBreakfastIncluded</th>\n",
       "      <th>isWifiIncluded</th>\n",
       "      <th>isRefundable</th>\n",
       "      <th>hasLivingRoom</th>\n",
       "      <th>roomFacilities</th>\n",
       "    </tr>\n",
       "  </thead>\n",
       "  <tbody>\n",
       "    <tr>\n",
       "      <th>0</th>\n",
       "      <td>Hotel</td>\n",
       "      <td>Badung</td>\n",
       "      <td>[\"CARPARK\",\"ELEVATOR\",\"HAS_24_HOUR_ROOM_SERVIC...</td>\n",
       "      <td>[{\"landmarkId\":\"91589773100576\",\"geoId\":null,\"...</td>\n",
       "      <td>4.0</td>\n",
       "      <td>46.0</td>\n",
       "      <td>257727</td>\n",
       "      <td>3</td>\n",
       "      <td>1</td>\n",
       "      <td>5</td>\n",
       "      <td>1</td>\n",
       "      <td>1</td>\n",
       "      <td>1</td>\n",
       "      <td>0</td>\n",
       "      <td>[\"AIR_CONDITIONING\",\"BALCONY_TERRACE\",\"BATHROB...</td>\n",
       "    </tr>\n",
       "    <tr>\n",
       "      <th>1</th>\n",
       "      <td>Hotel</td>\n",
       "      <td>Badung</td>\n",
       "      <td>[\"CARPARK\",\"ELEVATOR\",\"HAS_24_HOUR_ROOM_SERVIC...</td>\n",
       "      <td>[{\"landmarkId\":\"91589773100576\",\"geoId\":null,\"...</td>\n",
       "      <td>4.0</td>\n",
       "      <td>31.0</td>\n",
       "      <td>125306</td>\n",
       "      <td>2</td>\n",
       "      <td>1</td>\n",
       "      <td>5</td>\n",
       "      <td>0</td>\n",
       "      <td>1</td>\n",
       "      <td>1</td>\n",
       "      <td>0</td>\n",
       "      <td>[\"AIR_CONDITIONING\",\"BATHROBES\",\"BATHTUB\",\"BLA...</td>\n",
       "    </tr>\n",
       "  </tbody>\n",
       "</table>\n",
       "</div>"
      ],
      "text/plain": [
       "    type    city                                    hotelFacilities  \\\n",
       "0  Hotel  Badung  [\"CARPARK\",\"ELEVATOR\",\"HAS_24_HOUR_ROOM_SERVIC...   \n",
       "1  Hotel  Badung  [\"CARPARK\",\"ELEVATOR\",\"HAS_24_HOUR_ROOM_SERVIC...   \n",
       "\n",
       "                             nearestPointOfInterests  starRating  size  \\\n",
       "0  [{\"landmarkId\":\"91589773100576\",\"geoId\":null,\"...         4.0  46.0   \n",
       "1  [{\"landmarkId\":\"91589773100576\",\"geoId\":null,\"...         4.0  31.0   \n",
       "\n",
       "   originalRate  baseOccupancy  maxChildOccupancy  maxChildAge  \\\n",
       "0        257727              3                  1            5   \n",
       "1        125306              2                  1            5   \n",
       "\n",
       "   isBreakfastIncluded  isWifiIncluded  isRefundable  hasLivingRoom  \\\n",
       "0                    1               1             1              0   \n",
       "1                    0               1             1              0   \n",
       "\n",
       "                                      roomFacilities  \n",
       "0  [\"AIR_CONDITIONING\",\"BALCONY_TERRACE\",\"BATHROB...  \n",
       "1  [\"AIR_CONDITIONING\",\"BATHROBES\",\"BATHTUB\",\"BLA...  "
      ]
     },
     "execution_count": 17,
     "metadata": {},
     "output_type": "execute_result"
    }
   ],
   "source": [
    "# Exstract original rate\n",
    "for i in range (len(df['originalRate'])):\n",
    "    df.loc[i, 'originalRate'] = df['originalRate'][i].split('\"')[11]\n",
    "    # df['originalRate'][i] = int(df['originalRate'][i].split('\"')[11])\n",
    "df['originalRate'] = df['originalRate'].astype(int)\n",
    "df.head(2)"
   ]
  },
  {
   "cell_type": "code",
   "execution_count": 18,
   "metadata": {},
   "outputs": [
    {
     "data": {
      "text/plain": [
       "(5137, 15)"
      ]
     },
     "execution_count": 18,
     "metadata": {},
     "output_type": "execute_result"
    }
   ],
   "source": [
    "df.shape"
   ]
  },
  {
   "cell_type": "code",
   "execution_count": 19,
   "metadata": {},
   "outputs": [
    {
     "data": {
      "text/plain": [
       "(4733, 15)"
      ]
     },
     "execution_count": 19,
     "metadata": {},
     "output_type": "execute_result"
    }
   ],
   "source": [
    "# Remove originalRate below 1\n",
    "df = df[df['originalRate'] > 10]\n",
    "df.reset_index(drop=True, inplace=True)\n",
    "df.shape"
   ]
  },
  {
   "cell_type": "code",
   "execution_count": 20,
   "metadata": {},
   "outputs": [
    {
     "name": "stdout",
     "output_type": "stream",
     "text": [
      "<class 'pandas.core.frame.DataFrame'>\n",
      "RangeIndex: 4733 entries, 0 to 4732\n",
      "Data columns (total 15 columns):\n",
      " #   Column                   Non-Null Count  Dtype  \n",
      "---  ------                   --------------  -----  \n",
      " 0   type                     4733 non-null   object \n",
      " 1   city                     4733 non-null   object \n",
      " 2   hotelFacilities          4733 non-null   object \n",
      " 3   nearestPointOfInterests  4733 non-null   object \n",
      " 4   starRating               4733 non-null   float64\n",
      " 5   size                     4733 non-null   object \n",
      " 6   originalRate             4733 non-null   int32  \n",
      " 7   baseOccupancy            4733 non-null   int64  \n",
      " 8   maxChildOccupancy        4733 non-null   int64  \n",
      " 9   maxChildAge              4733 non-null   int64  \n",
      " 10  isBreakfastIncluded      4733 non-null   int64  \n",
      " 11  isWifiIncluded           4733 non-null   int64  \n",
      " 12  isRefundable             4733 non-null   int64  \n",
      " 13  hasLivingRoom            4733 non-null   int64  \n",
      " 14  roomFacilities           4733 non-null   object \n",
      "dtypes: float64(1), int32(1), int64(7), object(6)\n",
      "memory usage: 536.3+ KB\n"
     ]
    }
   ],
   "source": [
    "# Checking the data type\n",
    "df.info()"
   ]
  },
  {
   "cell_type": "code",
   "execution_count": 21,
   "metadata": {},
   "outputs": [
    {
     "data": {
      "text/plain": [
       "dtype('float64')"
      ]
     },
     "execution_count": 21,
     "metadata": {},
     "output_type": "execute_result"
    }
   ],
   "source": [
    "# change size data type to float\n",
    "df['size'] = df['size'].astype(float)\n",
    "df['size'].dtype"
   ]
  },
  {
   "cell_type": "code",
   "execution_count": 22,
   "metadata": {},
   "outputs": [
    {
     "data": {
      "text/html": [
       "<div>\n",
       "<style scoped>\n",
       "    .dataframe tbody tr th:only-of-type {\n",
       "        vertical-align: middle;\n",
       "    }\n",
       "\n",
       "    .dataframe tbody tr th {\n",
       "        vertical-align: top;\n",
       "    }\n",
       "\n",
       "    .dataframe thead th {\n",
       "        text-align: right;\n",
       "    }\n",
       "</style>\n",
       "<table border=\"1\" class=\"dataframe\">\n",
       "  <thead>\n",
       "    <tr style=\"text-align: right;\">\n",
       "      <th></th>\n",
       "      <th>originalRate</th>\n",
       "    </tr>\n",
       "  </thead>\n",
       "  <tbody>\n",
       "    <tr>\n",
       "      <th>0</th>\n",
       "      <td>257727</td>\n",
       "    </tr>\n",
       "    <tr>\n",
       "      <th>1</th>\n",
       "      <td>125306</td>\n",
       "    </tr>\n",
       "  </tbody>\n",
       "</table>\n",
       "</div>"
      ],
      "text/plain": [
       "   originalRate\n",
       "0        257727\n",
       "1        125306"
      ]
     },
     "execution_count": 22,
     "metadata": {},
     "output_type": "execute_result"
    }
   ],
   "source": [
    "dfPrice = df[['originalRate']]\n",
    "dfPrice.head(2)"
   ]
  },
  {
   "cell_type": "code",
   "execution_count": 23,
   "metadata": {},
   "outputs": [
    {
     "data": {
      "text/plain": [
       "originalRate    0\n",
       "dtype: int64"
      ]
     },
     "execution_count": 23,
     "metadata": {},
     "output_type": "execute_result"
    }
   ],
   "source": [
    "dfPrice.isnull().sum()"
   ]
  },
  {
   "cell_type": "markdown",
   "metadata": {},
   "source": [
    "### Feature Processing"
   ]
  },
  {
   "cell_type": "code",
   "execution_count": 24,
   "metadata": {},
   "outputs": [],
   "source": [
    "# Rooms facilities processing\n",
    "# How to use : Facilities = getFacilities(df['Facilities'].tolist())\n",
    "def getFacilities(facilitiesList):\n",
    "    facilities = []\n",
    "    for i in facilitiesList:\n",
    "        m = int(i.count('\"') / 2)\n",
    "        for j in range(1, m+1, 2):\n",
    "            temp = i.split('\"')[j]\n",
    "            if temp not in facilities:\n",
    "                facilities.append(temp)\n",
    "    return facilities"
   ]
  },
  {
   "cell_type": "code",
   "execution_count": 25,
   "metadata": {},
   "outputs": [],
   "source": [
    "# Remove underscore and capitalize\n",
    "def columnName(text):\n",
    "    index1 = text.find('_')\n",
    "    index2 = index1 + 1\n",
    "    index3 = index2 + 1\n",
    "    text = text[: index1]+ text[index2].swapcase()+text[index3 :]\n",
    "    finalText = text.strip('_')\n",
    "    return finalText"
   ]
  },
  {
   "cell_type": "code",
   "execution_count": 26,
   "metadata": {},
   "outputs": [],
   "source": [
    "# hotel facilites will get error use nameFormatHotel instead\n",
    "def nameFormat(facilitiesName):\n",
    "    for i in range (len(facilitiesName)):\n",
    "        facilitiesName[i] = facilitiesName[i].lower()\n",
    "        if facilitiesName[i].find('_') > 0:\n",
    "            while True:\n",
    "                temp = columnName(facilitiesName[i])\n",
    "                temporary = temp.isalpha()\n",
    "                if temporary == False:\n",
    "                    temp = columnName(facilitiesName[i])\n",
    "                    facilitiesName[i] = columnName(temp)\n",
    "                    if facilitiesName[i].isalpha() == True:\n",
    "                        break\n",
    "                if temporary == True:\n",
    "                    facilitiesName[i] = temp\n",
    "                    break\n",
    "    return facilitiesName"
   ]
  },
  {
   "cell_type": "code",
   "execution_count": 27,
   "metadata": {},
   "outputs": [],
   "source": [
    "# only for hotel facilities\n",
    "def nameFormatHotel(facilitiesName):\n",
    "    for i in range (len(facilitiesName)):\n",
    "        facilitiesName[i] = facilitiesName[i].lower()\n",
    "    return facilitiesName"
   ]
  },
  {
   "cell_type": "markdown",
   "metadata": {},
   "source": [
    "#### Getting extraxcted features"
   ]
  },
  {
   "cell_type": "code",
   "execution_count": 28,
   "metadata": {},
   "outputs": [
    {
     "data": {
      "text/plain": [
       "['CARPARK',\n",
       " 'ELEVATOR',\n",
       " 'HAS_24_HOUR_ROOM_SERVICE',\n",
       " 'RESTAURANT',\n",
       " 'RESTAURANT_FOR_BREAKFAST']"
      ]
     },
     "execution_count": 28,
     "metadata": {},
     "output_type": "execute_result"
    }
   ],
   "source": [
    "# Hotel Facilities to List\n",
    "hotelFacilities = getFacilities(df['hotelFacilities'].tolist())\n",
    "hotelFacilities[:5]"
   ]
  },
  {
   "cell_type": "code",
   "execution_count": 29,
   "metadata": {},
   "outputs": [
    {
     "data": {
      "text/plain": [
       "['AIR_CONDITIONING',\n",
       " 'BALCONY_TERRACE',\n",
       " 'BATHROBES',\n",
       " 'BATHTUB',\n",
       " 'BLACKOUT_DRAPES_CURTAINS']"
      ]
     },
     "execution_count": 29,
     "metadata": {},
     "output_type": "execute_result"
    }
   ],
   "source": [
    "# Room Facilities to List\n",
    "roomFacilities = getFacilities(df['roomFacilities'].tolist())\n",
    "roomFacilities[:5]"
   ]
  },
  {
   "cell_type": "code",
   "execution_count": 30,
   "metadata": {},
   "outputs": [
    {
     "data": {
      "text/plain": [
       "['SHOPPING_AREA', 'OFFICIAL_BUILDING', 'RESTAURANT', 'ATTRACTION', 'BEACH']"
      ]
     },
     "execution_count": 30,
     "metadata": {},
     "output_type": "execute_result"
    }
   ],
   "source": [
    "# nearestPointOfInterests to List\n",
    "# landmarkType is present at indexes [19, 49, 79, 109]\n",
    "\n",
    "landmark = df['nearestPointOfInterests'].to_list()\n",
    "searchText = 'landmarkType'\n",
    "nearestPoint = []\n",
    "loopCount = 0\n",
    "for x in range (len(landmark)):\n",
    "    loopCount += 1\n",
    "    i = 0\n",
    "    column = landmark[x].split('\"')\n",
    "    matched_indexes = []\n",
    "    while i < len(column):\n",
    "        if searchText == column[i]:\n",
    "            matched_indexes.append(i)\n",
    "        i += 1\n",
    "    for y in matched_indexes:\n",
    "        if column[y+2] not in nearestPoint:\n",
    "            nearestPoint.append(column[y+2])\n",
    "if 'OTHERS' in nearestPoint:\n",
    "    nearestPoint.remove('OTHERS')\n",
    "nearestPoint[:5]"
   ]
  },
  {
   "cell_type": "code",
   "execution_count": 31,
   "metadata": {},
   "outputs": [],
   "source": [
    "# Name formatting and create new dataframe\n",
    "# hotelFacilities = nameFormatHotel(hotelFacilities)\n",
    "# roomFacilities = nameFormat(roomFacilities)\n",
    "# nearestPoint = nameFormat(nearestPoint)"
   ]
  },
  {
   "cell_type": "code",
   "execution_count": 32,
   "metadata": {},
   "outputs": [],
   "source": [
    "# Create new dataframe\n",
    "dfHotelEncode = pd.DataFrame(columns=hotelFacilities)\n",
    "dfRoomEncode = pd.DataFrame(columns=roomFacilities)\n",
    "dfPointEncode = pd.DataFrame(columns=nearestPoint)"
   ]
  },
  {
   "cell_type": "markdown",
   "metadata": {},
   "source": [
    "#### Hotel Feature Selcetion"
   ]
  },
  {
   "cell_type": "code",
   "execution_count": 33,
   "metadata": {},
   "outputs": [
    {
     "data": {
      "text/html": [
       "<div>\n",
       "<style scoped>\n",
       "    .dataframe tbody tr th:only-of-type {\n",
       "        vertical-align: middle;\n",
       "    }\n",
       "\n",
       "    .dataframe tbody tr th {\n",
       "        vertical-align: top;\n",
       "    }\n",
       "\n",
       "    .dataframe thead th {\n",
       "        text-align: right;\n",
       "    }\n",
       "</style>\n",
       "<table border=\"1\" class=\"dataframe\">\n",
       "  <thead>\n",
       "    <tr style=\"text-align: right;\">\n",
       "      <th></th>\n",
       "      <th>originalRate</th>\n",
       "      <th>hotelFacilities</th>\n",
       "      <th>CARPARK</th>\n",
       "      <th>ELEVATOR</th>\n",
       "      <th>HAS_24_HOUR_ROOM_SERVICE</th>\n",
       "      <th>RESTAURANT</th>\n",
       "      <th>RESTAURANT_FOR_BREAKFAST</th>\n",
       "      <th>RESTAURANT_FOR_DINNER</th>\n",
       "      <th>RESTAURANT_FOR_LUNCH</th>\n",
       "      <th>SAFETY_DEPOSIT_BOX</th>\n",
       "      <th>...</th>\n",
       "      <th>CANOEING</th>\n",
       "      <th>SURFING</th>\n",
       "      <th>CRIBS</th>\n",
       "      <th>BEACH_VOLLEYBALL</th>\n",
       "      <th>MINI_GOLF</th>\n",
       "      <th>PRIVATE_BEACH</th>\n",
       "      <th>CHILDREN_CLUB</th>\n",
       "      <th>DARTS</th>\n",
       "      <th>ENTERTAINMENT_PROGRAMME_FOR_CHILDREN</th>\n",
       "      <th>KARAOKE</th>\n",
       "    </tr>\n",
       "  </thead>\n",
       "  <tbody>\n",
       "    <tr>\n",
       "      <th>0</th>\n",
       "      <td>257727</td>\n",
       "      <td>[\"CARPARK\",\"ELEVATOR\",\"HAS_24_HOUR_ROOM_SERVIC...</td>\n",
       "      <td>NaN</td>\n",
       "      <td>NaN</td>\n",
       "      <td>NaN</td>\n",
       "      <td>NaN</td>\n",
       "      <td>NaN</td>\n",
       "      <td>NaN</td>\n",
       "      <td>NaN</td>\n",
       "      <td>NaN</td>\n",
       "      <td>...</td>\n",
       "      <td>NaN</td>\n",
       "      <td>NaN</td>\n",
       "      <td>NaN</td>\n",
       "      <td>NaN</td>\n",
       "      <td>NaN</td>\n",
       "      <td>NaN</td>\n",
       "      <td>NaN</td>\n",
       "      <td>NaN</td>\n",
       "      <td>NaN</td>\n",
       "      <td>NaN</td>\n",
       "    </tr>\n",
       "    <tr>\n",
       "      <th>1</th>\n",
       "      <td>125306</td>\n",
       "      <td>[\"CARPARK\",\"ELEVATOR\",\"HAS_24_HOUR_ROOM_SERVIC...</td>\n",
       "      <td>NaN</td>\n",
       "      <td>NaN</td>\n",
       "      <td>NaN</td>\n",
       "      <td>NaN</td>\n",
       "      <td>NaN</td>\n",
       "      <td>NaN</td>\n",
       "      <td>NaN</td>\n",
       "      <td>NaN</td>\n",
       "      <td>...</td>\n",
       "      <td>NaN</td>\n",
       "      <td>NaN</td>\n",
       "      <td>NaN</td>\n",
       "      <td>NaN</td>\n",
       "      <td>NaN</td>\n",
       "      <td>NaN</td>\n",
       "      <td>NaN</td>\n",
       "      <td>NaN</td>\n",
       "      <td>NaN</td>\n",
       "      <td>NaN</td>\n",
       "    </tr>\n",
       "  </tbody>\n",
       "</table>\n",
       "<p>2 rows × 221 columns</p>\n",
       "</div>"
      ],
      "text/plain": [
       "   originalRate                                    hotelFacilities CARPARK  \\\n",
       "0        257727  [\"CARPARK\",\"ELEVATOR\",\"HAS_24_HOUR_ROOM_SERVIC...     NaN   \n",
       "1        125306  [\"CARPARK\",\"ELEVATOR\",\"HAS_24_HOUR_ROOM_SERVIC...     NaN   \n",
       "\n",
       "  ELEVATOR HAS_24_HOUR_ROOM_SERVICE RESTAURANT RESTAURANT_FOR_BREAKFAST  \\\n",
       "0      NaN                      NaN        NaN                      NaN   \n",
       "1      NaN                      NaN        NaN                      NaN   \n",
       "\n",
       "  RESTAURANT_FOR_DINNER RESTAURANT_FOR_LUNCH SAFETY_DEPOSIT_BOX  ... CANOEING  \\\n",
       "0                   NaN                  NaN                NaN  ...      NaN   \n",
       "1                   NaN                  NaN                NaN  ...      NaN   \n",
       "\n",
       "  SURFING CRIBS BEACH_VOLLEYBALL MINI_GOLF PRIVATE_BEACH CHILDREN_CLUB DARTS  \\\n",
       "0     NaN   NaN              NaN       NaN           NaN           NaN   NaN   \n",
       "1     NaN   NaN              NaN       NaN           NaN           NaN   NaN   \n",
       "\n",
       "  ENTERTAINMENT_PROGRAMME_FOR_CHILDREN KARAOKE  \n",
       "0                                  NaN     NaN  \n",
       "1                                  NaN     NaN  \n",
       "\n",
       "[2 rows x 221 columns]"
      ]
     },
     "execution_count": 33,
     "metadata": {},
     "output_type": "execute_result"
    }
   ],
   "source": [
    "dfHotel = pd.concat([df.pop('hotelFacilities'), dfHotelEncode], axis=1)\n",
    "dfHotel = pd.concat([dfPrice, dfHotel], axis=1)\n",
    "dfHotel.head(2)"
   ]
  },
  {
   "cell_type": "code",
   "execution_count": 34,
   "metadata": {},
   "outputs": [
    {
     "name": "stdout",
     "output_type": "stream",
     "text": [
      "(4733, 221)\n"
     ]
    },
    {
     "data": {
      "text/html": [
       "<div>\n",
       "<style scoped>\n",
       "    .dataframe tbody tr th:only-of-type {\n",
       "        vertical-align: middle;\n",
       "    }\n",
       "\n",
       "    .dataframe tbody tr th {\n",
       "        vertical-align: top;\n",
       "    }\n",
       "\n",
       "    .dataframe thead th {\n",
       "        text-align: right;\n",
       "    }\n",
       "</style>\n",
       "<table border=\"1\" class=\"dataframe\">\n",
       "  <thead>\n",
       "    <tr style=\"text-align: right;\">\n",
       "      <th></th>\n",
       "      <th>originalRate</th>\n",
       "      <th>hotelFacilities</th>\n",
       "      <th>CARPARK</th>\n",
       "      <th>ELEVATOR</th>\n",
       "      <th>HAS_24_HOUR_ROOM_SERVICE</th>\n",
       "      <th>RESTAURANT</th>\n",
       "      <th>RESTAURANT_FOR_BREAKFAST</th>\n",
       "      <th>RESTAURANT_FOR_DINNER</th>\n",
       "      <th>RESTAURANT_FOR_LUNCH</th>\n",
       "      <th>SAFETY_DEPOSIT_BOX</th>\n",
       "      <th>...</th>\n",
       "      <th>CANOEING</th>\n",
       "      <th>SURFING</th>\n",
       "      <th>CRIBS</th>\n",
       "      <th>BEACH_VOLLEYBALL</th>\n",
       "      <th>MINI_GOLF</th>\n",
       "      <th>PRIVATE_BEACH</th>\n",
       "      <th>CHILDREN_CLUB</th>\n",
       "      <th>DARTS</th>\n",
       "      <th>ENTERTAINMENT_PROGRAMME_FOR_CHILDREN</th>\n",
       "      <th>KARAOKE</th>\n",
       "    </tr>\n",
       "  </thead>\n",
       "  <tbody>\n",
       "    <tr>\n",
       "      <th>0</th>\n",
       "      <td>257727.0</td>\n",
       "      <td>[\"CARPARK\",\"ELEVATOR\",\"HAS_24_HOUR_ROOM_SERVIC...</td>\n",
       "      <td>1</td>\n",
       "      <td>1</td>\n",
       "      <td>1</td>\n",
       "      <td>1</td>\n",
       "      <td>1</td>\n",
       "      <td>1</td>\n",
       "      <td>1</td>\n",
       "      <td>1</td>\n",
       "      <td>...</td>\n",
       "      <td>0</td>\n",
       "      <td>0</td>\n",
       "      <td>0</td>\n",
       "      <td>0</td>\n",
       "      <td>0</td>\n",
       "      <td>0</td>\n",
       "      <td>1</td>\n",
       "      <td>0</td>\n",
       "      <td>0</td>\n",
       "      <td>0</td>\n",
       "    </tr>\n",
       "    <tr>\n",
       "      <th>1</th>\n",
       "      <td>125306.0</td>\n",
       "      <td>[\"CARPARK\",\"ELEVATOR\",\"HAS_24_HOUR_ROOM_SERVIC...</td>\n",
       "      <td>1</td>\n",
       "      <td>1</td>\n",
       "      <td>1</td>\n",
       "      <td>1</td>\n",
       "      <td>1</td>\n",
       "      <td>1</td>\n",
       "      <td>1</td>\n",
       "      <td>1</td>\n",
       "      <td>...</td>\n",
       "      <td>0</td>\n",
       "      <td>0</td>\n",
       "      <td>0</td>\n",
       "      <td>0</td>\n",
       "      <td>0</td>\n",
       "      <td>0</td>\n",
       "      <td>1</td>\n",
       "      <td>0</td>\n",
       "      <td>0</td>\n",
       "      <td>0</td>\n",
       "    </tr>\n",
       "    <tr>\n",
       "      <th>2</th>\n",
       "      <td>304587.0</td>\n",
       "      <td>[\"CARPARK\",\"ELEVATOR\",\"HAS_24_HOUR_ROOM_SERVIC...</td>\n",
       "      <td>1</td>\n",
       "      <td>1</td>\n",
       "      <td>1</td>\n",
       "      <td>1</td>\n",
       "      <td>1</td>\n",
       "      <td>1</td>\n",
       "      <td>1</td>\n",
       "      <td>1</td>\n",
       "      <td>...</td>\n",
       "      <td>0</td>\n",
       "      <td>0</td>\n",
       "      <td>0</td>\n",
       "      <td>0</td>\n",
       "      <td>0</td>\n",
       "      <td>0</td>\n",
       "      <td>1</td>\n",
       "      <td>0</td>\n",
       "      <td>0</td>\n",
       "      <td>0</td>\n",
       "    </tr>\n",
       "    <tr>\n",
       "      <th>3</th>\n",
       "      <td>179628.0</td>\n",
       "      <td>[\"CARPARK\",\"ELEVATOR\",\"HAS_24_HOUR_ROOM_SERVIC...</td>\n",
       "      <td>1</td>\n",
       "      <td>1</td>\n",
       "      <td>1</td>\n",
       "      <td>1</td>\n",
       "      <td>1</td>\n",
       "      <td>1</td>\n",
       "      <td>1</td>\n",
       "      <td>1</td>\n",
       "      <td>...</td>\n",
       "      <td>0</td>\n",
       "      <td>0</td>\n",
       "      <td>0</td>\n",
       "      <td>0</td>\n",
       "      <td>0</td>\n",
       "      <td>0</td>\n",
       "      <td>1</td>\n",
       "      <td>0</td>\n",
       "      <td>0</td>\n",
       "      <td>0</td>\n",
       "    </tr>\n",
       "    <tr>\n",
       "      <th>4</th>\n",
       "      <td>534545.0</td>\n",
       "      <td>[\"CARPARK\",\"COFFEE_SHOP\",\"ELEVATOR\",\"HAS_24_HO...</td>\n",
       "      <td>1</td>\n",
       "      <td>1</td>\n",
       "      <td>1</td>\n",
       "      <td>1</td>\n",
       "      <td>1</td>\n",
       "      <td>1</td>\n",
       "      <td>1</td>\n",
       "      <td>1</td>\n",
       "      <td>...</td>\n",
       "      <td>0</td>\n",
       "      <td>0</td>\n",
       "      <td>0</td>\n",
       "      <td>0</td>\n",
       "      <td>0</td>\n",
       "      <td>1</td>\n",
       "      <td>0</td>\n",
       "      <td>0</td>\n",
       "      <td>0</td>\n",
       "      <td>0</td>\n",
       "    </tr>\n",
       "  </tbody>\n",
       "</table>\n",
       "<p>5 rows × 221 columns</p>\n",
       "</div>"
      ],
      "text/plain": [
       "   originalRate                                    hotelFacilities CARPARK  \\\n",
       "0      257727.0  [\"CARPARK\",\"ELEVATOR\",\"HAS_24_HOUR_ROOM_SERVIC...       1   \n",
       "1      125306.0  [\"CARPARK\",\"ELEVATOR\",\"HAS_24_HOUR_ROOM_SERVIC...       1   \n",
       "2      304587.0  [\"CARPARK\",\"ELEVATOR\",\"HAS_24_HOUR_ROOM_SERVIC...       1   \n",
       "3      179628.0  [\"CARPARK\",\"ELEVATOR\",\"HAS_24_HOUR_ROOM_SERVIC...       1   \n",
       "4      534545.0  [\"CARPARK\",\"COFFEE_SHOP\",\"ELEVATOR\",\"HAS_24_HO...       1   \n",
       "\n",
       "  ELEVATOR HAS_24_HOUR_ROOM_SERVICE RESTAURANT RESTAURANT_FOR_BREAKFAST  \\\n",
       "0        1                        1          1                        1   \n",
       "1        1                        1          1                        1   \n",
       "2        1                        1          1                        1   \n",
       "3        1                        1          1                        1   \n",
       "4        1                        1          1                        1   \n",
       "\n",
       "  RESTAURANT_FOR_DINNER RESTAURANT_FOR_LUNCH SAFETY_DEPOSIT_BOX  ... CANOEING  \\\n",
       "0                     1                    1                  1  ...        0   \n",
       "1                     1                    1                  1  ...        0   \n",
       "2                     1                    1                  1  ...        0   \n",
       "3                     1                    1                  1  ...        0   \n",
       "4                     1                    1                  1  ...        0   \n",
       "\n",
       "  SURFING CRIBS BEACH_VOLLEYBALL MINI_GOLF PRIVATE_BEACH CHILDREN_CLUB DARTS  \\\n",
       "0       0     0                0         0             0             1     0   \n",
       "1       0     0                0         0             0             1     0   \n",
       "2       0     0                0         0             0             1     0   \n",
       "3       0     0                0         0             0             1     0   \n",
       "4       0     0                0         0             1             0     0   \n",
       "\n",
       "  ENTERTAINMENT_PROGRAMME_FOR_CHILDREN KARAOKE  \n",
       "0                                    0       0  \n",
       "1                                    0       0  \n",
       "2                                    0       0  \n",
       "3                                    0       0  \n",
       "4                                    0       0  \n",
       "\n",
       "[5 rows x 221 columns]"
      ]
     },
     "execution_count": 34,
     "metadata": {},
     "output_type": "execute_result"
    }
   ],
   "source": [
    "for i in range (len(dfHotel)):\n",
    "    value = dfHotel['hotelFacilities'][i]\n",
    "    if value == '[]':\n",
    "        dfHotel.drop([i], axis=0, inplace=True)\n",
    "    for j in range (2, len(dfHotel.columns)):\n",
    "        column_name = dfHotel.columns[j]\n",
    "        if column_name in value:\n",
    "            dfHotel.loc[i, column_name] = 1\n",
    "        else:\n",
    "            dfHotel.loc[i, column_name] = 0\n",
    "print(dfHotel.shape)\n",
    "dfHotel.head()"
   ]
  },
  {
   "cell_type": "code",
   "execution_count": 35,
   "metadata": {},
   "outputs": [],
   "source": [
    "# Remove hotelFacilities column\n",
    "dfHotel.drop('hotelFacilities', axis=1, inplace=True)\n",
    "dfHotel.dropna(inplace=True)\n",
    "dfHotel.reset_index(drop=True, inplace=True)"
   ]
  },
  {
   "cell_type": "code",
   "execution_count": 36,
   "metadata": {},
   "outputs": [],
   "source": [
    "for i in range (1, len(dfHotel.columns)):\n",
    "    dfHotel = dfHotel.astype({dfHotel.columns[i]: int})"
   ]
  },
  {
   "cell_type": "code",
   "execution_count": 45,
   "metadata": {},
   "outputs": [
    {
     "data": {
      "text/plain": [
       "originalRate               1.00\n",
       "SAFETY_DEPOSIT_BOX         0.44\n",
       "HAIR_DRYER                 0.44\n",
       "BATHTUB                    0.44\n",
       "BABYSITTING                0.42\n",
       "IN_ROOM_SAFE               0.41\n",
       "BATHROBE                   0.41\n",
       "POOL                       0.39\n",
       "SPA                        0.37\n",
       "SEPARATE_SHOWER_AND_TUB    0.36\n",
       "MASSAGE                    0.35\n",
       "Name: originalRate, dtype: float64"
      ]
     },
     "execution_count": 45,
     "metadata": {},
     "output_type": "execute_result"
    }
   ],
   "source": [
    "abs(round(dfHotel.corr('spearman'),2)['originalRate']).sort_values(ascending=False)[:11]"
   ]
  },
  {
   "cell_type": "code",
   "execution_count": 43,
   "metadata": {},
   "outputs": [
    {
     "data": {
      "text/plain": [
       "array(['BATHTUB', 'BATHROBE', 'SEPARATE_SHOWER_AND_TUB', 'BABYSITTING',\n",
       "       'WEDDING_SERVICE'], dtype=object)"
      ]
     },
     "execution_count": 43,
     "metadata": {},
     "output_type": "execute_result"
    }
   ],
   "source": [
    "from sklearn.feature_selection import SelectKBest, f_regression\n",
    "from sklearn.model_selection import train_test_split\n",
    "import xgboost as xgb\n",
    "\n",
    "y = dfHotel['originalRate']\n",
    "X = dfHotel.drop('originalRate', axis=1)\n",
    "select = SelectKBest(score_func=f_regression, k=5)\n",
    "fit = select.fit(X, y)\n",
    "fit.get_feature_names_out()\n",
    "\n",
    "# X_new = select.fit(X, y)"
   ]
  },
  {
   "cell_type": "markdown",
   "metadata": {},
   "source": [
    "##### `dfHotel` (Feature with Correlation > 0.5)\n",
    "- No hotel feature that has more than 0.5 correlation with target feature"
   ]
  },
  {
   "cell_type": "markdown",
   "metadata": {},
   "source": [
    "#### Point of Interest Correlation"
   ]
  },
  {
   "cell_type": "markdown",
   "metadata": {},
   "source": [
    "##### `dfPoint` (Feature with Correlation > 0.5)\n",
    "baseOccupancy          0.73 </br>\n",
    "maxChildAge            0.55"
   ]
  }
 ],
 "metadata": {
  "kernelspec": {
   "display_name": "Python 3.10.6 64-bit",
   "language": "python",
   "name": "python3"
  },
  "language_info": {
   "codemirror_mode": {
    "name": "ipython",
    "version": 3
   },
   "file_extension": ".py",
   "mimetype": "text/x-python",
   "name": "python",
   "nbconvert_exporter": "python",
   "pygments_lexer": "ipython3",
   "version": "3.10.6"
  },
  "orig_nbformat": 4,
  "vscode": {
   "interpreter": {
    "hash": "c7c132e493bab3f05dc3eecde52b8af768e79f0c26a7d99c1a59f019ffce2dd8"
   }
  }
 },
 "nbformat": 4,
 "nbformat_minor": 2
}
