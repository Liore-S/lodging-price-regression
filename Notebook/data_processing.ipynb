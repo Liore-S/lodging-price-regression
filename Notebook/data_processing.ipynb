{
 "cells": [
  {
   "cell_type": "code",
   "execution_count": 1,
   "metadata": {},
   "outputs": [],
   "source": [
    "import pandas as pd\n",
    "import numpy as np\n",
    "import pickle"
   ]
  },
  {
   "cell_type": "markdown",
   "metadata": {},
   "source": [
    "## Input Data"
   ]
  },
  {
   "cell_type": "code",
   "execution_count": 2,
   "metadata": {},
   "outputs": [
    {
     "data": {
      "text/html": [
       "<div>\n",
       "<style scoped>\n",
       "    .dataframe tbody tr th:only-of-type {\n",
       "        vertical-align: middle;\n",
       "    }\n",
       "\n",
       "    .dataframe tbody tr th {\n",
       "        vertical-align: top;\n",
       "    }\n",
       "\n",
       "    .dataframe thead th {\n",
       "        text-align: right;\n",
       "    }\n",
       "</style>\n",
       "<table border=\"1\" class=\"dataframe\">\n",
       "  <thead>\n",
       "    <tr style=\"text-align: right;\">\n",
       "      <th></th>\n",
       "      <th>type</th>\n",
       "      <th>city</th>\n",
       "      <th>hotelFacilities</th>\n",
       "      <th>nearestPointOfInterests</th>\n",
       "      <th>starRating</th>\n",
       "      <th>size</th>\n",
       "      <th>originalRate</th>\n",
       "      <th>baseOccupancy</th>\n",
       "      <th>maxChildOccupancy</th>\n",
       "      <th>maxChildAge</th>\n",
       "      <th>isBreakfastIncluded</th>\n",
       "      <th>isWifiIncluded</th>\n",
       "      <th>isRefundable</th>\n",
       "      <th>hasLivingRoom</th>\n",
       "      <th>roomFacilities</th>\n",
       "    </tr>\n",
       "  </thead>\n",
       "  <tbody>\n",
       "    <tr>\n",
       "      <th>0</th>\n",
       "      <td>Hotel</td>\n",
       "      <td>Badung</td>\n",
       "      <td>[\"CARPARK\",\"ELEVATOR\",\"HAS_24_HOUR_ROOM_SERVIC...</td>\n",
       "      <td>[{\"landmarkId\":\"91589773100576\",\"geoId\":null,\"...</td>\n",
       "      <td>4</td>\n",
       "      <td>46.0</td>\n",
       "      <td>1227273</td>\n",
       "      <td>3</td>\n",
       "      <td>1</td>\n",
       "      <td>5</td>\n",
       "      <td>1</td>\n",
       "      <td>1</td>\n",
       "      <td>1</td>\n",
       "      <td>0</td>\n",
       "      <td>[\"AIR_CONDITIONING\",\"BALCONY_TERRACE\",\"BATHROB...</td>\n",
       "    </tr>\n",
       "    <tr>\n",
       "      <th>1</th>\n",
       "      <td>Hotel</td>\n",
       "      <td>Badung</td>\n",
       "      <td>[\"CARPARK\",\"ELEVATOR\",\"HAS_24_HOUR_ROOM_SERVIC...</td>\n",
       "      <td>[{\"landmarkId\":\"91589773100576\",\"geoId\":null,\"...</td>\n",
       "      <td>4</td>\n",
       "      <td>31.0</td>\n",
       "      <td>596694</td>\n",
       "      <td>2</td>\n",
       "      <td>1</td>\n",
       "      <td>5</td>\n",
       "      <td>0</td>\n",
       "      <td>1</td>\n",
       "      <td>1</td>\n",
       "      <td>0</td>\n",
       "      <td>[\"AIR_CONDITIONING\",\"BATHROBES\",\"BATHTUB\",\"BLA...</td>\n",
       "    </tr>\n",
       "    <tr>\n",
       "      <th>2</th>\n",
       "      <td>Hotel</td>\n",
       "      <td>Badung</td>\n",
       "      <td>[\"CARPARK\",\"ELEVATOR\",\"HAS_24_HOUR_ROOM_SERVIC...</td>\n",
       "      <td>[{\"landmarkId\":\"91589773100576\",\"geoId\":null,\"...</td>\n",
       "      <td>4</td>\n",
       "      <td>52.0</td>\n",
       "      <td>1450413</td>\n",
       "      <td>2</td>\n",
       "      <td>1</td>\n",
       "      <td>5</td>\n",
       "      <td>1</td>\n",
       "      <td>1</td>\n",
       "      <td>1</td>\n",
       "      <td>1</td>\n",
       "      <td>[\"AIR_CONDITIONING\",\"BALCONY_TERRACE\",\"BATHROB...</td>\n",
       "    </tr>\n",
       "  </tbody>\n",
       "</table>\n",
       "</div>"
      ],
      "text/plain": [
       "    type    city                                    hotelFacilities  \\\n",
       "0  Hotel  Badung  [\"CARPARK\",\"ELEVATOR\",\"HAS_24_HOUR_ROOM_SERVIC...   \n",
       "1  Hotel  Badung  [\"CARPARK\",\"ELEVATOR\",\"HAS_24_HOUR_ROOM_SERVIC...   \n",
       "2  Hotel  Badung  [\"CARPARK\",\"ELEVATOR\",\"HAS_24_HOUR_ROOM_SERVIC...   \n",
       "\n",
       "                             nearestPointOfInterests  starRating  size  \\\n",
       "0  [{\"landmarkId\":\"91589773100576\",\"geoId\":null,\"...           4  46.0   \n",
       "1  [{\"landmarkId\":\"91589773100576\",\"geoId\":null,\"...           4  31.0   \n",
       "2  [{\"landmarkId\":\"91589773100576\",\"geoId\":null,\"...           4  52.0   \n",
       "\n",
       "   originalRate  baseOccupancy  maxChildOccupancy  maxChildAge  \\\n",
       "0       1227273              3                  1            5   \n",
       "1        596694              2                  1            5   \n",
       "2       1450413              2                  1            5   \n",
       "\n",
       "   isBreakfastIncluded  isWifiIncluded  isRefundable  hasLivingRoom  \\\n",
       "0                    1               1             1              0   \n",
       "1                    0               1             1              0   \n",
       "2                    1               1             1              1   \n",
       "\n",
       "                                      roomFacilities  \n",
       "0  [\"AIR_CONDITIONING\",\"BALCONY_TERRACE\",\"BATHROB...  \n",
       "1  [\"AIR_CONDITIONING\",\"BATHROBES\",\"BATHTUB\",\"BLA...  \n",
       "2  [\"AIR_CONDITIONING\",\"BALCONY_TERRACE\",\"BATHROB...  "
      ]
     },
     "execution_count": 2,
     "metadata": {},
     "output_type": "execute_result"
    }
   ],
   "source": [
    "df = pd.read_csv('../Dataset/clean_data.csv')\n",
    "df.head(3)"
   ]
  },
  {
   "cell_type": "code",
   "execution_count": 3,
   "metadata": {},
   "outputs": [
    {
     "name": "stdout",
     "output_type": "stream",
     "text": [
      "Total number of rows: 5183\n",
      "Total number of columns: 15\n"
     ]
    }
   ],
   "source": [
    "print(f'Total number of rows: {df.shape[0]}')\n",
    "print(f'Total number of columns: {df.shape[1]}')"
   ]
  },
  {
   "cell_type": "markdown",
   "metadata": {},
   "source": [
    "### Feature Processing Function"
   ]
  },
  {
   "cell_type": "code",
   "execution_count": 4,
   "metadata": {},
   "outputs": [],
   "source": [
    "# Rooms facilities processing\n",
    "# How to use : Facilities = getFacilities(df['Facilities'].tolist())\n",
    "def getFacilities(facilitiesList):\n",
    "    facilities = []\n",
    "    for i in facilitiesList:\n",
    "        m = int(i.count('\"') / 2)\n",
    "        for j in range(1, m+1, 2):\n",
    "            temp = i.split('\"')[j]\n",
    "            if temp not in facilities:\n",
    "                facilities.append(temp)\n",
    "    # facilities = [f\"{prefix}_\" + string for string in facilities]\n",
    "    return facilities"
   ]
  },
  {
   "cell_type": "code",
   "execution_count": 5,
   "metadata": {},
   "outputs": [
    {
     "data": {
      "text/html": [
       "<div>\n",
       "<style scoped>\n",
       "    .dataframe tbody tr th:only-of-type {\n",
       "        vertical-align: middle;\n",
       "    }\n",
       "\n",
       "    .dataframe tbody tr th {\n",
       "        vertical-align: top;\n",
       "    }\n",
       "\n",
       "    .dataframe thead th {\n",
       "        text-align: right;\n",
       "    }\n",
       "</style>\n",
       "<table border=\"1\" class=\"dataframe\">\n",
       "  <thead>\n",
       "    <tr style=\"text-align: right;\">\n",
       "      <th></th>\n",
       "      <th>originalRate</th>\n",
       "    </tr>\n",
       "  </thead>\n",
       "  <tbody>\n",
       "    <tr>\n",
       "      <th>0</th>\n",
       "      <td>1227273</td>\n",
       "    </tr>\n",
       "    <tr>\n",
       "      <th>1</th>\n",
       "      <td>596694</td>\n",
       "    </tr>\n",
       "  </tbody>\n",
       "</table>\n",
       "</div>"
      ],
      "text/plain": [
       "   originalRate\n",
       "0       1227273\n",
       "1        596694"
      ]
     },
     "execution_count": 5,
     "metadata": {},
     "output_type": "execute_result"
    }
   ],
   "source": [
    "# seperate the target variable\n",
    "dfPrice = df[['originalRate']]\n",
    "dfPrice.head(2)"
   ]
  },
  {
   "attachments": {},
   "cell_type": "markdown",
   "metadata": {},
   "source": [
    "## Getting extraxcted features"
   ]
  },
  {
   "attachments": {},
   "cell_type": "markdown",
   "metadata": {},
   "source": [
    "### Getting the data"
   ]
  },
  {
   "cell_type": "code",
   "execution_count": 6,
   "metadata": {},
   "outputs": [
    {
     "name": "stdout",
     "output_type": "stream",
     "text": [
      " Total Unique Hotel Facilities: 239\n"
     ]
    }
   ],
   "source": [
    "# Hotel Facilities to List\n",
    "hotelFacilities = getFacilities(df['hotelFacilities'].tolist())\n",
    "print(f' Total Unique Hotel Facilities: {len(hotelFacilities)}')"
   ]
  },
  {
   "cell_type": "code",
   "execution_count": 7,
   "metadata": {},
   "outputs": [
    {
     "name": "stdout",
     "output_type": "stream",
     "text": [
      " Total Unique Hotel Facilities: 110\n"
     ]
    }
   ],
   "source": [
    "# Room Facilities to List\n",
    "roomFacilities = getFacilities(df['roomFacilities'].tolist())\n",
    "print(f' Total Unique Hotel Facilities: {len(roomFacilities)}')"
   ]
  },
  {
   "cell_type": "code",
   "execution_count": 8,
   "metadata": {},
   "outputs": [
    {
     "name": "stdout",
     "output_type": "stream",
     "text": [
      " Total Unique Hotel Facilities: 19\n"
     ]
    }
   ],
   "source": [
    "# nearestPointOfInterests to List\n",
    "# landmarkType is present at indexes [19, 49, 79, 109]\n",
    "\n",
    "landmark = df['nearestPointOfInterests'].to_list()\n",
    "searchText = 'landmarkType'\n",
    "nearestPoint = []\n",
    "loopCount = 0\n",
    "for x in range (len(landmark)):\n",
    "    loopCount += 1\n",
    "    i = 0\n",
    "    column = landmark[x].split('\"')\n",
    "    matched_indexes = []\n",
    "    while i < len(column):\n",
    "        if searchText == column[i]:\n",
    "            matched_indexes.append(i)\n",
    "        i += 1\n",
    "    for y in matched_indexes:\n",
    "        if column[y+2] not in nearestPoint:\n",
    "            nearestPoint.append(column[y+2])\n",
    "if 'OTHERS' in nearestPoint:\n",
    "    nearestPoint.remove('OTHERS')\n",
    "\n",
    "print(f' Total Unique Hotel Facilities: {len(nearestPoint)}')"
   ]
  },
  {
   "cell_type": "code",
   "execution_count": 9,
   "metadata": {},
   "outputs": [],
   "source": [
    "# Create new dataframe\n",
    "dfHotelEncode = pd.DataFrame(columns=hotelFacilities)\n",
    "dfRoomEncode = pd.DataFrame(columns=roomFacilities)\n",
    "dfPointEncode = pd.DataFrame(columns=nearestPoint)"
   ]
  },
  {
   "cell_type": "markdown",
   "metadata": {},
   "source": [
    "### Extra Features"
   ]
  },
  {
   "cell_type": "code",
   "execution_count": 10,
   "metadata": {},
   "outputs": [
    {
     "name": "stdout",
     "output_type": "stream",
     "text": [
      "(5183, 4)\n",
      "(5183, 9)\n"
     ]
    }
   ],
   "source": [
    "dfHotelEx = df[['originalRate','type','city','starRating']]\n",
    "dfRoomEx = df[['originalRate','size', 'baseOccupancy', 'maxChildOccupancy', 'maxChildAge', 'isBreakfastIncluded', 'isWifiIncluded', 'isRefundable', 'hasLivingRoom']]\n",
    "print(dfHotelEx.shape)\n",
    "print(dfRoomEx.shape)"
   ]
  },
  {
   "cell_type": "markdown",
   "metadata": {},
   "source": [
    "#### Hotel Extra Features"
   ]
  },
  {
   "cell_type": "code",
   "execution_count": 11,
   "metadata": {},
   "outputs": [
    {
     "name": "stdout",
     "output_type": "stream",
     "text": [
      "<class 'pandas.core.frame.DataFrame'>\n",
      "RangeIndex: 5183 entries, 0 to 5182\n",
      "Data columns (total 4 columns):\n",
      " #   Column        Non-Null Count  Dtype \n",
      "---  ------        --------------  ----- \n",
      " 0   originalRate  5183 non-null   int64 \n",
      " 1   type          5183 non-null   object\n",
      " 2   city          5183 non-null   object\n",
      " 3   starRating    5183 non-null   int64 \n",
      "dtypes: int64(2), object(2)\n",
      "memory usage: 162.1+ KB\n"
     ]
    }
   ],
   "source": [
    "dfHotelEx.info()"
   ]
  },
  {
   "cell_type": "code",
   "execution_count": 12,
   "metadata": {},
   "outputs": [
    {
     "data": {
      "text/plain": [
       "array(['Badung', 'Denpasar', 'Gianyar', 'Sanur', 'Bangli', 'Buleleng',\n",
       "       'Klungkung', 'Tabanan', 'Jembrana', 'Karangasem'], dtype=object)"
      ]
     },
     "execution_count": 12,
     "metadata": {},
     "output_type": "execute_result"
    }
   ],
   "source": [
    "dfHotelEx['city'].unique()"
   ]
  },
  {
   "cell_type": "code",
   "execution_count": 13,
   "metadata": {},
   "outputs": [
    {
     "data": {
      "text/plain": [
       "array(['Hotel', 'Resor', 'Apartemen', 'Vila', 'Guest House', 'Homestay',\n",
       "       'B&B', 'Hostel', 'Camping', 'Lainnya', 'Hotel Kapsul'],\n",
       "      dtype=object)"
      ]
     },
     "execution_count": 13,
     "metadata": {},
     "output_type": "execute_result"
    }
   ],
   "source": [
    "dfHotelEx['type'].unique()"
   ]
  },
  {
   "cell_type": "code",
   "execution_count": 14,
   "metadata": {},
   "outputs": [],
   "source": [
    "cityEncode = pd.get_dummies(dfHotelEx['city'], prefix='City')\n",
    "typeEncode = pd.get_dummies(dfHotelEx['type'], prefix='Type')\n",
    "dfHotelEx = pd.concat([dfHotelEx, cityEncode, typeEncode], axis=1)"
   ]
  },
  {
   "cell_type": "code",
   "execution_count": 15,
   "metadata": {},
   "outputs": [
    {
     "name": "stdout",
     "output_type": "stream",
     "text": [
      "(5183, 23)\n"
     ]
    },
    {
     "data": {
      "text/html": [
       "<div>\n",
       "<style scoped>\n",
       "    .dataframe tbody tr th:only-of-type {\n",
       "        vertical-align: middle;\n",
       "    }\n",
       "\n",
       "    .dataframe tbody tr th {\n",
       "        vertical-align: top;\n",
       "    }\n",
       "\n",
       "    .dataframe thead th {\n",
       "        text-align: right;\n",
       "    }\n",
       "</style>\n",
       "<table border=\"1\" class=\"dataframe\">\n",
       "  <thead>\n",
       "    <tr style=\"text-align: right;\">\n",
       "      <th></th>\n",
       "      <th>originalRate</th>\n",
       "      <th>starRating</th>\n",
       "      <th>City_Badung</th>\n",
       "      <th>City_Bangli</th>\n",
       "      <th>City_Buleleng</th>\n",
       "      <th>City_Denpasar</th>\n",
       "      <th>City_Gianyar</th>\n",
       "      <th>City_Jembrana</th>\n",
       "      <th>City_Karangasem</th>\n",
       "      <th>City_Klungkung</th>\n",
       "      <th>...</th>\n",
       "      <th>Type_B&amp;B</th>\n",
       "      <th>Type_Camping</th>\n",
       "      <th>Type_Guest House</th>\n",
       "      <th>Type_Homestay</th>\n",
       "      <th>Type_Hostel</th>\n",
       "      <th>Type_Hotel</th>\n",
       "      <th>Type_Hotel Kapsul</th>\n",
       "      <th>Type_Lainnya</th>\n",
       "      <th>Type_Resor</th>\n",
       "      <th>Type_Vila</th>\n",
       "    </tr>\n",
       "  </thead>\n",
       "  <tbody>\n",
       "    <tr>\n",
       "      <th>0</th>\n",
       "      <td>1227273</td>\n",
       "      <td>4</td>\n",
       "      <td>1</td>\n",
       "      <td>0</td>\n",
       "      <td>0</td>\n",
       "      <td>0</td>\n",
       "      <td>0</td>\n",
       "      <td>0</td>\n",
       "      <td>0</td>\n",
       "      <td>0</td>\n",
       "      <td>...</td>\n",
       "      <td>0</td>\n",
       "      <td>0</td>\n",
       "      <td>0</td>\n",
       "      <td>0</td>\n",
       "      <td>0</td>\n",
       "      <td>1</td>\n",
       "      <td>0</td>\n",
       "      <td>0</td>\n",
       "      <td>0</td>\n",
       "      <td>0</td>\n",
       "    </tr>\n",
       "    <tr>\n",
       "      <th>1</th>\n",
       "      <td>596694</td>\n",
       "      <td>4</td>\n",
       "      <td>1</td>\n",
       "      <td>0</td>\n",
       "      <td>0</td>\n",
       "      <td>0</td>\n",
       "      <td>0</td>\n",
       "      <td>0</td>\n",
       "      <td>0</td>\n",
       "      <td>0</td>\n",
       "      <td>...</td>\n",
       "      <td>0</td>\n",
       "      <td>0</td>\n",
       "      <td>0</td>\n",
       "      <td>0</td>\n",
       "      <td>0</td>\n",
       "      <td>1</td>\n",
       "      <td>0</td>\n",
       "      <td>0</td>\n",
       "      <td>0</td>\n",
       "      <td>0</td>\n",
       "    </tr>\n",
       "  </tbody>\n",
       "</table>\n",
       "<p>2 rows × 23 columns</p>\n",
       "</div>"
      ],
      "text/plain": [
       "   originalRate  starRating  City_Badung  City_Bangli  City_Buleleng  \\\n",
       "0       1227273           4            1            0              0   \n",
       "1        596694           4            1            0              0   \n",
       "\n",
       "   City_Denpasar  City_Gianyar  City_Jembrana  City_Karangasem  \\\n",
       "0              0             0              0                0   \n",
       "1              0             0              0                0   \n",
       "\n",
       "   City_Klungkung  ...  Type_B&B  Type_Camping  Type_Guest House  \\\n",
       "0               0  ...         0             0                 0   \n",
       "1               0  ...         0             0                 0   \n",
       "\n",
       "   Type_Homestay  Type_Hostel  Type_Hotel  Type_Hotel Kapsul  Type_Lainnya  \\\n",
       "0              0            0           1                  0             0   \n",
       "1              0            0           1                  0             0   \n",
       "\n",
       "   Type_Resor  Type_Vila  \n",
       "0           0          0  \n",
       "1           0          0  \n",
       "\n",
       "[2 rows x 23 columns]"
      ]
     },
     "execution_count": 15,
     "metadata": {},
     "output_type": "execute_result"
    }
   ],
   "source": [
    "dfHotelEx.drop(['city', 'type'], axis=1, inplace=True)\n",
    "print(dfHotelEx.shape)\n",
    "dfHotelEx.head(2)"
   ]
  },
  {
   "cell_type": "code",
   "execution_count": 16,
   "metadata": {},
   "outputs": [
    {
     "data": {
      "text/html": [
       "<div>\n",
       "<style scoped>\n",
       "    .dataframe tbody tr th:only-of-type {\n",
       "        vertical-align: middle;\n",
       "    }\n",
       "\n",
       "    .dataframe tbody tr th {\n",
       "        vertical-align: top;\n",
       "    }\n",
       "\n",
       "    .dataframe thead th {\n",
       "        text-align: right;\n",
       "    }\n",
       "</style>\n",
       "<table border=\"1\" class=\"dataframe\">\n",
       "  <thead>\n",
       "    <tr style=\"text-align: right;\">\n",
       "      <th></th>\n",
       "      <th>originalRate</th>\n",
       "      <th>starRating</th>\n",
       "      <th>City_Badung</th>\n",
       "      <th>City_Bangli</th>\n",
       "      <th>City_Buleleng</th>\n",
       "      <th>City_Denpasar</th>\n",
       "      <th>City_Gianyar</th>\n",
       "      <th>City_Jembrana</th>\n",
       "      <th>City_Karangasem</th>\n",
       "      <th>City_Klungkung</th>\n",
       "      <th>...</th>\n",
       "      <th>Type_B&amp;B</th>\n",
       "      <th>Type_Camping</th>\n",
       "      <th>Type_Guest House</th>\n",
       "      <th>Type_Homestay</th>\n",
       "      <th>Type_Hostel</th>\n",
       "      <th>Type_Hotel</th>\n",
       "      <th>Type_Hotel Kapsul</th>\n",
       "      <th>Type_Lainnya</th>\n",
       "      <th>Type_Resor</th>\n",
       "      <th>Type_Vila</th>\n",
       "    </tr>\n",
       "  </thead>\n",
       "  <tbody>\n",
       "    <tr>\n",
       "      <th>count</th>\n",
       "      <td>5.183000e+03</td>\n",
       "      <td>5183.000000</td>\n",
       "      <td>5183.000000</td>\n",
       "      <td>5183.000000</td>\n",
       "      <td>5183.000000</td>\n",
       "      <td>5183.000000</td>\n",
       "      <td>5183.000000</td>\n",
       "      <td>5183.000000</td>\n",
       "      <td>5183.000000</td>\n",
       "      <td>5183.000000</td>\n",
       "      <td>...</td>\n",
       "      <td>5183.000000</td>\n",
       "      <td>5183.000000</td>\n",
       "      <td>5183.000000</td>\n",
       "      <td>5183.000000</td>\n",
       "      <td>5183.000000</td>\n",
       "      <td>5183.000000</td>\n",
       "      <td>5183.000000</td>\n",
       "      <td>5183.000000</td>\n",
       "      <td>5183.000000</td>\n",
       "      <td>5183.000000</td>\n",
       "    </tr>\n",
       "    <tr>\n",
       "      <th>mean</th>\n",
       "      <td>1.315325e+06</td>\n",
       "      <td>3.360409</td>\n",
       "      <td>0.430832</td>\n",
       "      <td>0.010612</td>\n",
       "      <td>0.073124</td>\n",
       "      <td>0.047656</td>\n",
       "      <td>0.197762</td>\n",
       "      <td>0.012541</td>\n",
       "      <td>0.052479</td>\n",
       "      <td>0.098592</td>\n",
       "      <td>...</td>\n",
       "      <td>0.020644</td>\n",
       "      <td>0.002701</td>\n",
       "      <td>0.128497</td>\n",
       "      <td>0.052865</td>\n",
       "      <td>0.020451</td>\n",
       "      <td>0.474436</td>\n",
       "      <td>0.000772</td>\n",
       "      <td>0.001158</td>\n",
       "      <td>0.136986</td>\n",
       "      <td>0.145283</td>\n",
       "    </tr>\n",
       "    <tr>\n",
       "      <th>std</th>\n",
       "      <td>1.235173e+06</td>\n",
       "      <td>1.163974</td>\n",
       "      <td>0.495240</td>\n",
       "      <td>0.102475</td>\n",
       "      <td>0.260365</td>\n",
       "      <td>0.213057</td>\n",
       "      <td>0.398350</td>\n",
       "      <td>0.111293</td>\n",
       "      <td>0.223013</td>\n",
       "      <td>0.298142</td>\n",
       "      <td>...</td>\n",
       "      <td>0.142205</td>\n",
       "      <td>0.051907</td>\n",
       "      <td>0.334675</td>\n",
       "      <td>0.223786</td>\n",
       "      <td>0.141552</td>\n",
       "      <td>0.499394</td>\n",
       "      <td>0.027772</td>\n",
       "      <td>0.034008</td>\n",
       "      <td>0.343866</td>\n",
       "      <td>0.352420</td>\n",
       "    </tr>\n",
       "    <tr>\n",
       "      <th>min</th>\n",
       "      <td>4.031300e+04</td>\n",
       "      <td>0.000000</td>\n",
       "      <td>0.000000</td>\n",
       "      <td>0.000000</td>\n",
       "      <td>0.000000</td>\n",
       "      <td>0.000000</td>\n",
       "      <td>0.000000</td>\n",
       "      <td>0.000000</td>\n",
       "      <td>0.000000</td>\n",
       "      <td>0.000000</td>\n",
       "      <td>...</td>\n",
       "      <td>0.000000</td>\n",
       "      <td>0.000000</td>\n",
       "      <td>0.000000</td>\n",
       "      <td>0.000000</td>\n",
       "      <td>0.000000</td>\n",
       "      <td>0.000000</td>\n",
       "      <td>0.000000</td>\n",
       "      <td>0.000000</td>\n",
       "      <td>0.000000</td>\n",
       "      <td>0.000000</td>\n",
       "    </tr>\n",
       "    <tr>\n",
       "      <th>25%</th>\n",
       "      <td>4.545450e+05</td>\n",
       "      <td>3.000000</td>\n",
       "      <td>0.000000</td>\n",
       "      <td>0.000000</td>\n",
       "      <td>0.000000</td>\n",
       "      <td>0.000000</td>\n",
       "      <td>0.000000</td>\n",
       "      <td>0.000000</td>\n",
       "      <td>0.000000</td>\n",
       "      <td>0.000000</td>\n",
       "      <td>...</td>\n",
       "      <td>0.000000</td>\n",
       "      <td>0.000000</td>\n",
       "      <td>0.000000</td>\n",
       "      <td>0.000000</td>\n",
       "      <td>0.000000</td>\n",
       "      <td>0.000000</td>\n",
       "      <td>0.000000</td>\n",
       "      <td>0.000000</td>\n",
       "      <td>0.000000</td>\n",
       "      <td>0.000000</td>\n",
       "    </tr>\n",
       "    <tr>\n",
       "      <th>50%</th>\n",
       "      <td>8.719010e+05</td>\n",
       "      <td>3.000000</td>\n",
       "      <td>0.000000</td>\n",
       "      <td>0.000000</td>\n",
       "      <td>0.000000</td>\n",
       "      <td>0.000000</td>\n",
       "      <td>0.000000</td>\n",
       "      <td>0.000000</td>\n",
       "      <td>0.000000</td>\n",
       "      <td>0.000000</td>\n",
       "      <td>...</td>\n",
       "      <td>0.000000</td>\n",
       "      <td>0.000000</td>\n",
       "      <td>0.000000</td>\n",
       "      <td>0.000000</td>\n",
       "      <td>0.000000</td>\n",
       "      <td>0.000000</td>\n",
       "      <td>0.000000</td>\n",
       "      <td>0.000000</td>\n",
       "      <td>0.000000</td>\n",
       "      <td>0.000000</td>\n",
       "    </tr>\n",
       "    <tr>\n",
       "      <th>75%</th>\n",
       "      <td>1.731405e+06</td>\n",
       "      <td>4.000000</td>\n",
       "      <td>1.000000</td>\n",
       "      <td>0.000000</td>\n",
       "      <td>0.000000</td>\n",
       "      <td>0.000000</td>\n",
       "      <td>0.000000</td>\n",
       "      <td>0.000000</td>\n",
       "      <td>0.000000</td>\n",
       "      <td>0.000000</td>\n",
       "      <td>...</td>\n",
       "      <td>0.000000</td>\n",
       "      <td>0.000000</td>\n",
       "      <td>0.000000</td>\n",
       "      <td>0.000000</td>\n",
       "      <td>0.000000</td>\n",
       "      <td>1.000000</td>\n",
       "      <td>0.000000</td>\n",
       "      <td>0.000000</td>\n",
       "      <td>0.000000</td>\n",
       "      <td>0.000000</td>\n",
       "    </tr>\n",
       "    <tr>\n",
       "      <th>max</th>\n",
       "      <td>6.611570e+06</td>\n",
       "      <td>5.000000</td>\n",
       "      <td>1.000000</td>\n",
       "      <td>1.000000</td>\n",
       "      <td>1.000000</td>\n",
       "      <td>1.000000</td>\n",
       "      <td>1.000000</td>\n",
       "      <td>1.000000</td>\n",
       "      <td>1.000000</td>\n",
       "      <td>1.000000</td>\n",
       "      <td>...</td>\n",
       "      <td>1.000000</td>\n",
       "      <td>1.000000</td>\n",
       "      <td>1.000000</td>\n",
       "      <td>1.000000</td>\n",
       "      <td>1.000000</td>\n",
       "      <td>1.000000</td>\n",
       "      <td>1.000000</td>\n",
       "      <td>1.000000</td>\n",
       "      <td>1.000000</td>\n",
       "      <td>1.000000</td>\n",
       "    </tr>\n",
       "  </tbody>\n",
       "</table>\n",
       "<p>8 rows × 23 columns</p>\n",
       "</div>"
      ],
      "text/plain": [
       "       originalRate   starRating  City_Badung  City_Bangli  City_Buleleng  \\\n",
       "count  5.183000e+03  5183.000000  5183.000000  5183.000000    5183.000000   \n",
       "mean   1.315325e+06     3.360409     0.430832     0.010612       0.073124   \n",
       "std    1.235173e+06     1.163974     0.495240     0.102475       0.260365   \n",
       "min    4.031300e+04     0.000000     0.000000     0.000000       0.000000   \n",
       "25%    4.545450e+05     3.000000     0.000000     0.000000       0.000000   \n",
       "50%    8.719010e+05     3.000000     0.000000     0.000000       0.000000   \n",
       "75%    1.731405e+06     4.000000     1.000000     0.000000       0.000000   \n",
       "max    6.611570e+06     5.000000     1.000000     1.000000       1.000000   \n",
       "\n",
       "       City_Denpasar  City_Gianyar  City_Jembrana  City_Karangasem  \\\n",
       "count    5183.000000   5183.000000    5183.000000      5183.000000   \n",
       "mean        0.047656      0.197762       0.012541         0.052479   \n",
       "std         0.213057      0.398350       0.111293         0.223013   \n",
       "min         0.000000      0.000000       0.000000         0.000000   \n",
       "25%         0.000000      0.000000       0.000000         0.000000   \n",
       "50%         0.000000      0.000000       0.000000         0.000000   \n",
       "75%         0.000000      0.000000       0.000000         0.000000   \n",
       "max         1.000000      1.000000       1.000000         1.000000   \n",
       "\n",
       "       City_Klungkung  ...     Type_B&B  Type_Camping  Type_Guest House  \\\n",
       "count     5183.000000  ...  5183.000000   5183.000000       5183.000000   \n",
       "mean         0.098592  ...     0.020644      0.002701          0.128497   \n",
       "std          0.298142  ...     0.142205      0.051907          0.334675   \n",
       "min          0.000000  ...     0.000000      0.000000          0.000000   \n",
       "25%          0.000000  ...     0.000000      0.000000          0.000000   \n",
       "50%          0.000000  ...     0.000000      0.000000          0.000000   \n",
       "75%          0.000000  ...     0.000000      0.000000          0.000000   \n",
       "max          1.000000  ...     1.000000      1.000000          1.000000   \n",
       "\n",
       "       Type_Homestay  Type_Hostel   Type_Hotel  Type_Hotel Kapsul  \\\n",
       "count    5183.000000  5183.000000  5183.000000        5183.000000   \n",
       "mean        0.052865     0.020451     0.474436           0.000772   \n",
       "std         0.223786     0.141552     0.499394           0.027772   \n",
       "min         0.000000     0.000000     0.000000           0.000000   \n",
       "25%         0.000000     0.000000     0.000000           0.000000   \n",
       "50%         0.000000     0.000000     0.000000           0.000000   \n",
       "75%         0.000000     0.000000     1.000000           0.000000   \n",
       "max         1.000000     1.000000     1.000000           1.000000   \n",
       "\n",
       "       Type_Lainnya   Type_Resor    Type_Vila  \n",
       "count   5183.000000  5183.000000  5183.000000  \n",
       "mean       0.001158     0.136986     0.145283  \n",
       "std        0.034008     0.343866     0.352420  \n",
       "min        0.000000     0.000000     0.000000  \n",
       "25%        0.000000     0.000000     0.000000  \n",
       "50%        0.000000     0.000000     0.000000  \n",
       "75%        0.000000     0.000000     0.000000  \n",
       "max        1.000000     1.000000     1.000000  \n",
       "\n",
       "[8 rows x 23 columns]"
      ]
     },
     "execution_count": 16,
     "metadata": {},
     "output_type": "execute_result"
    }
   ],
   "source": [
    "dfHotelEx.describe()"
   ]
  },
  {
   "cell_type": "markdown",
   "metadata": {},
   "source": [
    "#### Room Extra Features"
   ]
  },
  {
   "cell_type": "code",
   "execution_count": 17,
   "metadata": {},
   "outputs": [
    {
     "data": {
      "text/html": [
       "<div>\n",
       "<style scoped>\n",
       "    .dataframe tbody tr th:only-of-type {\n",
       "        vertical-align: middle;\n",
       "    }\n",
       "\n",
       "    .dataframe tbody tr th {\n",
       "        vertical-align: top;\n",
       "    }\n",
       "\n",
       "    .dataframe thead th {\n",
       "        text-align: right;\n",
       "    }\n",
       "</style>\n",
       "<table border=\"1\" class=\"dataframe\">\n",
       "  <thead>\n",
       "    <tr style=\"text-align: right;\">\n",
       "      <th></th>\n",
       "      <th>originalRate</th>\n",
       "      <th>size</th>\n",
       "      <th>baseOccupancy</th>\n",
       "      <th>maxChildOccupancy</th>\n",
       "      <th>maxChildAge</th>\n",
       "      <th>isBreakfastIncluded</th>\n",
       "      <th>isWifiIncluded</th>\n",
       "      <th>isRefundable</th>\n",
       "      <th>hasLivingRoom</th>\n",
       "    </tr>\n",
       "  </thead>\n",
       "  <tbody>\n",
       "    <tr>\n",
       "      <th>0</th>\n",
       "      <td>1227273</td>\n",
       "      <td>46.0</td>\n",
       "      <td>3</td>\n",
       "      <td>1</td>\n",
       "      <td>5</td>\n",
       "      <td>1</td>\n",
       "      <td>1</td>\n",
       "      <td>1</td>\n",
       "      <td>0</td>\n",
       "    </tr>\n",
       "    <tr>\n",
       "      <th>1</th>\n",
       "      <td>596694</td>\n",
       "      <td>31.0</td>\n",
       "      <td>2</td>\n",
       "      <td>1</td>\n",
       "      <td>5</td>\n",
       "      <td>0</td>\n",
       "      <td>1</td>\n",
       "      <td>1</td>\n",
       "      <td>0</td>\n",
       "    </tr>\n",
       "  </tbody>\n",
       "</table>\n",
       "</div>"
      ],
      "text/plain": [
       "   originalRate  size  baseOccupancy  maxChildOccupancy  maxChildAge  \\\n",
       "0       1227273  46.0              3                  1            5   \n",
       "1        596694  31.0              2                  1            5   \n",
       "\n",
       "   isBreakfastIncluded  isWifiIncluded  isRefundable  hasLivingRoom  \n",
       "0                    1               1             1              0  \n",
       "1                    0               1             1              0  "
      ]
     },
     "execution_count": 17,
     "metadata": {},
     "output_type": "execute_result"
    }
   ],
   "source": [
    "dfRoomEx.head(2)"
   ]
  },
  {
   "attachments": {},
   "cell_type": "markdown",
   "metadata": {},
   "source": [
    "### Hotel Feature"
   ]
  },
  {
   "cell_type": "code",
   "execution_count": 18,
   "metadata": {},
   "outputs": [
    {
     "name": "stdout",
     "output_type": "stream",
     "text": [
      "(5183, 241)\n"
     ]
    },
    {
     "data": {
      "text/html": [
       "<div>\n",
       "<style scoped>\n",
       "    .dataframe tbody tr th:only-of-type {\n",
       "        vertical-align: middle;\n",
       "    }\n",
       "\n",
       "    .dataframe tbody tr th {\n",
       "        vertical-align: top;\n",
       "    }\n",
       "\n",
       "    .dataframe thead th {\n",
       "        text-align: right;\n",
       "    }\n",
       "</style>\n",
       "<table border=\"1\" class=\"dataframe\">\n",
       "  <thead>\n",
       "    <tr style=\"text-align: right;\">\n",
       "      <th></th>\n",
       "      <th>originalRate</th>\n",
       "      <th>hotelFacilities</th>\n",
       "      <th>CARPARK</th>\n",
       "      <th>ELEVATOR</th>\n",
       "      <th>HAS_24_HOUR_ROOM_SERVICE</th>\n",
       "      <th>RESTAURANT</th>\n",
       "      <th>RESTAURANT_FOR_BREAKFAST</th>\n",
       "      <th>RESTAURANT_FOR_DINNER</th>\n",
       "      <th>RESTAURANT_FOR_LUNCH</th>\n",
       "      <th>SAFETY_DEPOSIT_BOX</th>\n",
       "      <th>...</th>\n",
       "      <th>PETS_ALLOWED</th>\n",
       "      <th>SMALL_PETS_ALLOWED</th>\n",
       "      <th>WATER_PARK_ACCESS_SURCHARGE</th>\n",
       "      <th>PRIVATE_BEACH</th>\n",
       "      <th>SURFING</th>\n",
       "      <th>PRIVATE_BEACH_NEARBY</th>\n",
       "      <th>BEACH_SUN_LOUNGERS</th>\n",
       "      <th>DARTS</th>\n",
       "      <th>ENTERTAINMENT_PROGRAMME_FOR_CHILDREN</th>\n",
       "      <th>KARAOKE</th>\n",
       "    </tr>\n",
       "  </thead>\n",
       "  <tbody>\n",
       "    <tr>\n",
       "      <th>0</th>\n",
       "      <td>1227273</td>\n",
       "      <td>[\"CARPARK\",\"ELEVATOR\",\"HAS_24_HOUR_ROOM_SERVIC...</td>\n",
       "      <td>NaN</td>\n",
       "      <td>NaN</td>\n",
       "      <td>NaN</td>\n",
       "      <td>NaN</td>\n",
       "      <td>NaN</td>\n",
       "      <td>NaN</td>\n",
       "      <td>NaN</td>\n",
       "      <td>NaN</td>\n",
       "      <td>...</td>\n",
       "      <td>NaN</td>\n",
       "      <td>NaN</td>\n",
       "      <td>NaN</td>\n",
       "      <td>NaN</td>\n",
       "      <td>NaN</td>\n",
       "      <td>NaN</td>\n",
       "      <td>NaN</td>\n",
       "      <td>NaN</td>\n",
       "      <td>NaN</td>\n",
       "      <td>NaN</td>\n",
       "    </tr>\n",
       "    <tr>\n",
       "      <th>1</th>\n",
       "      <td>596694</td>\n",
       "      <td>[\"CARPARK\",\"ELEVATOR\",\"HAS_24_HOUR_ROOM_SERVIC...</td>\n",
       "      <td>NaN</td>\n",
       "      <td>NaN</td>\n",
       "      <td>NaN</td>\n",
       "      <td>NaN</td>\n",
       "      <td>NaN</td>\n",
       "      <td>NaN</td>\n",
       "      <td>NaN</td>\n",
       "      <td>NaN</td>\n",
       "      <td>...</td>\n",
       "      <td>NaN</td>\n",
       "      <td>NaN</td>\n",
       "      <td>NaN</td>\n",
       "      <td>NaN</td>\n",
       "      <td>NaN</td>\n",
       "      <td>NaN</td>\n",
       "      <td>NaN</td>\n",
       "      <td>NaN</td>\n",
       "      <td>NaN</td>\n",
       "      <td>NaN</td>\n",
       "    </tr>\n",
       "  </tbody>\n",
       "</table>\n",
       "<p>2 rows × 241 columns</p>\n",
       "</div>"
      ],
      "text/plain": [
       "   originalRate                                    hotelFacilities CARPARK  \\\n",
       "0       1227273  [\"CARPARK\",\"ELEVATOR\",\"HAS_24_HOUR_ROOM_SERVIC...     NaN   \n",
       "1        596694  [\"CARPARK\",\"ELEVATOR\",\"HAS_24_HOUR_ROOM_SERVIC...     NaN   \n",
       "\n",
       "  ELEVATOR HAS_24_HOUR_ROOM_SERVICE RESTAURANT RESTAURANT_FOR_BREAKFAST  \\\n",
       "0      NaN                      NaN        NaN                      NaN   \n",
       "1      NaN                      NaN        NaN                      NaN   \n",
       "\n",
       "  RESTAURANT_FOR_DINNER RESTAURANT_FOR_LUNCH SAFETY_DEPOSIT_BOX  ...  \\\n",
       "0                   NaN                  NaN                NaN  ...   \n",
       "1                   NaN                  NaN                NaN  ...   \n",
       "\n",
       "  PETS_ALLOWED SMALL_PETS_ALLOWED WATER_PARK_ACCESS_SURCHARGE PRIVATE_BEACH  \\\n",
       "0          NaN                NaN                         NaN           NaN   \n",
       "1          NaN                NaN                         NaN           NaN   \n",
       "\n",
       "  SURFING PRIVATE_BEACH_NEARBY BEACH_SUN_LOUNGERS DARTS  \\\n",
       "0     NaN                  NaN                NaN   NaN   \n",
       "1     NaN                  NaN                NaN   NaN   \n",
       "\n",
       "  ENTERTAINMENT_PROGRAMME_FOR_CHILDREN KARAOKE  \n",
       "0                                  NaN     NaN  \n",
       "1                                  NaN     NaN  \n",
       "\n",
       "[2 rows x 241 columns]"
      ]
     },
     "execution_count": 18,
     "metadata": {},
     "output_type": "execute_result"
    }
   ],
   "source": [
    "dfHotel = pd.concat([df.pop('hotelFacilities'), dfHotelEncode], axis=1)\n",
    "dfHotel = pd.concat([dfPrice, dfHotel], axis=1)\n",
    "print(dfHotel.shape)\n",
    "dfHotel.head(2)"
   ]
  },
  {
   "cell_type": "code",
   "execution_count": 19,
   "metadata": {},
   "outputs": [
    {
     "name": "stdout",
     "output_type": "stream",
     "text": [
      "(5120, 241)\n"
     ]
    },
    {
     "data": {
      "text/html": [
       "<div>\n",
       "<style scoped>\n",
       "    .dataframe tbody tr th:only-of-type {\n",
       "        vertical-align: middle;\n",
       "    }\n",
       "\n",
       "    .dataframe tbody tr th {\n",
       "        vertical-align: top;\n",
       "    }\n",
       "\n",
       "    .dataframe thead th {\n",
       "        text-align: right;\n",
       "    }\n",
       "</style>\n",
       "<table border=\"1\" class=\"dataframe\">\n",
       "  <thead>\n",
       "    <tr style=\"text-align: right;\">\n",
       "      <th></th>\n",
       "      <th>originalRate</th>\n",
       "      <th>hotelFacilities</th>\n",
       "      <th>CARPARK</th>\n",
       "      <th>ELEVATOR</th>\n",
       "      <th>HAS_24_HOUR_ROOM_SERVICE</th>\n",
       "      <th>RESTAURANT</th>\n",
       "      <th>RESTAURANT_FOR_BREAKFAST</th>\n",
       "      <th>RESTAURANT_FOR_DINNER</th>\n",
       "      <th>RESTAURANT_FOR_LUNCH</th>\n",
       "      <th>SAFETY_DEPOSIT_BOX</th>\n",
       "      <th>...</th>\n",
       "      <th>PETS_ALLOWED</th>\n",
       "      <th>SMALL_PETS_ALLOWED</th>\n",
       "      <th>WATER_PARK_ACCESS_SURCHARGE</th>\n",
       "      <th>PRIVATE_BEACH</th>\n",
       "      <th>SURFING</th>\n",
       "      <th>PRIVATE_BEACH_NEARBY</th>\n",
       "      <th>BEACH_SUN_LOUNGERS</th>\n",
       "      <th>DARTS</th>\n",
       "      <th>ENTERTAINMENT_PROGRAMME_FOR_CHILDREN</th>\n",
       "      <th>KARAOKE</th>\n",
       "    </tr>\n",
       "  </thead>\n",
       "  <tbody>\n",
       "    <tr>\n",
       "      <th>0</th>\n",
       "      <td>1227273</td>\n",
       "      <td>[\"CARPARK\",\"ELEVATOR\",\"HAS_24_HOUR_ROOM_SERVIC...</td>\n",
       "      <td>1</td>\n",
       "      <td>1</td>\n",
       "      <td>1</td>\n",
       "      <td>1</td>\n",
       "      <td>1</td>\n",
       "      <td>1</td>\n",
       "      <td>1</td>\n",
       "      <td>1</td>\n",
       "      <td>...</td>\n",
       "      <td>0</td>\n",
       "      <td>0</td>\n",
       "      <td>0</td>\n",
       "      <td>0</td>\n",
       "      <td>0</td>\n",
       "      <td>0</td>\n",
       "      <td>0</td>\n",
       "      <td>0</td>\n",
       "      <td>0</td>\n",
       "      <td>0</td>\n",
       "    </tr>\n",
       "    <tr>\n",
       "      <th>1</th>\n",
       "      <td>596694</td>\n",
       "      <td>[\"CARPARK\",\"ELEVATOR\",\"HAS_24_HOUR_ROOM_SERVIC...</td>\n",
       "      <td>1</td>\n",
       "      <td>1</td>\n",
       "      <td>1</td>\n",
       "      <td>1</td>\n",
       "      <td>1</td>\n",
       "      <td>1</td>\n",
       "      <td>1</td>\n",
       "      <td>1</td>\n",
       "      <td>...</td>\n",
       "      <td>0</td>\n",
       "      <td>0</td>\n",
       "      <td>0</td>\n",
       "      <td>0</td>\n",
       "      <td>0</td>\n",
       "      <td>0</td>\n",
       "      <td>0</td>\n",
       "      <td>0</td>\n",
       "      <td>0</td>\n",
       "      <td>0</td>\n",
       "    </tr>\n",
       "    <tr>\n",
       "      <th>2</th>\n",
       "      <td>1450413</td>\n",
       "      <td>[\"CARPARK\",\"ELEVATOR\",\"HAS_24_HOUR_ROOM_SERVIC...</td>\n",
       "      <td>1</td>\n",
       "      <td>1</td>\n",
       "      <td>1</td>\n",
       "      <td>1</td>\n",
       "      <td>1</td>\n",
       "      <td>1</td>\n",
       "      <td>1</td>\n",
       "      <td>1</td>\n",
       "      <td>...</td>\n",
       "      <td>0</td>\n",
       "      <td>0</td>\n",
       "      <td>0</td>\n",
       "      <td>0</td>\n",
       "      <td>0</td>\n",
       "      <td>0</td>\n",
       "      <td>0</td>\n",
       "      <td>0</td>\n",
       "      <td>0</td>\n",
       "      <td>0</td>\n",
       "    </tr>\n",
       "    <tr>\n",
       "      <th>3</th>\n",
       "      <td>855372</td>\n",
       "      <td>[\"CARPARK\",\"ELEVATOR\",\"HAS_24_HOUR_ROOM_SERVIC...</td>\n",
       "      <td>1</td>\n",
       "      <td>1</td>\n",
       "      <td>1</td>\n",
       "      <td>1</td>\n",
       "      <td>1</td>\n",
       "      <td>1</td>\n",
       "      <td>1</td>\n",
       "      <td>1</td>\n",
       "      <td>...</td>\n",
       "      <td>0</td>\n",
       "      <td>0</td>\n",
       "      <td>0</td>\n",
       "      <td>0</td>\n",
       "      <td>0</td>\n",
       "      <td>0</td>\n",
       "      <td>0</td>\n",
       "      <td>0</td>\n",
       "      <td>0</td>\n",
       "      <td>0</td>\n",
       "    </tr>\n",
       "    <tr>\n",
       "      <th>4</th>\n",
       "      <td>2545455</td>\n",
       "      <td>[\"CARPARK\",\"COFFEE_SHOP\",\"ELEVATOR\",\"HAS_24_HO...</td>\n",
       "      <td>1</td>\n",
       "      <td>1</td>\n",
       "      <td>1</td>\n",
       "      <td>1</td>\n",
       "      <td>1</td>\n",
       "      <td>1</td>\n",
       "      <td>1</td>\n",
       "      <td>1</td>\n",
       "      <td>...</td>\n",
       "      <td>0</td>\n",
       "      <td>0</td>\n",
       "      <td>0</td>\n",
       "      <td>1</td>\n",
       "      <td>0</td>\n",
       "      <td>0</td>\n",
       "      <td>0</td>\n",
       "      <td>0</td>\n",
       "      <td>0</td>\n",
       "      <td>0</td>\n",
       "    </tr>\n",
       "  </tbody>\n",
       "</table>\n",
       "<p>5 rows × 241 columns</p>\n",
       "</div>"
      ],
      "text/plain": [
       "   originalRate                                    hotelFacilities CARPARK  \\\n",
       "0       1227273  [\"CARPARK\",\"ELEVATOR\",\"HAS_24_HOUR_ROOM_SERVIC...       1   \n",
       "1        596694  [\"CARPARK\",\"ELEVATOR\",\"HAS_24_HOUR_ROOM_SERVIC...       1   \n",
       "2       1450413  [\"CARPARK\",\"ELEVATOR\",\"HAS_24_HOUR_ROOM_SERVIC...       1   \n",
       "3        855372  [\"CARPARK\",\"ELEVATOR\",\"HAS_24_HOUR_ROOM_SERVIC...       1   \n",
       "4       2545455  [\"CARPARK\",\"COFFEE_SHOP\",\"ELEVATOR\",\"HAS_24_HO...       1   \n",
       "\n",
       "  ELEVATOR HAS_24_HOUR_ROOM_SERVICE RESTAURANT RESTAURANT_FOR_BREAKFAST  \\\n",
       "0        1                        1          1                        1   \n",
       "1        1                        1          1                        1   \n",
       "2        1                        1          1                        1   \n",
       "3        1                        1          1                        1   \n",
       "4        1                        1          1                        1   \n",
       "\n",
       "  RESTAURANT_FOR_DINNER RESTAURANT_FOR_LUNCH SAFETY_DEPOSIT_BOX  ...  \\\n",
       "0                     1                    1                  1  ...   \n",
       "1                     1                    1                  1  ...   \n",
       "2                     1                    1                  1  ...   \n",
       "3                     1                    1                  1  ...   \n",
       "4                     1                    1                  1  ...   \n",
       "\n",
       "  PETS_ALLOWED SMALL_PETS_ALLOWED WATER_PARK_ACCESS_SURCHARGE PRIVATE_BEACH  \\\n",
       "0            0                  0                           0             0   \n",
       "1            0                  0                           0             0   \n",
       "2            0                  0                           0             0   \n",
       "3            0                  0                           0             0   \n",
       "4            0                  0                           0             1   \n",
       "\n",
       "  SURFING PRIVATE_BEACH_NEARBY BEACH_SUN_LOUNGERS DARTS  \\\n",
       "0       0                    0                  0     0   \n",
       "1       0                    0                  0     0   \n",
       "2       0                    0                  0     0   \n",
       "3       0                    0                  0     0   \n",
       "4       0                    0                  0     0   \n",
       "\n",
       "  ENTERTAINMENT_PROGRAMME_FOR_CHILDREN KARAOKE  \n",
       "0                                    0       0  \n",
       "1                                    0       0  \n",
       "2                                    0       0  \n",
       "3                                    0       0  \n",
       "4                                    0       0  \n",
       "\n",
       "[5 rows x 241 columns]"
      ]
     },
     "execution_count": 19,
     "metadata": {},
     "output_type": "execute_result"
    }
   ],
   "source": [
    "# add value to decoded columns\n",
    "for i in range (len(dfHotel)):\n",
    "    value = dfHotel['hotelFacilities'][i]\n",
    "    if value == '[]':\n",
    "        dfHotel.drop([i], axis=0, inplace=True)\n",
    "        continue\n",
    "    for j in range (2, len(dfHotel.columns)):\n",
    "        column_name = dfHotel.columns[j]\n",
    "        if column_name in value:\n",
    "            dfHotel.loc[i, column_name] = 1\n",
    "        else:\n",
    "            dfHotel.loc[i, column_name] = 0\n",
    "print(dfHotel.shape)\n",
    "dfHotel.head()"
   ]
  },
  {
   "cell_type": "code",
   "execution_count": 20,
   "metadata": {},
   "outputs": [],
   "source": [
    "# Remove hotelFacilities column\n",
    "dfHotel.drop('hotelFacilities', axis=1, inplace=True)"
   ]
  },
  {
   "cell_type": "code",
   "execution_count": 21,
   "metadata": {},
   "outputs": [],
   "source": [
    "for i in range (1, len(dfHotel.columns)):\n",
    "    dfHotel = dfHotel.astype({dfHotel.columns[i]: int})"
   ]
  },
  {
   "attachments": {},
   "cell_type": "markdown",
   "metadata": {},
   "source": [
    "### Room Feature"
   ]
  },
  {
   "cell_type": "code",
   "execution_count": 22,
   "metadata": {},
   "outputs": [
    {
     "name": "stdout",
     "output_type": "stream",
     "text": [
      "(5183, 112)\n"
     ]
    },
    {
     "data": {
      "text/html": [
       "<div>\n",
       "<style scoped>\n",
       "    .dataframe tbody tr th:only-of-type {\n",
       "        vertical-align: middle;\n",
       "    }\n",
       "\n",
       "    .dataframe tbody tr th {\n",
       "        vertical-align: top;\n",
       "    }\n",
       "\n",
       "    .dataframe thead th {\n",
       "        text-align: right;\n",
       "    }\n",
       "</style>\n",
       "<table border=\"1\" class=\"dataframe\">\n",
       "  <thead>\n",
       "    <tr style=\"text-align: right;\">\n",
       "      <th></th>\n",
       "      <th>originalRate</th>\n",
       "      <th>roomFacilities</th>\n",
       "      <th>AIR_CONDITIONING</th>\n",
       "      <th>BALCONY_TERRACE</th>\n",
       "      <th>BATHROBES</th>\n",
       "      <th>BATHTUB</th>\n",
       "      <th>BLACKOUT_DRAPES_CURTAINS</th>\n",
       "      <th>COFFEE_TEA_MAKER</th>\n",
       "      <th>COMPLIMENTARY_BOTTLED_WATER</th>\n",
       "      <th>DESK</th>\n",
       "      <th>...</th>\n",
       "      <th>ROLLAWAY_OR_EXTRA_BEDS</th>\n",
       "      <th>TABLET</th>\n",
       "      <th>YARD</th>\n",
       "      <th>VIDEO_GAMES</th>\n",
       "      <th>IN_ROOM_SAFE_SURCHARGE</th>\n",
       "      <th>HOUSEKEEPING_ON_REQUEST</th>\n",
       "      <th>NO_HOUSEKEEPING</th>\n",
       "      <th>CHANGING_TABLE</th>\n",
       "      <th>WASHER_OR_DRYER</th>\n",
       "      <th>MICROWAVE_SURCHARGE</th>\n",
       "    </tr>\n",
       "  </thead>\n",
       "  <tbody>\n",
       "    <tr>\n",
       "      <th>0</th>\n",
       "      <td>1227273</td>\n",
       "      <td>[\"AIR_CONDITIONING\",\"BALCONY_TERRACE\",\"BATHROB...</td>\n",
       "      <td>NaN</td>\n",
       "      <td>NaN</td>\n",
       "      <td>NaN</td>\n",
       "      <td>NaN</td>\n",
       "      <td>NaN</td>\n",
       "      <td>NaN</td>\n",
       "      <td>NaN</td>\n",
       "      <td>NaN</td>\n",
       "      <td>...</td>\n",
       "      <td>NaN</td>\n",
       "      <td>NaN</td>\n",
       "      <td>NaN</td>\n",
       "      <td>NaN</td>\n",
       "      <td>NaN</td>\n",
       "      <td>NaN</td>\n",
       "      <td>NaN</td>\n",
       "      <td>NaN</td>\n",
       "      <td>NaN</td>\n",
       "      <td>NaN</td>\n",
       "    </tr>\n",
       "    <tr>\n",
       "      <th>1</th>\n",
       "      <td>596694</td>\n",
       "      <td>[\"AIR_CONDITIONING\",\"BATHROBES\",\"BATHTUB\",\"BLA...</td>\n",
       "      <td>NaN</td>\n",
       "      <td>NaN</td>\n",
       "      <td>NaN</td>\n",
       "      <td>NaN</td>\n",
       "      <td>NaN</td>\n",
       "      <td>NaN</td>\n",
       "      <td>NaN</td>\n",
       "      <td>NaN</td>\n",
       "      <td>...</td>\n",
       "      <td>NaN</td>\n",
       "      <td>NaN</td>\n",
       "      <td>NaN</td>\n",
       "      <td>NaN</td>\n",
       "      <td>NaN</td>\n",
       "      <td>NaN</td>\n",
       "      <td>NaN</td>\n",
       "      <td>NaN</td>\n",
       "      <td>NaN</td>\n",
       "      <td>NaN</td>\n",
       "    </tr>\n",
       "  </tbody>\n",
       "</table>\n",
       "<p>2 rows × 112 columns</p>\n",
       "</div>"
      ],
      "text/plain": [
       "   originalRate                                     roomFacilities  \\\n",
       "0       1227273  [\"AIR_CONDITIONING\",\"BALCONY_TERRACE\",\"BATHROB...   \n",
       "1        596694  [\"AIR_CONDITIONING\",\"BATHROBES\",\"BATHTUB\",\"BLA...   \n",
       "\n",
       "  AIR_CONDITIONING BALCONY_TERRACE BATHROBES BATHTUB BLACKOUT_DRAPES_CURTAINS  \\\n",
       "0              NaN             NaN       NaN     NaN                      NaN   \n",
       "1              NaN             NaN       NaN     NaN                      NaN   \n",
       "\n",
       "  COFFEE_TEA_MAKER COMPLIMENTARY_BOTTLED_WATER DESK  ...  \\\n",
       "0              NaN                         NaN  NaN  ...   \n",
       "1              NaN                         NaN  NaN  ...   \n",
       "\n",
       "  ROLLAWAY_OR_EXTRA_BEDS TABLET YARD VIDEO_GAMES IN_ROOM_SAFE_SURCHARGE  \\\n",
       "0                    NaN    NaN  NaN         NaN                    NaN   \n",
       "1                    NaN    NaN  NaN         NaN                    NaN   \n",
       "\n",
       "  HOUSEKEEPING_ON_REQUEST NO_HOUSEKEEPING CHANGING_TABLE WASHER_OR_DRYER  \\\n",
       "0                     NaN             NaN            NaN             NaN   \n",
       "1                     NaN             NaN            NaN             NaN   \n",
       "\n",
       "  MICROWAVE_SURCHARGE  \n",
       "0                 NaN  \n",
       "1                 NaN  \n",
       "\n",
       "[2 rows x 112 columns]"
      ]
     },
     "execution_count": 22,
     "metadata": {},
     "output_type": "execute_result"
    }
   ],
   "source": [
    "dfRoom = pd.concat([df.pop('roomFacilities'), dfRoomEncode], axis=1)\n",
    "dfRoom = pd.concat([dfPrice, dfRoom], axis=1)\n",
    "print(dfRoom.shape)\n",
    "dfRoom.head(2)"
   ]
  },
  {
   "cell_type": "code",
   "execution_count": 23,
   "metadata": {},
   "outputs": [
    {
     "name": "stdout",
     "output_type": "stream",
     "text": [
      "(4958, 112)\n"
     ]
    }
   ],
   "source": [
    "# add value to decoded columns\n",
    "for i in range(len(dfRoom)):\n",
    "    value = dfRoom['roomFacilities'][i]\n",
    "    if value == '[]':\n",
    "        dfRoom.drop([i], axis=0, inplace=True)\n",
    "        continue\n",
    "    for j in range (2, len(dfRoom.columns)):\n",
    "        column_name = dfRoom.columns[j]\n",
    "        if column_name in value:\n",
    "            dfRoom.loc[i, column_name] = 1\n",
    "        else:\n",
    "            dfRoom.loc[i, column_name] = 0\n",
    "print(dfRoom.shape)\n"
   ]
  },
  {
   "cell_type": "code",
   "execution_count": 24,
   "metadata": {},
   "outputs": [],
   "source": [
    "dfRoom.drop('roomFacilities', axis=1, inplace=True)"
   ]
  },
  {
   "cell_type": "code",
   "execution_count": 25,
   "metadata": {},
   "outputs": [],
   "source": [
    "for i in range (1, len(dfRoom.columns)):\n",
    "    dfRoom = dfRoom.astype({dfRoom.columns[i]: int})"
   ]
  },
  {
   "attachments": {},
   "cell_type": "markdown",
   "metadata": {},
   "source": [
    "### Point of Interest Feature"
   ]
  },
  {
   "cell_type": "code",
   "execution_count": 26,
   "metadata": {},
   "outputs": [
    {
     "data": {
      "text/html": [
       "<div>\n",
       "<style scoped>\n",
       "    .dataframe tbody tr th:only-of-type {\n",
       "        vertical-align: middle;\n",
       "    }\n",
       "\n",
       "    .dataframe tbody tr th {\n",
       "        vertical-align: top;\n",
       "    }\n",
       "\n",
       "    .dataframe thead th {\n",
       "        text-align: right;\n",
       "    }\n",
       "</style>\n",
       "<table border=\"1\" class=\"dataframe\">\n",
       "  <thead>\n",
       "    <tr style=\"text-align: right;\">\n",
       "      <th></th>\n",
       "      <th>originalRate</th>\n",
       "      <th>nearestPointOfInterests</th>\n",
       "      <th>SHOPPING_AREA</th>\n",
       "      <th>OFFICIAL_BUILDING</th>\n",
       "      <th>RESTAURANT</th>\n",
       "      <th>ATTRACTION</th>\n",
       "      <th>BEACH</th>\n",
       "      <th>MONUMENT</th>\n",
       "      <th>TERMINAL</th>\n",
       "      <th>PARK</th>\n",
       "      <th>...</th>\n",
       "      <th>MUSEUM</th>\n",
       "      <th>GALLERY</th>\n",
       "      <th>PLACE_OF_WORSHIP</th>\n",
       "      <th>TRAIN_STATION</th>\n",
       "      <th>ZOO</th>\n",
       "      <th>ENTERTAINMENT</th>\n",
       "      <th>GARDEN</th>\n",
       "      <th>THEATER</th>\n",
       "      <th>STORE</th>\n",
       "      <th>SCHOOL</th>\n",
       "    </tr>\n",
       "  </thead>\n",
       "  <tbody>\n",
       "    <tr>\n",
       "      <th>0</th>\n",
       "      <td>1227273</td>\n",
       "      <td>[{\"landmarkId\":\"91589773100576\",\"geoId\":null,\"...</td>\n",
       "      <td>NaN</td>\n",
       "      <td>NaN</td>\n",
       "      <td>NaN</td>\n",
       "      <td>NaN</td>\n",
       "      <td>NaN</td>\n",
       "      <td>NaN</td>\n",
       "      <td>NaN</td>\n",
       "      <td>NaN</td>\n",
       "      <td>...</td>\n",
       "      <td>NaN</td>\n",
       "      <td>NaN</td>\n",
       "      <td>NaN</td>\n",
       "      <td>NaN</td>\n",
       "      <td>NaN</td>\n",
       "      <td>NaN</td>\n",
       "      <td>NaN</td>\n",
       "      <td>NaN</td>\n",
       "      <td>NaN</td>\n",
       "      <td>NaN</td>\n",
       "    </tr>\n",
       "    <tr>\n",
       "      <th>1</th>\n",
       "      <td>596694</td>\n",
       "      <td>[{\"landmarkId\":\"91589773100576\",\"geoId\":null,\"...</td>\n",
       "      <td>NaN</td>\n",
       "      <td>NaN</td>\n",
       "      <td>NaN</td>\n",
       "      <td>NaN</td>\n",
       "      <td>NaN</td>\n",
       "      <td>NaN</td>\n",
       "      <td>NaN</td>\n",
       "      <td>NaN</td>\n",
       "      <td>...</td>\n",
       "      <td>NaN</td>\n",
       "      <td>NaN</td>\n",
       "      <td>NaN</td>\n",
       "      <td>NaN</td>\n",
       "      <td>NaN</td>\n",
       "      <td>NaN</td>\n",
       "      <td>NaN</td>\n",
       "      <td>NaN</td>\n",
       "      <td>NaN</td>\n",
       "      <td>NaN</td>\n",
       "    </tr>\n",
       "  </tbody>\n",
       "</table>\n",
       "<p>2 rows × 21 columns</p>\n",
       "</div>"
      ],
      "text/plain": [
       "   originalRate                            nearestPointOfInterests  \\\n",
       "0       1227273  [{\"landmarkId\":\"91589773100576\",\"geoId\":null,\"...   \n",
       "1        596694  [{\"landmarkId\":\"91589773100576\",\"geoId\":null,\"...   \n",
       "\n",
       "  SHOPPING_AREA OFFICIAL_BUILDING RESTAURANT ATTRACTION BEACH MONUMENT  \\\n",
       "0           NaN               NaN        NaN        NaN   NaN      NaN   \n",
       "1           NaN               NaN        NaN        NaN   NaN      NaN   \n",
       "\n",
       "  TERMINAL PARK  ... MUSEUM GALLERY PLACE_OF_WORSHIP TRAIN_STATION  ZOO  \\\n",
       "0      NaN  NaN  ...    NaN     NaN              NaN           NaN  NaN   \n",
       "1      NaN  NaN  ...    NaN     NaN              NaN           NaN  NaN   \n",
       "\n",
       "  ENTERTAINMENT GARDEN THEATER STORE SCHOOL  \n",
       "0           NaN    NaN     NaN   NaN    NaN  \n",
       "1           NaN    NaN     NaN   NaN    NaN  \n",
       "\n",
       "[2 rows x 21 columns]"
      ]
     },
     "execution_count": 26,
     "metadata": {},
     "output_type": "execute_result"
    }
   ],
   "source": [
    "dfPoint = pd.concat([df.pop('nearestPointOfInterests'), dfPointEncode], axis=1)\n",
    "dfPoint = pd.concat([dfPrice, dfPoint], axis=1)\n",
    "dfPoint.head(2)"
   ]
  },
  {
   "cell_type": "code",
   "execution_count": 27,
   "metadata": {},
   "outputs": [
    {
     "name": "stdout",
     "output_type": "stream",
     "text": [
      "(5166, 21)\n"
     ]
    },
    {
     "data": {
      "text/html": [
       "<div>\n",
       "<style scoped>\n",
       "    .dataframe tbody tr th:only-of-type {\n",
       "        vertical-align: middle;\n",
       "    }\n",
       "\n",
       "    .dataframe tbody tr th {\n",
       "        vertical-align: top;\n",
       "    }\n",
       "\n",
       "    .dataframe thead th {\n",
       "        text-align: right;\n",
       "    }\n",
       "</style>\n",
       "<table border=\"1\" class=\"dataframe\">\n",
       "  <thead>\n",
       "    <tr style=\"text-align: right;\">\n",
       "      <th></th>\n",
       "      <th>originalRate</th>\n",
       "      <th>nearestPointOfInterests</th>\n",
       "      <th>SHOPPING_AREA</th>\n",
       "      <th>OFFICIAL_BUILDING</th>\n",
       "      <th>RESTAURANT</th>\n",
       "      <th>ATTRACTION</th>\n",
       "      <th>BEACH</th>\n",
       "      <th>MONUMENT</th>\n",
       "      <th>TERMINAL</th>\n",
       "      <th>PARK</th>\n",
       "      <th>...</th>\n",
       "      <th>MUSEUM</th>\n",
       "      <th>GALLERY</th>\n",
       "      <th>PLACE_OF_WORSHIP</th>\n",
       "      <th>TRAIN_STATION</th>\n",
       "      <th>ZOO</th>\n",
       "      <th>ENTERTAINMENT</th>\n",
       "      <th>GARDEN</th>\n",
       "      <th>THEATER</th>\n",
       "      <th>STORE</th>\n",
       "      <th>SCHOOL</th>\n",
       "    </tr>\n",
       "  </thead>\n",
       "  <tbody>\n",
       "    <tr>\n",
       "      <th>0</th>\n",
       "      <td>1227273</td>\n",
       "      <td>[{\"landmarkId\":\"91589773100576\",\"geoId\":null,\"...</td>\n",
       "      <td>1</td>\n",
       "      <td>1</td>\n",
       "      <td>1</td>\n",
       "      <td>1</td>\n",
       "      <td>0</td>\n",
       "      <td>0</td>\n",
       "      <td>0</td>\n",
       "      <td>0</td>\n",
       "      <td>...</td>\n",
       "      <td>0</td>\n",
       "      <td>0</td>\n",
       "      <td>0</td>\n",
       "      <td>0</td>\n",
       "      <td>0</td>\n",
       "      <td>0</td>\n",
       "      <td>0</td>\n",
       "      <td>0</td>\n",
       "      <td>0</td>\n",
       "      <td>0</td>\n",
       "    </tr>\n",
       "    <tr>\n",
       "      <th>1</th>\n",
       "      <td>596694</td>\n",
       "      <td>[{\"landmarkId\":\"91589773100576\",\"geoId\":null,\"...</td>\n",
       "      <td>1</td>\n",
       "      <td>1</td>\n",
       "      <td>1</td>\n",
       "      <td>1</td>\n",
       "      <td>0</td>\n",
       "      <td>0</td>\n",
       "      <td>0</td>\n",
       "      <td>0</td>\n",
       "      <td>...</td>\n",
       "      <td>0</td>\n",
       "      <td>0</td>\n",
       "      <td>0</td>\n",
       "      <td>0</td>\n",
       "      <td>0</td>\n",
       "      <td>0</td>\n",
       "      <td>0</td>\n",
       "      <td>0</td>\n",
       "      <td>0</td>\n",
       "      <td>0</td>\n",
       "    </tr>\n",
       "    <tr>\n",
       "      <th>2</th>\n",
       "      <td>1450413</td>\n",
       "      <td>[{\"landmarkId\":\"91589773100576\",\"geoId\":null,\"...</td>\n",
       "      <td>1</td>\n",
       "      <td>1</td>\n",
       "      <td>1</td>\n",
       "      <td>1</td>\n",
       "      <td>0</td>\n",
       "      <td>0</td>\n",
       "      <td>0</td>\n",
       "      <td>0</td>\n",
       "      <td>...</td>\n",
       "      <td>0</td>\n",
       "      <td>0</td>\n",
       "      <td>0</td>\n",
       "      <td>0</td>\n",
       "      <td>0</td>\n",
       "      <td>0</td>\n",
       "      <td>0</td>\n",
       "      <td>0</td>\n",
       "      <td>0</td>\n",
       "      <td>0</td>\n",
       "    </tr>\n",
       "    <tr>\n",
       "      <th>3</th>\n",
       "      <td>855372</td>\n",
       "      <td>[{\"landmarkId\":\"91589773100576\",\"geoId\":null,\"...</td>\n",
       "      <td>1</td>\n",
       "      <td>1</td>\n",
       "      <td>1</td>\n",
       "      <td>1</td>\n",
       "      <td>0</td>\n",
       "      <td>0</td>\n",
       "      <td>0</td>\n",
       "      <td>0</td>\n",
       "      <td>...</td>\n",
       "      <td>0</td>\n",
       "      <td>0</td>\n",
       "      <td>0</td>\n",
       "      <td>0</td>\n",
       "      <td>0</td>\n",
       "      <td>0</td>\n",
       "      <td>0</td>\n",
       "      <td>0</td>\n",
       "      <td>0</td>\n",
       "      <td>0</td>\n",
       "    </tr>\n",
       "    <tr>\n",
       "      <th>4</th>\n",
       "      <td>2545455</td>\n",
       "      <td>[{\"landmarkId\":\"91589773100576\",\"geoId\":null,\"...</td>\n",
       "      <td>1</td>\n",
       "      <td>1</td>\n",
       "      <td>1</td>\n",
       "      <td>1</td>\n",
       "      <td>0</td>\n",
       "      <td>0</td>\n",
       "      <td>0</td>\n",
       "      <td>0</td>\n",
       "      <td>...</td>\n",
       "      <td>0</td>\n",
       "      <td>0</td>\n",
       "      <td>0</td>\n",
       "      <td>0</td>\n",
       "      <td>0</td>\n",
       "      <td>0</td>\n",
       "      <td>0</td>\n",
       "      <td>0</td>\n",
       "      <td>0</td>\n",
       "      <td>0</td>\n",
       "    </tr>\n",
       "  </tbody>\n",
       "</table>\n",
       "<p>5 rows × 21 columns</p>\n",
       "</div>"
      ],
      "text/plain": [
       "   originalRate                            nearestPointOfInterests  \\\n",
       "0       1227273  [{\"landmarkId\":\"91589773100576\",\"geoId\":null,\"...   \n",
       "1        596694  [{\"landmarkId\":\"91589773100576\",\"geoId\":null,\"...   \n",
       "2       1450413  [{\"landmarkId\":\"91589773100576\",\"geoId\":null,\"...   \n",
       "3        855372  [{\"landmarkId\":\"91589773100576\",\"geoId\":null,\"...   \n",
       "4       2545455  [{\"landmarkId\":\"91589773100576\",\"geoId\":null,\"...   \n",
       "\n",
       "  SHOPPING_AREA OFFICIAL_BUILDING RESTAURANT ATTRACTION BEACH MONUMENT  \\\n",
       "0             1                 1          1          1     0        0   \n",
       "1             1                 1          1          1     0        0   \n",
       "2             1                 1          1          1     0        0   \n",
       "3             1                 1          1          1     0        0   \n",
       "4             1                 1          1          1     0        0   \n",
       "\n",
       "  TERMINAL PARK  ... MUSEUM GALLERY PLACE_OF_WORSHIP TRAIN_STATION ZOO  \\\n",
       "0        0    0  ...      0       0                0             0   0   \n",
       "1        0    0  ...      0       0                0             0   0   \n",
       "2        0    0  ...      0       0                0             0   0   \n",
       "3        0    0  ...      0       0                0             0   0   \n",
       "4        0    0  ...      0       0                0             0   0   \n",
       "\n",
       "  ENTERTAINMENT GARDEN THEATER STORE SCHOOL  \n",
       "0             0      0       0     0      0  \n",
       "1             0      0       0     0      0  \n",
       "2             0      0       0     0      0  \n",
       "3             0      0       0     0      0  \n",
       "4             0      0       0     0      0  \n",
       "\n",
       "[5 rows x 21 columns]"
      ]
     },
     "execution_count": 27,
     "metadata": {},
     "output_type": "execute_result"
    }
   ],
   "source": [
    "# add value to encoded columns\n",
    "for i in range (len(dfPoint)):\n",
    "    value = dfPoint['nearestPointOfInterests'][i]\n",
    "    if value == '[]':\n",
    "        dfPoint.drop([i], axis=0, inplace=True)\n",
    "        continue\n",
    "    for j in range (2, len(dfPoint.columns)):\n",
    "        column_name = dfPoint.columns[j]\n",
    "        if column_name in value:\n",
    "            dfPoint.loc[i, column_name] = 1\n",
    "        else:\n",
    "            dfPoint.loc[i, column_name] = 0\n",
    "print(dfPoint.shape)\n",
    "dfPoint.head()"
   ]
  },
  {
   "cell_type": "code",
   "execution_count": 28,
   "metadata": {},
   "outputs": [],
   "source": [
    "dfPoint.drop('nearestPointOfInterests', axis=1, inplace=True)"
   ]
  },
  {
   "cell_type": "code",
   "execution_count": 29,
   "metadata": {},
   "outputs": [],
   "source": [
    "# Convert to int\n",
    "for i in range (1, len(dfPoint.columns)):\n",
    "    dfPoint = dfPoint.astype({dfPoint.columns[i]: int})"
   ]
  },
  {
   "attachments": {},
   "cell_type": "markdown",
   "metadata": {},
   "source": [
    "### Add Prefix"
   ]
  },
  {
   "cell_type": "code",
   "execution_count": 30,
   "metadata": {},
   "outputs": [],
   "source": [
    "dfHotel = dfHotel.add_prefix('Hotel_')\n",
    "dfRoom = dfRoom.add_prefix('Room_')\n",
    "dfPoint = dfPoint.add_prefix('Point_')"
   ]
  },
  {
   "attachments": {},
   "cell_type": "markdown",
   "metadata": {},
   "source": [
    "## Feature Selection"
   ]
  },
  {
   "cell_type": "code",
   "execution_count": 31,
   "metadata": {},
   "outputs": [],
   "source": [
    "import matplotlib.pyplot as plt\n",
    "import seaborn as sns"
   ]
  },
  {
   "cell_type": "code",
   "execution_count": 32,
   "metadata": {},
   "outputs": [],
   "source": [
    "# create funtion to get the mean value of the columns and add to the dataframe\n",
    "def getMean(df):\n",
    "    dfMean = pd.DataFrame(columns=['Mean'])\n",
    "    for i in range (1, len(df.columns)):\n",
    "        dfMean.loc[i-1] = df[df.columns[i]].mean()\n",
    "    dfMean.index = df.columns[1:]\n",
    "    dfMean = dfMean.reset_index(drop=False)\n",
    "    dfMean.columns = ['Facilities','Mean']\n",
    "    return dfMean"
   ]
  },
  {
   "cell_type": "code",
   "execution_count": 33,
   "metadata": {},
   "outputs": [],
   "source": [
    "# create function to remove outlier from data frame using IQR baesd on the mean value of the columns\n",
    "def featureSelection(dfFunction):\n",
    "    dfMean = getMean(dfFunction)\n",
    "    initialLength = len(dfMean)\n",
    "    q1 = dfMean['Mean'].quantile(0.25)\n",
    "    q3 = dfMean['Mean'].quantile(0.75)\n",
    "    iqr = q3 - q1\n",
    "\n",
    "    # create list of facilities that will be removed then drop it from the dataframe (df)\n",
    "    removedFacilities = []\n",
    "    for i in range (len(dfMean)):\n",
    "        if dfMean['Mean'][i] >= (q3 + 1.5 * iqr) or dfMean['Mean'][i] <= (q1 - 1.5 * iqr):\n",
    "            removedFacilities.append(dfMean.loc[i, 'Facilities'])\n",
    "    df = dfFunction.drop(removedFacilities, axis=1)\n",
    "\n",
    "    # create new dataframe that will be used to store the cleaned data\n",
    "    dfClean = dfMean[~dfMean['Facilities'].isin(removedFacilities)]\n",
    "    print(f\"Null value : {dfClean.isnull().sum().any()}\")\n",
    "\n",
    "    # calculate the number of facilities that will be removed\n",
    "    print(f'Final Number of Features: {len(dfClean)}')\n",
    "    calRemovedFacilities = initialLength - len(dfClean)\n",
    "    print(f'Number of Facilities Removed: {calRemovedFacilities}')\n",
    "\n",
    "    # print the q1, q3, and iqr\n",
    "    print(f'Q1: {q1}')\n",
    "    print(f'Q3: {q3}')\n",
    "    print(f'IQR: {iqr}')\n",
    "    \n",
    "    return dfClean, df"
   ]
  },
  {
   "cell_type": "code",
   "execution_count": 34,
   "metadata": {},
   "outputs": [],
   "source": [
    "# create function to make histplot of the dataframe clomuns mean\n",
    "def getHist(df, title):\n",
    "    plt.figure(figsize=(10, 5))\n",
    "    sns.histplot(data=df, x='Mean', kde=True, bins=50)\n",
    "    plt.title(f'{title} Facilities')\n",
    "    plt.show()"
   ]
  },
  {
   "attachments": {},
   "cell_type": "markdown",
   "metadata": {},
   "source": [
    "### Hotel, Room, and Point of Interest Features"
   ]
  },
  {
   "cell_type": "markdown",
   "metadata": {},
   "source": [
    "#### Hotel Features"
   ]
  },
  {
   "cell_type": "code",
   "execution_count": 35,
   "metadata": {},
   "outputs": [],
   "source": [
    "dfMeanHotel = getMean(dfHotel)\n",
    "dfMeanRooom = getMean(dfRoom)\n",
    "dfMeanPoint = getMean(dfPoint)"
   ]
  },
  {
   "cell_type": "code",
   "execution_count": 36,
   "metadata": {},
   "outputs": [
    {
     "data": {
      "text/html": [
       "<div>\n",
       "<style scoped>\n",
       "    .dataframe tbody tr th:only-of-type {\n",
       "        vertical-align: middle;\n",
       "    }\n",
       "\n",
       "    .dataframe tbody tr th {\n",
       "        vertical-align: top;\n",
       "    }\n",
       "\n",
       "    .dataframe thead th {\n",
       "        text-align: right;\n",
       "    }\n",
       "</style>\n",
       "<table border=\"1\" class=\"dataframe\">\n",
       "  <thead>\n",
       "    <tr style=\"text-align: right;\">\n",
       "      <th></th>\n",
       "      <th>count</th>\n",
       "      <th>mean</th>\n",
       "      <th>std</th>\n",
       "      <th>min</th>\n",
       "      <th>25%</th>\n",
       "      <th>50%</th>\n",
       "      <th>75%</th>\n",
       "      <th>max</th>\n",
       "    </tr>\n",
       "  </thead>\n",
       "  <tbody>\n",
       "    <tr>\n",
       "      <th>Mean</th>\n",
       "      <td>239.0</td>\n",
       "      <td>0.174524</td>\n",
       "      <td>0.209611</td>\n",
       "      <td>0.000781</td>\n",
       "      <td>0.025098</td>\n",
       "      <td>0.086523</td>\n",
       "      <td>0.237207</td>\n",
       "      <td>0.864844</td>\n",
       "    </tr>\n",
       "  </tbody>\n",
       "</table>\n",
       "</div>"
      ],
      "text/plain": [
       "      count      mean       std       min       25%       50%       75%  \\\n",
       "Mean  239.0  0.174524  0.209611  0.000781  0.025098  0.086523  0.237207   \n",
       "\n",
       "           max  \n",
       "Mean  0.864844  "
      ]
     },
     "execution_count": 36,
     "metadata": {},
     "output_type": "execute_result"
    }
   ],
   "source": [
    "dfMeanHotel.describe().T"
   ]
  },
  {
   "cell_type": "code",
   "execution_count": 37,
   "metadata": {},
   "outputs": [
    {
     "data": {
      "text/plain": [
       "(5120, 240)"
      ]
     },
     "execution_count": 37,
     "metadata": {},
     "output_type": "execute_result"
    }
   ],
   "source": [
    "dfHotel.shape"
   ]
  },
  {
   "cell_type": "code",
   "execution_count": 38,
   "metadata": {},
   "outputs": [
    {
     "name": "stdout",
     "output_type": "stream",
     "text": [
      "Null value : False\n",
      "Final Number of Features: 215\n",
      "Number of Facilities Removed: 24\n",
      "Q1: 0.02509765625\n",
      "Q3: 0.23720703125\n",
      "IQR: 0.21210937500000002\n"
     ]
    },
    {
     "data": {
      "text/html": [
       "<div>\n",
       "<style scoped>\n",
       "    .dataframe tbody tr th:only-of-type {\n",
       "        vertical-align: middle;\n",
       "    }\n",
       "\n",
       "    .dataframe tbody tr th {\n",
       "        vertical-align: top;\n",
       "    }\n",
       "\n",
       "    .dataframe thead th {\n",
       "        text-align: right;\n",
       "    }\n",
       "</style>\n",
       "<table border=\"1\" class=\"dataframe\">\n",
       "  <thead>\n",
       "    <tr style=\"text-align: right;\">\n",
       "      <th></th>\n",
       "      <th>Facilities</th>\n",
       "      <th>Mean</th>\n",
       "    </tr>\n",
       "  </thead>\n",
       "  <tbody>\n",
       "    <tr>\n",
       "      <th>1</th>\n",
       "      <td>Hotel_ELEVATOR</td>\n",
       "      <td>0.190039</td>\n",
       "    </tr>\n",
       "    <tr>\n",
       "      <th>2</th>\n",
       "      <td>Hotel_HAS_24_HOUR_ROOM_SERVICE</td>\n",
       "      <td>0.194141</td>\n",
       "    </tr>\n",
       "    <tr>\n",
       "      <th>4</th>\n",
       "      <td>Hotel_RESTAURANT_FOR_BREAKFAST</td>\n",
       "      <td>0.386719</td>\n",
       "    </tr>\n",
       "    <tr>\n",
       "      <th>5</th>\n",
       "      <td>Hotel_RESTAURANT_FOR_DINNER</td>\n",
       "      <td>0.318164</td>\n",
       "    </tr>\n",
       "    <tr>\n",
       "      <th>6</th>\n",
       "      <td>Hotel_RESTAURANT_FOR_LUNCH</td>\n",
       "      <td>0.324219</td>\n",
       "    </tr>\n",
       "    <tr>\n",
       "      <th>...</th>\n",
       "      <td>...</td>\n",
       "      <td>...</td>\n",
       "    </tr>\n",
       "    <tr>\n",
       "      <th>234</th>\n",
       "      <td>Hotel_PRIVATE_BEACH_NEARBY</td>\n",
       "      <td>0.023047</td>\n",
       "    </tr>\n",
       "    <tr>\n",
       "      <th>235</th>\n",
       "      <td>Hotel_BEACH_SUN_LOUNGERS</td>\n",
       "      <td>0.051172</td>\n",
       "    </tr>\n",
       "    <tr>\n",
       "      <th>236</th>\n",
       "      <td>Hotel_DARTS</td>\n",
       "      <td>0.010547</td>\n",
       "    </tr>\n",
       "    <tr>\n",
       "      <th>237</th>\n",
       "      <td>Hotel_ENTERTAINMENT_PROGRAMME_FOR_CHILDREN</td>\n",
       "      <td>0.012500</td>\n",
       "    </tr>\n",
       "    <tr>\n",
       "      <th>238</th>\n",
       "      <td>Hotel_KARAOKE</td>\n",
       "      <td>0.005664</td>\n",
       "    </tr>\n",
       "  </tbody>\n",
       "</table>\n",
       "<p>215 rows × 2 columns</p>\n",
       "</div>"
      ],
      "text/plain": [
       "                                     Facilities      Mean\n",
       "1                                Hotel_ELEVATOR  0.190039\n",
       "2                Hotel_HAS_24_HOUR_ROOM_SERVICE  0.194141\n",
       "4                Hotel_RESTAURANT_FOR_BREAKFAST  0.386719\n",
       "5                   Hotel_RESTAURANT_FOR_DINNER  0.318164\n",
       "6                    Hotel_RESTAURANT_FOR_LUNCH  0.324219\n",
       "..                                          ...       ...\n",
       "234                  Hotel_PRIVATE_BEACH_NEARBY  0.023047\n",
       "235                    Hotel_BEACH_SUN_LOUNGERS  0.051172\n",
       "236                                 Hotel_DARTS  0.010547\n",
       "237  Hotel_ENTERTAINMENT_PROGRAMME_FOR_CHILDREN  0.012500\n",
       "238                               Hotel_KARAOKE  0.005664\n",
       "\n",
       "[215 rows x 2 columns]"
      ]
     },
     "execution_count": 38,
     "metadata": {},
     "output_type": "execute_result"
    }
   ],
   "source": [
    "dfMeanHotel,dfHotel = featureSelection(dfHotel)\n",
    "dfMeanHotel"
   ]
  },
  {
   "cell_type": "code",
   "execution_count": 39,
   "metadata": {},
   "outputs": [
    {
     "data": {
      "text/plain": [
       "(5120, 216)"
      ]
     },
     "execution_count": 39,
     "metadata": {},
     "output_type": "execute_result"
    }
   ],
   "source": [
    "dfHotel.shape"
   ]
  },
  {
   "cell_type": "code",
   "execution_count": 40,
   "metadata": {},
   "outputs": [
    {
     "data": {
      "image/png": "[encoded data removed]",
      "text/plain": [
       "<Figure size 1000x500 with 1 Axes>"
      ]
     },
     "metadata": {},
     "output_type": "display_data"
    }
   ],
   "source": [
    "getHist(dfMeanHotel, 'Hotel')"
   ]
  },
  {
   "cell_type": "markdown",
   "metadata": {},
   "source": [
    "#### Room Features"
   ]
  },
  {
   "cell_type": "code",
   "execution_count": 41,
   "metadata": {},
   "outputs": [
    {
     "data": {
      "text/html": [
       "<div>\n",
       "<style scoped>\n",
       "    .dataframe tbody tr th:only-of-type {\n",
       "        vertical-align: middle;\n",
       "    }\n",
       "\n",
       "    .dataframe tbody tr th {\n",
       "        vertical-align: top;\n",
       "    }\n",
       "\n",
       "    .dataframe thead th {\n",
       "        text-align: right;\n",
       "    }\n",
       "</style>\n",
       "<table border=\"1\" class=\"dataframe\">\n",
       "  <thead>\n",
       "    <tr style=\"text-align: right;\">\n",
       "      <th></th>\n",
       "      <th>count</th>\n",
       "      <th>mean</th>\n",
       "      <th>std</th>\n",
       "      <th>min</th>\n",
       "      <th>25%</th>\n",
       "      <th>50%</th>\n",
       "      <th>75%</th>\n",
       "      <th>max</th>\n",
       "    </tr>\n",
       "  </thead>\n",
       "  <tbody>\n",
       "    <tr>\n",
       "      <th>Mean</th>\n",
       "      <td>110.0</td>\n",
       "      <td>0.137169</td>\n",
       "      <td>0.219252</td>\n",
       "      <td>0.000202</td>\n",
       "      <td>0.005244</td>\n",
       "      <td>0.040036</td>\n",
       "      <td>0.12495</td>\n",
       "      <td>0.944534</td>\n",
       "    </tr>\n",
       "  </tbody>\n",
       "</table>\n",
       "</div>"
      ],
      "text/plain": [
       "      count      mean       std       min       25%       50%      75%  \\\n",
       "Mean  110.0  0.137169  0.219252  0.000202  0.005244  0.040036  0.12495   \n",
       "\n",
       "           max  \n",
       "Mean  0.944534  "
      ]
     },
     "execution_count": 41,
     "metadata": {},
     "output_type": "execute_result"
    }
   ],
   "source": [
    "dfMeanRooom.describe().T"
   ]
  },
  {
   "cell_type": "code",
   "execution_count": 42,
   "metadata": {},
   "outputs": [
    {
     "name": "stdout",
     "output_type": "stream",
     "text": [
      "Null value : False\n",
      "Final Number of Features: 93\n",
      "Number of Facilities Removed: 17\n",
      "Q1: 0.005244050020169423\n",
      "Q3: 0.12494957644211374\n",
      "IQR: 0.11970552642194432\n"
     ]
    },
    {
     "data": {
      "text/html": [
       "<div>\n",
       "<style scoped>\n",
       "    .dataframe tbody tr th:only-of-type {\n",
       "        vertical-align: middle;\n",
       "    }\n",
       "\n",
       "    .dataframe tbody tr th {\n",
       "        vertical-align: top;\n",
       "    }\n",
       "\n",
       "    .dataframe thead th {\n",
       "        text-align: right;\n",
       "    }\n",
       "</style>\n",
       "<table border=\"1\" class=\"dataframe\">\n",
       "  <thead>\n",
       "    <tr style=\"text-align: right;\">\n",
       "      <th></th>\n",
       "      <th>Facilities</th>\n",
       "      <th>Mean</th>\n",
       "    </tr>\n",
       "  </thead>\n",
       "  <tbody>\n",
       "    <tr>\n",
       "      <th>2</th>\n",
       "      <td>Room_BATHROBES</td>\n",
       "      <td>0.223679</td>\n",
       "    </tr>\n",
       "    <tr>\n",
       "      <th>3</th>\n",
       "      <td>Room_BATHTUB</td>\n",
       "      <td>0.232150</td>\n",
       "    </tr>\n",
       "    <tr>\n",
       "      <th>4</th>\n",
       "      <td>Room_BLACKOUT_DRAPES_CURTAINS</td>\n",
       "      <td>0.285397</td>\n",
       "    </tr>\n",
       "    <tr>\n",
       "      <th>8</th>\n",
       "      <td>Room_DVD_PLAYER</td>\n",
       "      <td>0.093788</td>\n",
       "    </tr>\n",
       "    <tr>\n",
       "      <th>10</th>\n",
       "      <td>Room_FREE_NEWSPAPER</td>\n",
       "      <td>0.017346</td>\n",
       "    </tr>\n",
       "    <tr>\n",
       "      <th>...</th>\n",
       "      <td>...</td>\n",
       "      <td>...</td>\n",
       "    </tr>\n",
       "    <tr>\n",
       "      <th>105</th>\n",
       "      <td>Room_HOUSEKEEPING_ON_REQUEST</td>\n",
       "      <td>0.007261</td>\n",
       "    </tr>\n",
       "    <tr>\n",
       "      <th>106</th>\n",
       "      <td>Room_NO_HOUSEKEEPING</td>\n",
       "      <td>0.003227</td>\n",
       "    </tr>\n",
       "    <tr>\n",
       "      <th>107</th>\n",
       "      <td>Room_CHANGING_TABLE</td>\n",
       "      <td>0.000807</td>\n",
       "    </tr>\n",
       "    <tr>\n",
       "      <th>108</th>\n",
       "      <td>Room_WASHER_OR_DRYER</td>\n",
       "      <td>0.002219</td>\n",
       "    </tr>\n",
       "    <tr>\n",
       "      <th>109</th>\n",
       "      <td>Room_MICROWAVE_SURCHARGE</td>\n",
       "      <td>0.000202</td>\n",
       "    </tr>\n",
       "  </tbody>\n",
       "</table>\n",
       "<p>93 rows × 2 columns</p>\n",
       "</div>"
      ],
      "text/plain": [
       "                        Facilities      Mean\n",
       "2                   Room_BATHROBES  0.223679\n",
       "3                     Room_BATHTUB  0.232150\n",
       "4    Room_BLACKOUT_DRAPES_CURTAINS  0.285397\n",
       "8                  Room_DVD_PLAYER  0.093788\n",
       "10             Room_FREE_NEWSPAPER  0.017346\n",
       "..                             ...       ...\n",
       "105   Room_HOUSEKEEPING_ON_REQUEST  0.007261\n",
       "106           Room_NO_HOUSEKEEPING  0.003227\n",
       "107            Room_CHANGING_TABLE  0.000807\n",
       "108           Room_WASHER_OR_DRYER  0.002219\n",
       "109       Room_MICROWAVE_SURCHARGE  0.000202\n",
       "\n",
       "[93 rows x 2 columns]"
      ]
     },
     "execution_count": 42,
     "metadata": {},
     "output_type": "execute_result"
    }
   ],
   "source": [
    "dfMeanRooom,dfRoom = featureSelection(dfRoom)\n",
    "dfMeanRooom"
   ]
  },
  {
   "cell_type": "code",
   "execution_count": 43,
   "metadata": {},
   "outputs": [
    {
     "data": {
      "image/png": "[encoded data removed]",
      "text/plain": [
       "<Figure size 1000x500 with 1 Axes>"
      ]
     },
     "metadata": {},
     "output_type": "display_data"
    }
   ],
   "source": [
    "getHist(dfMeanRooom, 'Room')"
   ]
  },
  {
   "attachments": {},
   "cell_type": "markdown",
   "metadata": {},
   "source": [
    "#### Point of Interest Features"
   ]
  },
  {
   "cell_type": "code",
   "execution_count": 44,
   "metadata": {},
   "outputs": [
    {
     "data": {
      "text/html": [
       "<div>\n",
       "<style scoped>\n",
       "    .dataframe tbody tr th:only-of-type {\n",
       "        vertical-align: middle;\n",
       "    }\n",
       "\n",
       "    .dataframe tbody tr th {\n",
       "        vertical-align: top;\n",
       "    }\n",
       "\n",
       "    .dataframe thead th {\n",
       "        text-align: right;\n",
       "    }\n",
       "</style>\n",
       "<table border=\"1\" class=\"dataframe\">\n",
       "  <thead>\n",
       "    <tr style=\"text-align: right;\">\n",
       "      <th></th>\n",
       "      <th>count</th>\n",
       "      <th>mean</th>\n",
       "      <th>std</th>\n",
       "      <th>min</th>\n",
       "      <th>25%</th>\n",
       "      <th>50%</th>\n",
       "      <th>75%</th>\n",
       "      <th>max</th>\n",
       "    </tr>\n",
       "  </thead>\n",
       "  <tbody>\n",
       "    <tr>\n",
       "      <th>Mean</th>\n",
       "      <td>19.0</td>\n",
       "      <td>0.195509</td>\n",
       "      <td>0.243391</td>\n",
       "      <td>0.000194</td>\n",
       "      <td>0.004259</td>\n",
       "      <td>0.025745</td>\n",
       "      <td>0.33885</td>\n",
       "      <td>0.695122</td>\n",
       "    </tr>\n",
       "  </tbody>\n",
       "</table>\n",
       "</div>"
      ],
      "text/plain": [
       "      count      mean       std       min       25%       50%      75%  \\\n",
       "Mean   19.0  0.195509  0.243391  0.000194  0.004259  0.025745  0.33885   \n",
       "\n",
       "           max  \n",
       "Mean  0.695122  "
      ]
     },
     "execution_count": 44,
     "metadata": {},
     "output_type": "execute_result"
    }
   ],
   "source": [
    "dfMeanPoint.describe().T"
   ]
  },
  {
   "cell_type": "code",
   "execution_count": 45,
   "metadata": {},
   "outputs": [
    {
     "name": "stdout",
     "output_type": "stream",
     "text": [
      "Null value : False\n",
      "Final Number of Features: 19\n",
      "Number of Facilities Removed: 0\n",
      "Q1: 0.0042586140147115766\n",
      "Q3: 0.33885017421602787\n",
      "IQR: 0.3345915602013163\n"
     ]
    },
    {
     "data": {
      "text/html": [
       "<div>\n",
       "<style scoped>\n",
       "    .dataframe tbody tr th:only-of-type {\n",
       "        vertical-align: middle;\n",
       "    }\n",
       "\n",
       "    .dataframe tbody tr th {\n",
       "        vertical-align: top;\n",
       "    }\n",
       "\n",
       "    .dataframe thead th {\n",
       "        text-align: right;\n",
       "    }\n",
       "</style>\n",
       "<table border=\"1\" class=\"dataframe\">\n",
       "  <thead>\n",
       "    <tr style=\"text-align: right;\">\n",
       "      <th></th>\n",
       "      <th>Facilities</th>\n",
       "      <th>Mean</th>\n",
       "    </tr>\n",
       "  </thead>\n",
       "  <tbody>\n",
       "    <tr>\n",
       "      <th>0</th>\n",
       "      <td>Point_SHOPPING_AREA</td>\n",
       "      <td>0.646341</td>\n",
       "    </tr>\n",
       "    <tr>\n",
       "      <th>1</th>\n",
       "      <td>Point_OFFICIAL_BUILDING</td>\n",
       "      <td>0.297522</td>\n",
       "    </tr>\n",
       "    <tr>\n",
       "      <th>2</th>\n",
       "      <td>Point_RESTAURANT</td>\n",
       "      <td>0.695122</td>\n",
       "    </tr>\n",
       "    <tr>\n",
       "      <th>3</th>\n",
       "      <td>Point_ATTRACTION</td>\n",
       "      <td>0.575300</td>\n",
       "    </tr>\n",
       "    <tr>\n",
       "      <th>4</th>\n",
       "      <td>Point_BEACH</td>\n",
       "      <td>0.322106</td>\n",
       "    </tr>\n",
       "    <tr>\n",
       "      <th>5</th>\n",
       "      <td>Point_MONUMENT</td>\n",
       "      <td>0.367983</td>\n",
       "    </tr>\n",
       "    <tr>\n",
       "      <th>6</th>\n",
       "      <td>Point_TERMINAL</td>\n",
       "      <td>0.351723</td>\n",
       "    </tr>\n",
       "    <tr>\n",
       "      <th>7</th>\n",
       "      <td>Point_PARK</td>\n",
       "      <td>0.325978</td>\n",
       "    </tr>\n",
       "    <tr>\n",
       "      <th>8</th>\n",
       "      <td>Point_HOSPITAL</td>\n",
       "      <td>0.019938</td>\n",
       "    </tr>\n",
       "    <tr>\n",
       "      <th>9</th>\n",
       "      <td>Point_MUSEUM</td>\n",
       "      <td>0.021487</td>\n",
       "    </tr>\n",
       "    <tr>\n",
       "      <th>10</th>\n",
       "      <td>Point_GALLERY</td>\n",
       "      <td>0.031940</td>\n",
       "    </tr>\n",
       "    <tr>\n",
       "      <th>11</th>\n",
       "      <td>Point_PLACE_OF_WORSHIP</td>\n",
       "      <td>0.019744</td>\n",
       "    </tr>\n",
       "    <tr>\n",
       "      <th>12</th>\n",
       "      <td>Point_TRAIN_STATION</td>\n",
       "      <td>0.025745</td>\n",
       "    </tr>\n",
       "    <tr>\n",
       "      <th>13</th>\n",
       "      <td>Point_ZOO</td>\n",
       "      <td>0.004452</td>\n",
       "    </tr>\n",
       "    <tr>\n",
       "      <th>14</th>\n",
       "      <td>Point_ENTERTAINMENT</td>\n",
       "      <td>0.001742</td>\n",
       "    </tr>\n",
       "    <tr>\n",
       "      <th>15</th>\n",
       "      <td>Point_GARDEN</td>\n",
       "      <td>0.003097</td>\n",
       "    </tr>\n",
       "    <tr>\n",
       "      <th>16</th>\n",
       "      <td>Point_THEATER</td>\n",
       "      <td>0.004065</td>\n",
       "    </tr>\n",
       "    <tr>\n",
       "      <th>17</th>\n",
       "      <td>Point_STORE</td>\n",
       "      <td>0.000194</td>\n",
       "    </tr>\n",
       "    <tr>\n",
       "      <th>18</th>\n",
       "      <td>Point_SCHOOL</td>\n",
       "      <td>0.000194</td>\n",
       "    </tr>\n",
       "  </tbody>\n",
       "</table>\n",
       "</div>"
      ],
      "text/plain": [
       "                 Facilities      Mean\n",
       "0       Point_SHOPPING_AREA  0.646341\n",
       "1   Point_OFFICIAL_BUILDING  0.297522\n",
       "2          Point_RESTAURANT  0.695122\n",
       "3          Point_ATTRACTION  0.575300\n",
       "4               Point_BEACH  0.322106\n",
       "5            Point_MONUMENT  0.367983\n",
       "6            Point_TERMINAL  0.351723\n",
       "7                Point_PARK  0.325978\n",
       "8            Point_HOSPITAL  0.019938\n",
       "9              Point_MUSEUM  0.021487\n",
       "10            Point_GALLERY  0.031940\n",
       "11   Point_PLACE_OF_WORSHIP  0.019744\n",
       "12      Point_TRAIN_STATION  0.025745\n",
       "13                Point_ZOO  0.004452\n",
       "14      Point_ENTERTAINMENT  0.001742\n",
       "15             Point_GARDEN  0.003097\n",
       "16            Point_THEATER  0.004065\n",
       "17              Point_STORE  0.000194\n",
       "18             Point_SCHOOL  0.000194"
      ]
     },
     "execution_count": 45,
     "metadata": {},
     "output_type": "execute_result"
    }
   ],
   "source": [
    "dfMeanPoint,dfPoint = featureSelection(dfPoint)\n",
    "dfMeanPoint"
   ]
  },
  {
   "cell_type": "code",
   "execution_count": 46,
   "metadata": {},
   "outputs": [
    {
     "data": {
      "image/png": "[encoded data removed]",
      "text/plain": [
       "<Figure size 1000x500 with 1 Axes>"
      ]
     },
     "metadata": {},
     "output_type": "display_data"
    }
   ],
   "source": [
    "getHist(dfMeanPoint, 'Point')"
   ]
  },
  {
   "cell_type": "code",
   "execution_count": 47,
   "metadata": {},
   "outputs": [],
   "source": [
    "hotelFacilities = dfHotel.drop(dfHotel.columns[0], axis=1)\n",
    "roomFacilities = dfRoom.drop(dfRoom.columns[0], axis=1)\n",
    "nearestPointOfInterests = dfPoint.drop(dfPoint.columns[0], axis=1)\n",
    "\n",
    "hotelFacilities = hotelFacilities.columns\n",
    "roomFacilities = roomFacilities.columns\n",
    "nearestPointOfInterests = nearestPointOfInterests.columns"
   ]
  },
  {
   "cell_type": "code",
   "execution_count": 48,
   "metadata": {},
   "outputs": [],
   "source": [
    "# export hotelFacilities, roomFacilities, nearestPointOfInterests list to another notebook\n",
    "with open('../Notebook/Variable/hotelFacilities.pkl', 'wb') as f:\n",
    "    pickle.dump(hotelFacilities, f)\n",
    "with open('../Notebook/Variable/roomFacilities.pkl', 'wb') as f:\n",
    "    pickle.dump(roomFacilities, f)\n",
    "with open('../Notebook/Variable/nearestPointOfInterests.pkl', 'wb') as f:\n",
    "    pickle.dump(nearestPointOfInterests, f)"
   ]
  },
  {
   "attachments": {},
   "cell_type": "markdown",
   "metadata": {},
   "source": [
    "## Combine Dataframe"
   ]
  },
  {
   "cell_type": "code",
   "execution_count": 49,
   "metadata": {},
   "outputs": [
    {
     "name": "stderr",
     "output_type": "stream",
     "text": [
      "C:\\Users\\goobe\\AppData\\Local\\Temp\\ipykernel_30320\\2147204924.py:5: SettingWithCopyWarning: \n",
      "A value is trying to be set on a copy of a slice from a DataFrame\n",
      "\n",
      "See the caveats in the documentation: https://pandas.pydata.org/pandas-docs/stable/user_guide/indexing.html#returning-a-view-versus-a-copy\n",
      "  dfRoomEx.drop('originalRate', axis= 1, inplace=True)\n"
     ]
    }
   ],
   "source": [
    "dfRoom.drop('Room_originalRate', axis= 1, inplace=True)\n",
    "dfHotel.drop('Hotel_originalRate', axis= 1, inplace=True)\n",
    "dfPoint.drop('Point_originalRate', axis= 1, inplace=True)\n",
    "dfHotelEx.drop('originalRate', axis= 1, inplace=True)\n",
    "dfRoomEx.drop('originalRate', axis= 1, inplace=True)\n",
    "df = df[['originalRate']]"
   ]
  },
  {
   "cell_type": "code",
   "execution_count": 50,
   "metadata": {},
   "outputs": [],
   "source": [
    "# sort the columns\n",
    "# dfRoom = dfRoom.reindex(sorted(dfRoom.columns), axis=1)\n",
    "# dfHotel = dfHotel.reindex(sorted(dfHotel.columns), axis=1)\n",
    "# dfPoint = dfPoint.reindex(sorted(dfPoint.columns), axis=1)"
   ]
  },
  {
   "cell_type": "code",
   "execution_count": 51,
   "metadata": {},
   "outputs": [],
   "source": [
    "combine = [df,  dfRoomEx, dfHotelEx, dfRoom, dfHotel, dfPoint]\n",
    "df = pd.concat(combine, axis=1)\n",
    "df.dropna(inplace=True)\n",
    "df.reset_index(drop=True, inplace=True)"
   ]
  },
  {
   "cell_type": "code",
   "execution_count": 52,
   "metadata": {},
   "outputs": [],
   "source": [
    "# Check if there is any duplicate column\n",
    "for i in range (0, len(df.columns)):\n",
    "   for j in range (i+1, len(df.columns)):\n",
    "      if df.columns[i] == df.columns[j]:\n",
    "         print(df.columns[i])"
   ]
  },
  {
   "cell_type": "code",
   "execution_count": 53,
   "metadata": {},
   "outputs": [
    {
     "name": "stdout",
     "output_type": "stream",
     "text": [
      "<class 'pandas.core.frame.DataFrame'>\n",
      "RangeIndex: 4891 entries, 0 to 4890\n",
      "Columns: 358 entries, originalRate to Point_SCHOOL\n",
      "dtypes: float64(328), int64(9), uint8(21)\n",
      "memory usage: 12.7 MB\n"
     ]
    }
   ],
   "source": [
    "df.info()"
   ]
  },
  {
   "cell_type": "code",
   "execution_count": null,
   "metadata": {},
   "outputs": [],
   "source": []
  },
  {
   "attachments": {},
   "cell_type": "markdown",
   "metadata": {},
   "source": [
    "## Export Data"
   ]
  },
  {
   "cell_type": "code",
   "execution_count": 54,
   "metadata": {},
   "outputs": [],
   "source": [
    "df.to_csv('../Dataset/encoded_data.csv', index=False)"
   ]
  },
  {
   "cell_type": "code",
   "execution_count": 55,
   "metadata": {},
   "outputs": [],
   "source": [
    "col = df.columns\n",
    "# export col to another notebook\n",
    "with open('../Notebook/Variable/col.pkl', 'wb') as f:\n",
    "    pickle.dump(col, f)"
   ]
  },
  {
   "attachments": {},
   "cell_type": "markdown",
   "metadata": {},
   "source": [
    "# Data Analysis"
   ]
  },
  {
   "cell_type": "code",
   "execution_count": 56,
   "metadata": {},
   "outputs": [],
   "source": [
    "# create visualization into 1 chart\n",
    "def createVisualization(df, colName, color):\n",
    "    # create new dataframe with input prefix column name\n",
    "    dfNew = pd.DataFrame()\n",
    "    for i in range (1, len(df.columns)):\n",
    "        if df.columns[i].startswith(f'{colName}'):\n",
    "            dfNew[df.columns[i]] = df[df.columns[i]]\n",
    "    # make table with only the column name and sum of value\n",
    "    dfNew = dfNew.sum().to_frame()\n",
    "    dfNew.reset_index(inplace=True)\n",
    "    dfNew.columns = ['column', 'value']\n",
    "    # change value data type to int\n",
    "    dfNew['value'] = dfNew['value'].astype(int)\n",
    "    # sort value\n",
    "    dfNew = dfNew.sort_values(by='value', ascending=False)\n",
    "    print(dfNew.head(10))\n",
    "    # create barchart to visualize the data with sorted value and horizontal with tight gap and annotate the value on top of each bar\n",
    "    plt.figure(figsize=(8.5, 5))\n",
    "    sns.barplot(x='value', y='column', data=dfNew.head(10), orient='h', color=color, errorbar=None, )\n",
    "    # plt.tight_layout()\n",
    "    # annotate the value on top of each bar using seaborn annotation\n",
    "    for i, v in enumerate(dfNew['value'].head(10)):\n",
    "        plt.text(v+10, i, str(v), color='black', fontweight=300, fontsize=8)\n",
    "    plt.show()"
   ]
  },
  {
   "cell_type": "code",
   "execution_count": 57,
   "metadata": {},
   "outputs": [
    {
     "name": "stdout",
     "output_type": "stream",
     "text": [
      "            column  value\n",
      "0      City_Badung   2106\n",
      "4     City_Gianyar    978\n",
      "7   City_Klungkung    469\n",
      "2    City_Buleleng    354\n",
      "6  City_Karangasem    265\n",
      "8       City_Sanur    241\n",
      "3    City_Denpasar    234\n",
      "9     City_Tabanan    133\n",
      "5    City_Jembrana     60\n",
      "1      City_Bangli     51\n"
     ]
    },
    {
     "data": {
      "image/png": "[encoded data removed]",
      "text/plain": [
       "<Figure size 850x500 with 1 Axes>"
      ]
     },
     "metadata": {},
     "output_type": "display_data"
    }
   ],
   "source": [
    "createVisualization(df, 'City', 'orange')"
   ]
  },
  {
   "cell_type": "code",
   "execution_count": 58,
   "metadata": {},
   "outputs": [
    {
     "name": "stdout",
     "output_type": "stream",
     "text": [
      "               column  value\n",
      "6          Type_Hotel   2340\n",
      "10          Type_Vila    699\n",
      "9          Type_Resor    668\n",
      "3    Type_Guest House    626\n",
      "4       Type_Homestay    255\n",
      "1            Type_B&B    104\n",
      "5         Type_Hostel    103\n",
      "0      Type_Apartemen     78\n",
      "2        Type_Camping     13\n",
      "7   Type_Hotel Kapsul      4\n"
     ]
    },
    {
     "data": {
      "image/png": "[encoded data removed]",
      "text/plain": [
       "<Figure size 850x500 with 1 Axes>"
      ]
     },
     "metadata": {},
     "output_type": "display_data"
    }
   ],
   "source": [
    "createVisualization(df, 'Type', 'mediumseagreen')"
   ]
  },
  {
   "cell_type": "code",
   "execution_count": 59,
   "metadata": {},
   "outputs": [
    {
     "name": "stdout",
     "output_type": "stream",
     "text": [
      "                     column  value\n",
      "2          Point_RESTAURANT   3415\n",
      "0       Point_SHOPPING_AREA   3151\n",
      "3          Point_ATTRACTION   2812\n",
      "5            Point_MONUMENT   1806\n",
      "6            Point_TERMINAL   1727\n",
      "7                Point_PARK   1606\n",
      "4               Point_BEACH   1572\n",
      "1   Point_OFFICIAL_BUILDING   1451\n",
      "10            Point_GALLERY    155\n",
      "12      Point_TRAIN_STATION    124\n"
     ]
    },
    {
     "data": {
      "image/png": "[encoded data removed]",
      "text/plain": [
       "<Figure size 850x500 with 1 Axes>"
      ]
     },
     "metadata": {},
     "output_type": "display_data"
    }
   ],
   "source": [
    "createVisualization(df, 'Point', 'hotpink')"
   ]
  }
 ],
 "metadata": {
  "kernelspec": {
   "display_name": "Python 3.10.6 64-bit",
   "language": "python",
   "name": "python3"
  },
  "language_info": {
   "codemirror_mode": {
    "name": "ipython",
    "version": 3
   },
   "file_extension": ".py",
   "mimetype": "text/x-python",
   "name": "python",
   "nbconvert_exporter": "python",
   "pygments_lexer": "ipython3",
   "version": "3.10.6"
  },
  "orig_nbformat": 4,
  "vscode": {
   "interpreter": {
    "hash": "c7c132e493bab3f05dc3eecde52b8af768e79f0c26a7d99c1a59f019ffce2dd8"
   }
  }
 },
 "nbformat": 4,
 "nbformat_minor": 2
}
