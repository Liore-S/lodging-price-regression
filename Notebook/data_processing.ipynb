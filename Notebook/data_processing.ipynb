{
 "cells": [
  {
   "cell_type": "code",
   "execution_count": 1,
   "metadata": {},
   "outputs": [],
   "source": [
    "import pandas as pd\n",
    "import numpy as np\n",
    "import pickle\n"
   ]
  },
  {
   "cell_type": "markdown",
   "metadata": {},
   "source": [
    "## Input Data"
   ]
  },
  {
   "cell_type": "code",
   "execution_count": 2,
   "metadata": {},
   "outputs": [
    {
     "data": {
      "text/html": [
       "<div>\n",
       "<style scoped>\n",
       "    .dataframe tbody tr th:only-of-type {\n",
       "        vertical-align: middle;\n",
       "    }\n",
       "\n",
       "    .dataframe tbody tr th {\n",
       "        vertical-align: top;\n",
       "    }\n",
       "\n",
       "    .dataframe thead th {\n",
       "        text-align: right;\n",
       "    }\n",
       "</style>\n",
       "<table border=\"1\" class=\"dataframe\">\n",
       "  <thead>\n",
       "    <tr style=\"text-align: right;\">\n",
       "      <th></th>\n",
       "      <th>type</th>\n",
       "      <th>city</th>\n",
       "      <th>hotelFacilities</th>\n",
       "      <th>nearestPointOfInterests</th>\n",
       "      <th>starRating</th>\n",
       "      <th>size</th>\n",
       "      <th>originalRate</th>\n",
       "      <th>baseOccupancy</th>\n",
       "      <th>maxChildOccupancy</th>\n",
       "      <th>maxChildAge</th>\n",
       "      <th>isBreakfastIncluded</th>\n",
       "      <th>isWifiIncluded</th>\n",
       "      <th>isRefundable</th>\n",
       "      <th>hasLivingRoom</th>\n",
       "      <th>roomFacilities</th>\n",
       "    </tr>\n",
       "  </thead>\n",
       "  <tbody>\n",
       "    <tr>\n",
       "      <th>0</th>\n",
       "      <td>Hotel</td>\n",
       "      <td>Badung</td>\n",
       "      <td>[\"CARPARK\",\"ELEVATOR\",\"HAS_24_HOUR_ROOM_SERVIC...</td>\n",
       "      <td>[{\"landmarkId\":\"91589773100576\",\"geoId\":null,\"...</td>\n",
       "      <td>4</td>\n",
       "      <td>46.0</td>\n",
       "      <td>1227273</td>\n",
       "      <td>3</td>\n",
       "      <td>1</td>\n",
       "      <td>5</td>\n",
       "      <td>1</td>\n",
       "      <td>1</td>\n",
       "      <td>1</td>\n",
       "      <td>0</td>\n",
       "      <td>[\"AIR_CONDITIONING\",\"BALCONY_TERRACE\",\"BATHROB...</td>\n",
       "    </tr>\n",
       "    <tr>\n",
       "      <th>1</th>\n",
       "      <td>Hotel</td>\n",
       "      <td>Badung</td>\n",
       "      <td>[\"CARPARK\",\"ELEVATOR\",\"HAS_24_HOUR_ROOM_SERVIC...</td>\n",
       "      <td>[{\"landmarkId\":\"91589773100576\",\"geoId\":null,\"...</td>\n",
       "      <td>4</td>\n",
       "      <td>31.0</td>\n",
       "      <td>596694</td>\n",
       "      <td>2</td>\n",
       "      <td>1</td>\n",
       "      <td>5</td>\n",
       "      <td>0</td>\n",
       "      <td>1</td>\n",
       "      <td>1</td>\n",
       "      <td>0</td>\n",
       "      <td>[\"AIR_CONDITIONING\",\"BATHROBES\",\"BATHTUB\",\"BLA...</td>\n",
       "    </tr>\n",
       "    <tr>\n",
       "      <th>2</th>\n",
       "      <td>Hotel</td>\n",
       "      <td>Badung</td>\n",
       "      <td>[\"CARPARK\",\"ELEVATOR\",\"HAS_24_HOUR_ROOM_SERVIC...</td>\n",
       "      <td>[{\"landmarkId\":\"91589773100576\",\"geoId\":null,\"...</td>\n",
       "      <td>4</td>\n",
       "      <td>52.0</td>\n",
       "      <td>1450413</td>\n",
       "      <td>2</td>\n",
       "      <td>1</td>\n",
       "      <td>5</td>\n",
       "      <td>1</td>\n",
       "      <td>1</td>\n",
       "      <td>1</td>\n",
       "      <td>1</td>\n",
       "      <td>[\"AIR_CONDITIONING\",\"BALCONY_TERRACE\",\"BATHROB...</td>\n",
       "    </tr>\n",
       "  </tbody>\n",
       "</table>\n",
       "</div>"
      ],
      "text/plain": [
       "    type    city                                    hotelFacilities  \\\n",
       "0  Hotel  Badung  [\"CARPARK\",\"ELEVATOR\",\"HAS_24_HOUR_ROOM_SERVIC...   \n",
       "1  Hotel  Badung  [\"CARPARK\",\"ELEVATOR\",\"HAS_24_HOUR_ROOM_SERVIC...   \n",
       "2  Hotel  Badung  [\"CARPARK\",\"ELEVATOR\",\"HAS_24_HOUR_ROOM_SERVIC...   \n",
       "\n",
       "                             nearestPointOfInterests  starRating  size  \\\n",
       "0  [{\"landmarkId\":\"91589773100576\",\"geoId\":null,\"...           4  46.0   \n",
       "1  [{\"landmarkId\":\"91589773100576\",\"geoId\":null,\"...           4  31.0   \n",
       "2  [{\"landmarkId\":\"91589773100576\",\"geoId\":null,\"...           4  52.0   \n",
       "\n",
       "   originalRate  baseOccupancy  maxChildOccupancy  maxChildAge  \\\n",
       "0       1227273              3                  1            5   \n",
       "1        596694              2                  1            5   \n",
       "2       1450413              2                  1            5   \n",
       "\n",
       "   isBreakfastIncluded  isWifiIncluded  isRefundable  hasLivingRoom  \\\n",
       "0                    1               1             1              0   \n",
       "1                    0               1             1              0   \n",
       "2                    1               1             1              1   \n",
       "\n",
       "                                      roomFacilities  \n",
       "0  [\"AIR_CONDITIONING\",\"BALCONY_TERRACE\",\"BATHROB...  \n",
       "1  [\"AIR_CONDITIONING\",\"BATHROBES\",\"BATHTUB\",\"BLA...  \n",
       "2  [\"AIR_CONDITIONING\",\"BALCONY_TERRACE\",\"BATHROB...  "
      ]
     },
     "execution_count": 2,
     "metadata": {},
     "output_type": "execute_result"
    }
   ],
   "source": [
    "df = pd.read_csv('../Dataset/clean_data.csv')\n",
    "df.head(3)\n"
   ]
  },
  {
   "cell_type": "code",
   "execution_count": 3,
   "metadata": {},
   "outputs": [
    {
     "name": "stdout",
     "output_type": "stream",
     "text": [
      "Total number of rows: 5110\n",
      "Total number of columns: 15\n"
     ]
    }
   ],
   "source": [
    "print(f'Total number of rows: {df.shape[0]}')\n",
    "print(f'Total number of columns: {df.shape[1]}')\n"
   ]
  },
  {
   "cell_type": "markdown",
   "metadata": {},
   "source": [
    "### Feature Processing Function"
   ]
  },
  {
   "cell_type": "code",
   "execution_count": 4,
   "metadata": {},
   "outputs": [],
   "source": [
    "# Rooms facilities processing\n",
    "# How to use : Facilities = getFacilities(df['Facilities'].tolist())\n",
    "def getFacilities(facilitiesList):\n",
    "    facilities = []\n",
    "    for i in facilitiesList:\n",
    "        m = int(i.count('\"') / 2)\n",
    "        for j in range(1, m+1, 2):\n",
    "            temp = i.split('\"')[j]\n",
    "            if temp not in facilities:\n",
    "                facilities.append(temp)\n",
    "    # facilities = [f\"{prefix}_\" + string for string in facilities]\n",
    "    return facilities\n"
   ]
  },
  {
   "cell_type": "code",
   "execution_count": 5,
   "metadata": {},
   "outputs": [
    {
     "data": {
      "text/html": [
       "<div>\n",
       "<style scoped>\n",
       "    .dataframe tbody tr th:only-of-type {\n",
       "        vertical-align: middle;\n",
       "    }\n",
       "\n",
       "    .dataframe tbody tr th {\n",
       "        vertical-align: top;\n",
       "    }\n",
       "\n",
       "    .dataframe thead th {\n",
       "        text-align: right;\n",
       "    }\n",
       "</style>\n",
       "<table border=\"1\" class=\"dataframe\">\n",
       "  <thead>\n",
       "    <tr style=\"text-align: right;\">\n",
       "      <th></th>\n",
       "      <th>originalRate</th>\n",
       "    </tr>\n",
       "  </thead>\n",
       "  <tbody>\n",
       "    <tr>\n",
       "      <th>0</th>\n",
       "      <td>1227273</td>\n",
       "    </tr>\n",
       "    <tr>\n",
       "      <th>1</th>\n",
       "      <td>596694</td>\n",
       "    </tr>\n",
       "  </tbody>\n",
       "</table>\n",
       "</div>"
      ],
      "text/plain": [
       "   originalRate\n",
       "0       1227273\n",
       "1        596694"
      ]
     },
     "execution_count": 5,
     "metadata": {},
     "output_type": "execute_result"
    }
   ],
   "source": [
    "# seperate the target variable\n",
    "dfPrice = df[['originalRate']]\n",
    "dfPrice.head(2)\n"
   ]
  },
  {
   "attachments": {},
   "cell_type": "markdown",
   "metadata": {},
   "source": [
    "## Getting extraxcted features"
   ]
  },
  {
   "attachments": {},
   "cell_type": "markdown",
   "metadata": {},
   "source": [
    "### Getting the data"
   ]
  },
  {
   "cell_type": "code",
   "execution_count": 6,
   "metadata": {},
   "outputs": [
    {
     "name": "stdout",
     "output_type": "stream",
     "text": [
      " Total Unique Hotel Facilities: 240\n"
     ]
    }
   ],
   "source": [
    "# Hotel Facilities to List\n",
    "hotelFacilities = getFacilities(df['hotelFacilities'].tolist())\n",
    "print(f' Total Unique Hotel Facilities: {len(hotelFacilities)}')\n"
   ]
  },
  {
   "cell_type": "code",
   "execution_count": 7,
   "metadata": {},
   "outputs": [
    {
     "name": "stdout",
     "output_type": "stream",
     "text": [
      " Total Unique Hotel Facilities: 109\n"
     ]
    }
   ],
   "source": [
    "# Room Facilities to List\n",
    "roomFacilities = getFacilities(df['roomFacilities'].tolist())\n",
    "print(f' Total Unique Hotel Facilities: {len(roomFacilities)}')\n"
   ]
  },
  {
   "cell_type": "code",
   "execution_count": 8,
   "metadata": {},
   "outputs": [
    {
     "name": "stdout",
     "output_type": "stream",
     "text": [
      " Total Unique Hotel Facilities: 19\n"
     ]
    }
   ],
   "source": [
    "# nearestPointOfInterests to List\n",
    "# landmarkType is present at indexes [19, 49, 79, 109]\n",
    "\n",
    "landmark = df['nearestPointOfInterests'].to_list()\n",
    "searchText = 'landmarkType'\n",
    "nearestPoint = []\n",
    "loopCount = 0\n",
    "for x in range(len(landmark)):\n",
    "    loopCount += 1\n",
    "    i = 0\n",
    "    column = landmark[x].split('\"')\n",
    "    matched_indexes = []\n",
    "    while i < len(column):\n",
    "        if searchText == column[i]:\n",
    "            matched_indexes.append(i)\n",
    "        i += 1\n",
    "    for y in matched_indexes:\n",
    "        if column[y+2] not in nearestPoint:\n",
    "            nearestPoint.append(column[y+2])\n",
    "if 'OTHERS' in nearestPoint:\n",
    "    nearestPoint.remove('OTHERS')\n",
    "\n",
    "print(f' Total Unique Hotel Facilities: {len(nearestPoint)}')"
   ]
  },
  {
   "cell_type": "code",
   "execution_count": 9,
   "metadata": {},
   "outputs": [],
   "source": [
    "# Create new dataframe\n",
    "dfHotelEncode = pd.DataFrame(columns=hotelFacilities)\n",
    "dfRoomEncode = pd.DataFrame(columns=roomFacilities)\n",
    "dfPointEncode = pd.DataFrame(columns=nearestPoint)\n"
   ]
  },
  {
   "cell_type": "markdown",
   "metadata": {},
   "source": [
    "### Extra Features"
   ]
  },
  {
   "cell_type": "code",
   "execution_count": 10,
   "metadata": {},
   "outputs": [
    {
     "name": "stdout",
     "output_type": "stream",
     "text": [
      "(5110, 4)\n",
      "(5110, 9)\n"
     ]
    }
   ],
   "source": [
    "dfHotelEx = df[['originalRate', 'type', 'city', 'starRating']]\n",
    "dfRoomEx = df[['originalRate', 'size', 'baseOccupancy', 'maxChildOccupancy',\n",
    "               'maxChildAge', 'isBreakfastIncluded', 'isWifiIncluded', 'isRefundable', 'hasLivingRoom']]\n",
    "print(dfHotelEx.shape)\n",
    "print(dfRoomEx.shape)"
   ]
  },
  {
   "cell_type": "markdown",
   "metadata": {},
   "source": [
    "#### Hotel Extra Features"
   ]
  },
  {
   "cell_type": "code",
   "execution_count": 11,
   "metadata": {},
   "outputs": [
    {
     "name": "stdout",
     "output_type": "stream",
     "text": [
      "<class 'pandas.core.frame.DataFrame'>\n",
      "RangeIndex: 5110 entries, 0 to 5109\n",
      "Data columns (total 4 columns):\n",
      " #   Column        Non-Null Count  Dtype \n",
      "---  ------        --------------  ----- \n",
      " 0   originalRate  5110 non-null   int64 \n",
      " 1   type          5110 non-null   object\n",
      " 2   city          5110 non-null   object\n",
      " 3   starRating    5110 non-null   int64 \n",
      "dtypes: int64(2), object(2)\n",
      "memory usage: 159.8+ KB\n"
     ]
    }
   ],
   "source": [
    "dfHotelEx.info()\n"
   ]
  },
  {
   "cell_type": "code",
   "execution_count": 12,
   "metadata": {},
   "outputs": [
    {
     "data": {
      "text/plain": [
       "array(['Badung', 'Denpasar', 'Gianyar', 'Sanur', 'Bangli', 'Buleleng',\n",
       "       'Klungkung', 'Tabanan', 'Jembrana', 'Karangasem'], dtype=object)"
      ]
     },
     "execution_count": 12,
     "metadata": {},
     "output_type": "execute_result"
    }
   ],
   "source": [
    "dfHotelEx['city'].unique()\n"
   ]
  },
  {
   "cell_type": "code",
   "execution_count": 13,
   "metadata": {},
   "outputs": [
    {
     "data": {
      "text/plain": [
       "array(['Hotel', 'Resor', 'Apartemen', 'Vila', 'Guest House', 'Homestay',\n",
       "       'B&B', 'Hostel', 'Camping', 'Lainnya', 'Hotel Kapsul'],\n",
       "      dtype=object)"
      ]
     },
     "execution_count": 13,
     "metadata": {},
     "output_type": "execute_result"
    }
   ],
   "source": [
    "dfHotelEx['type'].unique()\n"
   ]
  },
  {
   "cell_type": "code",
   "execution_count": 14,
   "metadata": {},
   "outputs": [],
   "source": [
    "cityEncode = pd.get_dummies(dfHotelEx['city'], prefix='City')\n",
    "typeEncode = pd.get_dummies(dfHotelEx['type'], prefix='Type')\n",
    "dfHotelEx = pd.concat([dfHotelEx, cityEncode, typeEncode], axis=1)\n"
   ]
  },
  {
   "cell_type": "code",
   "execution_count": 15,
   "metadata": {},
   "outputs": [
    {
     "name": "stdout",
     "output_type": "stream",
     "text": [
      "(5110, 23)\n"
     ]
    },
    {
     "data": {
      "text/html": [
       "<div>\n",
       "<style scoped>\n",
       "    .dataframe tbody tr th:only-of-type {\n",
       "        vertical-align: middle;\n",
       "    }\n",
       "\n",
       "    .dataframe tbody tr th {\n",
       "        vertical-align: top;\n",
       "    }\n",
       "\n",
       "    .dataframe thead th {\n",
       "        text-align: right;\n",
       "    }\n",
       "</style>\n",
       "<table border=\"1\" class=\"dataframe\">\n",
       "  <thead>\n",
       "    <tr style=\"text-align: right;\">\n",
       "      <th></th>\n",
       "      <th>originalRate</th>\n",
       "      <th>starRating</th>\n",
       "      <th>City_Badung</th>\n",
       "      <th>City_Bangli</th>\n",
       "      <th>City_Buleleng</th>\n",
       "      <th>City_Denpasar</th>\n",
       "      <th>City_Gianyar</th>\n",
       "      <th>City_Jembrana</th>\n",
       "      <th>City_Karangasem</th>\n",
       "      <th>City_Klungkung</th>\n",
       "      <th>...</th>\n",
       "      <th>Type_B&amp;B</th>\n",
       "      <th>Type_Camping</th>\n",
       "      <th>Type_Guest House</th>\n",
       "      <th>Type_Homestay</th>\n",
       "      <th>Type_Hostel</th>\n",
       "      <th>Type_Hotel</th>\n",
       "      <th>Type_Hotel Kapsul</th>\n",
       "      <th>Type_Lainnya</th>\n",
       "      <th>Type_Resor</th>\n",
       "      <th>Type_Vila</th>\n",
       "    </tr>\n",
       "  </thead>\n",
       "  <tbody>\n",
       "    <tr>\n",
       "      <th>0</th>\n",
       "      <td>1227273</td>\n",
       "      <td>4</td>\n",
       "      <td>1</td>\n",
       "      <td>0</td>\n",
       "      <td>0</td>\n",
       "      <td>0</td>\n",
       "      <td>0</td>\n",
       "      <td>0</td>\n",
       "      <td>0</td>\n",
       "      <td>0</td>\n",
       "      <td>...</td>\n",
       "      <td>0</td>\n",
       "      <td>0</td>\n",
       "      <td>0</td>\n",
       "      <td>0</td>\n",
       "      <td>0</td>\n",
       "      <td>1</td>\n",
       "      <td>0</td>\n",
       "      <td>0</td>\n",
       "      <td>0</td>\n",
       "      <td>0</td>\n",
       "    </tr>\n",
       "    <tr>\n",
       "      <th>1</th>\n",
       "      <td>596694</td>\n",
       "      <td>4</td>\n",
       "      <td>1</td>\n",
       "      <td>0</td>\n",
       "      <td>0</td>\n",
       "      <td>0</td>\n",
       "      <td>0</td>\n",
       "      <td>0</td>\n",
       "      <td>0</td>\n",
       "      <td>0</td>\n",
       "      <td>...</td>\n",
       "      <td>0</td>\n",
       "      <td>0</td>\n",
       "      <td>0</td>\n",
       "      <td>0</td>\n",
       "      <td>0</td>\n",
       "      <td>1</td>\n",
       "      <td>0</td>\n",
       "      <td>0</td>\n",
       "      <td>0</td>\n",
       "      <td>0</td>\n",
       "    </tr>\n",
       "  </tbody>\n",
       "</table>\n",
       "<p>2 rows × 23 columns</p>\n",
       "</div>"
      ],
      "text/plain": [
       "   originalRate  starRating  City_Badung  City_Bangli  City_Buleleng  \\\n",
       "0       1227273           4            1            0              0   \n",
       "1        596694           4            1            0              0   \n",
       "\n",
       "   City_Denpasar  City_Gianyar  City_Jembrana  City_Karangasem  \\\n",
       "0              0             0              0                0   \n",
       "1              0             0              0                0   \n",
       "\n",
       "   City_Klungkung  ...  Type_B&B  Type_Camping  Type_Guest House  \\\n",
       "0               0  ...         0             0                 0   \n",
       "1               0  ...         0             0                 0   \n",
       "\n",
       "   Type_Homestay  Type_Hostel  Type_Hotel  Type_Hotel Kapsul  Type_Lainnya  \\\n",
       "0              0            0           1                  0             0   \n",
       "1              0            0           1                  0             0   \n",
       "\n",
       "   Type_Resor  Type_Vila  \n",
       "0           0          0  \n",
       "1           0          0  \n",
       "\n",
       "[2 rows x 23 columns]"
      ]
     },
     "execution_count": 15,
     "metadata": {},
     "output_type": "execute_result"
    }
   ],
   "source": [
    "dfHotelEx.drop(['city', 'type'], axis=1, inplace=True)\n",
    "print(dfHotelEx.shape)\n",
    "dfHotelEx.head(2)\n"
   ]
  },
  {
   "cell_type": "code",
   "execution_count": 16,
   "metadata": {},
   "outputs": [
    {
     "data": {
      "text/html": [
       "<div>\n",
       "<style scoped>\n",
       "    .dataframe tbody tr th:only-of-type {\n",
       "        vertical-align: middle;\n",
       "    }\n",
       "\n",
       "    .dataframe tbody tr th {\n",
       "        vertical-align: top;\n",
       "    }\n",
       "\n",
       "    .dataframe thead th {\n",
       "        text-align: right;\n",
       "    }\n",
       "</style>\n",
       "<table border=\"1\" class=\"dataframe\">\n",
       "  <thead>\n",
       "    <tr style=\"text-align: right;\">\n",
       "      <th></th>\n",
       "      <th>originalRate</th>\n",
       "      <th>starRating</th>\n",
       "      <th>City_Badung</th>\n",
       "      <th>City_Bangli</th>\n",
       "      <th>City_Buleleng</th>\n",
       "      <th>City_Denpasar</th>\n",
       "      <th>City_Gianyar</th>\n",
       "      <th>City_Jembrana</th>\n",
       "      <th>City_Karangasem</th>\n",
       "      <th>City_Klungkung</th>\n",
       "      <th>...</th>\n",
       "      <th>Type_B&amp;B</th>\n",
       "      <th>Type_Camping</th>\n",
       "      <th>Type_Guest House</th>\n",
       "      <th>Type_Homestay</th>\n",
       "      <th>Type_Hostel</th>\n",
       "      <th>Type_Hotel</th>\n",
       "      <th>Type_Hotel Kapsul</th>\n",
       "      <th>Type_Lainnya</th>\n",
       "      <th>Type_Resor</th>\n",
       "      <th>Type_Vila</th>\n",
       "    </tr>\n",
       "  </thead>\n",
       "  <tbody>\n",
       "    <tr>\n",
       "      <th>count</th>\n",
       "      <td>5.110000e+03</td>\n",
       "      <td>5110.000000</td>\n",
       "      <td>5110.000000</td>\n",
       "      <td>5110.000000</td>\n",
       "      <td>5110.000000</td>\n",
       "      <td>5110.000000</td>\n",
       "      <td>5110.000000</td>\n",
       "      <td>5110.000000</td>\n",
       "      <td>5110.000000</td>\n",
       "      <td>5110.000000</td>\n",
       "      <td>...</td>\n",
       "      <td>5110.000000</td>\n",
       "      <td>5110.000000</td>\n",
       "      <td>5110.000000</td>\n",
       "      <td>5110.000000</td>\n",
       "      <td>5110.000000</td>\n",
       "      <td>5110.000000</td>\n",
       "      <td>5110.000000</td>\n",
       "      <td>5110.000000</td>\n",
       "      <td>5110.000000</td>\n",
       "      <td>5110.000000</td>\n",
       "    </tr>\n",
       "    <tr>\n",
       "      <th>mean</th>\n",
       "      <td>1.248902e+06</td>\n",
       "      <td>3.311155</td>\n",
       "      <td>0.425636</td>\n",
       "      <td>0.011350</td>\n",
       "      <td>0.073386</td>\n",
       "      <td>0.048728</td>\n",
       "      <td>0.196869</td>\n",
       "      <td>0.012720</td>\n",
       "      <td>0.053425</td>\n",
       "      <td>0.100978</td>\n",
       "      <td>...</td>\n",
       "      <td>0.021331</td>\n",
       "      <td>0.002740</td>\n",
       "      <td>0.131311</td>\n",
       "      <td>0.054403</td>\n",
       "      <td>0.021526</td>\n",
       "      <td>0.475734</td>\n",
       "      <td>0.000783</td>\n",
       "      <td>0.001174</td>\n",
       "      <td>0.136791</td>\n",
       "      <td>0.136986</td>\n",
       "    </tr>\n",
       "    <tr>\n",
       "      <th>std</th>\n",
       "      <td>1.170896e+06</td>\n",
       "      <td>1.146472</td>\n",
       "      <td>0.494487</td>\n",
       "      <td>0.105942</td>\n",
       "      <td>0.260794</td>\n",
       "      <td>0.215320</td>\n",
       "      <td>0.397671</td>\n",
       "      <td>0.112075</td>\n",
       "      <td>0.224901</td>\n",
       "      <td>0.301330</td>\n",
       "      <td>...</td>\n",
       "      <td>0.144498</td>\n",
       "      <td>0.052276</td>\n",
       "      <td>0.337773</td>\n",
       "      <td>0.226834</td>\n",
       "      <td>0.145145</td>\n",
       "      <td>0.499460</td>\n",
       "      <td>0.027970</td>\n",
       "      <td>0.034249</td>\n",
       "      <td>0.343660</td>\n",
       "      <td>0.343867</td>\n",
       "    </tr>\n",
       "    <tr>\n",
       "      <th>min</th>\n",
       "      <td>4.031300e+04</td>\n",
       "      <td>0.000000</td>\n",
       "      <td>0.000000</td>\n",
       "      <td>0.000000</td>\n",
       "      <td>0.000000</td>\n",
       "      <td>0.000000</td>\n",
       "      <td>0.000000</td>\n",
       "      <td>0.000000</td>\n",
       "      <td>0.000000</td>\n",
       "      <td>0.000000</td>\n",
       "      <td>...</td>\n",
       "      <td>0.000000</td>\n",
       "      <td>0.000000</td>\n",
       "      <td>0.000000</td>\n",
       "      <td>0.000000</td>\n",
       "      <td>0.000000</td>\n",
       "      <td>0.000000</td>\n",
       "      <td>0.000000</td>\n",
       "      <td>0.000000</td>\n",
       "      <td>0.000000</td>\n",
       "      <td>0.000000</td>\n",
       "    </tr>\n",
       "    <tr>\n",
       "      <th>25%</th>\n",
       "      <td>4.414765e+05</td>\n",
       "      <td>3.000000</td>\n",
       "      <td>0.000000</td>\n",
       "      <td>0.000000</td>\n",
       "      <td>0.000000</td>\n",
       "      <td>0.000000</td>\n",
       "      <td>0.000000</td>\n",
       "      <td>0.000000</td>\n",
       "      <td>0.000000</td>\n",
       "      <td>0.000000</td>\n",
       "      <td>...</td>\n",
       "      <td>0.000000</td>\n",
       "      <td>0.000000</td>\n",
       "      <td>0.000000</td>\n",
       "      <td>0.000000</td>\n",
       "      <td>0.000000</td>\n",
       "      <td>0.000000</td>\n",
       "      <td>0.000000</td>\n",
       "      <td>0.000000</td>\n",
       "      <td>0.000000</td>\n",
       "      <td>0.000000</td>\n",
       "    </tr>\n",
       "    <tr>\n",
       "      <th>50%</th>\n",
       "      <td>8.296815e+05</td>\n",
       "      <td>3.000000</td>\n",
       "      <td>0.000000</td>\n",
       "      <td>0.000000</td>\n",
       "      <td>0.000000</td>\n",
       "      <td>0.000000</td>\n",
       "      <td>0.000000</td>\n",
       "      <td>0.000000</td>\n",
       "      <td>0.000000</td>\n",
       "      <td>0.000000</td>\n",
       "      <td>...</td>\n",
       "      <td>0.000000</td>\n",
       "      <td>0.000000</td>\n",
       "      <td>0.000000</td>\n",
       "      <td>0.000000</td>\n",
       "      <td>0.000000</td>\n",
       "      <td>0.000000</td>\n",
       "      <td>0.000000</td>\n",
       "      <td>0.000000</td>\n",
       "      <td>0.000000</td>\n",
       "      <td>0.000000</td>\n",
       "    </tr>\n",
       "    <tr>\n",
       "      <th>75%</th>\n",
       "      <td>1.636364e+06</td>\n",
       "      <td>4.000000</td>\n",
       "      <td>1.000000</td>\n",
       "      <td>0.000000</td>\n",
       "      <td>0.000000</td>\n",
       "      <td>0.000000</td>\n",
       "      <td>0.000000</td>\n",
       "      <td>0.000000</td>\n",
       "      <td>0.000000</td>\n",
       "      <td>0.000000</td>\n",
       "      <td>...</td>\n",
       "      <td>0.000000</td>\n",
       "      <td>0.000000</td>\n",
       "      <td>0.000000</td>\n",
       "      <td>0.000000</td>\n",
       "      <td>0.000000</td>\n",
       "      <td>1.000000</td>\n",
       "      <td>0.000000</td>\n",
       "      <td>0.000000</td>\n",
       "      <td>0.000000</td>\n",
       "      <td>0.000000</td>\n",
       "    </tr>\n",
       "    <tr>\n",
       "      <th>max</th>\n",
       "      <td>6.611571e+06</td>\n",
       "      <td>5.000000</td>\n",
       "      <td>1.000000</td>\n",
       "      <td>1.000000</td>\n",
       "      <td>1.000000</td>\n",
       "      <td>1.000000</td>\n",
       "      <td>1.000000</td>\n",
       "      <td>1.000000</td>\n",
       "      <td>1.000000</td>\n",
       "      <td>1.000000</td>\n",
       "      <td>...</td>\n",
       "      <td>1.000000</td>\n",
       "      <td>1.000000</td>\n",
       "      <td>1.000000</td>\n",
       "      <td>1.000000</td>\n",
       "      <td>1.000000</td>\n",
       "      <td>1.000000</td>\n",
       "      <td>1.000000</td>\n",
       "      <td>1.000000</td>\n",
       "      <td>1.000000</td>\n",
       "      <td>1.000000</td>\n",
       "    </tr>\n",
       "  </tbody>\n",
       "</table>\n",
       "<p>8 rows × 23 columns</p>\n",
       "</div>"
      ],
      "text/plain": [
       "       originalRate   starRating  City_Badung  City_Bangli  City_Buleleng  \\\n",
       "count  5.110000e+03  5110.000000  5110.000000  5110.000000    5110.000000   \n",
       "mean   1.248902e+06     3.311155     0.425636     0.011350       0.073386   \n",
       "std    1.170896e+06     1.146472     0.494487     0.105942       0.260794   \n",
       "min    4.031300e+04     0.000000     0.000000     0.000000       0.000000   \n",
       "25%    4.414765e+05     3.000000     0.000000     0.000000       0.000000   \n",
       "50%    8.296815e+05     3.000000     0.000000     0.000000       0.000000   \n",
       "75%    1.636364e+06     4.000000     1.000000     0.000000       0.000000   \n",
       "max    6.611571e+06     5.000000     1.000000     1.000000       1.000000   \n",
       "\n",
       "       City_Denpasar  City_Gianyar  City_Jembrana  City_Karangasem  \\\n",
       "count    5110.000000   5110.000000    5110.000000      5110.000000   \n",
       "mean        0.048728      0.196869       0.012720         0.053425   \n",
       "std         0.215320      0.397671       0.112075         0.224901   \n",
       "min         0.000000      0.000000       0.000000         0.000000   \n",
       "25%         0.000000      0.000000       0.000000         0.000000   \n",
       "50%         0.000000      0.000000       0.000000         0.000000   \n",
       "75%         0.000000      0.000000       0.000000         0.000000   \n",
       "max         1.000000      1.000000       1.000000         1.000000   \n",
       "\n",
       "       City_Klungkung  ...     Type_B&B  Type_Camping  Type_Guest House  \\\n",
       "count     5110.000000  ...  5110.000000   5110.000000       5110.000000   \n",
       "mean         0.100978  ...     0.021331      0.002740          0.131311   \n",
       "std          0.301330  ...     0.144498      0.052276          0.337773   \n",
       "min          0.000000  ...     0.000000      0.000000          0.000000   \n",
       "25%          0.000000  ...     0.000000      0.000000          0.000000   \n",
       "50%          0.000000  ...     0.000000      0.000000          0.000000   \n",
       "75%          0.000000  ...     0.000000      0.000000          0.000000   \n",
       "max          1.000000  ...     1.000000      1.000000          1.000000   \n",
       "\n",
       "       Type_Homestay  Type_Hostel   Type_Hotel  Type_Hotel Kapsul  \\\n",
       "count    5110.000000  5110.000000  5110.000000        5110.000000   \n",
       "mean        0.054403     0.021526     0.475734           0.000783   \n",
       "std         0.226834     0.145145     0.499460           0.027970   \n",
       "min         0.000000     0.000000     0.000000           0.000000   \n",
       "25%         0.000000     0.000000     0.000000           0.000000   \n",
       "50%         0.000000     0.000000     0.000000           0.000000   \n",
       "75%         0.000000     0.000000     1.000000           0.000000   \n",
       "max         1.000000     1.000000     1.000000           1.000000   \n",
       "\n",
       "       Type_Lainnya   Type_Resor    Type_Vila  \n",
       "count   5110.000000  5110.000000  5110.000000  \n",
       "mean       0.001174     0.136791     0.136986  \n",
       "std        0.034249     0.343660     0.343867  \n",
       "min        0.000000     0.000000     0.000000  \n",
       "25%        0.000000     0.000000     0.000000  \n",
       "50%        0.000000     0.000000     0.000000  \n",
       "75%        0.000000     0.000000     0.000000  \n",
       "max        1.000000     1.000000     1.000000  \n",
       "\n",
       "[8 rows x 23 columns]"
      ]
     },
     "execution_count": 16,
     "metadata": {},
     "output_type": "execute_result"
    }
   ],
   "source": [
    "dfHotelEx.describe()\n"
   ]
  },
  {
   "cell_type": "markdown",
   "metadata": {},
   "source": [
    "#### Room Extra Features"
   ]
  },
  {
   "cell_type": "code",
   "execution_count": 17,
   "metadata": {},
   "outputs": [
    {
     "data": {
      "text/html": [
       "<div>\n",
       "<style scoped>\n",
       "    .dataframe tbody tr th:only-of-type {\n",
       "        vertical-align: middle;\n",
       "    }\n",
       "\n",
       "    .dataframe tbody tr th {\n",
       "        vertical-align: top;\n",
       "    }\n",
       "\n",
       "    .dataframe thead th {\n",
       "        text-align: right;\n",
       "    }\n",
       "</style>\n",
       "<table border=\"1\" class=\"dataframe\">\n",
       "  <thead>\n",
       "    <tr style=\"text-align: right;\">\n",
       "      <th></th>\n",
       "      <th>originalRate</th>\n",
       "      <th>size</th>\n",
       "      <th>baseOccupancy</th>\n",
       "      <th>maxChildOccupancy</th>\n",
       "      <th>maxChildAge</th>\n",
       "      <th>isBreakfastIncluded</th>\n",
       "      <th>isWifiIncluded</th>\n",
       "      <th>isRefundable</th>\n",
       "      <th>hasLivingRoom</th>\n",
       "    </tr>\n",
       "  </thead>\n",
       "  <tbody>\n",
       "    <tr>\n",
       "      <th>0</th>\n",
       "      <td>1227273</td>\n",
       "      <td>46.0</td>\n",
       "      <td>3</td>\n",
       "      <td>1</td>\n",
       "      <td>5</td>\n",
       "      <td>1</td>\n",
       "      <td>1</td>\n",
       "      <td>1</td>\n",
       "      <td>0</td>\n",
       "    </tr>\n",
       "    <tr>\n",
       "      <th>1</th>\n",
       "      <td>596694</td>\n",
       "      <td>31.0</td>\n",
       "      <td>2</td>\n",
       "      <td>1</td>\n",
       "      <td>5</td>\n",
       "      <td>0</td>\n",
       "      <td>1</td>\n",
       "      <td>1</td>\n",
       "      <td>0</td>\n",
       "    </tr>\n",
       "  </tbody>\n",
       "</table>\n",
       "</div>"
      ],
      "text/plain": [
       "   originalRate  size  baseOccupancy  maxChildOccupancy  maxChildAge  \\\n",
       "0       1227273  46.0              3                  1            5   \n",
       "1        596694  31.0              2                  1            5   \n",
       "\n",
       "   isBreakfastIncluded  isWifiIncluded  isRefundable  hasLivingRoom  \n",
       "0                    1               1             1              0  \n",
       "1                    0               1             1              0  "
      ]
     },
     "execution_count": 17,
     "metadata": {},
     "output_type": "execute_result"
    }
   ],
   "source": [
    "dfRoomEx.head(2)\n"
   ]
  },
  {
   "attachments": {},
   "cell_type": "markdown",
   "metadata": {},
   "source": [
    "### Hotel Feature"
   ]
  },
  {
   "cell_type": "code",
   "execution_count": 18,
   "metadata": {},
   "outputs": [
    {
     "name": "stdout",
     "output_type": "stream",
     "text": [
      "(5110, 242)\n"
     ]
    },
    {
     "data": {
      "text/html": [
       "<div>\n",
       "<style scoped>\n",
       "    .dataframe tbody tr th:only-of-type {\n",
       "        vertical-align: middle;\n",
       "    }\n",
       "\n",
       "    .dataframe tbody tr th {\n",
       "        vertical-align: top;\n",
       "    }\n",
       "\n",
       "    .dataframe thead th {\n",
       "        text-align: right;\n",
       "    }\n",
       "</style>\n",
       "<table border=\"1\" class=\"dataframe\">\n",
       "  <thead>\n",
       "    <tr style=\"text-align: right;\">\n",
       "      <th></th>\n",
       "      <th>originalRate</th>\n",
       "      <th>hotelFacilities</th>\n",
       "      <th>CARPARK</th>\n",
       "      <th>ELEVATOR</th>\n",
       "      <th>HAS_24_HOUR_ROOM_SERVICE</th>\n",
       "      <th>RESTAURANT</th>\n",
       "      <th>RESTAURANT_FOR_BREAKFAST</th>\n",
       "      <th>RESTAURANT_FOR_DINNER</th>\n",
       "      <th>RESTAURANT_FOR_LUNCH</th>\n",
       "      <th>SAFETY_DEPOSIT_BOX</th>\n",
       "      <th>...</th>\n",
       "      <th>PETS_ALLOWED</th>\n",
       "      <th>SMALL_PETS_ALLOWED</th>\n",
       "      <th>WATER_PARK_ACCESS_SURCHARGE</th>\n",
       "      <th>PRIVATE_BEACH</th>\n",
       "      <th>SURFING</th>\n",
       "      <th>PRIVATE_BEACH_NEARBY</th>\n",
       "      <th>BEACH_SUN_LOUNGERS</th>\n",
       "      <th>DARTS</th>\n",
       "      <th>ENTERTAINMENT_PROGRAMME_FOR_CHILDREN</th>\n",
       "      <th>KARAOKE</th>\n",
       "    </tr>\n",
       "  </thead>\n",
       "  <tbody>\n",
       "    <tr>\n",
       "      <th>0</th>\n",
       "      <td>1227273</td>\n",
       "      <td>[\"CARPARK\",\"ELEVATOR\",\"HAS_24_HOUR_ROOM_SERVIC...</td>\n",
       "      <td>NaN</td>\n",
       "      <td>NaN</td>\n",
       "      <td>NaN</td>\n",
       "      <td>NaN</td>\n",
       "      <td>NaN</td>\n",
       "      <td>NaN</td>\n",
       "      <td>NaN</td>\n",
       "      <td>NaN</td>\n",
       "      <td>...</td>\n",
       "      <td>NaN</td>\n",
       "      <td>NaN</td>\n",
       "      <td>NaN</td>\n",
       "      <td>NaN</td>\n",
       "      <td>NaN</td>\n",
       "      <td>NaN</td>\n",
       "      <td>NaN</td>\n",
       "      <td>NaN</td>\n",
       "      <td>NaN</td>\n",
       "      <td>NaN</td>\n",
       "    </tr>\n",
       "    <tr>\n",
       "      <th>1</th>\n",
       "      <td>596694</td>\n",
       "      <td>[\"CARPARK\",\"ELEVATOR\",\"HAS_24_HOUR_ROOM_SERVIC...</td>\n",
       "      <td>NaN</td>\n",
       "      <td>NaN</td>\n",
       "      <td>NaN</td>\n",
       "      <td>NaN</td>\n",
       "      <td>NaN</td>\n",
       "      <td>NaN</td>\n",
       "      <td>NaN</td>\n",
       "      <td>NaN</td>\n",
       "      <td>...</td>\n",
       "      <td>NaN</td>\n",
       "      <td>NaN</td>\n",
       "      <td>NaN</td>\n",
       "      <td>NaN</td>\n",
       "      <td>NaN</td>\n",
       "      <td>NaN</td>\n",
       "      <td>NaN</td>\n",
       "      <td>NaN</td>\n",
       "      <td>NaN</td>\n",
       "      <td>NaN</td>\n",
       "    </tr>\n",
       "  </tbody>\n",
       "</table>\n",
       "<p>2 rows × 242 columns</p>\n",
       "</div>"
      ],
      "text/plain": [
       "   originalRate                                    hotelFacilities CARPARK  \\\n",
       "0       1227273  [\"CARPARK\",\"ELEVATOR\",\"HAS_24_HOUR_ROOM_SERVIC...     NaN   \n",
       "1        596694  [\"CARPARK\",\"ELEVATOR\",\"HAS_24_HOUR_ROOM_SERVIC...     NaN   \n",
       "\n",
       "  ELEVATOR HAS_24_HOUR_ROOM_SERVICE RESTAURANT RESTAURANT_FOR_BREAKFAST  \\\n",
       "0      NaN                      NaN        NaN                      NaN   \n",
       "1      NaN                      NaN        NaN                      NaN   \n",
       "\n",
       "  RESTAURANT_FOR_DINNER RESTAURANT_FOR_LUNCH SAFETY_DEPOSIT_BOX  ...  \\\n",
       "0                   NaN                  NaN                NaN  ...   \n",
       "1                   NaN                  NaN                NaN  ...   \n",
       "\n",
       "  PETS_ALLOWED SMALL_PETS_ALLOWED WATER_PARK_ACCESS_SURCHARGE PRIVATE_BEACH  \\\n",
       "0          NaN                NaN                         NaN           NaN   \n",
       "1          NaN                NaN                         NaN           NaN   \n",
       "\n",
       "  SURFING PRIVATE_BEACH_NEARBY BEACH_SUN_LOUNGERS DARTS  \\\n",
       "0     NaN                  NaN                NaN   NaN   \n",
       "1     NaN                  NaN                NaN   NaN   \n",
       "\n",
       "  ENTERTAINMENT_PROGRAMME_FOR_CHILDREN KARAOKE  \n",
       "0                                  NaN     NaN  \n",
       "1                                  NaN     NaN  \n",
       "\n",
       "[2 rows x 242 columns]"
      ]
     },
     "execution_count": 18,
     "metadata": {},
     "output_type": "execute_result"
    }
   ],
   "source": [
    "dfHotel = pd.concat([df.pop('hotelFacilities'), dfHotelEncode], axis=1)\n",
    "dfHotel = pd.concat([dfPrice, dfHotel], axis=1)\n",
    "print(dfHotel.shape)\n",
    "dfHotel.head(2)\n"
   ]
  },
  {
   "cell_type": "code",
   "execution_count": 19,
   "metadata": {},
   "outputs": [
    {
     "name": "stdout",
     "output_type": "stream",
     "text": [
      "(5051, 242)\n"
     ]
    },
    {
     "data": {
      "text/html": [
       "<div>\n",
       "<style scoped>\n",
       "    .dataframe tbody tr th:only-of-type {\n",
       "        vertical-align: middle;\n",
       "    }\n",
       "\n",
       "    .dataframe tbody tr th {\n",
       "        vertical-align: top;\n",
       "    }\n",
       "\n",
       "    .dataframe thead th {\n",
       "        text-align: right;\n",
       "    }\n",
       "</style>\n",
       "<table border=\"1\" class=\"dataframe\">\n",
       "  <thead>\n",
       "    <tr style=\"text-align: right;\">\n",
       "      <th></th>\n",
       "      <th>originalRate</th>\n",
       "      <th>hotelFacilities</th>\n",
       "      <th>CARPARK</th>\n",
       "      <th>ELEVATOR</th>\n",
       "      <th>HAS_24_HOUR_ROOM_SERVICE</th>\n",
       "      <th>RESTAURANT</th>\n",
       "      <th>RESTAURANT_FOR_BREAKFAST</th>\n",
       "      <th>RESTAURANT_FOR_DINNER</th>\n",
       "      <th>RESTAURANT_FOR_LUNCH</th>\n",
       "      <th>SAFETY_DEPOSIT_BOX</th>\n",
       "      <th>...</th>\n",
       "      <th>PETS_ALLOWED</th>\n",
       "      <th>SMALL_PETS_ALLOWED</th>\n",
       "      <th>WATER_PARK_ACCESS_SURCHARGE</th>\n",
       "      <th>PRIVATE_BEACH</th>\n",
       "      <th>SURFING</th>\n",
       "      <th>PRIVATE_BEACH_NEARBY</th>\n",
       "      <th>BEACH_SUN_LOUNGERS</th>\n",
       "      <th>DARTS</th>\n",
       "      <th>ENTERTAINMENT_PROGRAMME_FOR_CHILDREN</th>\n",
       "      <th>KARAOKE</th>\n",
       "    </tr>\n",
       "  </thead>\n",
       "  <tbody>\n",
       "    <tr>\n",
       "      <th>0</th>\n",
       "      <td>1227273</td>\n",
       "      <td>[\"CARPARK\",\"ELEVATOR\",\"HAS_24_HOUR_ROOM_SERVIC...</td>\n",
       "      <td>1</td>\n",
       "      <td>1</td>\n",
       "      <td>1</td>\n",
       "      <td>1</td>\n",
       "      <td>1</td>\n",
       "      <td>1</td>\n",
       "      <td>1</td>\n",
       "      <td>1</td>\n",
       "      <td>...</td>\n",
       "      <td>0</td>\n",
       "      <td>0</td>\n",
       "      <td>0</td>\n",
       "      <td>0</td>\n",
       "      <td>0</td>\n",
       "      <td>0</td>\n",
       "      <td>0</td>\n",
       "      <td>0</td>\n",
       "      <td>0</td>\n",
       "      <td>0</td>\n",
       "    </tr>\n",
       "    <tr>\n",
       "      <th>1</th>\n",
       "      <td>596694</td>\n",
       "      <td>[\"CARPARK\",\"ELEVATOR\",\"HAS_24_HOUR_ROOM_SERVIC...</td>\n",
       "      <td>1</td>\n",
       "      <td>1</td>\n",
       "      <td>1</td>\n",
       "      <td>1</td>\n",
       "      <td>1</td>\n",
       "      <td>1</td>\n",
       "      <td>1</td>\n",
       "      <td>1</td>\n",
       "      <td>...</td>\n",
       "      <td>0</td>\n",
       "      <td>0</td>\n",
       "      <td>0</td>\n",
       "      <td>0</td>\n",
       "      <td>0</td>\n",
       "      <td>0</td>\n",
       "      <td>0</td>\n",
       "      <td>0</td>\n",
       "      <td>0</td>\n",
       "      <td>0</td>\n",
       "    </tr>\n",
       "    <tr>\n",
       "      <th>2</th>\n",
       "      <td>1450413</td>\n",
       "      <td>[\"CARPARK\",\"ELEVATOR\",\"HAS_24_HOUR_ROOM_SERVIC...</td>\n",
       "      <td>1</td>\n",
       "      <td>1</td>\n",
       "      <td>1</td>\n",
       "      <td>1</td>\n",
       "      <td>1</td>\n",
       "      <td>1</td>\n",
       "      <td>1</td>\n",
       "      <td>1</td>\n",
       "      <td>...</td>\n",
       "      <td>0</td>\n",
       "      <td>0</td>\n",
       "      <td>0</td>\n",
       "      <td>0</td>\n",
       "      <td>0</td>\n",
       "      <td>0</td>\n",
       "      <td>0</td>\n",
       "      <td>0</td>\n",
       "      <td>0</td>\n",
       "      <td>0</td>\n",
       "    </tr>\n",
       "    <tr>\n",
       "      <th>3</th>\n",
       "      <td>855372</td>\n",
       "      <td>[\"CARPARK\",\"ELEVATOR\",\"HAS_24_HOUR_ROOM_SERVIC...</td>\n",
       "      <td>1</td>\n",
       "      <td>1</td>\n",
       "      <td>1</td>\n",
       "      <td>1</td>\n",
       "      <td>1</td>\n",
       "      <td>1</td>\n",
       "      <td>1</td>\n",
       "      <td>1</td>\n",
       "      <td>...</td>\n",
       "      <td>0</td>\n",
       "      <td>0</td>\n",
       "      <td>0</td>\n",
       "      <td>0</td>\n",
       "      <td>0</td>\n",
       "      <td>0</td>\n",
       "      <td>0</td>\n",
       "      <td>0</td>\n",
       "      <td>0</td>\n",
       "      <td>0</td>\n",
       "    </tr>\n",
       "    <tr>\n",
       "      <th>4</th>\n",
       "      <td>2545455</td>\n",
       "      <td>[\"CARPARK\",\"COFFEE_SHOP\",\"ELEVATOR\",\"HAS_24_HO...</td>\n",
       "      <td>1</td>\n",
       "      <td>1</td>\n",
       "      <td>1</td>\n",
       "      <td>1</td>\n",
       "      <td>1</td>\n",
       "      <td>1</td>\n",
       "      <td>1</td>\n",
       "      <td>1</td>\n",
       "      <td>...</td>\n",
       "      <td>0</td>\n",
       "      <td>0</td>\n",
       "      <td>0</td>\n",
       "      <td>1</td>\n",
       "      <td>0</td>\n",
       "      <td>0</td>\n",
       "      <td>0</td>\n",
       "      <td>0</td>\n",
       "      <td>0</td>\n",
       "      <td>0</td>\n",
       "    </tr>\n",
       "  </tbody>\n",
       "</table>\n",
       "<p>5 rows × 242 columns</p>\n",
       "</div>"
      ],
      "text/plain": [
       "   originalRate                                    hotelFacilities CARPARK  \\\n",
       "0       1227273  [\"CARPARK\",\"ELEVATOR\",\"HAS_24_HOUR_ROOM_SERVIC...       1   \n",
       "1        596694  [\"CARPARK\",\"ELEVATOR\",\"HAS_24_HOUR_ROOM_SERVIC...       1   \n",
       "2       1450413  [\"CARPARK\",\"ELEVATOR\",\"HAS_24_HOUR_ROOM_SERVIC...       1   \n",
       "3        855372  [\"CARPARK\",\"ELEVATOR\",\"HAS_24_HOUR_ROOM_SERVIC...       1   \n",
       "4       2545455  [\"CARPARK\",\"COFFEE_SHOP\",\"ELEVATOR\",\"HAS_24_HO...       1   \n",
       "\n",
       "  ELEVATOR HAS_24_HOUR_ROOM_SERVICE RESTAURANT RESTAURANT_FOR_BREAKFAST  \\\n",
       "0        1                        1          1                        1   \n",
       "1        1                        1          1                        1   \n",
       "2        1                        1          1                        1   \n",
       "3        1                        1          1                        1   \n",
       "4        1                        1          1                        1   \n",
       "\n",
       "  RESTAURANT_FOR_DINNER RESTAURANT_FOR_LUNCH SAFETY_DEPOSIT_BOX  ...  \\\n",
       "0                     1                    1                  1  ...   \n",
       "1                     1                    1                  1  ...   \n",
       "2                     1                    1                  1  ...   \n",
       "3                     1                    1                  1  ...   \n",
       "4                     1                    1                  1  ...   \n",
       "\n",
       "  PETS_ALLOWED SMALL_PETS_ALLOWED WATER_PARK_ACCESS_SURCHARGE PRIVATE_BEACH  \\\n",
       "0            0                  0                           0             0   \n",
       "1            0                  0                           0             0   \n",
       "2            0                  0                           0             0   \n",
       "3            0                  0                           0             0   \n",
       "4            0                  0                           0             1   \n",
       "\n",
       "  SURFING PRIVATE_BEACH_NEARBY BEACH_SUN_LOUNGERS DARTS  \\\n",
       "0       0                    0                  0     0   \n",
       "1       0                    0                  0     0   \n",
       "2       0                    0                  0     0   \n",
       "3       0                    0                  0     0   \n",
       "4       0                    0                  0     0   \n",
       "\n",
       "  ENTERTAINMENT_PROGRAMME_FOR_CHILDREN KARAOKE  \n",
       "0                                    0       0  \n",
       "1                                    0       0  \n",
       "2                                    0       0  \n",
       "3                                    0       0  \n",
       "4                                    0       0  \n",
       "\n",
       "[5 rows x 242 columns]"
      ]
     },
     "execution_count": 19,
     "metadata": {},
     "output_type": "execute_result"
    }
   ],
   "source": [
    "# add value to decoded columns\n",
    "for i in range(len(dfHotel)):\n",
    "    value = dfHotel['hotelFacilities'][i]\n",
    "    if value == '[]':\n",
    "        dfHotel.drop([i], axis=0, inplace=True)\n",
    "        continue\n",
    "    for j in range(2, len(dfHotel.columns)):\n",
    "        column_name = dfHotel.columns[j]\n",
    "        if column_name in value:\n",
    "            dfHotel.loc[i, column_name] = 1\n",
    "        else:\n",
    "            dfHotel.loc[i, column_name] = 0\n",
    "print(dfHotel.shape)\n",
    "dfHotel.head()"
   ]
  },
  {
   "cell_type": "code",
   "execution_count": 20,
   "metadata": {},
   "outputs": [],
   "source": [
    "# Remove hotelFacilities column\n",
    "dfHotel.drop('hotelFacilities', axis=1, inplace=True)\n"
   ]
  },
  {
   "cell_type": "code",
   "execution_count": 21,
   "metadata": {},
   "outputs": [],
   "source": [
    "for i in range(1, len(dfHotel.columns)):\n",
    "    dfHotel = dfHotel.astype({dfHotel.columns[i]: int})"
   ]
  },
  {
   "attachments": {},
   "cell_type": "markdown",
   "metadata": {},
   "source": [
    "### Room Feature"
   ]
  },
  {
   "cell_type": "code",
   "execution_count": 22,
   "metadata": {},
   "outputs": [
    {
     "name": "stdout",
     "output_type": "stream",
     "text": [
      "(5110, 111)\n"
     ]
    },
    {
     "data": {
      "text/html": [
       "<div>\n",
       "<style scoped>\n",
       "    .dataframe tbody tr th:only-of-type {\n",
       "        vertical-align: middle;\n",
       "    }\n",
       "\n",
       "    .dataframe tbody tr th {\n",
       "        vertical-align: top;\n",
       "    }\n",
       "\n",
       "    .dataframe thead th {\n",
       "        text-align: right;\n",
       "    }\n",
       "</style>\n",
       "<table border=\"1\" class=\"dataframe\">\n",
       "  <thead>\n",
       "    <tr style=\"text-align: right;\">\n",
       "      <th></th>\n",
       "      <th>originalRate</th>\n",
       "      <th>roomFacilities</th>\n",
       "      <th>AIR_CONDITIONING</th>\n",
       "      <th>BALCONY_TERRACE</th>\n",
       "      <th>BATHROBES</th>\n",
       "      <th>BATHTUB</th>\n",
       "      <th>BLACKOUT_DRAPES_CURTAINS</th>\n",
       "      <th>COFFEE_TEA_MAKER</th>\n",
       "      <th>COMPLIMENTARY_BOTTLED_WATER</th>\n",
       "      <th>DESK</th>\n",
       "      <th>...</th>\n",
       "      <th>ROLLAWAY_OR_EXTRA_BEDS</th>\n",
       "      <th>TABLET</th>\n",
       "      <th>YARD</th>\n",
       "      <th>PORCH_OR_LANAI</th>\n",
       "      <th>IN_ROOM_SAFE_SURCHARGE</th>\n",
       "      <th>NETFLIX</th>\n",
       "      <th>HOUSEKEEPING_ON_REQUEST</th>\n",
       "      <th>NO_HOUSEKEEPING</th>\n",
       "      <th>CHANGING_TABLE</th>\n",
       "      <th>MICROWAVE_SURCHARGE</th>\n",
       "    </tr>\n",
       "  </thead>\n",
       "  <tbody>\n",
       "    <tr>\n",
       "      <th>0</th>\n",
       "      <td>1227273</td>\n",
       "      <td>[\"AIR_CONDITIONING\",\"BALCONY_TERRACE\",\"BATHROB...</td>\n",
       "      <td>NaN</td>\n",
       "      <td>NaN</td>\n",
       "      <td>NaN</td>\n",
       "      <td>NaN</td>\n",
       "      <td>NaN</td>\n",
       "      <td>NaN</td>\n",
       "      <td>NaN</td>\n",
       "      <td>NaN</td>\n",
       "      <td>...</td>\n",
       "      <td>NaN</td>\n",
       "      <td>NaN</td>\n",
       "      <td>NaN</td>\n",
       "      <td>NaN</td>\n",
       "      <td>NaN</td>\n",
       "      <td>NaN</td>\n",
       "      <td>NaN</td>\n",
       "      <td>NaN</td>\n",
       "      <td>NaN</td>\n",
       "      <td>NaN</td>\n",
       "    </tr>\n",
       "    <tr>\n",
       "      <th>1</th>\n",
       "      <td>596694</td>\n",
       "      <td>[\"AIR_CONDITIONING\",\"BATHROBES\",\"BATHTUB\",\"BLA...</td>\n",
       "      <td>NaN</td>\n",
       "      <td>NaN</td>\n",
       "      <td>NaN</td>\n",
       "      <td>NaN</td>\n",
       "      <td>NaN</td>\n",
       "      <td>NaN</td>\n",
       "      <td>NaN</td>\n",
       "      <td>NaN</td>\n",
       "      <td>...</td>\n",
       "      <td>NaN</td>\n",
       "      <td>NaN</td>\n",
       "      <td>NaN</td>\n",
       "      <td>NaN</td>\n",
       "      <td>NaN</td>\n",
       "      <td>NaN</td>\n",
       "      <td>NaN</td>\n",
       "      <td>NaN</td>\n",
       "      <td>NaN</td>\n",
       "      <td>NaN</td>\n",
       "    </tr>\n",
       "  </tbody>\n",
       "</table>\n",
       "<p>2 rows × 111 columns</p>\n",
       "</div>"
      ],
      "text/plain": [
       "   originalRate                                     roomFacilities  \\\n",
       "0       1227273  [\"AIR_CONDITIONING\",\"BALCONY_TERRACE\",\"BATHROB...   \n",
       "1        596694  [\"AIR_CONDITIONING\",\"BATHROBES\",\"BATHTUB\",\"BLA...   \n",
       "\n",
       "  AIR_CONDITIONING BALCONY_TERRACE BATHROBES BATHTUB BLACKOUT_DRAPES_CURTAINS  \\\n",
       "0              NaN             NaN       NaN     NaN                      NaN   \n",
       "1              NaN             NaN       NaN     NaN                      NaN   \n",
       "\n",
       "  COFFEE_TEA_MAKER COMPLIMENTARY_BOTTLED_WATER DESK  ...  \\\n",
       "0              NaN                         NaN  NaN  ...   \n",
       "1              NaN                         NaN  NaN  ...   \n",
       "\n",
       "  ROLLAWAY_OR_EXTRA_BEDS TABLET YARD PORCH_OR_LANAI IN_ROOM_SAFE_SURCHARGE  \\\n",
       "0                    NaN    NaN  NaN            NaN                    NaN   \n",
       "1                    NaN    NaN  NaN            NaN                    NaN   \n",
       "\n",
       "  NETFLIX HOUSEKEEPING_ON_REQUEST NO_HOUSEKEEPING CHANGING_TABLE  \\\n",
       "0     NaN                     NaN             NaN            NaN   \n",
       "1     NaN                     NaN             NaN            NaN   \n",
       "\n",
       "  MICROWAVE_SURCHARGE  \n",
       "0                 NaN  \n",
       "1                 NaN  \n",
       "\n",
       "[2 rows x 111 columns]"
      ]
     },
     "execution_count": 22,
     "metadata": {},
     "output_type": "execute_result"
    }
   ],
   "source": [
    "dfRoom = pd.concat([df.pop('roomFacilities'), dfRoomEncode], axis=1)\n",
    "dfRoom = pd.concat([dfPrice, dfRoom], axis=1)\n",
    "print(dfRoom.shape)\n",
    "dfRoom.head(2)\n"
   ]
  },
  {
   "cell_type": "code",
   "execution_count": 23,
   "metadata": {},
   "outputs": [
    {
     "name": "stdout",
     "output_type": "stream",
     "text": [
      "(4895, 111)\n"
     ]
    }
   ],
   "source": [
    "# add value to decoded columns\n",
    "for i in range(len(dfRoom)):\n",
    "    value = dfRoom['roomFacilities'][i]\n",
    "    if value == '[]':\n",
    "        dfRoom.drop([i], axis=0, inplace=True)\n",
    "        continue\n",
    "    for j in range(2, len(dfRoom.columns)):\n",
    "        column_name = dfRoom.columns[j]\n",
    "        if column_name in value:\n",
    "            dfRoom.loc[i, column_name] = 1\n",
    "        else:\n",
    "            dfRoom.loc[i, column_name] = 0\n",
    "print(dfRoom.shape)"
   ]
  },
  {
   "cell_type": "code",
   "execution_count": 24,
   "metadata": {},
   "outputs": [],
   "source": [
    "dfRoom.drop('roomFacilities', axis=1, inplace=True)\n"
   ]
  },
  {
   "cell_type": "code",
   "execution_count": 25,
   "metadata": {},
   "outputs": [],
   "source": [
    "for i in range(1, len(dfRoom.columns)):\n",
    "    dfRoom = dfRoom.astype({dfRoom.columns[i]: int})"
   ]
  },
  {
   "attachments": {},
   "cell_type": "markdown",
   "metadata": {},
   "source": [
    "### Point of Interest Feature"
   ]
  },
  {
   "cell_type": "code",
   "execution_count": 26,
   "metadata": {},
   "outputs": [
    {
     "data": {
      "text/html": [
       "<div>\n",
       "<style scoped>\n",
       "    .dataframe tbody tr th:only-of-type {\n",
       "        vertical-align: middle;\n",
       "    }\n",
       "\n",
       "    .dataframe tbody tr th {\n",
       "        vertical-align: top;\n",
       "    }\n",
       "\n",
       "    .dataframe thead th {\n",
       "        text-align: right;\n",
       "    }\n",
       "</style>\n",
       "<table border=\"1\" class=\"dataframe\">\n",
       "  <thead>\n",
       "    <tr style=\"text-align: right;\">\n",
       "      <th></th>\n",
       "      <th>originalRate</th>\n",
       "      <th>nearestPointOfInterests</th>\n",
       "      <th>SHOPPING_AREA</th>\n",
       "      <th>OFFICIAL_BUILDING</th>\n",
       "      <th>RESTAURANT</th>\n",
       "      <th>ATTRACTION</th>\n",
       "      <th>BEACH</th>\n",
       "      <th>MONUMENT</th>\n",
       "      <th>TERMINAL</th>\n",
       "      <th>PARK</th>\n",
       "      <th>...</th>\n",
       "      <th>MUSEUM</th>\n",
       "      <th>GALLERY</th>\n",
       "      <th>PLACE_OF_WORSHIP</th>\n",
       "      <th>TRAIN_STATION</th>\n",
       "      <th>ZOO</th>\n",
       "      <th>ENTERTAINMENT</th>\n",
       "      <th>GARDEN</th>\n",
       "      <th>THEATER</th>\n",
       "      <th>STORE</th>\n",
       "      <th>SCHOOL</th>\n",
       "    </tr>\n",
       "  </thead>\n",
       "  <tbody>\n",
       "    <tr>\n",
       "      <th>0</th>\n",
       "      <td>1227273</td>\n",
       "      <td>[{\"landmarkId\":\"91589773100576\",\"geoId\":null,\"...</td>\n",
       "      <td>NaN</td>\n",
       "      <td>NaN</td>\n",
       "      <td>NaN</td>\n",
       "      <td>NaN</td>\n",
       "      <td>NaN</td>\n",
       "      <td>NaN</td>\n",
       "      <td>NaN</td>\n",
       "      <td>NaN</td>\n",
       "      <td>...</td>\n",
       "      <td>NaN</td>\n",
       "      <td>NaN</td>\n",
       "      <td>NaN</td>\n",
       "      <td>NaN</td>\n",
       "      <td>NaN</td>\n",
       "      <td>NaN</td>\n",
       "      <td>NaN</td>\n",
       "      <td>NaN</td>\n",
       "      <td>NaN</td>\n",
       "      <td>NaN</td>\n",
       "    </tr>\n",
       "    <tr>\n",
       "      <th>1</th>\n",
       "      <td>596694</td>\n",
       "      <td>[{\"landmarkId\":\"91589773100576\",\"geoId\":null,\"...</td>\n",
       "      <td>NaN</td>\n",
       "      <td>NaN</td>\n",
       "      <td>NaN</td>\n",
       "      <td>NaN</td>\n",
       "      <td>NaN</td>\n",
       "      <td>NaN</td>\n",
       "      <td>NaN</td>\n",
       "      <td>NaN</td>\n",
       "      <td>...</td>\n",
       "      <td>NaN</td>\n",
       "      <td>NaN</td>\n",
       "      <td>NaN</td>\n",
       "      <td>NaN</td>\n",
       "      <td>NaN</td>\n",
       "      <td>NaN</td>\n",
       "      <td>NaN</td>\n",
       "      <td>NaN</td>\n",
       "      <td>NaN</td>\n",
       "      <td>NaN</td>\n",
       "    </tr>\n",
       "  </tbody>\n",
       "</table>\n",
       "<p>2 rows × 21 columns</p>\n",
       "</div>"
      ],
      "text/plain": [
       "   originalRate                            nearestPointOfInterests  \\\n",
       "0       1227273  [{\"landmarkId\":\"91589773100576\",\"geoId\":null,\"...   \n",
       "1        596694  [{\"landmarkId\":\"91589773100576\",\"geoId\":null,\"...   \n",
       "\n",
       "  SHOPPING_AREA OFFICIAL_BUILDING RESTAURANT ATTRACTION BEACH MONUMENT  \\\n",
       "0           NaN               NaN        NaN        NaN   NaN      NaN   \n",
       "1           NaN               NaN        NaN        NaN   NaN      NaN   \n",
       "\n",
       "  TERMINAL PARK  ... MUSEUM GALLERY PLACE_OF_WORSHIP TRAIN_STATION  ZOO  \\\n",
       "0      NaN  NaN  ...    NaN     NaN              NaN           NaN  NaN   \n",
       "1      NaN  NaN  ...    NaN     NaN              NaN           NaN  NaN   \n",
       "\n",
       "  ENTERTAINMENT GARDEN THEATER STORE SCHOOL  \n",
       "0           NaN    NaN     NaN   NaN    NaN  \n",
       "1           NaN    NaN     NaN   NaN    NaN  \n",
       "\n",
       "[2 rows x 21 columns]"
      ]
     },
     "execution_count": 26,
     "metadata": {},
     "output_type": "execute_result"
    }
   ],
   "source": [
    "dfPoint = pd.concat([df.pop('nearestPointOfInterests'), dfPointEncode], axis=1)\n",
    "dfPoint = pd.concat([dfPrice, dfPoint], axis=1)\n",
    "dfPoint.head(2)\n"
   ]
  },
  {
   "cell_type": "code",
   "execution_count": 27,
   "metadata": {},
   "outputs": [
    {
     "name": "stdout",
     "output_type": "stream",
     "text": [
      "(5093, 21)\n"
     ]
    },
    {
     "data": {
      "text/html": [
       "<div>\n",
       "<style scoped>\n",
       "    .dataframe tbody tr th:only-of-type {\n",
       "        vertical-align: middle;\n",
       "    }\n",
       "\n",
       "    .dataframe tbody tr th {\n",
       "        vertical-align: top;\n",
       "    }\n",
       "\n",
       "    .dataframe thead th {\n",
       "        text-align: right;\n",
       "    }\n",
       "</style>\n",
       "<table border=\"1\" class=\"dataframe\">\n",
       "  <thead>\n",
       "    <tr style=\"text-align: right;\">\n",
       "      <th></th>\n",
       "      <th>originalRate</th>\n",
       "      <th>nearestPointOfInterests</th>\n",
       "      <th>SHOPPING_AREA</th>\n",
       "      <th>OFFICIAL_BUILDING</th>\n",
       "      <th>RESTAURANT</th>\n",
       "      <th>ATTRACTION</th>\n",
       "      <th>BEACH</th>\n",
       "      <th>MONUMENT</th>\n",
       "      <th>TERMINAL</th>\n",
       "      <th>PARK</th>\n",
       "      <th>...</th>\n",
       "      <th>MUSEUM</th>\n",
       "      <th>GALLERY</th>\n",
       "      <th>PLACE_OF_WORSHIP</th>\n",
       "      <th>TRAIN_STATION</th>\n",
       "      <th>ZOO</th>\n",
       "      <th>ENTERTAINMENT</th>\n",
       "      <th>GARDEN</th>\n",
       "      <th>THEATER</th>\n",
       "      <th>STORE</th>\n",
       "      <th>SCHOOL</th>\n",
       "    </tr>\n",
       "  </thead>\n",
       "  <tbody>\n",
       "    <tr>\n",
       "      <th>0</th>\n",
       "      <td>1227273</td>\n",
       "      <td>[{\"landmarkId\":\"91589773100576\",\"geoId\":null,\"...</td>\n",
       "      <td>1</td>\n",
       "      <td>1</td>\n",
       "      <td>1</td>\n",
       "      <td>1</td>\n",
       "      <td>0</td>\n",
       "      <td>0</td>\n",
       "      <td>0</td>\n",
       "      <td>0</td>\n",
       "      <td>...</td>\n",
       "      <td>0</td>\n",
       "      <td>0</td>\n",
       "      <td>0</td>\n",
       "      <td>0</td>\n",
       "      <td>0</td>\n",
       "      <td>0</td>\n",
       "      <td>0</td>\n",
       "      <td>0</td>\n",
       "      <td>0</td>\n",
       "      <td>0</td>\n",
       "    </tr>\n",
       "    <tr>\n",
       "      <th>1</th>\n",
       "      <td>596694</td>\n",
       "      <td>[{\"landmarkId\":\"91589773100576\",\"geoId\":null,\"...</td>\n",
       "      <td>1</td>\n",
       "      <td>1</td>\n",
       "      <td>1</td>\n",
       "      <td>1</td>\n",
       "      <td>0</td>\n",
       "      <td>0</td>\n",
       "      <td>0</td>\n",
       "      <td>0</td>\n",
       "      <td>...</td>\n",
       "      <td>0</td>\n",
       "      <td>0</td>\n",
       "      <td>0</td>\n",
       "      <td>0</td>\n",
       "      <td>0</td>\n",
       "      <td>0</td>\n",
       "      <td>0</td>\n",
       "      <td>0</td>\n",
       "      <td>0</td>\n",
       "      <td>0</td>\n",
       "    </tr>\n",
       "    <tr>\n",
       "      <th>2</th>\n",
       "      <td>1450413</td>\n",
       "      <td>[{\"landmarkId\":\"91589773100576\",\"geoId\":null,\"...</td>\n",
       "      <td>1</td>\n",
       "      <td>1</td>\n",
       "      <td>1</td>\n",
       "      <td>1</td>\n",
       "      <td>0</td>\n",
       "      <td>0</td>\n",
       "      <td>0</td>\n",
       "      <td>0</td>\n",
       "      <td>...</td>\n",
       "      <td>0</td>\n",
       "      <td>0</td>\n",
       "      <td>0</td>\n",
       "      <td>0</td>\n",
       "      <td>0</td>\n",
       "      <td>0</td>\n",
       "      <td>0</td>\n",
       "      <td>0</td>\n",
       "      <td>0</td>\n",
       "      <td>0</td>\n",
       "    </tr>\n",
       "    <tr>\n",
       "      <th>3</th>\n",
       "      <td>855372</td>\n",
       "      <td>[{\"landmarkId\":\"91589773100576\",\"geoId\":null,\"...</td>\n",
       "      <td>1</td>\n",
       "      <td>1</td>\n",
       "      <td>1</td>\n",
       "      <td>1</td>\n",
       "      <td>0</td>\n",
       "      <td>0</td>\n",
       "      <td>0</td>\n",
       "      <td>0</td>\n",
       "      <td>...</td>\n",
       "      <td>0</td>\n",
       "      <td>0</td>\n",
       "      <td>0</td>\n",
       "      <td>0</td>\n",
       "      <td>0</td>\n",
       "      <td>0</td>\n",
       "      <td>0</td>\n",
       "      <td>0</td>\n",
       "      <td>0</td>\n",
       "      <td>0</td>\n",
       "    </tr>\n",
       "    <tr>\n",
       "      <th>4</th>\n",
       "      <td>2545455</td>\n",
       "      <td>[{\"landmarkId\":\"91589773100576\",\"geoId\":null,\"...</td>\n",
       "      <td>1</td>\n",
       "      <td>1</td>\n",
       "      <td>1</td>\n",
       "      <td>1</td>\n",
       "      <td>0</td>\n",
       "      <td>0</td>\n",
       "      <td>0</td>\n",
       "      <td>0</td>\n",
       "      <td>...</td>\n",
       "      <td>0</td>\n",
       "      <td>0</td>\n",
       "      <td>0</td>\n",
       "      <td>0</td>\n",
       "      <td>0</td>\n",
       "      <td>0</td>\n",
       "      <td>0</td>\n",
       "      <td>0</td>\n",
       "      <td>0</td>\n",
       "      <td>0</td>\n",
       "    </tr>\n",
       "  </tbody>\n",
       "</table>\n",
       "<p>5 rows × 21 columns</p>\n",
       "</div>"
      ],
      "text/plain": [
       "   originalRate                            nearestPointOfInterests  \\\n",
       "0       1227273  [{\"landmarkId\":\"91589773100576\",\"geoId\":null,\"...   \n",
       "1        596694  [{\"landmarkId\":\"91589773100576\",\"geoId\":null,\"...   \n",
       "2       1450413  [{\"landmarkId\":\"91589773100576\",\"geoId\":null,\"...   \n",
       "3        855372  [{\"landmarkId\":\"91589773100576\",\"geoId\":null,\"...   \n",
       "4       2545455  [{\"landmarkId\":\"91589773100576\",\"geoId\":null,\"...   \n",
       "\n",
       "  SHOPPING_AREA OFFICIAL_BUILDING RESTAURANT ATTRACTION BEACH MONUMENT  \\\n",
       "0             1                 1          1          1     0        0   \n",
       "1             1                 1          1          1     0        0   \n",
       "2             1                 1          1          1     0        0   \n",
       "3             1                 1          1          1     0        0   \n",
       "4             1                 1          1          1     0        0   \n",
       "\n",
       "  TERMINAL PARK  ... MUSEUM GALLERY PLACE_OF_WORSHIP TRAIN_STATION ZOO  \\\n",
       "0        0    0  ...      0       0                0             0   0   \n",
       "1        0    0  ...      0       0                0             0   0   \n",
       "2        0    0  ...      0       0                0             0   0   \n",
       "3        0    0  ...      0       0                0             0   0   \n",
       "4        0    0  ...      0       0                0             0   0   \n",
       "\n",
       "  ENTERTAINMENT GARDEN THEATER STORE SCHOOL  \n",
       "0             0      0       0     0      0  \n",
       "1             0      0       0     0      0  \n",
       "2             0      0       0     0      0  \n",
       "3             0      0       0     0      0  \n",
       "4             0      0       0     0      0  \n",
       "\n",
       "[5 rows x 21 columns]"
      ]
     },
     "execution_count": 27,
     "metadata": {},
     "output_type": "execute_result"
    }
   ],
   "source": [
    "# add value to encoded columns\n",
    "for i in range(len(dfPoint)):\n",
    "    value = dfPoint['nearestPointOfInterests'][i]\n",
    "    if value == '[]':\n",
    "        dfPoint.drop([i], axis=0, inplace=True)\n",
    "        continue\n",
    "    for j in range(2, len(dfPoint.columns)):\n",
    "        column_name = dfPoint.columns[j]\n",
    "        if column_name in value:\n",
    "            dfPoint.loc[i, column_name] = 1\n",
    "        else:\n",
    "            dfPoint.loc[i, column_name] = 0\n",
    "print(dfPoint.shape)\n",
    "dfPoint.head()"
   ]
  },
  {
   "cell_type": "code",
   "execution_count": 28,
   "metadata": {},
   "outputs": [],
   "source": [
    "dfPoint.drop('nearestPointOfInterests', axis=1, inplace=True)\n"
   ]
  },
  {
   "cell_type": "code",
   "execution_count": 29,
   "metadata": {},
   "outputs": [],
   "source": [
    "# Convert to int\n",
    "for i in range(1, len(dfPoint.columns)):\n",
    "    dfPoint = dfPoint.astype({dfPoint.columns[i]: int})"
   ]
  },
  {
   "attachments": {},
   "cell_type": "markdown",
   "metadata": {},
   "source": [
    "### Add Prefix"
   ]
  },
  {
   "cell_type": "code",
   "execution_count": 30,
   "metadata": {},
   "outputs": [],
   "source": [
    "dfHotel = dfHotel.add_prefix('Hotel_')\n",
    "dfRoom = dfRoom.add_prefix('Room_')\n",
    "dfPoint = dfPoint.add_prefix('Point_')\n"
   ]
  },
  {
   "attachments": {},
   "cell_type": "markdown",
   "metadata": {},
   "source": [
    "## Feature Selection"
   ]
  },
  {
   "cell_type": "code",
   "execution_count": 31,
   "metadata": {},
   "outputs": [],
   "source": [
    "import matplotlib.pyplot as plt\n",
    "import seaborn as sns\n"
   ]
  },
  {
   "cell_type": "code",
   "execution_count": 32,
   "metadata": {},
   "outputs": [],
   "source": [
    "# create funtion to get the mean value of the columns and add to the dataframe\n",
    "def getMean(df):\n",
    "    dfMean = pd.DataFrame(columns=['Mean'])\n",
    "    for i in range(1, len(df.columns)):\n",
    "        dfMean.loc[i-1] = df[df.columns[i]].mean()\n",
    "    dfMean.index = df.columns[1:]\n",
    "    dfMean = dfMean.reset_index(drop=False)\n",
    "    dfMean.columns = ['Facilities', 'Mean']\n",
    "    return dfMean"
   ]
  },
  {
   "cell_type": "code",
   "execution_count": 33,
   "metadata": {},
   "outputs": [],
   "source": [
    "# create function to remove outlier from data frame using IQR baesd on the mean value of the columns\n",
    "def featureSelection(dfFunction):\n",
    "    dfMean = getMean(dfFunction)\n",
    "    initialLength = len(dfMean)\n",
    "    q1 = dfMean['Mean'].quantile(0.25)\n",
    "    q3 = dfMean['Mean'].quantile(0.75)\n",
    "    iqr = q3 - q1\n",
    "\n",
    "    # create list of facilities that will be removed then drop it from the dataframe (df)\n",
    "    removedFacilities = []\n",
    "    for i in range(len(dfMean)):\n",
    "        if dfMean['Mean'][i] >= (q3 + 1.5 * iqr) or dfMean['Mean'][i] <= (q1 - 1.5 * iqr):\n",
    "            removedFacilities.append(dfMean.loc[i, 'Facilities'])\n",
    "    df = dfFunction.drop(removedFacilities, axis=1)\n",
    "\n",
    "    # create new dataframe that will be used to store the cleaned data\n",
    "    dfClean = dfMean[~dfMean['Facilities'].isin(removedFacilities)]\n",
    "    print(f\"Null value : {dfClean.isnull().sum().any()}\")\n",
    "\n",
    "    # calculate the number of facilities that will be removed\n",
    "    print(f'Final Number of Features: {len(dfClean)}')\n",
    "    calRemovedFacilities = initialLength - len(dfClean)\n",
    "    print(f'Number of Facilities Removed: {calRemovedFacilities}')\n",
    "\n",
    "    # print the q1, q3, and iqr\n",
    "    print(f'Q1: {q1}')\n",
    "    print(f'Q3: {q3}')\n",
    "    print(f'IQR: {iqr}')\n",
    "\n",
    "    return dfClean, df"
   ]
  },
  {
   "cell_type": "code",
   "execution_count": 34,
   "metadata": {},
   "outputs": [],
   "source": [
    "# create function to make histplot of the dataframe clomuns mean\n",
    "def getHist(df, title):\n",
    "    plt.figure(figsize=(10, 5))\n",
    "    sns.histplot(data=df, x='Mean', kde=True, bins=50)\n",
    "    plt.title(f'{title} Facilities')\n",
    "    plt.show()\n"
   ]
  },
  {
   "attachments": {},
   "cell_type": "markdown",
   "metadata": {},
   "source": [
    "### Hotel, Room, and Point of Interest Features"
   ]
  },
  {
   "cell_type": "markdown",
   "metadata": {},
   "source": [
    "#### Hotel Features"
   ]
  },
  {
   "cell_type": "code",
   "execution_count": 35,
   "metadata": {},
   "outputs": [],
   "source": [
    "dfMeanHotel = getMean(dfHotel)\n",
    "dfMeanRooom = getMean(dfRoom)\n",
    "dfMeanPoint = getMean(dfPoint)\n"
   ]
  },
  {
   "cell_type": "code",
   "execution_count": 36,
   "metadata": {},
   "outputs": [
    {
     "data": {
      "text/html": [
       "<div>\n",
       "<style scoped>\n",
       "    .dataframe tbody tr th:only-of-type {\n",
       "        vertical-align: middle;\n",
       "    }\n",
       "\n",
       "    .dataframe tbody tr th {\n",
       "        vertical-align: top;\n",
       "    }\n",
       "\n",
       "    .dataframe thead th {\n",
       "        text-align: right;\n",
       "    }\n",
       "</style>\n",
       "<table border=\"1\" class=\"dataframe\">\n",
       "  <thead>\n",
       "    <tr style=\"text-align: right;\">\n",
       "      <th></th>\n",
       "      <th>count</th>\n",
       "      <th>mean</th>\n",
       "      <th>std</th>\n",
       "      <th>min</th>\n",
       "      <th>25%</th>\n",
       "      <th>50%</th>\n",
       "      <th>75%</th>\n",
       "      <th>max</th>\n",
       "    </tr>\n",
       "  </thead>\n",
       "  <tbody>\n",
       "    <tr>\n",
       "      <th>Mean</th>\n",
       "      <td>240.0</td>\n",
       "      <td>0.173496</td>\n",
       "      <td>0.209492</td>\n",
       "      <td>0.000594</td>\n",
       "      <td>0.024154</td>\n",
       "      <td>0.08533</td>\n",
       "      <td>0.2353</td>\n",
       "      <td>0.868343</td>\n",
       "    </tr>\n",
       "  </tbody>\n",
       "</table>\n",
       "</div>"
      ],
      "text/plain": [
       "      count      mean       std       min       25%      50%     75%       max\n",
       "Mean  240.0  0.173496  0.209492  0.000594  0.024154  0.08533  0.2353  0.868343"
      ]
     },
     "execution_count": 36,
     "metadata": {},
     "output_type": "execute_result"
    }
   ],
   "source": [
    "dfMeanHotel.describe().T\n"
   ]
  },
  {
   "cell_type": "code",
   "execution_count": 37,
   "metadata": {},
   "outputs": [
    {
     "data": {
      "text/plain": [
       "(5051, 241)"
      ]
     },
     "execution_count": 37,
     "metadata": {},
     "output_type": "execute_result"
    }
   ],
   "source": [
    "dfHotel.shape\n"
   ]
  },
  {
   "cell_type": "code",
   "execution_count": 38,
   "metadata": {},
   "outputs": [
    {
     "name": "stdout",
     "output_type": "stream",
     "text": [
      "Null value : False\n",
      "Final Number of Features: 216\n",
      "Number of Facilities Removed: 24\n",
      "Q1: 0.024153632943971493\n",
      "Q3: 0.23529994060582063\n",
      "IQR: 0.21114630766184914\n"
     ]
    },
    {
     "data": {
      "text/html": [
       "<div>\n",
       "<style scoped>\n",
       "    .dataframe tbody tr th:only-of-type {\n",
       "        vertical-align: middle;\n",
       "    }\n",
       "\n",
       "    .dataframe tbody tr th {\n",
       "        vertical-align: top;\n",
       "    }\n",
       "\n",
       "    .dataframe thead th {\n",
       "        text-align: right;\n",
       "    }\n",
       "</style>\n",
       "<table border=\"1\" class=\"dataframe\">\n",
       "  <thead>\n",
       "    <tr style=\"text-align: right;\">\n",
       "      <th></th>\n",
       "      <th>Facilities</th>\n",
       "      <th>Mean</th>\n",
       "    </tr>\n",
       "  </thead>\n",
       "  <tbody>\n",
       "    <tr>\n",
       "      <th>1</th>\n",
       "      <td>Hotel_ELEVATOR</td>\n",
       "      <td>0.186102</td>\n",
       "    </tr>\n",
       "    <tr>\n",
       "      <th>2</th>\n",
       "      <td>Hotel_HAS_24_HOUR_ROOM_SERVICE</td>\n",
       "      <td>0.192833</td>\n",
       "    </tr>\n",
       "    <tr>\n",
       "      <th>4</th>\n",
       "      <td>Hotel_RESTAURANT_FOR_BREAKFAST</td>\n",
       "      <td>0.388834</td>\n",
       "    </tr>\n",
       "    <tr>\n",
       "      <th>5</th>\n",
       "      <td>Hotel_RESTAURANT_FOR_DINNER</td>\n",
       "      <td>0.318353</td>\n",
       "    </tr>\n",
       "    <tr>\n",
       "      <th>6</th>\n",
       "      <td>Hotel_RESTAURANT_FOR_LUNCH</td>\n",
       "      <td>0.324292</td>\n",
       "    </tr>\n",
       "    <tr>\n",
       "      <th>...</th>\n",
       "      <td>...</td>\n",
       "      <td>...</td>\n",
       "    </tr>\n",
       "    <tr>\n",
       "      <th>235</th>\n",
       "      <td>Hotel_PRIVATE_BEACH_NEARBY</td>\n",
       "      <td>0.021580</td>\n",
       "    </tr>\n",
       "    <tr>\n",
       "      <th>236</th>\n",
       "      <td>Hotel_BEACH_SUN_LOUNGERS</td>\n",
       "      <td>0.048703</td>\n",
       "    </tr>\n",
       "    <tr>\n",
       "      <th>237</th>\n",
       "      <td>Hotel_DARTS</td>\n",
       "      <td>0.010097</td>\n",
       "    </tr>\n",
       "    <tr>\n",
       "      <th>238</th>\n",
       "      <td>Hotel_ENTERTAINMENT_PROGRAMME_FOR_CHILDREN</td>\n",
       "      <td>0.011087</td>\n",
       "    </tr>\n",
       "    <tr>\n",
       "      <th>239</th>\n",
       "      <td>Hotel_KARAOKE</td>\n",
       "      <td>0.005543</td>\n",
       "    </tr>\n",
       "  </tbody>\n",
       "</table>\n",
       "<p>216 rows × 2 columns</p>\n",
       "</div>"
      ],
      "text/plain": [
       "                                     Facilities      Mean\n",
       "1                                Hotel_ELEVATOR  0.186102\n",
       "2                Hotel_HAS_24_HOUR_ROOM_SERVICE  0.192833\n",
       "4                Hotel_RESTAURANT_FOR_BREAKFAST  0.388834\n",
       "5                   Hotel_RESTAURANT_FOR_DINNER  0.318353\n",
       "6                    Hotel_RESTAURANT_FOR_LUNCH  0.324292\n",
       "..                                          ...       ...\n",
       "235                  Hotel_PRIVATE_BEACH_NEARBY  0.021580\n",
       "236                    Hotel_BEACH_SUN_LOUNGERS  0.048703\n",
       "237                                 Hotel_DARTS  0.010097\n",
       "238  Hotel_ENTERTAINMENT_PROGRAMME_FOR_CHILDREN  0.011087\n",
       "239                               Hotel_KARAOKE  0.005543\n",
       "\n",
       "[216 rows x 2 columns]"
      ]
     },
     "execution_count": 38,
     "metadata": {},
     "output_type": "execute_result"
    }
   ],
   "source": [
    "dfMeanHotel, dfHotel = featureSelection(dfHotel)\n",
    "dfMeanHotel"
   ]
  },
  {
   "cell_type": "code",
   "execution_count": 39,
   "metadata": {},
   "outputs": [
    {
     "data": {
      "text/plain": [
       "(5051, 217)"
      ]
     },
     "execution_count": 39,
     "metadata": {},
     "output_type": "execute_result"
    }
   ],
   "source": [
    "dfHotel.shape\n"
   ]
  },
  {
   "cell_type": "code",
   "execution_count": 40,
   "metadata": {},
   "outputs": [
    {
     "data": {
      "image/png": "[encoded data removed]",
      "text/plain": [
       "<Figure size 1000x500 with 1 Axes>"
      ]
     },
     "metadata": {},
     "output_type": "display_data"
    }
   ],
   "source": [
    "getHist(dfMeanHotel, 'Hotel')\n"
   ]
  },
  {
   "cell_type": "markdown",
   "metadata": {},
   "source": [
    "#### Room Features"
   ]
  },
  {
   "cell_type": "code",
   "execution_count": 41,
   "metadata": {},
   "outputs": [
    {
     "data": {
      "text/html": [
       "<div>\n",
       "<style scoped>\n",
       "    .dataframe tbody tr th:only-of-type {\n",
       "        vertical-align: middle;\n",
       "    }\n",
       "\n",
       "    .dataframe tbody tr th {\n",
       "        vertical-align: top;\n",
       "    }\n",
       "\n",
       "    .dataframe thead th {\n",
       "        text-align: right;\n",
       "    }\n",
       "</style>\n",
       "<table border=\"1\" class=\"dataframe\">\n",
       "  <thead>\n",
       "    <tr style=\"text-align: right;\">\n",
       "      <th></th>\n",
       "      <th>count</th>\n",
       "      <th>mean</th>\n",
       "      <th>std</th>\n",
       "      <th>min</th>\n",
       "      <th>25%</th>\n",
       "      <th>50%</th>\n",
       "      <th>75%</th>\n",
       "      <th>max</th>\n",
       "    </tr>\n",
       "  </thead>\n",
       "  <tbody>\n",
       "    <tr>\n",
       "      <th>Mean</th>\n",
       "      <td>109.0</td>\n",
       "      <td>0.135246</td>\n",
       "      <td>0.219759</td>\n",
       "      <td>0.000204</td>\n",
       "      <td>0.006129</td>\n",
       "      <td>0.033708</td>\n",
       "      <td>0.121553</td>\n",
       "      <td>0.945455</td>\n",
       "    </tr>\n",
       "  </tbody>\n",
       "</table>\n",
       "</div>"
      ],
      "text/plain": [
       "      count      mean       std       min       25%       50%       75%  \\\n",
       "Mean  109.0  0.135246  0.219759  0.000204  0.006129  0.033708  0.121553   \n",
       "\n",
       "           max  \n",
       "Mean  0.945455  "
      ]
     },
     "execution_count": 41,
     "metadata": {},
     "output_type": "execute_result"
    }
   ],
   "source": [
    "dfMeanRooom.describe().T\n"
   ]
  },
  {
   "cell_type": "code",
   "execution_count": 42,
   "metadata": {},
   "outputs": [
    {
     "name": "stdout",
     "output_type": "stream",
     "text": [
      "Null value : False\n",
      "Final Number of Features: 92\n",
      "Number of Facilities Removed: 17\n",
      "Q1: 0.006128702757916241\n",
      "Q3: 0.12155260469867211\n",
      "IQR: 0.11542390194075587\n"
     ]
    },
    {
     "data": {
      "text/html": [
       "<div>\n",
       "<style scoped>\n",
       "    .dataframe tbody tr th:only-of-type {\n",
       "        vertical-align: middle;\n",
       "    }\n",
       "\n",
       "    .dataframe tbody tr th {\n",
       "        vertical-align: top;\n",
       "    }\n",
       "\n",
       "    .dataframe thead th {\n",
       "        text-align: right;\n",
       "    }\n",
       "</style>\n",
       "<table border=\"1\" class=\"dataframe\">\n",
       "  <thead>\n",
       "    <tr style=\"text-align: right;\">\n",
       "      <th></th>\n",
       "      <th>Facilities</th>\n",
       "      <th>Mean</th>\n",
       "    </tr>\n",
       "  </thead>\n",
       "  <tbody>\n",
       "    <tr>\n",
       "      <th>2</th>\n",
       "      <td>Room_BATHROBES</td>\n",
       "      <td>0.215526</td>\n",
       "    </tr>\n",
       "    <tr>\n",
       "      <th>3</th>\n",
       "      <td>Room_BATHTUB</td>\n",
       "      <td>0.229009</td>\n",
       "    </tr>\n",
       "    <tr>\n",
       "      <th>4</th>\n",
       "      <td>Room_BLACKOUT_DRAPES_CURTAINS</td>\n",
       "      <td>0.291318</td>\n",
       "    </tr>\n",
       "    <tr>\n",
       "      <th>8</th>\n",
       "      <td>Room_DVD_PLAYER</td>\n",
       "      <td>0.090501</td>\n",
       "    </tr>\n",
       "    <tr>\n",
       "      <th>9</th>\n",
       "      <td>Room_FREE_NEWSPAPER</td>\n",
       "      <td>0.016343</td>\n",
       "    </tr>\n",
       "    <tr>\n",
       "      <th>...</th>\n",
       "      <td>...</td>\n",
       "      <td>...</td>\n",
       "    </tr>\n",
       "    <tr>\n",
       "      <th>104</th>\n",
       "      <td>Room_NETFLIX</td>\n",
       "      <td>0.000613</td>\n",
       "    </tr>\n",
       "    <tr>\n",
       "      <th>105</th>\n",
       "      <td>Room_HOUSEKEEPING_ON_REQUEST</td>\n",
       "      <td>0.008376</td>\n",
       "    </tr>\n",
       "    <tr>\n",
       "      <th>106</th>\n",
       "      <td>Room_NO_HOUSEKEEPING</td>\n",
       "      <td>0.003064</td>\n",
       "    </tr>\n",
       "    <tr>\n",
       "      <th>107</th>\n",
       "      <td>Room_CHANGING_TABLE</td>\n",
       "      <td>0.000613</td>\n",
       "    </tr>\n",
       "    <tr>\n",
       "      <th>108</th>\n",
       "      <td>Room_MICROWAVE_SURCHARGE</td>\n",
       "      <td>0.000204</td>\n",
       "    </tr>\n",
       "  </tbody>\n",
       "</table>\n",
       "<p>92 rows × 2 columns</p>\n",
       "</div>"
      ],
      "text/plain": [
       "                        Facilities      Mean\n",
       "2                   Room_BATHROBES  0.215526\n",
       "3                     Room_BATHTUB  0.229009\n",
       "4    Room_BLACKOUT_DRAPES_CURTAINS  0.291318\n",
       "8                  Room_DVD_PLAYER  0.090501\n",
       "9              Room_FREE_NEWSPAPER  0.016343\n",
       "..                             ...       ...\n",
       "104                   Room_NETFLIX  0.000613\n",
       "105   Room_HOUSEKEEPING_ON_REQUEST  0.008376\n",
       "106           Room_NO_HOUSEKEEPING  0.003064\n",
       "107            Room_CHANGING_TABLE  0.000613\n",
       "108       Room_MICROWAVE_SURCHARGE  0.000204\n",
       "\n",
       "[92 rows x 2 columns]"
      ]
     },
     "execution_count": 42,
     "metadata": {},
     "output_type": "execute_result"
    }
   ],
   "source": [
    "dfMeanRooom, dfRoom = featureSelection(dfRoom)\n",
    "dfMeanRooom"
   ]
  },
  {
   "cell_type": "code",
   "execution_count": 43,
   "metadata": {},
   "outputs": [
    {
     "data": {
      "image/png": "[encoded data removed]",
      "text/plain": [
       "<Figure size 1000x500 with 1 Axes>"
      ]
     },
     "metadata": {},
     "output_type": "display_data"
    }
   ],
   "source": [
    "getHist(dfMeanRooom, 'Room')\n"
   ]
  },
  {
   "attachments": {},
   "cell_type": "markdown",
   "metadata": {},
   "source": [
    "#### Point of Interest Features"
   ]
  },
  {
   "cell_type": "code",
   "execution_count": 44,
   "metadata": {},
   "outputs": [
    {
     "data": {
      "text/html": [
       "<div>\n",
       "<style scoped>\n",
       "    .dataframe tbody tr th:only-of-type {\n",
       "        vertical-align: middle;\n",
       "    }\n",
       "\n",
       "    .dataframe tbody tr th {\n",
       "        vertical-align: top;\n",
       "    }\n",
       "\n",
       "    .dataframe thead th {\n",
       "        text-align: right;\n",
       "    }\n",
       "</style>\n",
       "<table border=\"1\" class=\"dataframe\">\n",
       "  <thead>\n",
       "    <tr style=\"text-align: right;\">\n",
       "      <th></th>\n",
       "      <th>count</th>\n",
       "      <th>mean</th>\n",
       "      <th>std</th>\n",
       "      <th>min</th>\n",
       "      <th>25%</th>\n",
       "      <th>50%</th>\n",
       "      <th>75%</th>\n",
       "      <th>max</th>\n",
       "    </tr>\n",
       "  </thead>\n",
       "  <tbody>\n",
       "    <tr>\n",
       "      <th>Mean</th>\n",
       "      <td>19.0</td>\n",
       "      <td>0.195129</td>\n",
       "      <td>0.242762</td>\n",
       "      <td>0.000196</td>\n",
       "      <td>0.00432</td>\n",
       "      <td>0.025918</td>\n",
       "      <td>0.337326</td>\n",
       "      <td>0.690752</td>\n",
       "    </tr>\n",
       "  </tbody>\n",
       "</table>\n",
       "</div>"
      ],
      "text/plain": [
       "      count      mean       std       min      25%       50%       75%  \\\n",
       "Mean   19.0  0.195129  0.242762  0.000196  0.00432  0.025918  0.337326   \n",
       "\n",
       "           max  \n",
       "Mean  0.690752  "
      ]
     },
     "execution_count": 44,
     "metadata": {},
     "output_type": "execute_result"
    }
   ],
   "source": [
    "dfMeanPoint.describe().T\n"
   ]
  },
  {
   "cell_type": "code",
   "execution_count": 45,
   "metadata": {},
   "outputs": [
    {
     "name": "stdout",
     "output_type": "stream",
     "text": [
      "Null value : False\n",
      "Final Number of Features: 19\n",
      "Number of Facilities Removed: 0\n",
      "Q1: 0.004319654427645788\n",
      "Q3: 0.3373257412134302\n",
      "IQR: 0.33300608678578436\n"
     ]
    },
    {
     "data": {
      "text/html": [
       "<div>\n",
       "<style scoped>\n",
       "    .dataframe tbody tr th:only-of-type {\n",
       "        vertical-align: middle;\n",
       "    }\n",
       "\n",
       "    .dataframe tbody tr th {\n",
       "        vertical-align: top;\n",
       "    }\n",
       "\n",
       "    .dataframe thead th {\n",
       "        text-align: right;\n",
       "    }\n",
       "</style>\n",
       "<table border=\"1\" class=\"dataframe\">\n",
       "  <thead>\n",
       "    <tr style=\"text-align: right;\">\n",
       "      <th></th>\n",
       "      <th>Facilities</th>\n",
       "      <th>Mean</th>\n",
       "    </tr>\n",
       "  </thead>\n",
       "  <tbody>\n",
       "    <tr>\n",
       "      <th>0</th>\n",
       "      <td>Point_SHOPPING_AREA</td>\n",
       "      <td>0.643236</td>\n",
       "    </tr>\n",
       "    <tr>\n",
       "      <th>1</th>\n",
       "      <td>Point_OFFICIAL_BUILDING</td>\n",
       "      <td>0.296093</td>\n",
       "    </tr>\n",
       "    <tr>\n",
       "      <th>2</th>\n",
       "      <td>Point_RESTAURANT</td>\n",
       "      <td>0.690752</td>\n",
       "    </tr>\n",
       "    <tr>\n",
       "      <th>3</th>\n",
       "      <td>Point_ATTRACTION</td>\n",
       "      <td>0.579226</td>\n",
       "    </tr>\n",
       "    <tr>\n",
       "      <th>4</th>\n",
       "      <td>Point_BEACH</td>\n",
       "      <td>0.325741</td>\n",
       "    </tr>\n",
       "    <tr>\n",
       "      <th>5</th>\n",
       "      <td>Point_MONUMENT</td>\n",
       "      <td>0.365011</td>\n",
       "    </tr>\n",
       "    <tr>\n",
       "      <th>6</th>\n",
       "      <td>Point_TERMINAL</td>\n",
       "      <td>0.348518</td>\n",
       "    </tr>\n",
       "    <tr>\n",
       "      <th>7</th>\n",
       "      <td>Point_PARK</td>\n",
       "      <td>0.326134</td>\n",
       "    </tr>\n",
       "    <tr>\n",
       "      <th>8</th>\n",
       "      <td>Point_HOSPITAL</td>\n",
       "      <td>0.018457</td>\n",
       "    </tr>\n",
       "    <tr>\n",
       "      <th>9</th>\n",
       "      <td>Point_MUSEUM</td>\n",
       "      <td>0.022384</td>\n",
       "    </tr>\n",
       "    <tr>\n",
       "      <th>10</th>\n",
       "      <td>Point_GALLERY</td>\n",
       "      <td>0.032201</td>\n",
       "    </tr>\n",
       "    <tr>\n",
       "      <th>11</th>\n",
       "      <td>Point_PLACE_OF_WORSHIP</td>\n",
       "      <td>0.019831</td>\n",
       "    </tr>\n",
       "    <tr>\n",
       "      <th>12</th>\n",
       "      <td>Point_TRAIN_STATION</td>\n",
       "      <td>0.025918</td>\n",
       "    </tr>\n",
       "    <tr>\n",
       "      <th>13</th>\n",
       "      <td>Point_ZOO</td>\n",
       "      <td>0.004516</td>\n",
       "    </tr>\n",
       "    <tr>\n",
       "      <th>14</th>\n",
       "      <td>Point_ENTERTAINMENT</td>\n",
       "      <td>0.001767</td>\n",
       "    </tr>\n",
       "    <tr>\n",
       "      <th>15</th>\n",
       "      <td>Point_GARDEN</td>\n",
       "      <td>0.003142</td>\n",
       "    </tr>\n",
       "    <tr>\n",
       "      <th>16</th>\n",
       "      <td>Point_THEATER</td>\n",
       "      <td>0.004123</td>\n",
       "    </tr>\n",
       "    <tr>\n",
       "      <th>17</th>\n",
       "      <td>Point_STORE</td>\n",
       "      <td>0.000196</td>\n",
       "    </tr>\n",
       "    <tr>\n",
       "      <th>18</th>\n",
       "      <td>Point_SCHOOL</td>\n",
       "      <td>0.000196</td>\n",
       "    </tr>\n",
       "  </tbody>\n",
       "</table>\n",
       "</div>"
      ],
      "text/plain": [
       "                 Facilities      Mean\n",
       "0       Point_SHOPPING_AREA  0.643236\n",
       "1   Point_OFFICIAL_BUILDING  0.296093\n",
       "2          Point_RESTAURANT  0.690752\n",
       "3          Point_ATTRACTION  0.579226\n",
       "4               Point_BEACH  0.325741\n",
       "5            Point_MONUMENT  0.365011\n",
       "6            Point_TERMINAL  0.348518\n",
       "7                Point_PARK  0.326134\n",
       "8            Point_HOSPITAL  0.018457\n",
       "9              Point_MUSEUM  0.022384\n",
       "10            Point_GALLERY  0.032201\n",
       "11   Point_PLACE_OF_WORSHIP  0.019831\n",
       "12      Point_TRAIN_STATION  0.025918\n",
       "13                Point_ZOO  0.004516\n",
       "14      Point_ENTERTAINMENT  0.001767\n",
       "15             Point_GARDEN  0.003142\n",
       "16            Point_THEATER  0.004123\n",
       "17              Point_STORE  0.000196\n",
       "18             Point_SCHOOL  0.000196"
      ]
     },
     "execution_count": 45,
     "metadata": {},
     "output_type": "execute_result"
    }
   ],
   "source": [
    "dfMeanPoint, dfPoint = featureSelection(dfPoint)\n",
    "dfMeanPoint"
   ]
  },
  {
   "cell_type": "code",
   "execution_count": 46,
   "metadata": {},
   "outputs": [
    {
     "data": {
      "image/png": "[encoded data removed]",
      "text/plain": [
       "<Figure size 1000x500 with 1 Axes>"
      ]
     },
     "metadata": {},
     "output_type": "display_data"
    }
   ],
   "source": [
    "getHist(dfMeanPoint, 'Point')\n"
   ]
  },
  {
   "cell_type": "code",
   "execution_count": 47,
   "metadata": {},
   "outputs": [],
   "source": [
    "hotelFacilities = dfHotel.drop(dfHotel.columns[0], axis=1)\n",
    "roomFacilities = dfRoom.drop(dfRoom.columns[0], axis=1)\n",
    "nearestPointOfInterests = dfPoint.drop(dfPoint.columns[0], axis=1)\n",
    "\n",
    "hotelFacilities = hotelFacilities.columns\n",
    "roomFacilities = roomFacilities.columns\n",
    "nearestPointOfInterests = nearestPointOfInterests.columns\n"
   ]
  },
  {
   "cell_type": "code",
   "execution_count": 48,
   "metadata": {},
   "outputs": [],
   "source": [
    "# export hotelFacilities, roomFacilities, nearestPointOfInterests list to another notebook\n",
    "with open('../Notebook/Variable/hotelFacilities.pkl', 'wb') as f:\n",
    "    pickle.dump(hotelFacilities, f)\n",
    "with open('../Notebook/Variable/roomFacilities.pkl', 'wb') as f:\n",
    "    pickle.dump(roomFacilities, f)\n",
    "with open('../Notebook/Variable/nearestPointOfInterests.pkl', 'wb') as f:\n",
    "    pickle.dump(nearestPointOfInterests, f)\n"
   ]
  },
  {
   "attachments": {},
   "cell_type": "markdown",
   "metadata": {},
   "source": [
    "## Combine Dataframe"
   ]
  },
  {
   "cell_type": "code",
   "execution_count": 49,
   "metadata": {},
   "outputs": [
    {
     "name": "stderr",
     "output_type": "stream",
     "text": [
      "C:\\Users\\goobe\\AppData\\Local\\Temp\\ipykernel_27376\\2147204924.py:5: SettingWithCopyWarning: \n",
      "A value is trying to be set on a copy of a slice from a DataFrame\n",
      "\n",
      "See the caveats in the documentation: https://pandas.pydata.org/pandas-docs/stable/user_guide/indexing.html#returning-a-view-versus-a-copy\n",
      "  dfRoomEx.drop('originalRate', axis= 1, inplace=True)\n"
     ]
    }
   ],
   "source": [
    "dfRoom.drop('Room_originalRate', axis=1, inplace=True)\n",
    "dfHotel.drop('Hotel_originalRate', axis=1, inplace=True)\n",
    "dfPoint.drop('Point_originalRate', axis=1, inplace=True)\n",
    "dfHotelEx.drop('originalRate', axis=1, inplace=True)\n",
    "dfRoomEx.drop('originalRate', axis=1, inplace=True)\n",
    "df = df[['originalRate']]"
   ]
  },
  {
   "cell_type": "code",
   "execution_count": 50,
   "metadata": {},
   "outputs": [],
   "source": [
    "# sort the columns\n",
    "# dfRoom = dfRoom.reindex(sorted(dfRoom.columns), axis=1)\n",
    "# dfHotel = dfHotel.reindex(sorted(dfHotel.columns), axis=1)\n",
    "# dfPoint = dfPoint.reindex(sorted(dfPoint.columns), axis=1)\n"
   ]
  },
  {
   "cell_type": "code",
   "execution_count": 51,
   "metadata": {},
   "outputs": [],
   "source": [
    "combine = [df,  dfRoomEx, dfHotelEx, dfRoom, dfHotel, dfPoint]\n",
    "df = pd.concat(combine, axis=1)\n",
    "df.dropna(inplace=True)\n",
    "df.reset_index(drop=True, inplace=True)\n"
   ]
  },
  {
   "cell_type": "code",
   "execution_count": 52,
   "metadata": {},
   "outputs": [],
   "source": [
    "# Check if there is any duplicate column\n",
    "for i in range(0, len(df.columns)):\n",
    "    for j in range(i+1, len(df.columns)):\n",
    "        if df.columns[i] == df.columns[j]:\n",
    "            print(df.columns[i])"
   ]
  },
  {
   "cell_type": "code",
   "execution_count": 53,
   "metadata": {},
   "outputs": [
    {
     "name": "stdout",
     "output_type": "stream",
     "text": [
      "<class 'pandas.core.frame.DataFrame'>\n",
      "RangeIndex: 4832 entries, 0 to 4831\n",
      "Columns: 358 entries, originalRate to Point_SCHOOL\n",
      "dtypes: float64(328), int64(9), uint8(21)\n",
      "memory usage: 12.5 MB\n"
     ]
    }
   ],
   "source": [
    "df.info()\n"
   ]
  },
  {
   "cell_type": "code",
   "execution_count": null,
   "metadata": {},
   "outputs": [],
   "source": []
  },
  {
   "attachments": {},
   "cell_type": "markdown",
   "metadata": {},
   "source": [
    "## Export Data"
   ]
  },
  {
   "cell_type": "code",
   "execution_count": 54,
   "metadata": {},
   "outputs": [],
   "source": [
    "df.to_csv('../Dataset/encoded_data.csv', index=False)\n"
   ]
  },
  {
   "cell_type": "code",
   "execution_count": 55,
   "metadata": {},
   "outputs": [],
   "source": [
    "col = df.columns\n",
    "# export col to another notebook\n",
    "with open('../Notebook/Variable/col.pkl', 'wb') as f:\n",
    "    pickle.dump(col, f)\n"
   ]
  },
  {
   "attachments": {},
   "cell_type": "markdown",
   "metadata": {},
   "source": [
    "# Data Analysis"
   ]
  },
  {
   "cell_type": "code",
   "execution_count": 56,
   "metadata": {},
   "outputs": [],
   "source": [
    "# create visualization into 1 chart\n",
    "def createVisualization(df, colName, color):\n",
    "    # create new dataframe with input prefix column name\n",
    "    dfNew = pd.DataFrame()\n",
    "    for i in range(1, len(df.columns)):\n",
    "        if df.columns[i].startswith(f'{colName}'):\n",
    "            dfNew[df.columns[i]] = df[df.columns[i]]\n",
    "    # make table with only the column name and sum of value\n",
    "    dfNew = dfNew.sum().to_frame()\n",
    "    dfNew.reset_index(inplace=True)\n",
    "    dfNew.columns = ['column', 'value']\n",
    "    # change value data type to int\n",
    "    dfNew['value'] = dfNew['value'].astype(int)\n",
    "    # sort value\n",
    "    dfNew = dfNew.sort_values(by='value', ascending=False)\n",
    "    print(dfNew.head(10))\n",
    "    # create barchart to visualize the data with sorted value and horizontal with tight gap and annotate the value on top of each bar\n",
    "    plt.figure(figsize=(8.5, 5))\n",
    "    sns.barplot(x='value', y='column', data=dfNew.head(\n",
    "        10), orient='h', color=color, errorbar=None, )\n",
    "    # plt.tight_layout()\n",
    "    # annotate the value on top of each bar using seaborn annotation\n",
    "    for i, v in enumerate(dfNew['value'].head(10)):\n",
    "        plt.text(v+10, i, str(v), color='black', fontweight=300, fontsize=8)\n",
    "    plt.show()"
   ]
  },
  {
   "cell_type": "code",
   "execution_count": 57,
   "metadata": {},
   "outputs": [
    {
     "name": "stdout",
     "output_type": "stream",
     "text": [
      "            column  value\n",
      "0      City_Badung   2054\n",
      "4     City_Gianyar    961\n",
      "7   City_Klungkung    473\n",
      "2    City_Buleleng    354\n",
      "6  City_Karangasem    266\n",
      "8       City_Sanur    244\n",
      "3    City_Denpasar    235\n",
      "9     City_Tabanan    130\n",
      "5    City_Jembrana     61\n",
      "1      City_Bangli     54\n"
     ]
    },
    {
     "data": {
      "image/png": "[encoded data removed]",
      "text/plain": [
       "<Figure size 850x500 with 1 Axes>"
      ]
     },
     "metadata": {},
     "output_type": "display_data"
    }
   ],
   "source": [
    "createVisualization(df, 'City', 'orange')\n"
   ]
  },
  {
   "cell_type": "code",
   "execution_count": 58,
   "metadata": {},
   "outputs": [
    {
     "name": "stdout",
     "output_type": "stream",
     "text": [
      "               column  value\n",
      "6          Type_Hotel   2312\n",
      "9          Type_Resor    659\n",
      "10          Type_Vila    659\n",
      "3    Type_Guest House    632\n",
      "4       Type_Homestay    259\n",
      "5         Type_Hostel    106\n",
      "1            Type_B&B    105\n",
      "0      Type_Apartemen     82\n",
      "2        Type_Camping     13\n",
      "7   Type_Hotel Kapsul      4\n"
     ]
    },
    {
     "data": {
      "image/png": "[encoded data removed]",
      "text/plain": [
       "<Figure size 850x500 with 1 Axes>"
      ]
     },
     "metadata": {},
     "output_type": "display_data"
    }
   ],
   "source": [
    "createVisualization(df, 'Type', 'mediumseagreen')\n"
   ]
  },
  {
   "cell_type": "code",
   "execution_count": 59,
   "metadata": {},
   "outputs": [
    {
     "name": "stdout",
     "output_type": "stream",
     "text": [
      "                     column  value\n",
      "2          Point_RESTAURANT   3351\n",
      "0       Point_SHOPPING_AREA   3095\n",
      "3          Point_ATTRACTION   2799\n",
      "5            Point_MONUMENT   1772\n",
      "6            Point_TERMINAL   1692\n",
      "7                Point_PARK   1590\n",
      "4               Point_BEACH   1572\n",
      "1   Point_OFFICIAL_BUILDING   1424\n",
      "10            Point_GALLERY    153\n",
      "12      Point_TRAIN_STATION    123\n"
     ]
    },
    {
     "data": {
      "image/png": "[encoded data removed]",
      "text/plain": [
       "<Figure size 850x500 with 1 Axes>"
      ]
     },
     "metadata": {},
     "output_type": "display_data"
    }
   ],
   "source": [
    "createVisualization(df, 'Point', 'hotpink')\n"
   ]
  }
 ],
 "metadata": {
  "kernelspec": {
   "display_name": "Python 3.10.6 64-bit",
   "language": "python",
   "name": "python3"
  },
  "language_info": {
   "codemirror_mode": {
    "name": "ipython",
    "version": 3
   },
   "file_extension": ".py",
   "mimetype": "text/x-python",
   "name": "python",
   "nbconvert_exporter": "python",
   "pygments_lexer": "ipython3",
   "version": "3.10.6"
  },
  "orig_nbformat": 4,
  "vscode": {
   "interpreter": {
    "hash": "c7c132e493bab3f05dc3eecde52b8af768e79f0c26a7d99c1a59f019ffce2dd8"
   }
  }
 },
 "nbformat": 4,
 "nbformat_minor": 2
}
