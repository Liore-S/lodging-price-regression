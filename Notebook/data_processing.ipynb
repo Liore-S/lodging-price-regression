{
 "cells": [
  {
   "cell_type": "code",
   "execution_count": 1,
   "metadata": {},
   "outputs": [],
   "source": [
    "import pandas as pd\n",
    "import numpy as np\n",
    "import pickle"
   ]
  },
  {
   "cell_type": "markdown",
   "metadata": {},
   "source": [
    "## Input Data"
   ]
  },
  {
   "cell_type": "code",
   "execution_count": 2,
   "metadata": {},
   "outputs": [
    {
     "data": {
      "text/html": [
       "<div>\n",
       "<style scoped>\n",
       "    .dataframe tbody tr th:only-of-type {\n",
       "        vertical-align: middle;\n",
       "    }\n",
       "\n",
       "    .dataframe tbody tr th {\n",
       "        vertical-align: top;\n",
       "    }\n",
       "\n",
       "    .dataframe thead th {\n",
       "        text-align: right;\n",
       "    }\n",
       "</style>\n",
       "<table border=\"1\" class=\"dataframe\">\n",
       "  <thead>\n",
       "    <tr style=\"text-align: right;\">\n",
       "      <th></th>\n",
       "      <th>type</th>\n",
       "      <th>city</th>\n",
       "      <th>hotelFacilities</th>\n",
       "      <th>nearestPointOfInterests</th>\n",
       "      <th>starRating</th>\n",
       "      <th>size</th>\n",
       "      <th>originalRate</th>\n",
       "      <th>baseOccupancy</th>\n",
       "      <th>maxChildOccupancy</th>\n",
       "      <th>maxChildAge</th>\n",
       "      <th>isBreakfastIncluded</th>\n",
       "      <th>isWifiIncluded</th>\n",
       "      <th>isRefundable</th>\n",
       "      <th>hasLivingRoom</th>\n",
       "      <th>roomFacilities</th>\n",
       "    </tr>\n",
       "  </thead>\n",
       "  <tbody>\n",
       "    <tr>\n",
       "      <th>0</th>\n",
       "      <td>Hotel</td>\n",
       "      <td>Badung</td>\n",
       "      <td>[\"CARPARK\",\"ELEVATOR\",\"HAS_24_HOUR_ROOM_SERVIC...</td>\n",
       "      <td>[{\"landmarkId\":\"91589773100576\",\"geoId\":null,\"...</td>\n",
       "      <td>4</td>\n",
       "      <td>46.0</td>\n",
       "      <td>1227273</td>\n",
       "      <td>3</td>\n",
       "      <td>1</td>\n",
       "      <td>5</td>\n",
       "      <td>1</td>\n",
       "      <td>1</td>\n",
       "      <td>1</td>\n",
       "      <td>0</td>\n",
       "      <td>[\"AIR_CONDITIONING\",\"BALCONY_TERRACE\",\"BATHROB...</td>\n",
       "    </tr>\n",
       "    <tr>\n",
       "      <th>1</th>\n",
       "      <td>Hotel</td>\n",
       "      <td>Badung</td>\n",
       "      <td>[\"CARPARK\",\"ELEVATOR\",\"HAS_24_HOUR_ROOM_SERVIC...</td>\n",
       "      <td>[{\"landmarkId\":\"91589773100576\",\"geoId\":null,\"...</td>\n",
       "      <td>4</td>\n",
       "      <td>31.0</td>\n",
       "      <td>596694</td>\n",
       "      <td>2</td>\n",
       "      <td>1</td>\n",
       "      <td>5</td>\n",
       "      <td>0</td>\n",
       "      <td>1</td>\n",
       "      <td>1</td>\n",
       "      <td>0</td>\n",
       "      <td>[\"AIR_CONDITIONING\",\"BATHROBES\",\"BATHTUB\",\"BLA...</td>\n",
       "    </tr>\n",
       "    <tr>\n",
       "      <th>2</th>\n",
       "      <td>Hotel</td>\n",
       "      <td>Badung</td>\n",
       "      <td>[\"CARPARK\",\"ELEVATOR\",\"HAS_24_HOUR_ROOM_SERVIC...</td>\n",
       "      <td>[{\"landmarkId\":\"91589773100576\",\"geoId\":null,\"...</td>\n",
       "      <td>4</td>\n",
       "      <td>52.0</td>\n",
       "      <td>1450413</td>\n",
       "      <td>2</td>\n",
       "      <td>1</td>\n",
       "      <td>5</td>\n",
       "      <td>1</td>\n",
       "      <td>1</td>\n",
       "      <td>1</td>\n",
       "      <td>1</td>\n",
       "      <td>[\"AIR_CONDITIONING\",\"BALCONY_TERRACE\",\"BATHROB...</td>\n",
       "    </tr>\n",
       "  </tbody>\n",
       "</table>\n",
       "</div>"
      ],
      "text/plain": [
       "    type    city                                    hotelFacilities  \\\n",
       "0  Hotel  Badung  [\"CARPARK\",\"ELEVATOR\",\"HAS_24_HOUR_ROOM_SERVIC...   \n",
       "1  Hotel  Badung  [\"CARPARK\",\"ELEVATOR\",\"HAS_24_HOUR_ROOM_SERVIC...   \n",
       "2  Hotel  Badung  [\"CARPARK\",\"ELEVATOR\",\"HAS_24_HOUR_ROOM_SERVIC...   \n",
       "\n",
       "                             nearestPointOfInterests  starRating  size  \\\n",
       "0  [{\"landmarkId\":\"91589773100576\",\"geoId\":null,\"...           4  46.0   \n",
       "1  [{\"landmarkId\":\"91589773100576\",\"geoId\":null,\"...           4  31.0   \n",
       "2  [{\"landmarkId\":\"91589773100576\",\"geoId\":null,\"...           4  52.0   \n",
       "\n",
       "   originalRate  baseOccupancy  maxChildOccupancy  maxChildAge  \\\n",
       "0       1227273              3                  1            5   \n",
       "1        596694              2                  1            5   \n",
       "2       1450413              2                  1            5   \n",
       "\n",
       "   isBreakfastIncluded  isWifiIncluded  isRefundable  hasLivingRoom  \\\n",
       "0                    1               1             1              0   \n",
       "1                    0               1             1              0   \n",
       "2                    1               1             1              1   \n",
       "\n",
       "                                      roomFacilities  \n",
       "0  [\"AIR_CONDITIONING\",\"BALCONY_TERRACE\",\"BATHROB...  \n",
       "1  [\"AIR_CONDITIONING\",\"BATHROBES\",\"BATHTUB\",\"BLA...  \n",
       "2  [\"AIR_CONDITIONING\",\"BALCONY_TERRACE\",\"BATHROB...  "
      ]
     },
     "execution_count": 2,
     "metadata": {},
     "output_type": "execute_result"
    }
   ],
   "source": [
    "df = pd.read_csv('../Dataset/clean_data.csv')\n",
    "df.head(3)"
   ]
  },
  {
   "cell_type": "code",
   "execution_count": 3,
   "metadata": {},
   "outputs": [
    {
     "name": "stdout",
     "output_type": "stream",
     "text": [
      "Total number of rows: 5160\n",
      "Total number of columns: 15\n"
     ]
    }
   ],
   "source": [
    "print(f'Total number of rows: {df.shape[0]}')\n",
    "print(f'Total number of columns: {df.shape[1]}')"
   ]
  },
  {
   "cell_type": "markdown",
   "metadata": {},
   "source": [
    "### Feature Processing Function"
   ]
  },
  {
   "cell_type": "code",
   "execution_count": 4,
   "metadata": {},
   "outputs": [],
   "source": [
    "# Rooms facilities processing\n",
    "# How to use : Facilities = getFacilities(df['Facilities'].tolist())\n",
    "def getFacilities(facilitiesList):\n",
    "    facilities = []\n",
    "    for i in facilitiesList:\n",
    "        m = int(i.count('\"') / 2)\n",
    "        for j in range(1, m+1, 2):\n",
    "            temp = i.split('\"')[j]\n",
    "            if temp not in facilities:\n",
    "                facilities.append(temp)\n",
    "    # facilities = [f\"{prefix}_\" + string for string in facilities]\n",
    "    return facilities"
   ]
  },
  {
   "cell_type": "code",
   "execution_count": 5,
   "metadata": {},
   "outputs": [
    {
     "data": {
      "text/html": [
       "<div>\n",
       "<style scoped>\n",
       "    .dataframe tbody tr th:only-of-type {\n",
       "        vertical-align: middle;\n",
       "    }\n",
       "\n",
       "    .dataframe tbody tr th {\n",
       "        vertical-align: top;\n",
       "    }\n",
       "\n",
       "    .dataframe thead th {\n",
       "        text-align: right;\n",
       "    }\n",
       "</style>\n",
       "<table border=\"1\" class=\"dataframe\">\n",
       "  <thead>\n",
       "    <tr style=\"text-align: right;\">\n",
       "      <th></th>\n",
       "      <th>originalRate</th>\n",
       "    </tr>\n",
       "  </thead>\n",
       "  <tbody>\n",
       "    <tr>\n",
       "      <th>0</th>\n",
       "      <td>1227273</td>\n",
       "    </tr>\n",
       "    <tr>\n",
       "      <th>1</th>\n",
       "      <td>596694</td>\n",
       "    </tr>\n",
       "  </tbody>\n",
       "</table>\n",
       "</div>"
      ],
      "text/plain": [
       "   originalRate\n",
       "0       1227273\n",
       "1        596694"
      ]
     },
     "execution_count": 5,
     "metadata": {},
     "output_type": "execute_result"
    }
   ],
   "source": [
    "# seperate the target variable\n",
    "dfPrice = df[['originalRate']]\n",
    "dfPrice.head(2)"
   ]
  },
  {
   "attachments": {},
   "cell_type": "markdown",
   "metadata": {},
   "source": [
    "## Getting extraxcted features"
   ]
  },
  {
   "attachments": {},
   "cell_type": "markdown",
   "metadata": {},
   "source": [
    "### Getting the data"
   ]
  },
  {
   "cell_type": "code",
   "execution_count": 6,
   "metadata": {},
   "outputs": [
    {
     "name": "stdout",
     "output_type": "stream",
     "text": [
      " Total Unique Hotel Facilities: 238\n"
     ]
    }
   ],
   "source": [
    "# Hotel Facilities to List\n",
    "hotelFacilities = getFacilities(df['hotelFacilities'].tolist())\n",
    "print(f' Total Unique Hotel Facilities: {len(hotelFacilities)}')"
   ]
  },
  {
   "cell_type": "code",
   "execution_count": 7,
   "metadata": {},
   "outputs": [
    {
     "name": "stdout",
     "output_type": "stream",
     "text": [
      " Total Unique Hotel Facilities: 110\n"
     ]
    }
   ],
   "source": [
    "# Room Facilities to List\n",
    "roomFacilities = getFacilities(df['roomFacilities'].tolist())\n",
    "print(f' Total Unique Hotel Facilities: {len(roomFacilities)}')"
   ]
  },
  {
   "cell_type": "code",
   "execution_count": 8,
   "metadata": {},
   "outputs": [
    {
     "name": "stdout",
     "output_type": "stream",
     "text": [
      " Total Unique Hotel Facilities: 19\n"
     ]
    }
   ],
   "source": [
    "# nearestPointOfInterests to List\n",
    "# landmarkType is present at indexes [19, 49, 79, 109]\n",
    "\n",
    "landmark = df['nearestPointOfInterests'].to_list()\n",
    "searchText = 'landmarkType'\n",
    "nearestPoint = []\n",
    "loopCount = 0\n",
    "for x in range (len(landmark)):\n",
    "    loopCount += 1\n",
    "    i = 0\n",
    "    column = landmark[x].split('\"')\n",
    "    matched_indexes = []\n",
    "    while i < len(column):\n",
    "        if searchText == column[i]:\n",
    "            matched_indexes.append(i)\n",
    "        i += 1\n",
    "    for y in matched_indexes:\n",
    "        if column[y+2] not in nearestPoint:\n",
    "            nearestPoint.append(column[y+2])\n",
    "if 'OTHERS' in nearestPoint:\n",
    "    nearestPoint.remove('OTHERS')\n",
    "\n",
    "print(f' Total Unique Hotel Facilities: {len(nearestPoint)}')"
   ]
  },
  {
   "cell_type": "code",
   "execution_count": 9,
   "metadata": {},
   "outputs": [],
   "source": [
    "# Create new dataframe\n",
    "dfHotelEncode = pd.DataFrame(columns=hotelFacilities)\n",
    "dfRoomEncode = pd.DataFrame(columns=roomFacilities)\n",
    "dfPointEncode = pd.DataFrame(columns=nearestPoint)"
   ]
  },
  {
   "cell_type": "markdown",
   "metadata": {},
   "source": [
    "### Extra Features"
   ]
  },
  {
   "cell_type": "code",
   "execution_count": 10,
   "metadata": {},
   "outputs": [
    {
     "name": "stdout",
     "output_type": "stream",
     "text": [
      "(5160, 4)\n",
      "(5160, 9)\n"
     ]
    }
   ],
   "source": [
    "dfHotelEx = df[['originalRate','type','city','starRating']]\n",
    "dfRoomEx = df[['originalRate','size', 'baseOccupancy', 'maxChildOccupancy', 'maxChildAge', 'isBreakfastIncluded', 'isWifiIncluded', 'isRefundable', 'hasLivingRoom']]\n",
    "print(dfHotelEx.shape)\n",
    "print(dfRoomEx.shape)"
   ]
  },
  {
   "cell_type": "markdown",
   "metadata": {},
   "source": [
    "#### Hotel Extra Features"
   ]
  },
  {
   "cell_type": "code",
   "execution_count": 11,
   "metadata": {},
   "outputs": [
    {
     "name": "stdout",
     "output_type": "stream",
     "text": [
      "<class 'pandas.core.frame.DataFrame'>\n",
      "RangeIndex: 5160 entries, 0 to 5159\n",
      "Data columns (total 4 columns):\n",
      " #   Column        Non-Null Count  Dtype \n",
      "---  ------        --------------  ----- \n",
      " 0   originalRate  5160 non-null   int64 \n",
      " 1   type          5160 non-null   object\n",
      " 2   city          5160 non-null   object\n",
      " 3   starRating    5160 non-null   int64 \n",
      "dtypes: int64(2), object(2)\n",
      "memory usage: 161.4+ KB\n"
     ]
    }
   ],
   "source": [
    "dfHotelEx.info()"
   ]
  },
  {
   "cell_type": "code",
   "execution_count": 12,
   "metadata": {},
   "outputs": [
    {
     "data": {
      "text/plain": [
       "array(['Badung', 'Denpasar', 'Gianyar', 'Sanur', 'Bangli', 'Buleleng',\n",
       "       'Klungkung', 'Tabanan', 'Jembrana', 'Karangasem'], dtype=object)"
      ]
     },
     "execution_count": 12,
     "metadata": {},
     "output_type": "execute_result"
    }
   ],
   "source": [
    "dfHotelEx['city'].unique()"
   ]
  },
  {
   "cell_type": "code",
   "execution_count": 13,
   "metadata": {},
   "outputs": [
    {
     "data": {
      "text/plain": [
       "array(['Hotel', 'Resor', 'Apartemen', 'Vila', 'Guest House', 'Homestay',\n",
       "       'B&B', 'Hostel', 'Camping', 'Lainnya', 'Hotel Kapsul'],\n",
       "      dtype=object)"
      ]
     },
     "execution_count": 13,
     "metadata": {},
     "output_type": "execute_result"
    }
   ],
   "source": [
    "dfHotelEx['type'].unique()"
   ]
  },
  {
   "cell_type": "code",
   "execution_count": 14,
   "metadata": {},
   "outputs": [],
   "source": [
    "cityEncode = pd.get_dummies(dfHotelEx['city'], prefix='City')\n",
    "typeEncode = pd.get_dummies(dfHotelEx['type'], prefix='Type')\n",
    "dfHotelEx = pd.concat([dfHotelEx, cityEncode, typeEncode], axis=1)"
   ]
  },
  {
   "cell_type": "code",
   "execution_count": 15,
   "metadata": {},
   "outputs": [
    {
     "name": "stdout",
     "output_type": "stream",
     "text": [
      "(5160, 23)\n"
     ]
    },
    {
     "data": {
      "text/html": [
       "<div>\n",
       "<style scoped>\n",
       "    .dataframe tbody tr th:only-of-type {\n",
       "        vertical-align: middle;\n",
       "    }\n",
       "\n",
       "    .dataframe tbody tr th {\n",
       "        vertical-align: top;\n",
       "    }\n",
       "\n",
       "    .dataframe thead th {\n",
       "        text-align: right;\n",
       "    }\n",
       "</style>\n",
       "<table border=\"1\" class=\"dataframe\">\n",
       "  <thead>\n",
       "    <tr style=\"text-align: right;\">\n",
       "      <th></th>\n",
       "      <th>originalRate</th>\n",
       "      <th>starRating</th>\n",
       "      <th>City_Badung</th>\n",
       "      <th>City_Bangli</th>\n",
       "      <th>City_Buleleng</th>\n",
       "      <th>City_Denpasar</th>\n",
       "      <th>City_Gianyar</th>\n",
       "      <th>City_Jembrana</th>\n",
       "      <th>City_Karangasem</th>\n",
       "      <th>City_Klungkung</th>\n",
       "      <th>...</th>\n",
       "      <th>Type_B&amp;B</th>\n",
       "      <th>Type_Camping</th>\n",
       "      <th>Type_Guest House</th>\n",
       "      <th>Type_Homestay</th>\n",
       "      <th>Type_Hostel</th>\n",
       "      <th>Type_Hotel</th>\n",
       "      <th>Type_Hotel Kapsul</th>\n",
       "      <th>Type_Lainnya</th>\n",
       "      <th>Type_Resor</th>\n",
       "      <th>Type_Vila</th>\n",
       "    </tr>\n",
       "  </thead>\n",
       "  <tbody>\n",
       "    <tr>\n",
       "      <th>0</th>\n",
       "      <td>1227273</td>\n",
       "      <td>4</td>\n",
       "      <td>1</td>\n",
       "      <td>0</td>\n",
       "      <td>0</td>\n",
       "      <td>0</td>\n",
       "      <td>0</td>\n",
       "      <td>0</td>\n",
       "      <td>0</td>\n",
       "      <td>0</td>\n",
       "      <td>...</td>\n",
       "      <td>0</td>\n",
       "      <td>0</td>\n",
       "      <td>0</td>\n",
       "      <td>0</td>\n",
       "      <td>0</td>\n",
       "      <td>1</td>\n",
       "      <td>0</td>\n",
       "      <td>0</td>\n",
       "      <td>0</td>\n",
       "      <td>0</td>\n",
       "    </tr>\n",
       "    <tr>\n",
       "      <th>1</th>\n",
       "      <td>596694</td>\n",
       "      <td>4</td>\n",
       "      <td>1</td>\n",
       "      <td>0</td>\n",
       "      <td>0</td>\n",
       "      <td>0</td>\n",
       "      <td>0</td>\n",
       "      <td>0</td>\n",
       "      <td>0</td>\n",
       "      <td>0</td>\n",
       "      <td>...</td>\n",
       "      <td>0</td>\n",
       "      <td>0</td>\n",
       "      <td>0</td>\n",
       "      <td>0</td>\n",
       "      <td>0</td>\n",
       "      <td>1</td>\n",
       "      <td>0</td>\n",
       "      <td>0</td>\n",
       "      <td>0</td>\n",
       "      <td>0</td>\n",
       "    </tr>\n",
       "  </tbody>\n",
       "</table>\n",
       "<p>2 rows × 23 columns</p>\n",
       "</div>"
      ],
      "text/plain": [
       "   originalRate  starRating  City_Badung  City_Bangli  City_Buleleng  \\\n",
       "0       1227273           4            1            0              0   \n",
       "1        596694           4            1            0              0   \n",
       "\n",
       "   City_Denpasar  City_Gianyar  City_Jembrana  City_Karangasem  \\\n",
       "0              0             0              0                0   \n",
       "1              0             0              0                0   \n",
       "\n",
       "   City_Klungkung  ...  Type_B&B  Type_Camping  Type_Guest House  \\\n",
       "0               0  ...         0             0                 0   \n",
       "1               0  ...         0             0                 0   \n",
       "\n",
       "   Type_Homestay  Type_Hostel  Type_Hotel  Type_Hotel Kapsul  Type_Lainnya  \\\n",
       "0              0            0           1                  0             0   \n",
       "1              0            0           1                  0             0   \n",
       "\n",
       "   Type_Resor  Type_Vila  \n",
       "0           0          0  \n",
       "1           0          0  \n",
       "\n",
       "[2 rows x 23 columns]"
      ]
     },
     "execution_count": 15,
     "metadata": {},
     "output_type": "execute_result"
    }
   ],
   "source": [
    "dfHotelEx.drop(['city', 'type'], axis=1, inplace=True)\n",
    "print(dfHotelEx.shape)\n",
    "dfHotelEx.head(2)"
   ]
  },
  {
   "cell_type": "code",
   "execution_count": 16,
   "metadata": {},
   "outputs": [
    {
     "data": {
      "text/html": [
       "<div>\n",
       "<style scoped>\n",
       "    .dataframe tbody tr th:only-of-type {\n",
       "        vertical-align: middle;\n",
       "    }\n",
       "\n",
       "    .dataframe tbody tr th {\n",
       "        vertical-align: top;\n",
       "    }\n",
       "\n",
       "    .dataframe thead th {\n",
       "        text-align: right;\n",
       "    }\n",
       "</style>\n",
       "<table border=\"1\" class=\"dataframe\">\n",
       "  <thead>\n",
       "    <tr style=\"text-align: right;\">\n",
       "      <th></th>\n",
       "      <th>originalRate</th>\n",
       "      <th>starRating</th>\n",
       "      <th>City_Badung</th>\n",
       "      <th>City_Bangli</th>\n",
       "      <th>City_Buleleng</th>\n",
       "      <th>City_Denpasar</th>\n",
       "      <th>City_Gianyar</th>\n",
       "      <th>City_Jembrana</th>\n",
       "      <th>City_Karangasem</th>\n",
       "      <th>City_Klungkung</th>\n",
       "      <th>...</th>\n",
       "      <th>Type_B&amp;B</th>\n",
       "      <th>Type_Camping</th>\n",
       "      <th>Type_Guest House</th>\n",
       "      <th>Type_Homestay</th>\n",
       "      <th>Type_Hostel</th>\n",
       "      <th>Type_Hotel</th>\n",
       "      <th>Type_Hotel Kapsul</th>\n",
       "      <th>Type_Lainnya</th>\n",
       "      <th>Type_Resor</th>\n",
       "      <th>Type_Vila</th>\n",
       "    </tr>\n",
       "  </thead>\n",
       "  <tbody>\n",
       "    <tr>\n",
       "      <th>count</th>\n",
       "      <td>5.160000e+03</td>\n",
       "      <td>5160.000000</td>\n",
       "      <td>5160.000000</td>\n",
       "      <td>5160.000000</td>\n",
       "      <td>5160.000000</td>\n",
       "      <td>5160.000000</td>\n",
       "      <td>5160.000000</td>\n",
       "      <td>5160.000000</td>\n",
       "      <td>5160.000000</td>\n",
       "      <td>5160.000000</td>\n",
       "      <td>...</td>\n",
       "      <td>5160.000000</td>\n",
       "      <td>5160.000000</td>\n",
       "      <td>5160.000000</td>\n",
       "      <td>5160.000000</td>\n",
       "      <td>5160.000000</td>\n",
       "      <td>5160.000000</td>\n",
       "      <td>5160.000000</td>\n",
       "      <td>5160.000000</td>\n",
       "      <td>5160.000000</td>\n",
       "      <td>5160.000000</td>\n",
       "    </tr>\n",
       "    <tr>\n",
       "      <th>mean</th>\n",
       "      <td>1.313368e+06</td>\n",
       "      <td>3.355039</td>\n",
       "      <td>0.431202</td>\n",
       "      <td>0.010659</td>\n",
       "      <td>0.073256</td>\n",
       "      <td>0.047481</td>\n",
       "      <td>0.197481</td>\n",
       "      <td>0.012984</td>\n",
       "      <td>0.052326</td>\n",
       "      <td>0.098256</td>\n",
       "      <td>...</td>\n",
       "      <td>0.020155</td>\n",
       "      <td>0.002713</td>\n",
       "      <td>0.127907</td>\n",
       "      <td>0.053295</td>\n",
       "      <td>0.020930</td>\n",
       "      <td>0.475388</td>\n",
       "      <td>0.000775</td>\n",
       "      <td>0.000969</td>\n",
       "      <td>0.136822</td>\n",
       "      <td>0.145349</td>\n",
       "    </tr>\n",
       "    <tr>\n",
       "      <th>std</th>\n",
       "      <td>1.240014e+06</td>\n",
       "      <td>1.162972</td>\n",
       "      <td>0.495292</td>\n",
       "      <td>0.102700</td>\n",
       "      <td>0.260581</td>\n",
       "      <td>0.212685</td>\n",
       "      <td>0.398137</td>\n",
       "      <td>0.113218</td>\n",
       "      <td>0.222704</td>\n",
       "      <td>0.297689</td>\n",
       "      <td>...</td>\n",
       "      <td>0.140544</td>\n",
       "      <td>0.052023</td>\n",
       "      <td>0.334019</td>\n",
       "      <td>0.224642</td>\n",
       "      <td>0.143165</td>\n",
       "      <td>0.499442</td>\n",
       "      <td>0.027834</td>\n",
       "      <td>0.031117</td>\n",
       "      <td>0.343692</td>\n",
       "      <td>0.352486</td>\n",
       "    </tr>\n",
       "    <tr>\n",
       "      <th>min</th>\n",
       "      <td>4.031300e+04</td>\n",
       "      <td>0.000000</td>\n",
       "      <td>0.000000</td>\n",
       "      <td>0.000000</td>\n",
       "      <td>0.000000</td>\n",
       "      <td>0.000000</td>\n",
       "      <td>0.000000</td>\n",
       "      <td>0.000000</td>\n",
       "      <td>0.000000</td>\n",
       "      <td>0.000000</td>\n",
       "      <td>...</td>\n",
       "      <td>0.000000</td>\n",
       "      <td>0.000000</td>\n",
       "      <td>0.000000</td>\n",
       "      <td>0.000000</td>\n",
       "      <td>0.000000</td>\n",
       "      <td>0.000000</td>\n",
       "      <td>0.000000</td>\n",
       "      <td>0.000000</td>\n",
       "      <td>0.000000</td>\n",
       "      <td>0.000000</td>\n",
       "    </tr>\n",
       "    <tr>\n",
       "      <th>25%</th>\n",
       "      <td>4.545450e+05</td>\n",
       "      <td>3.000000</td>\n",
       "      <td>0.000000</td>\n",
       "      <td>0.000000</td>\n",
       "      <td>0.000000</td>\n",
       "      <td>0.000000</td>\n",
       "      <td>0.000000</td>\n",
       "      <td>0.000000</td>\n",
       "      <td>0.000000</td>\n",
       "      <td>0.000000</td>\n",
       "      <td>...</td>\n",
       "      <td>0.000000</td>\n",
       "      <td>0.000000</td>\n",
       "      <td>0.000000</td>\n",
       "      <td>0.000000</td>\n",
       "      <td>0.000000</td>\n",
       "      <td>0.000000</td>\n",
       "      <td>0.000000</td>\n",
       "      <td>0.000000</td>\n",
       "      <td>0.000000</td>\n",
       "      <td>0.000000</td>\n",
       "    </tr>\n",
       "    <tr>\n",
       "      <th>50%</th>\n",
       "      <td>8.701100e+05</td>\n",
       "      <td>3.000000</td>\n",
       "      <td>0.000000</td>\n",
       "      <td>0.000000</td>\n",
       "      <td>0.000000</td>\n",
       "      <td>0.000000</td>\n",
       "      <td>0.000000</td>\n",
       "      <td>0.000000</td>\n",
       "      <td>0.000000</td>\n",
       "      <td>0.000000</td>\n",
       "      <td>...</td>\n",
       "      <td>0.000000</td>\n",
       "      <td>0.000000</td>\n",
       "      <td>0.000000</td>\n",
       "      <td>0.000000</td>\n",
       "      <td>0.000000</td>\n",
       "      <td>0.000000</td>\n",
       "      <td>0.000000</td>\n",
       "      <td>0.000000</td>\n",
       "      <td>0.000000</td>\n",
       "      <td>0.000000</td>\n",
       "    </tr>\n",
       "    <tr>\n",
       "      <th>75%</th>\n",
       "      <td>1.714383e+06</td>\n",
       "      <td>4.000000</td>\n",
       "      <td>1.000000</td>\n",
       "      <td>0.000000</td>\n",
       "      <td>0.000000</td>\n",
       "      <td>0.000000</td>\n",
       "      <td>0.000000</td>\n",
       "      <td>0.000000</td>\n",
       "      <td>0.000000</td>\n",
       "      <td>0.000000</td>\n",
       "      <td>...</td>\n",
       "      <td>0.000000</td>\n",
       "      <td>0.000000</td>\n",
       "      <td>0.000000</td>\n",
       "      <td>0.000000</td>\n",
       "      <td>0.000000</td>\n",
       "      <td>1.000000</td>\n",
       "      <td>0.000000</td>\n",
       "      <td>0.000000</td>\n",
       "      <td>0.000000</td>\n",
       "      <td>0.000000</td>\n",
       "    </tr>\n",
       "    <tr>\n",
       "      <th>max</th>\n",
       "      <td>6.611571e+06</td>\n",
       "      <td>5.000000</td>\n",
       "      <td>1.000000</td>\n",
       "      <td>1.000000</td>\n",
       "      <td>1.000000</td>\n",
       "      <td>1.000000</td>\n",
       "      <td>1.000000</td>\n",
       "      <td>1.000000</td>\n",
       "      <td>1.000000</td>\n",
       "      <td>1.000000</td>\n",
       "      <td>...</td>\n",
       "      <td>1.000000</td>\n",
       "      <td>1.000000</td>\n",
       "      <td>1.000000</td>\n",
       "      <td>1.000000</td>\n",
       "      <td>1.000000</td>\n",
       "      <td>1.000000</td>\n",
       "      <td>1.000000</td>\n",
       "      <td>1.000000</td>\n",
       "      <td>1.000000</td>\n",
       "      <td>1.000000</td>\n",
       "    </tr>\n",
       "  </tbody>\n",
       "</table>\n",
       "<p>8 rows × 23 columns</p>\n",
       "</div>"
      ],
      "text/plain": [
       "       originalRate   starRating  City_Badung  City_Bangli  City_Buleleng  \\\n",
       "count  5.160000e+03  5160.000000  5160.000000  5160.000000    5160.000000   \n",
       "mean   1.313368e+06     3.355039     0.431202     0.010659       0.073256   \n",
       "std    1.240014e+06     1.162972     0.495292     0.102700       0.260581   \n",
       "min    4.031300e+04     0.000000     0.000000     0.000000       0.000000   \n",
       "25%    4.545450e+05     3.000000     0.000000     0.000000       0.000000   \n",
       "50%    8.701100e+05     3.000000     0.000000     0.000000       0.000000   \n",
       "75%    1.714383e+06     4.000000     1.000000     0.000000       0.000000   \n",
       "max    6.611571e+06     5.000000     1.000000     1.000000       1.000000   \n",
       "\n",
       "       City_Denpasar  City_Gianyar  City_Jembrana  City_Karangasem  \\\n",
       "count    5160.000000   5160.000000    5160.000000      5160.000000   \n",
       "mean        0.047481      0.197481       0.012984         0.052326   \n",
       "std         0.212685      0.398137       0.113218         0.222704   \n",
       "min         0.000000      0.000000       0.000000         0.000000   \n",
       "25%         0.000000      0.000000       0.000000         0.000000   \n",
       "50%         0.000000      0.000000       0.000000         0.000000   \n",
       "75%         0.000000      0.000000       0.000000         0.000000   \n",
       "max         1.000000      1.000000       1.000000         1.000000   \n",
       "\n",
       "       City_Klungkung  ...     Type_B&B  Type_Camping  Type_Guest House  \\\n",
       "count     5160.000000  ...  5160.000000   5160.000000       5160.000000   \n",
       "mean         0.098256  ...     0.020155      0.002713          0.127907   \n",
       "std          0.297689  ...     0.140544      0.052023          0.334019   \n",
       "min          0.000000  ...     0.000000      0.000000          0.000000   \n",
       "25%          0.000000  ...     0.000000      0.000000          0.000000   \n",
       "50%          0.000000  ...     0.000000      0.000000          0.000000   \n",
       "75%          0.000000  ...     0.000000      0.000000          0.000000   \n",
       "max          1.000000  ...     1.000000      1.000000          1.000000   \n",
       "\n",
       "       Type_Homestay  Type_Hostel   Type_Hotel  Type_Hotel Kapsul  \\\n",
       "count    5160.000000  5160.000000  5160.000000        5160.000000   \n",
       "mean        0.053295     0.020930     0.475388           0.000775   \n",
       "std         0.224642     0.143165     0.499442           0.027834   \n",
       "min         0.000000     0.000000     0.000000           0.000000   \n",
       "25%         0.000000     0.000000     0.000000           0.000000   \n",
       "50%         0.000000     0.000000     0.000000           0.000000   \n",
       "75%         0.000000     0.000000     1.000000           0.000000   \n",
       "max         1.000000     1.000000     1.000000           1.000000   \n",
       "\n",
       "       Type_Lainnya   Type_Resor    Type_Vila  \n",
       "count   5160.000000  5160.000000  5160.000000  \n",
       "mean       0.000969     0.136822     0.145349  \n",
       "std        0.031117     0.343692     0.352486  \n",
       "min        0.000000     0.000000     0.000000  \n",
       "25%        0.000000     0.000000     0.000000  \n",
       "50%        0.000000     0.000000     0.000000  \n",
       "75%        0.000000     0.000000     0.000000  \n",
       "max        1.000000     1.000000     1.000000  \n",
       "\n",
       "[8 rows x 23 columns]"
      ]
     },
     "execution_count": 16,
     "metadata": {},
     "output_type": "execute_result"
    }
   ],
   "source": [
    "dfHotelEx.describe()"
   ]
  },
  {
   "cell_type": "markdown",
   "metadata": {},
   "source": [
    "#### Room Extra Features"
   ]
  },
  {
   "cell_type": "code",
   "execution_count": 17,
   "metadata": {},
   "outputs": [
    {
     "data": {
      "text/html": [
       "<div>\n",
       "<style scoped>\n",
       "    .dataframe tbody tr th:only-of-type {\n",
       "        vertical-align: middle;\n",
       "    }\n",
       "\n",
       "    .dataframe tbody tr th {\n",
       "        vertical-align: top;\n",
       "    }\n",
       "\n",
       "    .dataframe thead th {\n",
       "        text-align: right;\n",
       "    }\n",
       "</style>\n",
       "<table border=\"1\" class=\"dataframe\">\n",
       "  <thead>\n",
       "    <tr style=\"text-align: right;\">\n",
       "      <th></th>\n",
       "      <th>originalRate</th>\n",
       "      <th>size</th>\n",
       "      <th>baseOccupancy</th>\n",
       "      <th>maxChildOccupancy</th>\n",
       "      <th>maxChildAge</th>\n",
       "      <th>isBreakfastIncluded</th>\n",
       "      <th>isWifiIncluded</th>\n",
       "      <th>isRefundable</th>\n",
       "      <th>hasLivingRoom</th>\n",
       "    </tr>\n",
       "  </thead>\n",
       "  <tbody>\n",
       "    <tr>\n",
       "      <th>0</th>\n",
       "      <td>1227273</td>\n",
       "      <td>46.0</td>\n",
       "      <td>3</td>\n",
       "      <td>1</td>\n",
       "      <td>5</td>\n",
       "      <td>1</td>\n",
       "      <td>1</td>\n",
       "      <td>1</td>\n",
       "      <td>0</td>\n",
       "    </tr>\n",
       "    <tr>\n",
       "      <th>1</th>\n",
       "      <td>596694</td>\n",
       "      <td>31.0</td>\n",
       "      <td>2</td>\n",
       "      <td>1</td>\n",
       "      <td>5</td>\n",
       "      <td>0</td>\n",
       "      <td>1</td>\n",
       "      <td>1</td>\n",
       "      <td>0</td>\n",
       "    </tr>\n",
       "  </tbody>\n",
       "</table>\n",
       "</div>"
      ],
      "text/plain": [
       "   originalRate  size  baseOccupancy  maxChildOccupancy  maxChildAge  \\\n",
       "0       1227273  46.0              3                  1            5   \n",
       "1        596694  31.0              2                  1            5   \n",
       "\n",
       "   isBreakfastIncluded  isWifiIncluded  isRefundable  hasLivingRoom  \n",
       "0                    1               1             1              0  \n",
       "1                    0               1             1              0  "
      ]
     },
     "execution_count": 17,
     "metadata": {},
     "output_type": "execute_result"
    }
   ],
   "source": [
    "dfRoomEx.head(2)"
   ]
  },
  {
   "attachments": {},
   "cell_type": "markdown",
   "metadata": {},
   "source": [
    "### Hotel Feature"
   ]
  },
  {
   "cell_type": "code",
   "execution_count": 18,
   "metadata": {},
   "outputs": [
    {
     "name": "stdout",
     "output_type": "stream",
     "text": [
      "(5160, 240)\n"
     ]
    },
    {
     "data": {
      "text/html": [
       "<div>\n",
       "<style scoped>\n",
       "    .dataframe tbody tr th:only-of-type {\n",
       "        vertical-align: middle;\n",
       "    }\n",
       "\n",
       "    .dataframe tbody tr th {\n",
       "        vertical-align: top;\n",
       "    }\n",
       "\n",
       "    .dataframe thead th {\n",
       "        text-align: right;\n",
       "    }\n",
       "</style>\n",
       "<table border=\"1\" class=\"dataframe\">\n",
       "  <thead>\n",
       "    <tr style=\"text-align: right;\">\n",
       "      <th></th>\n",
       "      <th>originalRate</th>\n",
       "      <th>hotelFacilities</th>\n",
       "      <th>CARPARK</th>\n",
       "      <th>ELEVATOR</th>\n",
       "      <th>HAS_24_HOUR_ROOM_SERVICE</th>\n",
       "      <th>RESTAURANT</th>\n",
       "      <th>RESTAURANT_FOR_BREAKFAST</th>\n",
       "      <th>RESTAURANT_FOR_DINNER</th>\n",
       "      <th>RESTAURANT_FOR_LUNCH</th>\n",
       "      <th>SAFETY_DEPOSIT_BOX</th>\n",
       "      <th>...</th>\n",
       "      <th>INFINITY_POOL</th>\n",
       "      <th>HEALTH_CLUB</th>\n",
       "      <th>WATER_PARK_ACCESS_SURCHARGE</th>\n",
       "      <th>PRIVATE_BEACH</th>\n",
       "      <th>SURFING</th>\n",
       "      <th>PRIVATE_BEACH_NEARBY</th>\n",
       "      <th>BEACH_SUN_LOUNGERS</th>\n",
       "      <th>DARTS</th>\n",
       "      <th>ENTERTAINMENT_PROGRAMME_FOR_CHILDREN</th>\n",
       "      <th>KARAOKE</th>\n",
       "    </tr>\n",
       "  </thead>\n",
       "  <tbody>\n",
       "    <tr>\n",
       "      <th>0</th>\n",
       "      <td>1227273</td>\n",
       "      <td>[\"CARPARK\",\"ELEVATOR\",\"HAS_24_HOUR_ROOM_SERVIC...</td>\n",
       "      <td>NaN</td>\n",
       "      <td>NaN</td>\n",
       "      <td>NaN</td>\n",
       "      <td>NaN</td>\n",
       "      <td>NaN</td>\n",
       "      <td>NaN</td>\n",
       "      <td>NaN</td>\n",
       "      <td>NaN</td>\n",
       "      <td>...</td>\n",
       "      <td>NaN</td>\n",
       "      <td>NaN</td>\n",
       "      <td>NaN</td>\n",
       "      <td>NaN</td>\n",
       "      <td>NaN</td>\n",
       "      <td>NaN</td>\n",
       "      <td>NaN</td>\n",
       "      <td>NaN</td>\n",
       "      <td>NaN</td>\n",
       "      <td>NaN</td>\n",
       "    </tr>\n",
       "    <tr>\n",
       "      <th>1</th>\n",
       "      <td>596694</td>\n",
       "      <td>[\"CARPARK\",\"ELEVATOR\",\"HAS_24_HOUR_ROOM_SERVIC...</td>\n",
       "      <td>NaN</td>\n",
       "      <td>NaN</td>\n",
       "      <td>NaN</td>\n",
       "      <td>NaN</td>\n",
       "      <td>NaN</td>\n",
       "      <td>NaN</td>\n",
       "      <td>NaN</td>\n",
       "      <td>NaN</td>\n",
       "      <td>...</td>\n",
       "      <td>NaN</td>\n",
       "      <td>NaN</td>\n",
       "      <td>NaN</td>\n",
       "      <td>NaN</td>\n",
       "      <td>NaN</td>\n",
       "      <td>NaN</td>\n",
       "      <td>NaN</td>\n",
       "      <td>NaN</td>\n",
       "      <td>NaN</td>\n",
       "      <td>NaN</td>\n",
       "    </tr>\n",
       "  </tbody>\n",
       "</table>\n",
       "<p>2 rows × 240 columns</p>\n",
       "</div>"
      ],
      "text/plain": [
       "   originalRate                                    hotelFacilities CARPARK  \\\n",
       "0       1227273  [\"CARPARK\",\"ELEVATOR\",\"HAS_24_HOUR_ROOM_SERVIC...     NaN   \n",
       "1        596694  [\"CARPARK\",\"ELEVATOR\",\"HAS_24_HOUR_ROOM_SERVIC...     NaN   \n",
       "\n",
       "  ELEVATOR HAS_24_HOUR_ROOM_SERVICE RESTAURANT RESTAURANT_FOR_BREAKFAST  \\\n",
       "0      NaN                      NaN        NaN                      NaN   \n",
       "1      NaN                      NaN        NaN                      NaN   \n",
       "\n",
       "  RESTAURANT_FOR_DINNER RESTAURANT_FOR_LUNCH SAFETY_DEPOSIT_BOX  ...  \\\n",
       "0                   NaN                  NaN                NaN  ...   \n",
       "1                   NaN                  NaN                NaN  ...   \n",
       "\n",
       "  INFINITY_POOL HEALTH_CLUB WATER_PARK_ACCESS_SURCHARGE PRIVATE_BEACH SURFING  \\\n",
       "0           NaN         NaN                         NaN           NaN     NaN   \n",
       "1           NaN         NaN                         NaN           NaN     NaN   \n",
       "\n",
       "  PRIVATE_BEACH_NEARBY BEACH_SUN_LOUNGERS DARTS  \\\n",
       "0                  NaN                NaN   NaN   \n",
       "1                  NaN                NaN   NaN   \n",
       "\n",
       "  ENTERTAINMENT_PROGRAMME_FOR_CHILDREN KARAOKE  \n",
       "0                                  NaN     NaN  \n",
       "1                                  NaN     NaN  \n",
       "\n",
       "[2 rows x 240 columns]"
      ]
     },
     "execution_count": 18,
     "metadata": {},
     "output_type": "execute_result"
    }
   ],
   "source": [
    "dfHotel = pd.concat([df.pop('hotelFacilities'), dfHotelEncode], axis=1)\n",
    "dfHotel = pd.concat([dfPrice, dfHotel], axis=1)\n",
    "print(dfHotel.shape)\n",
    "dfHotel.head(2)"
   ]
  },
  {
   "cell_type": "code",
   "execution_count": 19,
   "metadata": {},
   "outputs": [
    {
     "name": "stdout",
     "output_type": "stream",
     "text": [
      "(5100, 240)\n"
     ]
    },
    {
     "data": {
      "text/html": [
       "<div>\n",
       "<style scoped>\n",
       "    .dataframe tbody tr th:only-of-type {\n",
       "        vertical-align: middle;\n",
       "    }\n",
       "\n",
       "    .dataframe tbody tr th {\n",
       "        vertical-align: top;\n",
       "    }\n",
       "\n",
       "    .dataframe thead th {\n",
       "        text-align: right;\n",
       "    }\n",
       "</style>\n",
       "<table border=\"1\" class=\"dataframe\">\n",
       "  <thead>\n",
       "    <tr style=\"text-align: right;\">\n",
       "      <th></th>\n",
       "      <th>originalRate</th>\n",
       "      <th>hotelFacilities</th>\n",
       "      <th>CARPARK</th>\n",
       "      <th>ELEVATOR</th>\n",
       "      <th>HAS_24_HOUR_ROOM_SERVICE</th>\n",
       "      <th>RESTAURANT</th>\n",
       "      <th>RESTAURANT_FOR_BREAKFAST</th>\n",
       "      <th>RESTAURANT_FOR_DINNER</th>\n",
       "      <th>RESTAURANT_FOR_LUNCH</th>\n",
       "      <th>SAFETY_DEPOSIT_BOX</th>\n",
       "      <th>...</th>\n",
       "      <th>INFINITY_POOL</th>\n",
       "      <th>HEALTH_CLUB</th>\n",
       "      <th>WATER_PARK_ACCESS_SURCHARGE</th>\n",
       "      <th>PRIVATE_BEACH</th>\n",
       "      <th>SURFING</th>\n",
       "      <th>PRIVATE_BEACH_NEARBY</th>\n",
       "      <th>BEACH_SUN_LOUNGERS</th>\n",
       "      <th>DARTS</th>\n",
       "      <th>ENTERTAINMENT_PROGRAMME_FOR_CHILDREN</th>\n",
       "      <th>KARAOKE</th>\n",
       "    </tr>\n",
       "  </thead>\n",
       "  <tbody>\n",
       "    <tr>\n",
       "      <th>0</th>\n",
       "      <td>1227273</td>\n",
       "      <td>[\"CARPARK\",\"ELEVATOR\",\"HAS_24_HOUR_ROOM_SERVIC...</td>\n",
       "      <td>1</td>\n",
       "      <td>1</td>\n",
       "      <td>1</td>\n",
       "      <td>1</td>\n",
       "      <td>1</td>\n",
       "      <td>1</td>\n",
       "      <td>1</td>\n",
       "      <td>1</td>\n",
       "      <td>...</td>\n",
       "      <td>0</td>\n",
       "      <td>0</td>\n",
       "      <td>0</td>\n",
       "      <td>0</td>\n",
       "      <td>0</td>\n",
       "      <td>0</td>\n",
       "      <td>0</td>\n",
       "      <td>0</td>\n",
       "      <td>0</td>\n",
       "      <td>0</td>\n",
       "    </tr>\n",
       "    <tr>\n",
       "      <th>1</th>\n",
       "      <td>596694</td>\n",
       "      <td>[\"CARPARK\",\"ELEVATOR\",\"HAS_24_HOUR_ROOM_SERVIC...</td>\n",
       "      <td>1</td>\n",
       "      <td>1</td>\n",
       "      <td>1</td>\n",
       "      <td>1</td>\n",
       "      <td>1</td>\n",
       "      <td>1</td>\n",
       "      <td>1</td>\n",
       "      <td>1</td>\n",
       "      <td>...</td>\n",
       "      <td>0</td>\n",
       "      <td>0</td>\n",
       "      <td>0</td>\n",
       "      <td>0</td>\n",
       "      <td>0</td>\n",
       "      <td>0</td>\n",
       "      <td>0</td>\n",
       "      <td>0</td>\n",
       "      <td>0</td>\n",
       "      <td>0</td>\n",
       "    </tr>\n",
       "    <tr>\n",
       "      <th>2</th>\n",
       "      <td>1450413</td>\n",
       "      <td>[\"CARPARK\",\"ELEVATOR\",\"HAS_24_HOUR_ROOM_SERVIC...</td>\n",
       "      <td>1</td>\n",
       "      <td>1</td>\n",
       "      <td>1</td>\n",
       "      <td>1</td>\n",
       "      <td>1</td>\n",
       "      <td>1</td>\n",
       "      <td>1</td>\n",
       "      <td>1</td>\n",
       "      <td>...</td>\n",
       "      <td>0</td>\n",
       "      <td>0</td>\n",
       "      <td>0</td>\n",
       "      <td>0</td>\n",
       "      <td>0</td>\n",
       "      <td>0</td>\n",
       "      <td>0</td>\n",
       "      <td>0</td>\n",
       "      <td>0</td>\n",
       "      <td>0</td>\n",
       "    </tr>\n",
       "    <tr>\n",
       "      <th>3</th>\n",
       "      <td>855372</td>\n",
       "      <td>[\"CARPARK\",\"ELEVATOR\",\"HAS_24_HOUR_ROOM_SERVIC...</td>\n",
       "      <td>1</td>\n",
       "      <td>1</td>\n",
       "      <td>1</td>\n",
       "      <td>1</td>\n",
       "      <td>1</td>\n",
       "      <td>1</td>\n",
       "      <td>1</td>\n",
       "      <td>1</td>\n",
       "      <td>...</td>\n",
       "      <td>0</td>\n",
       "      <td>0</td>\n",
       "      <td>0</td>\n",
       "      <td>0</td>\n",
       "      <td>0</td>\n",
       "      <td>0</td>\n",
       "      <td>0</td>\n",
       "      <td>0</td>\n",
       "      <td>0</td>\n",
       "      <td>0</td>\n",
       "    </tr>\n",
       "    <tr>\n",
       "      <th>4</th>\n",
       "      <td>2545455</td>\n",
       "      <td>[\"CARPARK\",\"COFFEE_SHOP\",\"ELEVATOR\",\"HAS_24_HO...</td>\n",
       "      <td>1</td>\n",
       "      <td>1</td>\n",
       "      <td>1</td>\n",
       "      <td>1</td>\n",
       "      <td>1</td>\n",
       "      <td>1</td>\n",
       "      <td>1</td>\n",
       "      <td>1</td>\n",
       "      <td>...</td>\n",
       "      <td>0</td>\n",
       "      <td>0</td>\n",
       "      <td>0</td>\n",
       "      <td>1</td>\n",
       "      <td>0</td>\n",
       "      <td>0</td>\n",
       "      <td>0</td>\n",
       "      <td>0</td>\n",
       "      <td>0</td>\n",
       "      <td>0</td>\n",
       "    </tr>\n",
       "  </tbody>\n",
       "</table>\n",
       "<p>5 rows × 240 columns</p>\n",
       "</div>"
      ],
      "text/plain": [
       "   originalRate                                    hotelFacilities CARPARK  \\\n",
       "0       1227273  [\"CARPARK\",\"ELEVATOR\",\"HAS_24_HOUR_ROOM_SERVIC...       1   \n",
       "1        596694  [\"CARPARK\",\"ELEVATOR\",\"HAS_24_HOUR_ROOM_SERVIC...       1   \n",
       "2       1450413  [\"CARPARK\",\"ELEVATOR\",\"HAS_24_HOUR_ROOM_SERVIC...       1   \n",
       "3        855372  [\"CARPARK\",\"ELEVATOR\",\"HAS_24_HOUR_ROOM_SERVIC...       1   \n",
       "4       2545455  [\"CARPARK\",\"COFFEE_SHOP\",\"ELEVATOR\",\"HAS_24_HO...       1   \n",
       "\n",
       "  ELEVATOR HAS_24_HOUR_ROOM_SERVICE RESTAURANT RESTAURANT_FOR_BREAKFAST  \\\n",
       "0        1                        1          1                        1   \n",
       "1        1                        1          1                        1   \n",
       "2        1                        1          1                        1   \n",
       "3        1                        1          1                        1   \n",
       "4        1                        1          1                        1   \n",
       "\n",
       "  RESTAURANT_FOR_DINNER RESTAURANT_FOR_LUNCH SAFETY_DEPOSIT_BOX  ...  \\\n",
       "0                     1                    1                  1  ...   \n",
       "1                     1                    1                  1  ...   \n",
       "2                     1                    1                  1  ...   \n",
       "3                     1                    1                  1  ...   \n",
       "4                     1                    1                  1  ...   \n",
       "\n",
       "  INFINITY_POOL HEALTH_CLUB WATER_PARK_ACCESS_SURCHARGE PRIVATE_BEACH SURFING  \\\n",
       "0             0           0                           0             0       0   \n",
       "1             0           0                           0             0       0   \n",
       "2             0           0                           0             0       0   \n",
       "3             0           0                           0             0       0   \n",
       "4             0           0                           0             1       0   \n",
       "\n",
       "  PRIVATE_BEACH_NEARBY BEACH_SUN_LOUNGERS DARTS  \\\n",
       "0                    0                  0     0   \n",
       "1                    0                  0     0   \n",
       "2                    0                  0     0   \n",
       "3                    0                  0     0   \n",
       "4                    0                  0     0   \n",
       "\n",
       "  ENTERTAINMENT_PROGRAMME_FOR_CHILDREN KARAOKE  \n",
       "0                                    0       0  \n",
       "1                                    0       0  \n",
       "2                                    0       0  \n",
       "3                                    0       0  \n",
       "4                                    0       0  \n",
       "\n",
       "[5 rows x 240 columns]"
      ]
     },
     "execution_count": 19,
     "metadata": {},
     "output_type": "execute_result"
    }
   ],
   "source": [
    "# add value to decoded columns\n",
    "for i in range (len(dfHotel)):\n",
    "    value = dfHotel['hotelFacilities'][i]\n",
    "    if value == '[]':\n",
    "        dfHotel.drop([i], axis=0, inplace=True)\n",
    "        continue\n",
    "    for j in range (2, len(dfHotel.columns)):\n",
    "        column_name = dfHotel.columns[j]\n",
    "        if column_name in value:\n",
    "            dfHotel.loc[i, column_name] = 1\n",
    "        else:\n",
    "            dfHotel.loc[i, column_name] = 0\n",
    "print(dfHotel.shape)\n",
    "dfHotel.head()"
   ]
  },
  {
   "cell_type": "code",
   "execution_count": 20,
   "metadata": {},
   "outputs": [],
   "source": [
    "# Remove hotelFacilities column\n",
    "dfHotel.drop('hotelFacilities', axis=1, inplace=True)"
   ]
  },
  {
   "cell_type": "code",
   "execution_count": 21,
   "metadata": {},
   "outputs": [],
   "source": [
    "for i in range (1, len(dfHotel.columns)):\n",
    "    dfHotel = dfHotel.astype({dfHotel.columns[i]: int})"
   ]
  },
  {
   "attachments": {},
   "cell_type": "markdown",
   "metadata": {},
   "source": [
    "### Room Feature"
   ]
  },
  {
   "cell_type": "code",
   "execution_count": 22,
   "metadata": {},
   "outputs": [
    {
     "name": "stdout",
     "output_type": "stream",
     "text": [
      "(5160, 112)\n"
     ]
    },
    {
     "data": {
      "text/html": [
       "<div>\n",
       "<style scoped>\n",
       "    .dataframe tbody tr th:only-of-type {\n",
       "        vertical-align: middle;\n",
       "    }\n",
       "\n",
       "    .dataframe tbody tr th {\n",
       "        vertical-align: top;\n",
       "    }\n",
       "\n",
       "    .dataframe thead th {\n",
       "        text-align: right;\n",
       "    }\n",
       "</style>\n",
       "<table border=\"1\" class=\"dataframe\">\n",
       "  <thead>\n",
       "    <tr style=\"text-align: right;\">\n",
       "      <th></th>\n",
       "      <th>originalRate</th>\n",
       "      <th>roomFacilities</th>\n",
       "      <th>AIR_CONDITIONING</th>\n",
       "      <th>BALCONY_TERRACE</th>\n",
       "      <th>BATHROBES</th>\n",
       "      <th>BATHTUB</th>\n",
       "      <th>BLACKOUT_DRAPES_CURTAINS</th>\n",
       "      <th>COFFEE_TEA_MAKER</th>\n",
       "      <th>COMPLIMENTARY_BOTTLED_WATER</th>\n",
       "      <th>DESK</th>\n",
       "      <th>...</th>\n",
       "      <th>EXTRA_BEDS_AVAILABLE</th>\n",
       "      <th>FREE_INTERNATIONAL_CALLS</th>\n",
       "      <th>ROLLAWAY_OR_EXTRA_BEDS</th>\n",
       "      <th>YARD</th>\n",
       "      <th>VIDEO_GAMES</th>\n",
       "      <th>IN_ROOM_SAFE_SURCHARGE</th>\n",
       "      <th>HOUSEKEEPING_ON_REQUEST</th>\n",
       "      <th>NO_HOUSEKEEPING</th>\n",
       "      <th>CHANGING_TABLE</th>\n",
       "      <th>MICROWAVE_SURCHARGE</th>\n",
       "    </tr>\n",
       "  </thead>\n",
       "  <tbody>\n",
       "    <tr>\n",
       "      <th>0</th>\n",
       "      <td>1227273</td>\n",
       "      <td>[\"AIR_CONDITIONING\",\"BALCONY_TERRACE\",\"BATHROB...</td>\n",
       "      <td>NaN</td>\n",
       "      <td>NaN</td>\n",
       "      <td>NaN</td>\n",
       "      <td>NaN</td>\n",
       "      <td>NaN</td>\n",
       "      <td>NaN</td>\n",
       "      <td>NaN</td>\n",
       "      <td>NaN</td>\n",
       "      <td>...</td>\n",
       "      <td>NaN</td>\n",
       "      <td>NaN</td>\n",
       "      <td>NaN</td>\n",
       "      <td>NaN</td>\n",
       "      <td>NaN</td>\n",
       "      <td>NaN</td>\n",
       "      <td>NaN</td>\n",
       "      <td>NaN</td>\n",
       "      <td>NaN</td>\n",
       "      <td>NaN</td>\n",
       "    </tr>\n",
       "    <tr>\n",
       "      <th>1</th>\n",
       "      <td>596694</td>\n",
       "      <td>[\"AIR_CONDITIONING\",\"BATHROBES\",\"BATHTUB\",\"BLA...</td>\n",
       "      <td>NaN</td>\n",
       "      <td>NaN</td>\n",
       "      <td>NaN</td>\n",
       "      <td>NaN</td>\n",
       "      <td>NaN</td>\n",
       "      <td>NaN</td>\n",
       "      <td>NaN</td>\n",
       "      <td>NaN</td>\n",
       "      <td>...</td>\n",
       "      <td>NaN</td>\n",
       "      <td>NaN</td>\n",
       "      <td>NaN</td>\n",
       "      <td>NaN</td>\n",
       "      <td>NaN</td>\n",
       "      <td>NaN</td>\n",
       "      <td>NaN</td>\n",
       "      <td>NaN</td>\n",
       "      <td>NaN</td>\n",
       "      <td>NaN</td>\n",
       "    </tr>\n",
       "  </tbody>\n",
       "</table>\n",
       "<p>2 rows × 112 columns</p>\n",
       "</div>"
      ],
      "text/plain": [
       "   originalRate                                     roomFacilities  \\\n",
       "0       1227273  [\"AIR_CONDITIONING\",\"BALCONY_TERRACE\",\"BATHROB...   \n",
       "1        596694  [\"AIR_CONDITIONING\",\"BATHROBES\",\"BATHTUB\",\"BLA...   \n",
       "\n",
       "  AIR_CONDITIONING BALCONY_TERRACE BATHROBES BATHTUB BLACKOUT_DRAPES_CURTAINS  \\\n",
       "0              NaN             NaN       NaN     NaN                      NaN   \n",
       "1              NaN             NaN       NaN     NaN                      NaN   \n",
       "\n",
       "  COFFEE_TEA_MAKER COMPLIMENTARY_BOTTLED_WATER DESK  ... EXTRA_BEDS_AVAILABLE  \\\n",
       "0              NaN                         NaN  NaN  ...                  NaN   \n",
       "1              NaN                         NaN  NaN  ...                  NaN   \n",
       "\n",
       "  FREE_INTERNATIONAL_CALLS ROLLAWAY_OR_EXTRA_BEDS YARD VIDEO_GAMES  \\\n",
       "0                      NaN                    NaN  NaN         NaN   \n",
       "1                      NaN                    NaN  NaN         NaN   \n",
       "\n",
       "  IN_ROOM_SAFE_SURCHARGE HOUSEKEEPING_ON_REQUEST NO_HOUSEKEEPING  \\\n",
       "0                    NaN                     NaN             NaN   \n",
       "1                    NaN                     NaN             NaN   \n",
       "\n",
       "  CHANGING_TABLE MICROWAVE_SURCHARGE  \n",
       "0            NaN                 NaN  \n",
       "1            NaN                 NaN  \n",
       "\n",
       "[2 rows x 112 columns]"
      ]
     },
     "execution_count": 22,
     "metadata": {},
     "output_type": "execute_result"
    }
   ],
   "source": [
    "dfRoom = pd.concat([df.pop('roomFacilities'), dfRoomEncode], axis=1)\n",
    "dfRoom = pd.concat([dfPrice, dfRoom], axis=1)\n",
    "print(dfRoom.shape)\n",
    "dfRoom.head(2)"
   ]
  },
  {
   "cell_type": "code",
   "execution_count": 23,
   "metadata": {},
   "outputs": [
    {
     "name": "stdout",
     "output_type": "stream",
     "text": [
      "(4934, 112)\n"
     ]
    }
   ],
   "source": [
    "# add value to decoded columns\n",
    "for i in range(len(dfRoom)):\n",
    "    value = dfRoom['roomFacilities'][i]\n",
    "    if value == '[]':\n",
    "        dfRoom.drop([i], axis=0, inplace=True)\n",
    "        continue\n",
    "    for j in range (2, len(dfRoom.columns)):\n",
    "        column_name = dfRoom.columns[j]\n",
    "        if column_name in value:\n",
    "            dfRoom.loc[i, column_name] = 1\n",
    "        else:\n",
    "            dfRoom.loc[i, column_name] = 0\n",
    "print(dfRoom.shape)\n"
   ]
  },
  {
   "cell_type": "code",
   "execution_count": 24,
   "metadata": {},
   "outputs": [],
   "source": [
    "dfRoom.drop('roomFacilities', axis=1, inplace=True)"
   ]
  },
  {
   "cell_type": "code",
   "execution_count": 25,
   "metadata": {},
   "outputs": [],
   "source": [
    "for i in range (1, len(dfRoom.columns)):\n",
    "    dfRoom = dfRoom.astype({dfRoom.columns[i]: int})"
   ]
  },
  {
   "attachments": {},
   "cell_type": "markdown",
   "metadata": {},
   "source": [
    "### Point of Interest Feature"
   ]
  },
  {
   "cell_type": "code",
   "execution_count": 26,
   "metadata": {},
   "outputs": [
    {
     "data": {
      "text/html": [
       "<div>\n",
       "<style scoped>\n",
       "    .dataframe tbody tr th:only-of-type {\n",
       "        vertical-align: middle;\n",
       "    }\n",
       "\n",
       "    .dataframe tbody tr th {\n",
       "        vertical-align: top;\n",
       "    }\n",
       "\n",
       "    .dataframe thead th {\n",
       "        text-align: right;\n",
       "    }\n",
       "</style>\n",
       "<table border=\"1\" class=\"dataframe\">\n",
       "  <thead>\n",
       "    <tr style=\"text-align: right;\">\n",
       "      <th></th>\n",
       "      <th>originalRate</th>\n",
       "      <th>nearestPointOfInterests</th>\n",
       "      <th>SHOPPING_AREA</th>\n",
       "      <th>OFFICIAL_BUILDING</th>\n",
       "      <th>RESTAURANT</th>\n",
       "      <th>ATTRACTION</th>\n",
       "      <th>BEACH</th>\n",
       "      <th>MONUMENT</th>\n",
       "      <th>TERMINAL</th>\n",
       "      <th>PARK</th>\n",
       "      <th>...</th>\n",
       "      <th>MUSEUM</th>\n",
       "      <th>GALLERY</th>\n",
       "      <th>PLACE_OF_WORSHIP</th>\n",
       "      <th>TRAIN_STATION</th>\n",
       "      <th>ZOO</th>\n",
       "      <th>ENTERTAINMENT</th>\n",
       "      <th>GARDEN</th>\n",
       "      <th>THEATER</th>\n",
       "      <th>STORE</th>\n",
       "      <th>SCHOOL</th>\n",
       "    </tr>\n",
       "  </thead>\n",
       "  <tbody>\n",
       "    <tr>\n",
       "      <th>0</th>\n",
       "      <td>1227273</td>\n",
       "      <td>[{\"landmarkId\":\"91589773100576\",\"geoId\":null,\"...</td>\n",
       "      <td>NaN</td>\n",
       "      <td>NaN</td>\n",
       "      <td>NaN</td>\n",
       "      <td>NaN</td>\n",
       "      <td>NaN</td>\n",
       "      <td>NaN</td>\n",
       "      <td>NaN</td>\n",
       "      <td>NaN</td>\n",
       "      <td>...</td>\n",
       "      <td>NaN</td>\n",
       "      <td>NaN</td>\n",
       "      <td>NaN</td>\n",
       "      <td>NaN</td>\n",
       "      <td>NaN</td>\n",
       "      <td>NaN</td>\n",
       "      <td>NaN</td>\n",
       "      <td>NaN</td>\n",
       "      <td>NaN</td>\n",
       "      <td>NaN</td>\n",
       "    </tr>\n",
       "    <tr>\n",
       "      <th>1</th>\n",
       "      <td>596694</td>\n",
       "      <td>[{\"landmarkId\":\"91589773100576\",\"geoId\":null,\"...</td>\n",
       "      <td>NaN</td>\n",
       "      <td>NaN</td>\n",
       "      <td>NaN</td>\n",
       "      <td>NaN</td>\n",
       "      <td>NaN</td>\n",
       "      <td>NaN</td>\n",
       "      <td>NaN</td>\n",
       "      <td>NaN</td>\n",
       "      <td>...</td>\n",
       "      <td>NaN</td>\n",
       "      <td>NaN</td>\n",
       "      <td>NaN</td>\n",
       "      <td>NaN</td>\n",
       "      <td>NaN</td>\n",
       "      <td>NaN</td>\n",
       "      <td>NaN</td>\n",
       "      <td>NaN</td>\n",
       "      <td>NaN</td>\n",
       "      <td>NaN</td>\n",
       "    </tr>\n",
       "  </tbody>\n",
       "</table>\n",
       "<p>2 rows × 21 columns</p>\n",
       "</div>"
      ],
      "text/plain": [
       "   originalRate                            nearestPointOfInterests  \\\n",
       "0       1227273  [{\"landmarkId\":\"91589773100576\",\"geoId\":null,\"...   \n",
       "1        596694  [{\"landmarkId\":\"91589773100576\",\"geoId\":null,\"...   \n",
       "\n",
       "  SHOPPING_AREA OFFICIAL_BUILDING RESTAURANT ATTRACTION BEACH MONUMENT  \\\n",
       "0           NaN               NaN        NaN        NaN   NaN      NaN   \n",
       "1           NaN               NaN        NaN        NaN   NaN      NaN   \n",
       "\n",
       "  TERMINAL PARK  ... MUSEUM GALLERY PLACE_OF_WORSHIP TRAIN_STATION  ZOO  \\\n",
       "0      NaN  NaN  ...    NaN     NaN              NaN           NaN  NaN   \n",
       "1      NaN  NaN  ...    NaN     NaN              NaN           NaN  NaN   \n",
       "\n",
       "  ENTERTAINMENT GARDEN THEATER STORE SCHOOL  \n",
       "0           NaN    NaN     NaN   NaN    NaN  \n",
       "1           NaN    NaN     NaN   NaN    NaN  \n",
       "\n",
       "[2 rows x 21 columns]"
      ]
     },
     "execution_count": 26,
     "metadata": {},
     "output_type": "execute_result"
    }
   ],
   "source": [
    "dfPoint = pd.concat([df.pop('nearestPointOfInterests'), dfPointEncode], axis=1)\n",
    "dfPoint = pd.concat([dfPrice, dfPoint], axis=1)\n",
    "dfPoint.head(2)"
   ]
  },
  {
   "cell_type": "code",
   "execution_count": 27,
   "metadata": {},
   "outputs": [
    {
     "name": "stdout",
     "output_type": "stream",
     "text": [
      "(5144, 21)\n"
     ]
    },
    {
     "data": {
      "text/html": [
       "<div>\n",
       "<style scoped>\n",
       "    .dataframe tbody tr th:only-of-type {\n",
       "        vertical-align: middle;\n",
       "    }\n",
       "\n",
       "    .dataframe tbody tr th {\n",
       "        vertical-align: top;\n",
       "    }\n",
       "\n",
       "    .dataframe thead th {\n",
       "        text-align: right;\n",
       "    }\n",
       "</style>\n",
       "<table border=\"1\" class=\"dataframe\">\n",
       "  <thead>\n",
       "    <tr style=\"text-align: right;\">\n",
       "      <th></th>\n",
       "      <th>originalRate</th>\n",
       "      <th>nearestPointOfInterests</th>\n",
       "      <th>SHOPPING_AREA</th>\n",
       "      <th>OFFICIAL_BUILDING</th>\n",
       "      <th>RESTAURANT</th>\n",
       "      <th>ATTRACTION</th>\n",
       "      <th>BEACH</th>\n",
       "      <th>MONUMENT</th>\n",
       "      <th>TERMINAL</th>\n",
       "      <th>PARK</th>\n",
       "      <th>...</th>\n",
       "      <th>MUSEUM</th>\n",
       "      <th>GALLERY</th>\n",
       "      <th>PLACE_OF_WORSHIP</th>\n",
       "      <th>TRAIN_STATION</th>\n",
       "      <th>ZOO</th>\n",
       "      <th>ENTERTAINMENT</th>\n",
       "      <th>GARDEN</th>\n",
       "      <th>THEATER</th>\n",
       "      <th>STORE</th>\n",
       "      <th>SCHOOL</th>\n",
       "    </tr>\n",
       "  </thead>\n",
       "  <tbody>\n",
       "    <tr>\n",
       "      <th>0</th>\n",
       "      <td>1227273</td>\n",
       "      <td>[{\"landmarkId\":\"91589773100576\",\"geoId\":null,\"...</td>\n",
       "      <td>1</td>\n",
       "      <td>1</td>\n",
       "      <td>1</td>\n",
       "      <td>1</td>\n",
       "      <td>0</td>\n",
       "      <td>0</td>\n",
       "      <td>0</td>\n",
       "      <td>0</td>\n",
       "      <td>...</td>\n",
       "      <td>0</td>\n",
       "      <td>0</td>\n",
       "      <td>0</td>\n",
       "      <td>0</td>\n",
       "      <td>0</td>\n",
       "      <td>0</td>\n",
       "      <td>0</td>\n",
       "      <td>0</td>\n",
       "      <td>0</td>\n",
       "      <td>0</td>\n",
       "    </tr>\n",
       "    <tr>\n",
       "      <th>1</th>\n",
       "      <td>596694</td>\n",
       "      <td>[{\"landmarkId\":\"91589773100576\",\"geoId\":null,\"...</td>\n",
       "      <td>1</td>\n",
       "      <td>1</td>\n",
       "      <td>1</td>\n",
       "      <td>1</td>\n",
       "      <td>0</td>\n",
       "      <td>0</td>\n",
       "      <td>0</td>\n",
       "      <td>0</td>\n",
       "      <td>...</td>\n",
       "      <td>0</td>\n",
       "      <td>0</td>\n",
       "      <td>0</td>\n",
       "      <td>0</td>\n",
       "      <td>0</td>\n",
       "      <td>0</td>\n",
       "      <td>0</td>\n",
       "      <td>0</td>\n",
       "      <td>0</td>\n",
       "      <td>0</td>\n",
       "    </tr>\n",
       "    <tr>\n",
       "      <th>2</th>\n",
       "      <td>1450413</td>\n",
       "      <td>[{\"landmarkId\":\"91589773100576\",\"geoId\":null,\"...</td>\n",
       "      <td>1</td>\n",
       "      <td>1</td>\n",
       "      <td>1</td>\n",
       "      <td>1</td>\n",
       "      <td>0</td>\n",
       "      <td>0</td>\n",
       "      <td>0</td>\n",
       "      <td>0</td>\n",
       "      <td>...</td>\n",
       "      <td>0</td>\n",
       "      <td>0</td>\n",
       "      <td>0</td>\n",
       "      <td>0</td>\n",
       "      <td>0</td>\n",
       "      <td>0</td>\n",
       "      <td>0</td>\n",
       "      <td>0</td>\n",
       "      <td>0</td>\n",
       "      <td>0</td>\n",
       "    </tr>\n",
       "    <tr>\n",
       "      <th>3</th>\n",
       "      <td>855372</td>\n",
       "      <td>[{\"landmarkId\":\"91589773100576\",\"geoId\":null,\"...</td>\n",
       "      <td>1</td>\n",
       "      <td>1</td>\n",
       "      <td>1</td>\n",
       "      <td>1</td>\n",
       "      <td>0</td>\n",
       "      <td>0</td>\n",
       "      <td>0</td>\n",
       "      <td>0</td>\n",
       "      <td>...</td>\n",
       "      <td>0</td>\n",
       "      <td>0</td>\n",
       "      <td>0</td>\n",
       "      <td>0</td>\n",
       "      <td>0</td>\n",
       "      <td>0</td>\n",
       "      <td>0</td>\n",
       "      <td>0</td>\n",
       "      <td>0</td>\n",
       "      <td>0</td>\n",
       "    </tr>\n",
       "    <tr>\n",
       "      <th>4</th>\n",
       "      <td>2545455</td>\n",
       "      <td>[{\"landmarkId\":\"91589773100576\",\"geoId\":null,\"...</td>\n",
       "      <td>1</td>\n",
       "      <td>1</td>\n",
       "      <td>1</td>\n",
       "      <td>1</td>\n",
       "      <td>0</td>\n",
       "      <td>0</td>\n",
       "      <td>0</td>\n",
       "      <td>0</td>\n",
       "      <td>...</td>\n",
       "      <td>0</td>\n",
       "      <td>0</td>\n",
       "      <td>0</td>\n",
       "      <td>0</td>\n",
       "      <td>0</td>\n",
       "      <td>0</td>\n",
       "      <td>0</td>\n",
       "      <td>0</td>\n",
       "      <td>0</td>\n",
       "      <td>0</td>\n",
       "    </tr>\n",
       "  </tbody>\n",
       "</table>\n",
       "<p>5 rows × 21 columns</p>\n",
       "</div>"
      ],
      "text/plain": [
       "   originalRate                            nearestPointOfInterests  \\\n",
       "0       1227273  [{\"landmarkId\":\"91589773100576\",\"geoId\":null,\"...   \n",
       "1        596694  [{\"landmarkId\":\"91589773100576\",\"geoId\":null,\"...   \n",
       "2       1450413  [{\"landmarkId\":\"91589773100576\",\"geoId\":null,\"...   \n",
       "3        855372  [{\"landmarkId\":\"91589773100576\",\"geoId\":null,\"...   \n",
       "4       2545455  [{\"landmarkId\":\"91589773100576\",\"geoId\":null,\"...   \n",
       "\n",
       "  SHOPPING_AREA OFFICIAL_BUILDING RESTAURANT ATTRACTION BEACH MONUMENT  \\\n",
       "0             1                 1          1          1     0        0   \n",
       "1             1                 1          1          1     0        0   \n",
       "2             1                 1          1          1     0        0   \n",
       "3             1                 1          1          1     0        0   \n",
       "4             1                 1          1          1     0        0   \n",
       "\n",
       "  TERMINAL PARK  ... MUSEUM GALLERY PLACE_OF_WORSHIP TRAIN_STATION ZOO  \\\n",
       "0        0    0  ...      0       0                0             0   0   \n",
       "1        0    0  ...      0       0                0             0   0   \n",
       "2        0    0  ...      0       0                0             0   0   \n",
       "3        0    0  ...      0       0                0             0   0   \n",
       "4        0    0  ...      0       0                0             0   0   \n",
       "\n",
       "  ENTERTAINMENT GARDEN THEATER STORE SCHOOL  \n",
       "0             0      0       0     0      0  \n",
       "1             0      0       0     0      0  \n",
       "2             0      0       0     0      0  \n",
       "3             0      0       0     0      0  \n",
       "4             0      0       0     0      0  \n",
       "\n",
       "[5 rows x 21 columns]"
      ]
     },
     "execution_count": 27,
     "metadata": {},
     "output_type": "execute_result"
    }
   ],
   "source": [
    "# add value to encoded columns\n",
    "for i in range (len(dfPoint)):\n",
    "    value = dfPoint['nearestPointOfInterests'][i]\n",
    "    if value == '[]':\n",
    "        dfPoint.drop([i], axis=0, inplace=True)\n",
    "        continue\n",
    "    for j in range (2, len(dfPoint.columns)):\n",
    "        column_name = dfPoint.columns[j]\n",
    "        if column_name in value:\n",
    "            dfPoint.loc[i, column_name] = 1\n",
    "        else:\n",
    "            dfPoint.loc[i, column_name] = 0\n",
    "print(dfPoint.shape)\n",
    "dfPoint.head()"
   ]
  },
  {
   "cell_type": "code",
   "execution_count": 28,
   "metadata": {},
   "outputs": [],
   "source": [
    "dfPoint.drop('nearestPointOfInterests', axis=1, inplace=True)"
   ]
  },
  {
   "cell_type": "code",
   "execution_count": 29,
   "metadata": {},
   "outputs": [],
   "source": [
    "# Convert to int\n",
    "for i in range (1, len(dfPoint.columns)):\n",
    "    dfPoint = dfPoint.astype({dfPoint.columns[i]: int})"
   ]
  },
  {
   "attachments": {},
   "cell_type": "markdown",
   "metadata": {},
   "source": [
    "### Add Prefix"
   ]
  },
  {
   "cell_type": "code",
   "execution_count": 30,
   "metadata": {},
   "outputs": [],
   "source": [
    "dfHotel = dfHotel.add_prefix('Hotel_')\n",
    "dfRoom = dfRoom.add_prefix('Room_')\n",
    "dfPoint = dfPoint.add_prefix('Point_')"
   ]
  },
  {
   "attachments": {},
   "cell_type": "markdown",
   "metadata": {},
   "source": [
    "## Feature Selection"
   ]
  },
  {
   "cell_type": "code",
   "execution_count": 31,
   "metadata": {},
   "outputs": [],
   "source": [
    "def featureSelection(df):\n",
    "    # Remove features with below 0.1 or above 0.9 mean\n",
    "    total1 = 0\n",
    "    total2 = 0\n",
    "    deleteIndex = []\n",
    "    for i in range (1, len(df.columns)):\n",
    "        if df[df.columns[i]].mean() < 0.1:\n",
    "            total1 +=1\n",
    "            deleteIndex.append(df.columns[i])\n",
    "        if df[df.columns[i]].mean() > 0.9:\n",
    "            total2 +=1\n",
    "            deleteIndex.append(df.columns[i])\n",
    "    print(f'Total Columns (Before Selection) : {len(df.columns)}')\n",
    "\n",
    "    df.drop(deleteIndex, axis=1, inplace=True)\n",
    "    return { 'total01': total1, 'total09': total2, 'deleteIndex': deleteIndex, 'dfCol': df.columns, 'df': df}"
   ]
  },
  {
   "cell_type": "code",
   "execution_count": 32,
   "metadata": {},
   "outputs": [
    {
     "name": "stdout",
     "output_type": "stream",
     "text": [
      "Total Columns (Before Selection) : 111\n",
      "Total Columns with mean < 0.1 : 75\n",
      "Total Columns with mean > 0.9 : 2\n",
      "Total deleted index : 77\n",
      "Total Columns Remaining : 34\n"
     ]
    }
   ],
   "source": [
    "roomSelection = featureSelection(dfRoom)\n",
    "print(f'Total Columns with mean < 0.1 : {roomSelection[\"total01\"]}')\n",
    "print(f'Total Columns with mean > 0.9 : {roomSelection[\"total09\"]}')\n",
    "print(f'Total deleted index : {len(roomSelection[\"deleteIndex\"])}')\n",
    "print(f'Total Columns Remaining : {len(roomSelection[\"dfCol\"])}')"
   ]
  },
  {
   "cell_type": "code",
   "execution_count": 33,
   "metadata": {},
   "outputs": [
    {
     "name": "stdout",
     "output_type": "stream",
     "text": [
      "Total Columns (Before Selection) : 239\n",
      "Total Columns with mean < 0.1 : 122\n",
      "Total Columns with mean > 0.9 : 0\n",
      "Total deleted index : 122\n",
      "Total Columns Remaining : 117\n"
     ]
    }
   ],
   "source": [
    "hotelSelection = featureSelection(dfHotel)\n",
    "print(f'Total Columns with mean < 0.1 : {hotelSelection[\"total01\"]}')\n",
    "print(f'Total Columns with mean > 0.9 : {hotelSelection[\"total09\"]}')\n",
    "print(f'Total deleted index : {len(hotelSelection[\"deleteIndex\"])}')\n",
    "print(f'Total Columns Remaining : {len(hotelSelection[\"dfCol\"])}')"
   ]
  },
  {
   "cell_type": "code",
   "execution_count": 34,
   "metadata": {},
   "outputs": [],
   "source": [
    "hotelFacilities = hotelSelection['df'].columns\n",
    "roomFacilities = roomSelection['df'].columns\n",
    "nearestPointOfInterests = dfPoint.columns"
   ]
  },
  {
   "cell_type": "code",
   "execution_count": 35,
   "metadata": {},
   "outputs": [],
   "source": [
    "# export hotelFacilities, roomFacilities, nearestPointOfInterests list to another notebook\n",
    "with open('../Notebook/Variable/hotelFacilities.pkl', 'wb') as f:\n",
    "    pickle.dump(hotelFacilities, f)\n",
    "with open('../Notebook/Variable/roomFacilities.pkl', 'wb') as f:\n",
    "    pickle.dump(roomFacilities, f)\n",
    "with open('../Notebook/Variable/nearestPointOfInterests.pkl', 'wb') as f:\n",
    "    pickle.dump(nearestPointOfInterests, f)"
   ]
  },
  {
   "attachments": {},
   "cell_type": "markdown",
   "metadata": {},
   "source": [
    "## Combine Dataframe"
   ]
  },
  {
   "cell_type": "code",
   "execution_count": 36,
   "metadata": {},
   "outputs": [
    {
     "name": "stderr",
     "output_type": "stream",
     "text": [
      "C:\\Users\\goobe\\AppData\\Local\\Temp\\ipykernel_21832\\2147204924.py:5: SettingWithCopyWarning: \n",
      "A value is trying to be set on a copy of a slice from a DataFrame\n",
      "\n",
      "See the caveats in the documentation: https://pandas.pydata.org/pandas-docs/stable/user_guide/indexing.html#returning-a-view-versus-a-copy\n",
      "  dfRoomEx.drop('originalRate', axis= 1, inplace=True)\n"
     ]
    }
   ],
   "source": [
    "dfRoom.drop('Room_originalRate', axis= 1, inplace=True)\n",
    "dfHotel.drop('Hotel_originalRate', axis= 1, inplace=True)\n",
    "dfPoint.drop('Point_originalRate', axis= 1, inplace=True)\n",
    "dfHotelEx.drop('originalRate', axis= 1, inplace=True)\n",
    "dfRoomEx.drop('originalRate', axis= 1, inplace=True)\n",
    "df = df[['originalRate']]"
   ]
  },
  {
   "cell_type": "code",
   "execution_count": 37,
   "metadata": {},
   "outputs": [],
   "source": [
    "combine = [df,  dfRoomEx, dfHotelEx, dfRoom, dfHotel, dfPoint]\n",
    "df = pd.concat(combine, axis=1)\n",
    "df.dropna(inplace=True)\n",
    "df.reset_index(drop=True, inplace=True)"
   ]
  },
  {
   "cell_type": "code",
   "execution_count": 38,
   "metadata": {},
   "outputs": [],
   "source": [
    "# Check if there is any duplicate column\n",
    "for i in range (0, len(df.columns)):\n",
    "   for j in range (i+1, len(df.columns)):\n",
    "      if df.columns[i] == df.columns[j]:\n",
    "         print(df.columns[i])"
   ]
  },
  {
   "cell_type": "code",
   "execution_count": 39,
   "metadata": {},
   "outputs": [
    {
     "name": "stdout",
     "output_type": "stream",
     "text": [
      "<class 'pandas.core.frame.DataFrame'>\n",
      "RangeIndex: 4871 entries, 0 to 4870\n",
      "Columns: 199 entries, originalRate to Point_SCHOOL\n",
      "dtypes: float64(169), int64(9), uint8(21)\n",
      "memory usage: 6.7 MB\n"
     ]
    }
   ],
   "source": [
    "df.info()"
   ]
  },
  {
   "attachments": {},
   "cell_type": "markdown",
   "metadata": {},
   "source": [
    "## Export Data"
   ]
  },
  {
   "cell_type": "code",
   "execution_count": 40,
   "metadata": {},
   "outputs": [],
   "source": [
    "df.to_csv('../Dataset/encoded_data.csv', index=False)"
   ]
  },
  {
   "cell_type": "code",
   "execution_count": 41,
   "metadata": {},
   "outputs": [
    {
     "name": "stdout",
     "output_type": "stream",
     "text": [
      "Index(['originalRate', 'size', 'baseOccupancy', 'maxChildOccupancy',\n",
      "       'maxChildAge', 'isBreakfastIncluded', 'isWifiIncluded', 'isRefundable',\n",
      "       'hasLivingRoom', 'starRating',\n",
      "       ...\n",
      "       'Point_MUSEUM', 'Point_GALLERY', 'Point_PLACE_OF_WORSHIP',\n",
      "       'Point_TRAIN_STATION', 'Point_ZOO', 'Point_ENTERTAINMENT',\n",
      "       'Point_GARDEN', 'Point_THEATER', 'Point_STORE', 'Point_SCHOOL'],\n",
      "      dtype='object', length=199)\n"
     ]
    }
   ],
   "source": [
    "col = df.columns\n",
    "print(col)\n",
    "# export col to another notebook\n",
    "with open('../Notebook/Variable/col.pkl', 'wb') as f:\n",
    "    pickle.dump(col, f)"
   ]
  },
  {
   "attachments": {},
   "cell_type": "markdown",
   "metadata": {},
   "source": [
    "# Data Analysis"
   ]
  },
  {
   "cell_type": "code",
   "execution_count": 42,
   "metadata": {},
   "outputs": [],
   "source": [
    "import matplotlib.pyplot as plt\n",
    "import seaborn as sns"
   ]
  },
  {
   "cell_type": "code",
   "execution_count": 43,
   "metadata": {},
   "outputs": [],
   "source": [
    "# create visualization into 1 chart\n",
    "def createVisualization(df, colName, color):\n",
    "    # create new dataframe with input prefix column name\n",
    "    dfNew = pd.DataFrame()\n",
    "    for i in range (1, len(df.columns)):\n",
    "        if df.columns[i].startswith(f'{colName}'):\n",
    "            dfNew[df.columns[i]] = df[df.columns[i]]\n",
    "    # make table with only the column name and sum of value\n",
    "    dfNew = dfNew.sum().to_frame()\n",
    "    dfNew.reset_index(inplace=True)\n",
    "    dfNew.columns = ['column', 'value']\n",
    "    # change value data type to int\n",
    "    dfNew['value'] = dfNew['value'].astype(int)\n",
    "    # sort value\n",
    "    dfNew = dfNew.sort_values(by='value', ascending=False)\n",
    "    print(dfNew.head(10))\n",
    "    # create barchart to visualize the data with sorted value and horizontal with tight gap and annotate the value on top of each bar\n",
    "    plt.figure(figsize=(8.5, 5))\n",
    "    sns.barplot(x='value', y='column', data=dfNew.head(10), orient='h', color=color, errorbar=None, )\n",
    "    # plt.tight_layout()\n",
    "    # annotate the value on top of each bar using seaborn annotation\n",
    "    for i, v in enumerate(dfNew['value'].head(10)):\n",
    "        plt.text(v+10, i, str(v), color='black', fontweight=300, fontsize=8)\n",
    "    plt.show()"
   ]
  },
  {
   "cell_type": "code",
   "execution_count": 44,
   "metadata": {},
   "outputs": [
    {
     "name": "stdout",
     "output_type": "stream",
     "text": [
      "            column  value\n",
      "0      City_Badung   2099\n",
      "4     City_Gianyar    969\n",
      "7   City_Klungkung    467\n",
      "2    City_Buleleng    355\n",
      "6  City_Karangasem    261\n",
      "8       City_Sanur    241\n",
      "3    City_Denpasar    232\n",
      "9     City_Tabanan    134\n",
      "5    City_Jembrana     62\n",
      "1      City_Bangli     51\n"
     ]
    },
    {
     "data": {
      "image/png": "[encoded data removed]",
      "text/plain": [
       "<Figure size 850x500 with 1 Axes>"
      ]
     },
     "metadata": {},
     "output_type": "display_data"
    }
   ],
   "source": [
    "createVisualization(df, 'City', 'orange')"
   ]
  },
  {
   "cell_type": "code",
   "execution_count": 45,
   "metadata": {},
   "outputs": [
    {
     "name": "stdout",
     "output_type": "stream",
     "text": [
      "               column  value\n",
      "6          Type_Hotel   2334\n",
      "10          Type_Vila    696\n",
      "9          Type_Resor    667\n",
      "3    Type_Guest House    620\n",
      "4       Type_Homestay    256\n",
      "5         Type_Hostel    104\n",
      "1            Type_B&B    100\n",
      "0      Type_Apartemen     77\n",
      "2        Type_Camping     13\n",
      "7   Type_Hotel Kapsul      4\n"
     ]
    },
    {
     "data": {
      "image/png": "[encoded data removed]",
      "text/plain": [
       "<Figure size 850x500 with 1 Axes>"
      ]
     },
     "metadata": {},
     "output_type": "display_data"
    }
   ],
   "source": [
    "createVisualization(df, 'Type', 'mediumseagreen')"
   ]
  },
  {
   "cell_type": "code",
   "execution_count": 46,
   "metadata": {},
   "outputs": [
    {
     "name": "stdout",
     "output_type": "stream",
     "text": [
      "                     column  value\n",
      "2          Point_RESTAURANT   3392\n",
      "0       Point_SHOPPING_AREA   3141\n",
      "3          Point_ATTRACTION   2795\n",
      "5            Point_MONUMENT   1808\n",
      "6            Point_TERMINAL   1713\n",
      "7                Point_PARK   1588\n",
      "4               Point_BEACH   1583\n",
      "1   Point_OFFICIAL_BUILDING   1439\n",
      "10            Point_GALLERY    151\n",
      "12      Point_TRAIN_STATION    124\n"
     ]
    },
    {
     "data": {
      "image/png": "[encoded data removed]",
      "text/plain": [
       "<Figure size 850x500 with 1 Axes>"
      ]
     },
     "metadata": {},
     "output_type": "display_data"
    }
   ],
   "source": [
    "createVisualization(df, 'Point', 'hotpink')"
   ]
  }
 ],
 "metadata": {
  "kernelspec": {
   "display_name": "Python 3.10.6 64-bit",
   "language": "python",
   "name": "python3"
  },
  "language_info": {
   "codemirror_mode": {
    "name": "ipython",
    "version": 3
   },
   "file_extension": ".py",
   "mimetype": "text/x-python",
   "name": "python",
   "nbconvert_exporter": "python",
   "pygments_lexer": "ipython3",
   "version": "3.10.6"
  },
  "orig_nbformat": 4,
  "vscode": {
   "interpreter": {
    "hash": "c7c132e493bab3f05dc3eecde52b8af768e79f0c26a7d99c1a59f019ffce2dd8"
   }
  }
 },
 "nbformat": 4,
 "nbformat_minor": 2
}
