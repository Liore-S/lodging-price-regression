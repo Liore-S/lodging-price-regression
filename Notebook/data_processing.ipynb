{
 "cells": [
  {
   "cell_type": "code",
   "execution_count": 1,
   "metadata": {},
   "outputs": [],
   "source": [
    "import pandas as pd\n",
    "import numpy as np\n",
    "import pickle"
   ]
  },
  {
   "cell_type": "markdown",
   "metadata": {},
   "source": [
    "## Input Data"
   ]
  },
  {
   "cell_type": "code",
   "execution_count": 2,
   "metadata": {},
   "outputs": [
    {
     "data": {
      "text/html": [
       "<div>\n",
       "<style scoped>\n",
       "    .dataframe tbody tr th:only-of-type {\n",
       "        vertical-align: middle;\n",
       "    }\n",
       "\n",
       "    .dataframe tbody tr th {\n",
       "        vertical-align: top;\n",
       "    }\n",
       "\n",
       "    .dataframe thead th {\n",
       "        text-align: right;\n",
       "    }\n",
       "</style>\n",
       "<table border=\"1\" class=\"dataframe\">\n",
       "  <thead>\n",
       "    <tr style=\"text-align: right;\">\n",
       "      <th></th>\n",
       "      <th>type</th>\n",
       "      <th>city</th>\n",
       "      <th>hotelFacilities</th>\n",
       "      <th>nearestPointOfInterests</th>\n",
       "      <th>starRating</th>\n",
       "      <th>size</th>\n",
       "      <th>originalRate</th>\n",
       "      <th>baseOccupancy</th>\n",
       "      <th>maxChildOccupancy</th>\n",
       "      <th>maxChildAge</th>\n",
       "      <th>isBreakfastIncluded</th>\n",
       "      <th>isWifiIncluded</th>\n",
       "      <th>isRefundable</th>\n",
       "      <th>hasLivingRoom</th>\n",
       "      <th>roomFacilities</th>\n",
       "    </tr>\n",
       "  </thead>\n",
       "  <tbody>\n",
       "    <tr>\n",
       "      <th>0</th>\n",
       "      <td>Hotel</td>\n",
       "      <td>Badung</td>\n",
       "      <td>[\"CARPARK\",\"ELEVATOR\",\"HAS_24_HOUR_ROOM_SERVIC...</td>\n",
       "      <td>[{\"landmarkId\":\"91589773100576\",\"geoId\":null,\"...</td>\n",
       "      <td>4</td>\n",
       "      <td>46.0</td>\n",
       "      <td>1227273</td>\n",
       "      <td>3</td>\n",
       "      <td>1</td>\n",
       "      <td>5</td>\n",
       "      <td>1</td>\n",
       "      <td>1</td>\n",
       "      <td>1</td>\n",
       "      <td>0</td>\n",
       "      <td>[\"AIR_CONDITIONING\",\"BALCONY_TERRACE\",\"BATHROB...</td>\n",
       "    </tr>\n",
       "    <tr>\n",
       "      <th>1</th>\n",
       "      <td>Hotel</td>\n",
       "      <td>Badung</td>\n",
       "      <td>[\"CARPARK\",\"ELEVATOR\",\"HAS_24_HOUR_ROOM_SERVIC...</td>\n",
       "      <td>[{\"landmarkId\":\"91589773100576\",\"geoId\":null,\"...</td>\n",
       "      <td>4</td>\n",
       "      <td>31.0</td>\n",
       "      <td>596694</td>\n",
       "      <td>2</td>\n",
       "      <td>1</td>\n",
       "      <td>5</td>\n",
       "      <td>0</td>\n",
       "      <td>1</td>\n",
       "      <td>1</td>\n",
       "      <td>0</td>\n",
       "      <td>[\"AIR_CONDITIONING\",\"BATHROBES\",\"BATHTUB\",\"BLA...</td>\n",
       "    </tr>\n",
       "    <tr>\n",
       "      <th>2</th>\n",
       "      <td>Hotel</td>\n",
       "      <td>Badung</td>\n",
       "      <td>[\"CARPARK\",\"ELEVATOR\",\"HAS_24_HOUR_ROOM_SERVIC...</td>\n",
       "      <td>[{\"landmarkId\":\"91589773100576\",\"geoId\":null,\"...</td>\n",
       "      <td>4</td>\n",
       "      <td>52.0</td>\n",
       "      <td>1450413</td>\n",
       "      <td>2</td>\n",
       "      <td>1</td>\n",
       "      <td>5</td>\n",
       "      <td>1</td>\n",
       "      <td>1</td>\n",
       "      <td>1</td>\n",
       "      <td>1</td>\n",
       "      <td>[\"AIR_CONDITIONING\",\"BALCONY_TERRACE\",\"BATHROB...</td>\n",
       "    </tr>\n",
       "  </tbody>\n",
       "</table>\n",
       "</div>"
      ],
      "text/plain": [
       "    type    city                                    hotelFacilities  \\\n",
       "0  Hotel  Badung  [\"CARPARK\",\"ELEVATOR\",\"HAS_24_HOUR_ROOM_SERVIC...   \n",
       "1  Hotel  Badung  [\"CARPARK\",\"ELEVATOR\",\"HAS_24_HOUR_ROOM_SERVIC...   \n",
       "2  Hotel  Badung  [\"CARPARK\",\"ELEVATOR\",\"HAS_24_HOUR_ROOM_SERVIC...   \n",
       "\n",
       "                             nearestPointOfInterests  starRating  size  \\\n",
       "0  [{\"landmarkId\":\"91589773100576\",\"geoId\":null,\"...           4  46.0   \n",
       "1  [{\"landmarkId\":\"91589773100576\",\"geoId\":null,\"...           4  31.0   \n",
       "2  [{\"landmarkId\":\"91589773100576\",\"geoId\":null,\"...           4  52.0   \n",
       "\n",
       "   originalRate  baseOccupancy  maxChildOccupancy  maxChildAge  \\\n",
       "0       1227273              3                  1            5   \n",
       "1        596694              2                  1            5   \n",
       "2       1450413              2                  1            5   \n",
       "\n",
       "   isBreakfastIncluded  isWifiIncluded  isRefundable  hasLivingRoom  \\\n",
       "0                    1               1             1              0   \n",
       "1                    0               1             1              0   \n",
       "2                    1               1             1              1   \n",
       "\n",
       "                                      roomFacilities  \n",
       "0  [\"AIR_CONDITIONING\",\"BALCONY_TERRACE\",\"BATHROB...  \n",
       "1  [\"AIR_CONDITIONING\",\"BATHROBES\",\"BATHTUB\",\"BLA...  \n",
       "2  [\"AIR_CONDITIONING\",\"BALCONY_TERRACE\",\"BATHROB...  "
      ]
     },
     "execution_count": 2,
     "metadata": {},
     "output_type": "execute_result"
    }
   ],
   "source": [
    "df = pd.read_csv('../Dataset/clean_data.csv')\n",
    "df.head(3)"
   ]
  },
  {
   "cell_type": "code",
   "execution_count": 3,
   "metadata": {},
   "outputs": [
    {
     "name": "stdout",
     "output_type": "stream",
     "text": [
      "Total number of rows: 4953\n",
      "Total number of columns: 15\n"
     ]
    }
   ],
   "source": [
    "print(f'Total number of rows: {df.shape[0]}')\n",
    "print(f'Total number of columns: {df.shape[1]}')"
   ]
  },
  {
   "cell_type": "markdown",
   "metadata": {},
   "source": [
    "### Feature Processing Function"
   ]
  },
  {
   "cell_type": "code",
   "execution_count": 4,
   "metadata": {},
   "outputs": [],
   "source": [
    "# Rooms facilities processing\n",
    "# How to use : Facilities = getFacilities(df['Facilities'].tolist())\n",
    "def getFacilities(facilitiesList):\n",
    "    facilities = []\n",
    "    for i in facilitiesList:\n",
    "        m = int(i.count('\"') / 2)\n",
    "        for j in range(1, m+1, 2):\n",
    "            temp = i.split('\"')[j]\n",
    "            if temp not in facilities:\n",
    "                facilities.append(temp)\n",
    "    # facilities = [f\"{prefix}_\" + string for string in facilities]\n",
    "    return facilities"
   ]
  },
  {
   "cell_type": "code",
   "execution_count": 5,
   "metadata": {},
   "outputs": [
    {
     "data": {
      "text/html": [
       "<div>\n",
       "<style scoped>\n",
       "    .dataframe tbody tr th:only-of-type {\n",
       "        vertical-align: middle;\n",
       "    }\n",
       "\n",
       "    .dataframe tbody tr th {\n",
       "        vertical-align: top;\n",
       "    }\n",
       "\n",
       "    .dataframe thead th {\n",
       "        text-align: right;\n",
       "    }\n",
       "</style>\n",
       "<table border=\"1\" class=\"dataframe\">\n",
       "  <thead>\n",
       "    <tr style=\"text-align: right;\">\n",
       "      <th></th>\n",
       "      <th>originalRate</th>\n",
       "    </tr>\n",
       "  </thead>\n",
       "  <tbody>\n",
       "    <tr>\n",
       "      <th>0</th>\n",
       "      <td>1227273</td>\n",
       "    </tr>\n",
       "    <tr>\n",
       "      <th>1</th>\n",
       "      <td>596694</td>\n",
       "    </tr>\n",
       "  </tbody>\n",
       "</table>\n",
       "</div>"
      ],
      "text/plain": [
       "   originalRate\n",
       "0       1227273\n",
       "1        596694"
      ]
     },
     "execution_count": 5,
     "metadata": {},
     "output_type": "execute_result"
    }
   ],
   "source": [
    "# seperate the target variable\n",
    "dfPrice = df[['originalRate']]\n",
    "dfPrice.head(2)"
   ]
  },
  {
   "attachments": {},
   "cell_type": "markdown",
   "metadata": {},
   "source": [
    "## Getting extraxcted features"
   ]
  },
  {
   "attachments": {},
   "cell_type": "markdown",
   "metadata": {},
   "source": [
    "### Getting the data"
   ]
  },
  {
   "cell_type": "code",
   "execution_count": 6,
   "metadata": {},
   "outputs": [
    {
     "name": "stdout",
     "output_type": "stream",
     "text": [
      " Total Unique Hotel Facilities: 240\n"
     ]
    }
   ],
   "source": [
    "# Hotel Facilities to List\n",
    "hotelFacilities = getFacilities(df['hotelFacilities'].tolist())\n",
    "print(f' Total Unique Hotel Facilities: {len(hotelFacilities)}')"
   ]
  },
  {
   "cell_type": "code",
   "execution_count": 7,
   "metadata": {},
   "outputs": [
    {
     "name": "stdout",
     "output_type": "stream",
     "text": [
      " Total Unique Hotel Facilities: 110\n"
     ]
    }
   ],
   "source": [
    "# Room Facilities to List\n",
    "roomFacilities = getFacilities(df['roomFacilities'].tolist())\n",
    "print(f' Total Unique Hotel Facilities: {len(roomFacilities)}')"
   ]
  },
  {
   "cell_type": "code",
   "execution_count": 8,
   "metadata": {},
   "outputs": [
    {
     "name": "stdout",
     "output_type": "stream",
     "text": [
      " Total Unique Hotel Facilities: 19\n"
     ]
    }
   ],
   "source": [
    "# nearestPointOfInterests to List\n",
    "# landmarkType is present at indexes [19, 49, 79, 109]\n",
    "\n",
    "landmark = df['nearestPointOfInterests'].to_list()\n",
    "searchText = 'landmarkType'\n",
    "nearestPoint = []\n",
    "loopCount = 0\n",
    "for x in range(len(landmark)):\n",
    "    loopCount += 1\n",
    "    i = 0\n",
    "    column = landmark[x].split('\"')\n",
    "    matched_indexes = []\n",
    "    while i < len(column):\n",
    "        if searchText == column[i]:\n",
    "            matched_indexes.append(i)\n",
    "        i += 1\n",
    "    for y in matched_indexes:\n",
    "        if column[y+2] not in nearestPoint:\n",
    "            nearestPoint.append(column[y+2])\n",
    "if 'OTHERS' in nearestPoint:\n",
    "    nearestPoint.remove('OTHERS')\n",
    "\n",
    "print(f' Total Unique Hotel Facilities: {len(nearestPoint)}')\n"
   ]
  },
  {
   "cell_type": "code",
   "execution_count": 9,
   "metadata": {},
   "outputs": [],
   "source": [
    "# Create new dataframe\n",
    "dfHotelEncode = pd.DataFrame(columns=hotelFacilities)\n",
    "dfRoomEncode = pd.DataFrame(columns=roomFacilities)\n",
    "dfPointEncode = pd.DataFrame(columns=nearestPoint)"
   ]
  },
  {
   "cell_type": "markdown",
   "metadata": {},
   "source": [
    "### Extra Features"
   ]
  },
  {
   "cell_type": "code",
   "execution_count": 10,
   "metadata": {},
   "outputs": [
    {
     "name": "stdout",
     "output_type": "stream",
     "text": [
      "(4953, 4)\n",
      "(4953, 9)\n"
     ]
    }
   ],
   "source": [
    "dfHotelEx = df[['originalRate', 'type', 'city', 'starRating']]\n",
    "dfRoomEx = df[['originalRate', 'size', 'baseOccupancy', 'maxChildOccupancy',\n",
    "               'maxChildAge', 'isBreakfastIncluded', 'isWifiIncluded', 'isRefundable', 'hasLivingRoom']]\n",
    "print(dfHotelEx.shape)\n",
    "print(dfRoomEx.shape)\n"
   ]
  },
  {
   "cell_type": "markdown",
   "metadata": {},
   "source": [
    "#### Hotel Extra Features"
   ]
  },
  {
   "cell_type": "code",
   "execution_count": 11,
   "metadata": {},
   "outputs": [
    {
     "name": "stdout",
     "output_type": "stream",
     "text": [
      "<class 'pandas.core.frame.DataFrame'>\n",
      "RangeIndex: 4953 entries, 0 to 4952\n",
      "Data columns (total 4 columns):\n",
      " #   Column        Non-Null Count  Dtype \n",
      "---  ------        --------------  ----- \n",
      " 0   originalRate  4953 non-null   int64 \n",
      " 1   type          4953 non-null   object\n",
      " 2   city          4953 non-null   object\n",
      " 3   starRating    4953 non-null   int64 \n",
      "dtypes: int64(2), object(2)\n",
      "memory usage: 154.9+ KB\n"
     ]
    }
   ],
   "source": [
    "dfHotelEx.info()"
   ]
  },
  {
   "cell_type": "code",
   "execution_count": 12,
   "metadata": {},
   "outputs": [
    {
     "data": {
      "text/plain": [
       "array(['Badung', 'Denpasar', 'Gianyar', 'Sanur', 'Bangli', 'Buleleng',\n",
       "       'Klungkung', 'Tabanan', 'Jembrana', 'Karangasem'], dtype=object)"
      ]
     },
     "execution_count": 12,
     "metadata": {},
     "output_type": "execute_result"
    }
   ],
   "source": [
    "dfHotelEx['city'].unique()"
   ]
  },
  {
   "cell_type": "code",
   "execution_count": 13,
   "metadata": {},
   "outputs": [
    {
     "data": {
      "text/plain": [
       "array(['Hotel', 'Resor', 'Apartemen', 'Vila', 'Guest House', 'Homestay',\n",
       "       'B&B', 'Hostel', 'Camping', 'Lainnya', 'Hotel Kapsul'],\n",
       "      dtype=object)"
      ]
     },
     "execution_count": 13,
     "metadata": {},
     "output_type": "execute_result"
    }
   ],
   "source": [
    "dfHotelEx['type'].unique()"
   ]
  },
  {
   "cell_type": "code",
   "execution_count": 14,
   "metadata": {},
   "outputs": [],
   "source": [
    "cityEncode = pd.get_dummies(dfHotelEx['city'], prefix='City')\n",
    "typeEncode = pd.get_dummies(dfHotelEx['type'], prefix='Type')\n",
    "dfHotelEx = pd.concat([dfHotelEx, cityEncode, typeEncode], axis=1)"
   ]
  },
  {
   "cell_type": "code",
   "execution_count": 15,
   "metadata": {},
   "outputs": [
    {
     "name": "stdout",
     "output_type": "stream",
     "text": [
      "(4953, 23)\n"
     ]
    },
    {
     "data": {
      "text/html": [
       "<div>\n",
       "<style scoped>\n",
       "    .dataframe tbody tr th:only-of-type {\n",
       "        vertical-align: middle;\n",
       "    }\n",
       "\n",
       "    .dataframe tbody tr th {\n",
       "        vertical-align: top;\n",
       "    }\n",
       "\n",
       "    .dataframe thead th {\n",
       "        text-align: right;\n",
       "    }\n",
       "</style>\n",
       "<table border=\"1\" class=\"dataframe\">\n",
       "  <thead>\n",
       "    <tr style=\"text-align: right;\">\n",
       "      <th></th>\n",
       "      <th>originalRate</th>\n",
       "      <th>starRating</th>\n",
       "      <th>City_Badung</th>\n",
       "      <th>City_Bangli</th>\n",
       "      <th>City_Buleleng</th>\n",
       "      <th>City_Denpasar</th>\n",
       "      <th>City_Gianyar</th>\n",
       "      <th>City_Jembrana</th>\n",
       "      <th>City_Karangasem</th>\n",
       "      <th>City_Klungkung</th>\n",
       "      <th>...</th>\n",
       "      <th>Type_B&amp;B</th>\n",
       "      <th>Type_Camping</th>\n",
       "      <th>Type_Guest House</th>\n",
       "      <th>Type_Homestay</th>\n",
       "      <th>Type_Hostel</th>\n",
       "      <th>Type_Hotel</th>\n",
       "      <th>Type_Hotel Kapsul</th>\n",
       "      <th>Type_Lainnya</th>\n",
       "      <th>Type_Resor</th>\n",
       "      <th>Type_Vila</th>\n",
       "    </tr>\n",
       "  </thead>\n",
       "  <tbody>\n",
       "    <tr>\n",
       "      <th>0</th>\n",
       "      <td>1227273</td>\n",
       "      <td>4</td>\n",
       "      <td>1</td>\n",
       "      <td>0</td>\n",
       "      <td>0</td>\n",
       "      <td>0</td>\n",
       "      <td>0</td>\n",
       "      <td>0</td>\n",
       "      <td>0</td>\n",
       "      <td>0</td>\n",
       "      <td>...</td>\n",
       "      <td>0</td>\n",
       "      <td>0</td>\n",
       "      <td>0</td>\n",
       "      <td>0</td>\n",
       "      <td>0</td>\n",
       "      <td>1</td>\n",
       "      <td>0</td>\n",
       "      <td>0</td>\n",
       "      <td>0</td>\n",
       "      <td>0</td>\n",
       "    </tr>\n",
       "    <tr>\n",
       "      <th>1</th>\n",
       "      <td>596694</td>\n",
       "      <td>4</td>\n",
       "      <td>1</td>\n",
       "      <td>0</td>\n",
       "      <td>0</td>\n",
       "      <td>0</td>\n",
       "      <td>0</td>\n",
       "      <td>0</td>\n",
       "      <td>0</td>\n",
       "      <td>0</td>\n",
       "      <td>...</td>\n",
       "      <td>0</td>\n",
       "      <td>0</td>\n",
       "      <td>0</td>\n",
       "      <td>0</td>\n",
       "      <td>0</td>\n",
       "      <td>1</td>\n",
       "      <td>0</td>\n",
       "      <td>0</td>\n",
       "      <td>0</td>\n",
       "      <td>0</td>\n",
       "    </tr>\n",
       "  </tbody>\n",
       "</table>\n",
       "<p>2 rows × 23 columns</p>\n",
       "</div>"
      ],
      "text/plain": [
       "   originalRate  starRating  City_Badung  City_Bangli  City_Buleleng  \\\n",
       "0       1227273           4            1            0              0   \n",
       "1        596694           4            1            0              0   \n",
       "\n",
       "   City_Denpasar  City_Gianyar  City_Jembrana  City_Karangasem  \\\n",
       "0              0             0              0                0   \n",
       "1              0             0              0                0   \n",
       "\n",
       "   City_Klungkung  ...  Type_B&B  Type_Camping  Type_Guest House  \\\n",
       "0               0  ...         0             0                 0   \n",
       "1               0  ...         0             0                 0   \n",
       "\n",
       "   Type_Homestay  Type_Hostel  Type_Hotel  Type_Hotel Kapsul  Type_Lainnya  \\\n",
       "0              0            0           1                  0             0   \n",
       "1              0            0           1                  0             0   \n",
       "\n",
       "   Type_Resor  Type_Vila  \n",
       "0           0          0  \n",
       "1           0          0  \n",
       "\n",
       "[2 rows x 23 columns]"
      ]
     },
     "execution_count": 15,
     "metadata": {},
     "output_type": "execute_result"
    }
   ],
   "source": [
    "dfHotelEx.drop(['city', 'type'], axis=1, inplace=True)\n",
    "print(dfHotelEx.shape)\n",
    "dfHotelEx.head(2)"
   ]
  },
  {
   "cell_type": "code",
   "execution_count": 16,
   "metadata": {},
   "outputs": [
    {
     "data": {
      "text/html": [
       "<div>\n",
       "<style scoped>\n",
       "    .dataframe tbody tr th:only-of-type {\n",
       "        vertical-align: middle;\n",
       "    }\n",
       "\n",
       "    .dataframe tbody tr th {\n",
       "        vertical-align: top;\n",
       "    }\n",
       "\n",
       "    .dataframe thead th {\n",
       "        text-align: right;\n",
       "    }\n",
       "</style>\n",
       "<table border=\"1\" class=\"dataframe\">\n",
       "  <thead>\n",
       "    <tr style=\"text-align: right;\">\n",
       "      <th></th>\n",
       "      <th>originalRate</th>\n",
       "      <th>starRating</th>\n",
       "      <th>City_Badung</th>\n",
       "      <th>City_Bangli</th>\n",
       "      <th>City_Buleleng</th>\n",
       "      <th>City_Denpasar</th>\n",
       "      <th>City_Gianyar</th>\n",
       "      <th>City_Jembrana</th>\n",
       "      <th>City_Karangasem</th>\n",
       "      <th>City_Klungkung</th>\n",
       "      <th>...</th>\n",
       "      <th>Type_B&amp;B</th>\n",
       "      <th>Type_Camping</th>\n",
       "      <th>Type_Guest House</th>\n",
       "      <th>Type_Homestay</th>\n",
       "      <th>Type_Hostel</th>\n",
       "      <th>Type_Hotel</th>\n",
       "      <th>Type_Hotel Kapsul</th>\n",
       "      <th>Type_Lainnya</th>\n",
       "      <th>Type_Resor</th>\n",
       "      <th>Type_Vila</th>\n",
       "    </tr>\n",
       "  </thead>\n",
       "  <tbody>\n",
       "    <tr>\n",
       "      <th>count</th>\n",
       "      <td>4.953000e+03</td>\n",
       "      <td>4953.000000</td>\n",
       "      <td>4953.000000</td>\n",
       "      <td>4953.000000</td>\n",
       "      <td>4953.000000</td>\n",
       "      <td>4953.000000</td>\n",
       "      <td>4953.000000</td>\n",
       "      <td>4953.000000</td>\n",
       "      <td>4953.000000</td>\n",
       "      <td>4953.000000</td>\n",
       "      <td>...</td>\n",
       "      <td>4953.000000</td>\n",
       "      <td>4953.000000</td>\n",
       "      <td>4953.000000</td>\n",
       "      <td>4953.000000</td>\n",
       "      <td>4953.000000</td>\n",
       "      <td>4953.000000</td>\n",
       "      <td>4953.000000</td>\n",
       "      <td>4953.000000</td>\n",
       "      <td>4953.000000</td>\n",
       "      <td>4953.000000</td>\n",
       "    </tr>\n",
       "    <tr>\n",
       "      <th>mean</th>\n",
       "      <td>1.265925e+06</td>\n",
       "      <td>3.328084</td>\n",
       "      <td>0.427822</td>\n",
       "      <td>0.011104</td>\n",
       "      <td>0.072078</td>\n",
       "      <td>0.048052</td>\n",
       "      <td>0.195033</td>\n",
       "      <td>0.012720</td>\n",
       "      <td>0.053907</td>\n",
       "      <td>0.103170</td>\n",
       "      <td>...</td>\n",
       "      <td>0.021401</td>\n",
       "      <td>0.002423</td>\n",
       "      <td>0.132243</td>\n",
       "      <td>0.053907</td>\n",
       "      <td>0.021401</td>\n",
       "      <td>0.478296</td>\n",
       "      <td>0.000808</td>\n",
       "      <td>0.001211</td>\n",
       "      <td>0.136483</td>\n",
       "      <td>0.135877</td>\n",
       "    </tr>\n",
       "    <tr>\n",
       "      <th>std</th>\n",
       "      <td>1.190516e+06</td>\n",
       "      <td>1.152705</td>\n",
       "      <td>0.494813</td>\n",
       "      <td>0.104801</td>\n",
       "      <td>0.258642</td>\n",
       "      <td>0.213897</td>\n",
       "      <td>0.396266</td>\n",
       "      <td>0.112073</td>\n",
       "      <td>0.225856</td>\n",
       "      <td>0.304211</td>\n",
       "      <td>...</td>\n",
       "      <td>0.144732</td>\n",
       "      <td>0.049167</td>\n",
       "      <td>0.338789</td>\n",
       "      <td>0.225856</td>\n",
       "      <td>0.144732</td>\n",
       "      <td>0.499579</td>\n",
       "      <td>0.028410</td>\n",
       "      <td>0.034787</td>\n",
       "      <td>0.343335</td>\n",
       "      <td>0.342693</td>\n",
       "    </tr>\n",
       "    <tr>\n",
       "      <th>min</th>\n",
       "      <td>4.031300e+04</td>\n",
       "      <td>0.000000</td>\n",
       "      <td>0.000000</td>\n",
       "      <td>0.000000</td>\n",
       "      <td>0.000000</td>\n",
       "      <td>0.000000</td>\n",
       "      <td>0.000000</td>\n",
       "      <td>0.000000</td>\n",
       "      <td>0.000000</td>\n",
       "      <td>0.000000</td>\n",
       "      <td>...</td>\n",
       "      <td>0.000000</td>\n",
       "      <td>0.000000</td>\n",
       "      <td>0.000000</td>\n",
       "      <td>0.000000</td>\n",
       "      <td>0.000000</td>\n",
       "      <td>0.000000</td>\n",
       "      <td>0.000000</td>\n",
       "      <td>0.000000</td>\n",
       "      <td>0.000000</td>\n",
       "      <td>0.000000</td>\n",
       "    </tr>\n",
       "    <tr>\n",
       "      <th>25%</th>\n",
       "      <td>4.407720e+05</td>\n",
       "      <td>3.000000</td>\n",
       "      <td>0.000000</td>\n",
       "      <td>0.000000</td>\n",
       "      <td>0.000000</td>\n",
       "      <td>0.000000</td>\n",
       "      <td>0.000000</td>\n",
       "      <td>0.000000</td>\n",
       "      <td>0.000000</td>\n",
       "      <td>0.000000</td>\n",
       "      <td>...</td>\n",
       "      <td>0.000000</td>\n",
       "      <td>0.000000</td>\n",
       "      <td>0.000000</td>\n",
       "      <td>0.000000</td>\n",
       "      <td>0.000000</td>\n",
       "      <td>0.000000</td>\n",
       "      <td>0.000000</td>\n",
       "      <td>0.000000</td>\n",
       "      <td>0.000000</td>\n",
       "      <td>0.000000</td>\n",
       "    </tr>\n",
       "    <tr>\n",
       "      <th>50%</th>\n",
       "      <td>8.391250e+05</td>\n",
       "      <td>3.000000</td>\n",
       "      <td>0.000000</td>\n",
       "      <td>0.000000</td>\n",
       "      <td>0.000000</td>\n",
       "      <td>0.000000</td>\n",
       "      <td>0.000000</td>\n",
       "      <td>0.000000</td>\n",
       "      <td>0.000000</td>\n",
       "      <td>0.000000</td>\n",
       "      <td>...</td>\n",
       "      <td>0.000000</td>\n",
       "      <td>0.000000</td>\n",
       "      <td>0.000000</td>\n",
       "      <td>0.000000</td>\n",
       "      <td>0.000000</td>\n",
       "      <td>0.000000</td>\n",
       "      <td>0.000000</td>\n",
       "      <td>0.000000</td>\n",
       "      <td>0.000000</td>\n",
       "      <td>0.000000</td>\n",
       "    </tr>\n",
       "    <tr>\n",
       "      <th>75%</th>\n",
       "      <td>1.652892e+06</td>\n",
       "      <td>4.000000</td>\n",
       "      <td>1.000000</td>\n",
       "      <td>0.000000</td>\n",
       "      <td>0.000000</td>\n",
       "      <td>0.000000</td>\n",
       "      <td>0.000000</td>\n",
       "      <td>0.000000</td>\n",
       "      <td>0.000000</td>\n",
       "      <td>0.000000</td>\n",
       "      <td>...</td>\n",
       "      <td>0.000000</td>\n",
       "      <td>0.000000</td>\n",
       "      <td>0.000000</td>\n",
       "      <td>0.000000</td>\n",
       "      <td>0.000000</td>\n",
       "      <td>1.000000</td>\n",
       "      <td>0.000000</td>\n",
       "      <td>0.000000</td>\n",
       "      <td>0.000000</td>\n",
       "      <td>0.000000</td>\n",
       "    </tr>\n",
       "    <tr>\n",
       "      <th>max</th>\n",
       "      <td>6.611571e+06</td>\n",
       "      <td>5.000000</td>\n",
       "      <td>1.000000</td>\n",
       "      <td>1.000000</td>\n",
       "      <td>1.000000</td>\n",
       "      <td>1.000000</td>\n",
       "      <td>1.000000</td>\n",
       "      <td>1.000000</td>\n",
       "      <td>1.000000</td>\n",
       "      <td>1.000000</td>\n",
       "      <td>...</td>\n",
       "      <td>1.000000</td>\n",
       "      <td>1.000000</td>\n",
       "      <td>1.000000</td>\n",
       "      <td>1.000000</td>\n",
       "      <td>1.000000</td>\n",
       "      <td>1.000000</td>\n",
       "      <td>1.000000</td>\n",
       "      <td>1.000000</td>\n",
       "      <td>1.000000</td>\n",
       "      <td>1.000000</td>\n",
       "    </tr>\n",
       "  </tbody>\n",
       "</table>\n",
       "<p>8 rows × 23 columns</p>\n",
       "</div>"
      ],
      "text/plain": [
       "       originalRate   starRating  City_Badung  City_Bangli  City_Buleleng  \\\n",
       "count  4.953000e+03  4953.000000  4953.000000  4953.000000    4953.000000   \n",
       "mean   1.265925e+06     3.328084     0.427822     0.011104       0.072078   \n",
       "std    1.190516e+06     1.152705     0.494813     0.104801       0.258642   \n",
       "min    4.031300e+04     0.000000     0.000000     0.000000       0.000000   \n",
       "25%    4.407720e+05     3.000000     0.000000     0.000000       0.000000   \n",
       "50%    8.391250e+05     3.000000     0.000000     0.000000       0.000000   \n",
       "75%    1.652892e+06     4.000000     1.000000     0.000000       0.000000   \n",
       "max    6.611571e+06     5.000000     1.000000     1.000000       1.000000   \n",
       "\n",
       "       City_Denpasar  City_Gianyar  City_Jembrana  City_Karangasem  \\\n",
       "count    4953.000000   4953.000000    4953.000000      4953.000000   \n",
       "mean        0.048052      0.195033       0.012720         0.053907   \n",
       "std         0.213897      0.396266       0.112073         0.225856   \n",
       "min         0.000000      0.000000       0.000000         0.000000   \n",
       "25%         0.000000      0.000000       0.000000         0.000000   \n",
       "50%         0.000000      0.000000       0.000000         0.000000   \n",
       "75%         0.000000      0.000000       0.000000         0.000000   \n",
       "max         1.000000      1.000000       1.000000         1.000000   \n",
       "\n",
       "       City_Klungkung  ...     Type_B&B  Type_Camping  Type_Guest House  \\\n",
       "count     4953.000000  ...  4953.000000   4953.000000       4953.000000   \n",
       "mean         0.103170  ...     0.021401      0.002423          0.132243   \n",
       "std          0.304211  ...     0.144732      0.049167          0.338789   \n",
       "min          0.000000  ...     0.000000      0.000000          0.000000   \n",
       "25%          0.000000  ...     0.000000      0.000000          0.000000   \n",
       "50%          0.000000  ...     0.000000      0.000000          0.000000   \n",
       "75%          0.000000  ...     0.000000      0.000000          0.000000   \n",
       "max          1.000000  ...     1.000000      1.000000          1.000000   \n",
       "\n",
       "       Type_Homestay  Type_Hostel   Type_Hotel  Type_Hotel Kapsul  \\\n",
       "count    4953.000000  4953.000000  4953.000000        4953.000000   \n",
       "mean        0.053907     0.021401     0.478296           0.000808   \n",
       "std         0.225856     0.144732     0.499579           0.028410   \n",
       "min         0.000000     0.000000     0.000000           0.000000   \n",
       "25%         0.000000     0.000000     0.000000           0.000000   \n",
       "50%         0.000000     0.000000     0.000000           0.000000   \n",
       "75%         0.000000     0.000000     1.000000           0.000000   \n",
       "max         1.000000     1.000000     1.000000           1.000000   \n",
       "\n",
       "       Type_Lainnya   Type_Resor    Type_Vila  \n",
       "count   4953.000000  4953.000000  4953.000000  \n",
       "mean       0.001211     0.136483     0.135877  \n",
       "std        0.034787     0.343335     0.342693  \n",
       "min        0.000000     0.000000     0.000000  \n",
       "25%        0.000000     0.000000     0.000000  \n",
       "50%        0.000000     0.000000     0.000000  \n",
       "75%        0.000000     0.000000     0.000000  \n",
       "max        1.000000     1.000000     1.000000  \n",
       "\n",
       "[8 rows x 23 columns]"
      ]
     },
     "execution_count": 16,
     "metadata": {},
     "output_type": "execute_result"
    }
   ],
   "source": [
    "dfHotelEx.describe()"
   ]
  },
  {
   "cell_type": "markdown",
   "metadata": {},
   "source": [
    "#### Room Extra Features"
   ]
  },
  {
   "cell_type": "code",
   "execution_count": 17,
   "metadata": {},
   "outputs": [
    {
     "data": {
      "text/html": [
       "<div>\n",
       "<style scoped>\n",
       "    .dataframe tbody tr th:only-of-type {\n",
       "        vertical-align: middle;\n",
       "    }\n",
       "\n",
       "    .dataframe tbody tr th {\n",
       "        vertical-align: top;\n",
       "    }\n",
       "\n",
       "    .dataframe thead th {\n",
       "        text-align: right;\n",
       "    }\n",
       "</style>\n",
       "<table border=\"1\" class=\"dataframe\">\n",
       "  <thead>\n",
       "    <tr style=\"text-align: right;\">\n",
       "      <th></th>\n",
       "      <th>originalRate</th>\n",
       "      <th>size</th>\n",
       "      <th>baseOccupancy</th>\n",
       "      <th>maxChildOccupancy</th>\n",
       "      <th>maxChildAge</th>\n",
       "      <th>isBreakfastIncluded</th>\n",
       "      <th>isWifiIncluded</th>\n",
       "      <th>isRefundable</th>\n",
       "      <th>hasLivingRoom</th>\n",
       "    </tr>\n",
       "  </thead>\n",
       "  <tbody>\n",
       "    <tr>\n",
       "      <th>0</th>\n",
       "      <td>1227273</td>\n",
       "      <td>46.0</td>\n",
       "      <td>3</td>\n",
       "      <td>1</td>\n",
       "      <td>5</td>\n",
       "      <td>1</td>\n",
       "      <td>1</td>\n",
       "      <td>1</td>\n",
       "      <td>0</td>\n",
       "    </tr>\n",
       "    <tr>\n",
       "      <th>1</th>\n",
       "      <td>596694</td>\n",
       "      <td>31.0</td>\n",
       "      <td>2</td>\n",
       "      <td>1</td>\n",
       "      <td>5</td>\n",
       "      <td>0</td>\n",
       "      <td>1</td>\n",
       "      <td>1</td>\n",
       "      <td>0</td>\n",
       "    </tr>\n",
       "  </tbody>\n",
       "</table>\n",
       "</div>"
      ],
      "text/plain": [
       "   originalRate  size  baseOccupancy  maxChildOccupancy  maxChildAge  \\\n",
       "0       1227273  46.0              3                  1            5   \n",
       "1        596694  31.0              2                  1            5   \n",
       "\n",
       "   isBreakfastIncluded  isWifiIncluded  isRefundable  hasLivingRoom  \n",
       "0                    1               1             1              0  \n",
       "1                    0               1             1              0  "
      ]
     },
     "execution_count": 17,
     "metadata": {},
     "output_type": "execute_result"
    }
   ],
   "source": [
    "dfRoomEx.head(2)"
   ]
  },
  {
   "attachments": {},
   "cell_type": "markdown",
   "metadata": {},
   "source": [
    "### Hotel Feature"
   ]
  },
  {
   "cell_type": "code",
   "execution_count": 18,
   "metadata": {},
   "outputs": [
    {
     "name": "stdout",
     "output_type": "stream",
     "text": [
      "(4953, 242)\n"
     ]
    },
    {
     "data": {
      "text/html": [
       "<div>\n",
       "<style scoped>\n",
       "    .dataframe tbody tr th:only-of-type {\n",
       "        vertical-align: middle;\n",
       "    }\n",
       "\n",
       "    .dataframe tbody tr th {\n",
       "        vertical-align: top;\n",
       "    }\n",
       "\n",
       "    .dataframe thead th {\n",
       "        text-align: right;\n",
       "    }\n",
       "</style>\n",
       "<table border=\"1\" class=\"dataframe\">\n",
       "  <thead>\n",
       "    <tr style=\"text-align: right;\">\n",
       "      <th></th>\n",
       "      <th>originalRate</th>\n",
       "      <th>hotelFacilities</th>\n",
       "      <th>CARPARK</th>\n",
       "      <th>ELEVATOR</th>\n",
       "      <th>HAS_24_HOUR_ROOM_SERVICE</th>\n",
       "      <th>RESTAURANT</th>\n",
       "      <th>RESTAURANT_FOR_BREAKFAST</th>\n",
       "      <th>RESTAURANT_FOR_DINNER</th>\n",
       "      <th>RESTAURANT_FOR_LUNCH</th>\n",
       "      <th>SAFETY_DEPOSIT_BOX</th>\n",
       "      <th>...</th>\n",
       "      <th>SMALL_PETS_ALLOWED</th>\n",
       "      <th>SUPERVISED_CHILDCARE_SURCHARGE</th>\n",
       "      <th>WATER_PARK_ACCESS_SURCHARGE</th>\n",
       "      <th>PRIVATE_BEACH</th>\n",
       "      <th>SURFING</th>\n",
       "      <th>PRIVATE_BEACH_NEARBY</th>\n",
       "      <th>BEACH_SUN_LOUNGERS</th>\n",
       "      <th>DARTS</th>\n",
       "      <th>ENTERTAINMENT_PROGRAMME_FOR_CHILDREN</th>\n",
       "      <th>KARAOKE</th>\n",
       "    </tr>\n",
       "  </thead>\n",
       "  <tbody>\n",
       "    <tr>\n",
       "      <th>0</th>\n",
       "      <td>1227273</td>\n",
       "      <td>[\"CARPARK\",\"ELEVATOR\",\"HAS_24_HOUR_ROOM_SERVIC...</td>\n",
       "      <td>NaN</td>\n",
       "      <td>NaN</td>\n",
       "      <td>NaN</td>\n",
       "      <td>NaN</td>\n",
       "      <td>NaN</td>\n",
       "      <td>NaN</td>\n",
       "      <td>NaN</td>\n",
       "      <td>NaN</td>\n",
       "      <td>...</td>\n",
       "      <td>NaN</td>\n",
       "      <td>NaN</td>\n",
       "      <td>NaN</td>\n",
       "      <td>NaN</td>\n",
       "      <td>NaN</td>\n",
       "      <td>NaN</td>\n",
       "      <td>NaN</td>\n",
       "      <td>NaN</td>\n",
       "      <td>NaN</td>\n",
       "      <td>NaN</td>\n",
       "    </tr>\n",
       "    <tr>\n",
       "      <th>1</th>\n",
       "      <td>596694</td>\n",
       "      <td>[\"CARPARK\",\"ELEVATOR\",\"HAS_24_HOUR_ROOM_SERVIC...</td>\n",
       "      <td>NaN</td>\n",
       "      <td>NaN</td>\n",
       "      <td>NaN</td>\n",
       "      <td>NaN</td>\n",
       "      <td>NaN</td>\n",
       "      <td>NaN</td>\n",
       "      <td>NaN</td>\n",
       "      <td>NaN</td>\n",
       "      <td>...</td>\n",
       "      <td>NaN</td>\n",
       "      <td>NaN</td>\n",
       "      <td>NaN</td>\n",
       "      <td>NaN</td>\n",
       "      <td>NaN</td>\n",
       "      <td>NaN</td>\n",
       "      <td>NaN</td>\n",
       "      <td>NaN</td>\n",
       "      <td>NaN</td>\n",
       "      <td>NaN</td>\n",
       "    </tr>\n",
       "  </tbody>\n",
       "</table>\n",
       "<p>2 rows × 242 columns</p>\n",
       "</div>"
      ],
      "text/plain": [
       "   originalRate                                    hotelFacilities CARPARK  \\\n",
       "0       1227273  [\"CARPARK\",\"ELEVATOR\",\"HAS_24_HOUR_ROOM_SERVIC...     NaN   \n",
       "1        596694  [\"CARPARK\",\"ELEVATOR\",\"HAS_24_HOUR_ROOM_SERVIC...     NaN   \n",
       "\n",
       "  ELEVATOR HAS_24_HOUR_ROOM_SERVICE RESTAURANT RESTAURANT_FOR_BREAKFAST  \\\n",
       "0      NaN                      NaN        NaN                      NaN   \n",
       "1      NaN                      NaN        NaN                      NaN   \n",
       "\n",
       "  RESTAURANT_FOR_DINNER RESTAURANT_FOR_LUNCH SAFETY_DEPOSIT_BOX  ...  \\\n",
       "0                   NaN                  NaN                NaN  ...   \n",
       "1                   NaN                  NaN                NaN  ...   \n",
       "\n",
       "  SMALL_PETS_ALLOWED SUPERVISED_CHILDCARE_SURCHARGE  \\\n",
       "0                NaN                            NaN   \n",
       "1                NaN                            NaN   \n",
       "\n",
       "  WATER_PARK_ACCESS_SURCHARGE PRIVATE_BEACH SURFING PRIVATE_BEACH_NEARBY  \\\n",
       "0                         NaN           NaN     NaN                  NaN   \n",
       "1                         NaN           NaN     NaN                  NaN   \n",
       "\n",
       "  BEACH_SUN_LOUNGERS DARTS ENTERTAINMENT_PROGRAMME_FOR_CHILDREN KARAOKE  \n",
       "0                NaN   NaN                                  NaN     NaN  \n",
       "1                NaN   NaN                                  NaN     NaN  \n",
       "\n",
       "[2 rows x 242 columns]"
      ]
     },
     "execution_count": 18,
     "metadata": {},
     "output_type": "execute_result"
    }
   ],
   "source": [
    "dfHotel = pd.concat([df.pop('hotelFacilities'), dfHotelEncode], axis=1)\n",
    "dfHotel = pd.concat([dfPrice, dfHotel], axis=1)\n",
    "print(dfHotel.shape)\n",
    "dfHotel.head(2)"
   ]
  },
  {
   "cell_type": "code",
   "execution_count": 19,
   "metadata": {},
   "outputs": [
    {
     "name": "stdout",
     "output_type": "stream",
     "text": [
      "(4895, 242)\n"
     ]
    },
    {
     "data": {
      "text/html": [
       "<div>\n",
       "<style scoped>\n",
       "    .dataframe tbody tr th:only-of-type {\n",
       "        vertical-align: middle;\n",
       "    }\n",
       "\n",
       "    .dataframe tbody tr th {\n",
       "        vertical-align: top;\n",
       "    }\n",
       "\n",
       "    .dataframe thead th {\n",
       "        text-align: right;\n",
       "    }\n",
       "</style>\n",
       "<table border=\"1\" class=\"dataframe\">\n",
       "  <thead>\n",
       "    <tr style=\"text-align: right;\">\n",
       "      <th></th>\n",
       "      <th>originalRate</th>\n",
       "      <th>hotelFacilities</th>\n",
       "      <th>CARPARK</th>\n",
       "      <th>ELEVATOR</th>\n",
       "      <th>HAS_24_HOUR_ROOM_SERVICE</th>\n",
       "      <th>RESTAURANT</th>\n",
       "      <th>RESTAURANT_FOR_BREAKFAST</th>\n",
       "      <th>RESTAURANT_FOR_DINNER</th>\n",
       "      <th>RESTAURANT_FOR_LUNCH</th>\n",
       "      <th>SAFETY_DEPOSIT_BOX</th>\n",
       "      <th>...</th>\n",
       "      <th>SMALL_PETS_ALLOWED</th>\n",
       "      <th>SUPERVISED_CHILDCARE_SURCHARGE</th>\n",
       "      <th>WATER_PARK_ACCESS_SURCHARGE</th>\n",
       "      <th>PRIVATE_BEACH</th>\n",
       "      <th>SURFING</th>\n",
       "      <th>PRIVATE_BEACH_NEARBY</th>\n",
       "      <th>BEACH_SUN_LOUNGERS</th>\n",
       "      <th>DARTS</th>\n",
       "      <th>ENTERTAINMENT_PROGRAMME_FOR_CHILDREN</th>\n",
       "      <th>KARAOKE</th>\n",
       "    </tr>\n",
       "  </thead>\n",
       "  <tbody>\n",
       "    <tr>\n",
       "      <th>0</th>\n",
       "      <td>1227273</td>\n",
       "      <td>[\"CARPARK\",\"ELEVATOR\",\"HAS_24_HOUR_ROOM_SERVIC...</td>\n",
       "      <td>1</td>\n",
       "      <td>1</td>\n",
       "      <td>1</td>\n",
       "      <td>1</td>\n",
       "      <td>1</td>\n",
       "      <td>1</td>\n",
       "      <td>1</td>\n",
       "      <td>1</td>\n",
       "      <td>...</td>\n",
       "      <td>0</td>\n",
       "      <td>0</td>\n",
       "      <td>0</td>\n",
       "      <td>0</td>\n",
       "      <td>0</td>\n",
       "      <td>0</td>\n",
       "      <td>0</td>\n",
       "      <td>0</td>\n",
       "      <td>0</td>\n",
       "      <td>0</td>\n",
       "    </tr>\n",
       "    <tr>\n",
       "      <th>1</th>\n",
       "      <td>596694</td>\n",
       "      <td>[\"CARPARK\",\"ELEVATOR\",\"HAS_24_HOUR_ROOM_SERVIC...</td>\n",
       "      <td>1</td>\n",
       "      <td>1</td>\n",
       "      <td>1</td>\n",
       "      <td>1</td>\n",
       "      <td>1</td>\n",
       "      <td>1</td>\n",
       "      <td>1</td>\n",
       "      <td>1</td>\n",
       "      <td>...</td>\n",
       "      <td>0</td>\n",
       "      <td>0</td>\n",
       "      <td>0</td>\n",
       "      <td>0</td>\n",
       "      <td>0</td>\n",
       "      <td>0</td>\n",
       "      <td>0</td>\n",
       "      <td>0</td>\n",
       "      <td>0</td>\n",
       "      <td>0</td>\n",
       "    </tr>\n",
       "    <tr>\n",
       "      <th>2</th>\n",
       "      <td>1450413</td>\n",
       "      <td>[\"CARPARK\",\"ELEVATOR\",\"HAS_24_HOUR_ROOM_SERVIC...</td>\n",
       "      <td>1</td>\n",
       "      <td>1</td>\n",
       "      <td>1</td>\n",
       "      <td>1</td>\n",
       "      <td>1</td>\n",
       "      <td>1</td>\n",
       "      <td>1</td>\n",
       "      <td>1</td>\n",
       "      <td>...</td>\n",
       "      <td>0</td>\n",
       "      <td>0</td>\n",
       "      <td>0</td>\n",
       "      <td>0</td>\n",
       "      <td>0</td>\n",
       "      <td>0</td>\n",
       "      <td>0</td>\n",
       "      <td>0</td>\n",
       "      <td>0</td>\n",
       "      <td>0</td>\n",
       "    </tr>\n",
       "    <tr>\n",
       "      <th>3</th>\n",
       "      <td>855372</td>\n",
       "      <td>[\"CARPARK\",\"ELEVATOR\",\"HAS_24_HOUR_ROOM_SERVIC...</td>\n",
       "      <td>1</td>\n",
       "      <td>1</td>\n",
       "      <td>1</td>\n",
       "      <td>1</td>\n",
       "      <td>1</td>\n",
       "      <td>1</td>\n",
       "      <td>1</td>\n",
       "      <td>1</td>\n",
       "      <td>...</td>\n",
       "      <td>0</td>\n",
       "      <td>0</td>\n",
       "      <td>0</td>\n",
       "      <td>0</td>\n",
       "      <td>0</td>\n",
       "      <td>0</td>\n",
       "      <td>0</td>\n",
       "      <td>0</td>\n",
       "      <td>0</td>\n",
       "      <td>0</td>\n",
       "    </tr>\n",
       "    <tr>\n",
       "      <th>4</th>\n",
       "      <td>2545455</td>\n",
       "      <td>[\"CARPARK\",\"COFFEE_SHOP\",\"ELEVATOR\",\"HAS_24_HO...</td>\n",
       "      <td>1</td>\n",
       "      <td>1</td>\n",
       "      <td>1</td>\n",
       "      <td>1</td>\n",
       "      <td>1</td>\n",
       "      <td>1</td>\n",
       "      <td>1</td>\n",
       "      <td>1</td>\n",
       "      <td>...</td>\n",
       "      <td>0</td>\n",
       "      <td>0</td>\n",
       "      <td>0</td>\n",
       "      <td>1</td>\n",
       "      <td>0</td>\n",
       "      <td>0</td>\n",
       "      <td>0</td>\n",
       "      <td>0</td>\n",
       "      <td>0</td>\n",
       "      <td>0</td>\n",
       "    </tr>\n",
       "  </tbody>\n",
       "</table>\n",
       "<p>5 rows × 242 columns</p>\n",
       "</div>"
      ],
      "text/plain": [
       "   originalRate                                    hotelFacilities CARPARK  \\\n",
       "0       1227273  [\"CARPARK\",\"ELEVATOR\",\"HAS_24_HOUR_ROOM_SERVIC...       1   \n",
       "1        596694  [\"CARPARK\",\"ELEVATOR\",\"HAS_24_HOUR_ROOM_SERVIC...       1   \n",
       "2       1450413  [\"CARPARK\",\"ELEVATOR\",\"HAS_24_HOUR_ROOM_SERVIC...       1   \n",
       "3        855372  [\"CARPARK\",\"ELEVATOR\",\"HAS_24_HOUR_ROOM_SERVIC...       1   \n",
       "4       2545455  [\"CARPARK\",\"COFFEE_SHOP\",\"ELEVATOR\",\"HAS_24_HO...       1   \n",
       "\n",
       "  ELEVATOR HAS_24_HOUR_ROOM_SERVICE RESTAURANT RESTAURANT_FOR_BREAKFAST  \\\n",
       "0        1                        1          1                        1   \n",
       "1        1                        1          1                        1   \n",
       "2        1                        1          1                        1   \n",
       "3        1                        1          1                        1   \n",
       "4        1                        1          1                        1   \n",
       "\n",
       "  RESTAURANT_FOR_DINNER RESTAURANT_FOR_LUNCH SAFETY_DEPOSIT_BOX  ...  \\\n",
       "0                     1                    1                  1  ...   \n",
       "1                     1                    1                  1  ...   \n",
       "2                     1                    1                  1  ...   \n",
       "3                     1                    1                  1  ...   \n",
       "4                     1                    1                  1  ...   \n",
       "\n",
       "  SMALL_PETS_ALLOWED SUPERVISED_CHILDCARE_SURCHARGE  \\\n",
       "0                  0                              0   \n",
       "1                  0                              0   \n",
       "2                  0                              0   \n",
       "3                  0                              0   \n",
       "4                  0                              0   \n",
       "\n",
       "  WATER_PARK_ACCESS_SURCHARGE PRIVATE_BEACH SURFING PRIVATE_BEACH_NEARBY  \\\n",
       "0                           0             0       0                    0   \n",
       "1                           0             0       0                    0   \n",
       "2                           0             0       0                    0   \n",
       "3                           0             0       0                    0   \n",
       "4                           0             1       0                    0   \n",
       "\n",
       "  BEACH_SUN_LOUNGERS DARTS ENTERTAINMENT_PROGRAMME_FOR_CHILDREN KARAOKE  \n",
       "0                  0     0                                    0       0  \n",
       "1                  0     0                                    0       0  \n",
       "2                  0     0                                    0       0  \n",
       "3                  0     0                                    0       0  \n",
       "4                  0     0                                    0       0  \n",
       "\n",
       "[5 rows x 242 columns]"
      ]
     },
     "execution_count": 19,
     "metadata": {},
     "output_type": "execute_result"
    }
   ],
   "source": [
    "# add value to decoded columns\n",
    "for i in range(len(dfHotel)):\n",
    "    value = dfHotel['hotelFacilities'][i]\n",
    "    if value == '[]':\n",
    "        dfHotel.drop([i], axis=0, inplace=True)\n",
    "        continue\n",
    "    for j in range(2, len(dfHotel.columns)):\n",
    "        column_name = dfHotel.columns[j]\n",
    "        if column_name in value:\n",
    "            dfHotel.loc[i, column_name] = 1\n",
    "        else:\n",
    "            dfHotel.loc[i, column_name] = 0\n",
    "print(dfHotel.shape)\n",
    "dfHotel.head()\n"
   ]
  },
  {
   "cell_type": "code",
   "execution_count": 20,
   "metadata": {},
   "outputs": [],
   "source": [
    "# Remove hotelFacilities column\n",
    "dfHotel.drop('hotelFacilities', axis=1, inplace=True)"
   ]
  },
  {
   "cell_type": "code",
   "execution_count": 21,
   "metadata": {},
   "outputs": [],
   "source": [
    "for i in range(1, len(dfHotel.columns)):\n",
    "    dfHotel = dfHotel.astype({dfHotel.columns[i]: int})\n"
   ]
  },
  {
   "attachments": {},
   "cell_type": "markdown",
   "metadata": {},
   "source": [
    "### Room Feature"
   ]
  },
  {
   "cell_type": "code",
   "execution_count": 22,
   "metadata": {},
   "outputs": [
    {
     "name": "stdout",
     "output_type": "stream",
     "text": [
      "(4953, 112)\n"
     ]
    },
    {
     "data": {
      "text/html": [
       "<div>\n",
       "<style scoped>\n",
       "    .dataframe tbody tr th:only-of-type {\n",
       "        vertical-align: middle;\n",
       "    }\n",
       "\n",
       "    .dataframe tbody tr th {\n",
       "        vertical-align: top;\n",
       "    }\n",
       "\n",
       "    .dataframe thead th {\n",
       "        text-align: right;\n",
       "    }\n",
       "</style>\n",
       "<table border=\"1\" class=\"dataframe\">\n",
       "  <thead>\n",
       "    <tr style=\"text-align: right;\">\n",
       "      <th></th>\n",
       "      <th>originalRate</th>\n",
       "      <th>roomFacilities</th>\n",
       "      <th>AIR_CONDITIONING</th>\n",
       "      <th>BALCONY_TERRACE</th>\n",
       "      <th>BATHROBES</th>\n",
       "      <th>BATHTUB</th>\n",
       "      <th>BLACKOUT_DRAPES_CURTAINS</th>\n",
       "      <th>COFFEE_TEA_MAKER</th>\n",
       "      <th>COMPLIMENTARY_BOTTLED_WATER</th>\n",
       "      <th>DESK</th>\n",
       "      <th>...</th>\n",
       "      <th>ROLLAWAY_OR_EXTRA_BEDS</th>\n",
       "      <th>TABLET</th>\n",
       "      <th>YARD</th>\n",
       "      <th>VIDEO_GAMES</th>\n",
       "      <th>PORCH_OR_LANAI</th>\n",
       "      <th>IN_ROOM_SAFE_SURCHARGE</th>\n",
       "      <th>HOUSEKEEPING_ON_REQUEST</th>\n",
       "      <th>NO_HOUSEKEEPING</th>\n",
       "      <th>CHANGING_TABLE</th>\n",
       "      <th>MICROWAVE_SURCHARGE</th>\n",
       "    </tr>\n",
       "  </thead>\n",
       "  <tbody>\n",
       "    <tr>\n",
       "      <th>0</th>\n",
       "      <td>1227273</td>\n",
       "      <td>[\"AIR_CONDITIONING\",\"BALCONY_TERRACE\",\"BATHROB...</td>\n",
       "      <td>NaN</td>\n",
       "      <td>NaN</td>\n",
       "      <td>NaN</td>\n",
       "      <td>NaN</td>\n",
       "      <td>NaN</td>\n",
       "      <td>NaN</td>\n",
       "      <td>NaN</td>\n",
       "      <td>NaN</td>\n",
       "      <td>...</td>\n",
       "      <td>NaN</td>\n",
       "      <td>NaN</td>\n",
       "      <td>NaN</td>\n",
       "      <td>NaN</td>\n",
       "      <td>NaN</td>\n",
       "      <td>NaN</td>\n",
       "      <td>NaN</td>\n",
       "      <td>NaN</td>\n",
       "      <td>NaN</td>\n",
       "      <td>NaN</td>\n",
       "    </tr>\n",
       "    <tr>\n",
       "      <th>1</th>\n",
       "      <td>596694</td>\n",
       "      <td>[\"AIR_CONDITIONING\",\"BATHROBES\",\"BATHTUB\",\"BLA...</td>\n",
       "      <td>NaN</td>\n",
       "      <td>NaN</td>\n",
       "      <td>NaN</td>\n",
       "      <td>NaN</td>\n",
       "      <td>NaN</td>\n",
       "      <td>NaN</td>\n",
       "      <td>NaN</td>\n",
       "      <td>NaN</td>\n",
       "      <td>...</td>\n",
       "      <td>NaN</td>\n",
       "      <td>NaN</td>\n",
       "      <td>NaN</td>\n",
       "      <td>NaN</td>\n",
       "      <td>NaN</td>\n",
       "      <td>NaN</td>\n",
       "      <td>NaN</td>\n",
       "      <td>NaN</td>\n",
       "      <td>NaN</td>\n",
       "      <td>NaN</td>\n",
       "    </tr>\n",
       "  </tbody>\n",
       "</table>\n",
       "<p>2 rows × 112 columns</p>\n",
       "</div>"
      ],
      "text/plain": [
       "   originalRate                                     roomFacilities  \\\n",
       "0       1227273  [\"AIR_CONDITIONING\",\"BALCONY_TERRACE\",\"BATHROB...   \n",
       "1        596694  [\"AIR_CONDITIONING\",\"BATHROBES\",\"BATHTUB\",\"BLA...   \n",
       "\n",
       "  AIR_CONDITIONING BALCONY_TERRACE BATHROBES BATHTUB BLACKOUT_DRAPES_CURTAINS  \\\n",
       "0              NaN             NaN       NaN     NaN                      NaN   \n",
       "1              NaN             NaN       NaN     NaN                      NaN   \n",
       "\n",
       "  COFFEE_TEA_MAKER COMPLIMENTARY_BOTTLED_WATER DESK  ...  \\\n",
       "0              NaN                         NaN  NaN  ...   \n",
       "1              NaN                         NaN  NaN  ...   \n",
       "\n",
       "  ROLLAWAY_OR_EXTRA_BEDS TABLET YARD VIDEO_GAMES PORCH_OR_LANAI  \\\n",
       "0                    NaN    NaN  NaN         NaN            NaN   \n",
       "1                    NaN    NaN  NaN         NaN            NaN   \n",
       "\n",
       "  IN_ROOM_SAFE_SURCHARGE HOUSEKEEPING_ON_REQUEST NO_HOUSEKEEPING  \\\n",
       "0                    NaN                     NaN             NaN   \n",
       "1                    NaN                     NaN             NaN   \n",
       "\n",
       "  CHANGING_TABLE MICROWAVE_SURCHARGE  \n",
       "0            NaN                 NaN  \n",
       "1            NaN                 NaN  \n",
       "\n",
       "[2 rows x 112 columns]"
      ]
     },
     "execution_count": 22,
     "metadata": {},
     "output_type": "execute_result"
    }
   ],
   "source": [
    "dfRoom = pd.concat([df.pop('roomFacilities'), dfRoomEncode], axis=1)\n",
    "dfRoom = pd.concat([dfPrice, dfRoom], axis=1)\n",
    "print(dfRoom.shape)\n",
    "dfRoom.head(2)"
   ]
  },
  {
   "cell_type": "code",
   "execution_count": 23,
   "metadata": {},
   "outputs": [
    {
     "name": "stdout",
     "output_type": "stream",
     "text": [
      "(4739, 112)\n"
     ]
    }
   ],
   "source": [
    "# add value to decoded columns\n",
    "for i in range(len(dfRoom)):\n",
    "    value = dfRoom['roomFacilities'][i]\n",
    "    if value == '[]':\n",
    "        dfRoom.drop([i], axis=0, inplace=True)\n",
    "        continue\n",
    "    for j in range(2, len(dfRoom.columns)):\n",
    "        column_name = dfRoom.columns[j]\n",
    "        if column_name in value:\n",
    "            dfRoom.loc[i, column_name] = 1\n",
    "        else:\n",
    "            dfRoom.loc[i, column_name] = 0\n",
    "print(dfRoom.shape)\n"
   ]
  },
  {
   "cell_type": "code",
   "execution_count": 24,
   "metadata": {},
   "outputs": [],
   "source": [
    "dfRoom.drop('roomFacilities', axis=1, inplace=True)"
   ]
  },
  {
   "cell_type": "code",
   "execution_count": 25,
   "metadata": {},
   "outputs": [],
   "source": [
    "for i in range(1, len(dfRoom.columns)):\n",
    "    dfRoom = dfRoom.astype({dfRoom.columns[i]: int})\n"
   ]
  },
  {
   "attachments": {},
   "cell_type": "markdown",
   "metadata": {},
   "source": [
    "### Point of Interest Feature"
   ]
  },
  {
   "cell_type": "code",
   "execution_count": 26,
   "metadata": {},
   "outputs": [
    {
     "data": {
      "text/html": [
       "<div>\n",
       "<style scoped>\n",
       "    .dataframe tbody tr th:only-of-type {\n",
       "        vertical-align: middle;\n",
       "    }\n",
       "\n",
       "    .dataframe tbody tr th {\n",
       "        vertical-align: top;\n",
       "    }\n",
       "\n",
       "    .dataframe thead th {\n",
       "        text-align: right;\n",
       "    }\n",
       "</style>\n",
       "<table border=\"1\" class=\"dataframe\">\n",
       "  <thead>\n",
       "    <tr style=\"text-align: right;\">\n",
       "      <th></th>\n",
       "      <th>originalRate</th>\n",
       "      <th>nearestPointOfInterests</th>\n",
       "      <th>SHOPPING_AREA</th>\n",
       "      <th>OFFICIAL_BUILDING</th>\n",
       "      <th>RESTAURANT</th>\n",
       "      <th>ATTRACTION</th>\n",
       "      <th>BEACH</th>\n",
       "      <th>MONUMENT</th>\n",
       "      <th>TERMINAL</th>\n",
       "      <th>PARK</th>\n",
       "      <th>...</th>\n",
       "      <th>MUSEUM</th>\n",
       "      <th>GALLERY</th>\n",
       "      <th>PLACE_OF_WORSHIP</th>\n",
       "      <th>TRAIN_STATION</th>\n",
       "      <th>ZOO</th>\n",
       "      <th>ENTERTAINMENT</th>\n",
       "      <th>GARDEN</th>\n",
       "      <th>THEATER</th>\n",
       "      <th>STORE</th>\n",
       "      <th>SCHOOL</th>\n",
       "    </tr>\n",
       "  </thead>\n",
       "  <tbody>\n",
       "    <tr>\n",
       "      <th>0</th>\n",
       "      <td>1227273</td>\n",
       "      <td>[{\"landmarkId\":\"91589773100576\",\"geoId\":null,\"...</td>\n",
       "      <td>NaN</td>\n",
       "      <td>NaN</td>\n",
       "      <td>NaN</td>\n",
       "      <td>NaN</td>\n",
       "      <td>NaN</td>\n",
       "      <td>NaN</td>\n",
       "      <td>NaN</td>\n",
       "      <td>NaN</td>\n",
       "      <td>...</td>\n",
       "      <td>NaN</td>\n",
       "      <td>NaN</td>\n",
       "      <td>NaN</td>\n",
       "      <td>NaN</td>\n",
       "      <td>NaN</td>\n",
       "      <td>NaN</td>\n",
       "      <td>NaN</td>\n",
       "      <td>NaN</td>\n",
       "      <td>NaN</td>\n",
       "      <td>NaN</td>\n",
       "    </tr>\n",
       "    <tr>\n",
       "      <th>1</th>\n",
       "      <td>596694</td>\n",
       "      <td>[{\"landmarkId\":\"91589773100576\",\"geoId\":null,\"...</td>\n",
       "      <td>NaN</td>\n",
       "      <td>NaN</td>\n",
       "      <td>NaN</td>\n",
       "      <td>NaN</td>\n",
       "      <td>NaN</td>\n",
       "      <td>NaN</td>\n",
       "      <td>NaN</td>\n",
       "      <td>NaN</td>\n",
       "      <td>...</td>\n",
       "      <td>NaN</td>\n",
       "      <td>NaN</td>\n",
       "      <td>NaN</td>\n",
       "      <td>NaN</td>\n",
       "      <td>NaN</td>\n",
       "      <td>NaN</td>\n",
       "      <td>NaN</td>\n",
       "      <td>NaN</td>\n",
       "      <td>NaN</td>\n",
       "      <td>NaN</td>\n",
       "    </tr>\n",
       "  </tbody>\n",
       "</table>\n",
       "<p>2 rows × 21 columns</p>\n",
       "</div>"
      ],
      "text/plain": [
       "   originalRate                            nearestPointOfInterests  \\\n",
       "0       1227273  [{\"landmarkId\":\"91589773100576\",\"geoId\":null,\"...   \n",
       "1        596694  [{\"landmarkId\":\"91589773100576\",\"geoId\":null,\"...   \n",
       "\n",
       "  SHOPPING_AREA OFFICIAL_BUILDING RESTAURANT ATTRACTION BEACH MONUMENT  \\\n",
       "0           NaN               NaN        NaN        NaN   NaN      NaN   \n",
       "1           NaN               NaN        NaN        NaN   NaN      NaN   \n",
       "\n",
       "  TERMINAL PARK  ... MUSEUM GALLERY PLACE_OF_WORSHIP TRAIN_STATION  ZOO  \\\n",
       "0      NaN  NaN  ...    NaN     NaN              NaN           NaN  NaN   \n",
       "1      NaN  NaN  ...    NaN     NaN              NaN           NaN  NaN   \n",
       "\n",
       "  ENTERTAINMENT GARDEN THEATER STORE SCHOOL  \n",
       "0           NaN    NaN     NaN   NaN    NaN  \n",
       "1           NaN    NaN     NaN   NaN    NaN  \n",
       "\n",
       "[2 rows x 21 columns]"
      ]
     },
     "execution_count": 26,
     "metadata": {},
     "output_type": "execute_result"
    }
   ],
   "source": [
    "dfPoint = pd.concat([df.pop('nearestPointOfInterests'), dfPointEncode], axis=1)\n",
    "dfPoint = pd.concat([dfPrice, dfPoint], axis=1)\n",
    "dfPoint.head(2)"
   ]
  },
  {
   "cell_type": "code",
   "execution_count": 27,
   "metadata": {},
   "outputs": [
    {
     "name": "stdout",
     "output_type": "stream",
     "text": [
      "(4937, 21)\n"
     ]
    },
    {
     "data": {
      "text/html": [
       "<div>\n",
       "<style scoped>\n",
       "    .dataframe tbody tr th:only-of-type {\n",
       "        vertical-align: middle;\n",
       "    }\n",
       "\n",
       "    .dataframe tbody tr th {\n",
       "        vertical-align: top;\n",
       "    }\n",
       "\n",
       "    .dataframe thead th {\n",
       "        text-align: right;\n",
       "    }\n",
       "</style>\n",
       "<table border=\"1\" class=\"dataframe\">\n",
       "  <thead>\n",
       "    <tr style=\"text-align: right;\">\n",
       "      <th></th>\n",
       "      <th>originalRate</th>\n",
       "      <th>nearestPointOfInterests</th>\n",
       "      <th>SHOPPING_AREA</th>\n",
       "      <th>OFFICIAL_BUILDING</th>\n",
       "      <th>RESTAURANT</th>\n",
       "      <th>ATTRACTION</th>\n",
       "      <th>BEACH</th>\n",
       "      <th>MONUMENT</th>\n",
       "      <th>TERMINAL</th>\n",
       "      <th>PARK</th>\n",
       "      <th>...</th>\n",
       "      <th>MUSEUM</th>\n",
       "      <th>GALLERY</th>\n",
       "      <th>PLACE_OF_WORSHIP</th>\n",
       "      <th>TRAIN_STATION</th>\n",
       "      <th>ZOO</th>\n",
       "      <th>ENTERTAINMENT</th>\n",
       "      <th>GARDEN</th>\n",
       "      <th>THEATER</th>\n",
       "      <th>STORE</th>\n",
       "      <th>SCHOOL</th>\n",
       "    </tr>\n",
       "  </thead>\n",
       "  <tbody>\n",
       "    <tr>\n",
       "      <th>0</th>\n",
       "      <td>1227273</td>\n",
       "      <td>[{\"landmarkId\":\"91589773100576\",\"geoId\":null,\"...</td>\n",
       "      <td>1</td>\n",
       "      <td>1</td>\n",
       "      <td>1</td>\n",
       "      <td>1</td>\n",
       "      <td>0</td>\n",
       "      <td>0</td>\n",
       "      <td>0</td>\n",
       "      <td>0</td>\n",
       "      <td>...</td>\n",
       "      <td>0</td>\n",
       "      <td>0</td>\n",
       "      <td>0</td>\n",
       "      <td>0</td>\n",
       "      <td>0</td>\n",
       "      <td>0</td>\n",
       "      <td>0</td>\n",
       "      <td>0</td>\n",
       "      <td>0</td>\n",
       "      <td>0</td>\n",
       "    </tr>\n",
       "    <tr>\n",
       "      <th>1</th>\n",
       "      <td>596694</td>\n",
       "      <td>[{\"landmarkId\":\"91589773100576\",\"geoId\":null,\"...</td>\n",
       "      <td>1</td>\n",
       "      <td>1</td>\n",
       "      <td>1</td>\n",
       "      <td>1</td>\n",
       "      <td>0</td>\n",
       "      <td>0</td>\n",
       "      <td>0</td>\n",
       "      <td>0</td>\n",
       "      <td>...</td>\n",
       "      <td>0</td>\n",
       "      <td>0</td>\n",
       "      <td>0</td>\n",
       "      <td>0</td>\n",
       "      <td>0</td>\n",
       "      <td>0</td>\n",
       "      <td>0</td>\n",
       "      <td>0</td>\n",
       "      <td>0</td>\n",
       "      <td>0</td>\n",
       "    </tr>\n",
       "    <tr>\n",
       "      <th>2</th>\n",
       "      <td>1450413</td>\n",
       "      <td>[{\"landmarkId\":\"91589773100576\",\"geoId\":null,\"...</td>\n",
       "      <td>1</td>\n",
       "      <td>1</td>\n",
       "      <td>1</td>\n",
       "      <td>1</td>\n",
       "      <td>0</td>\n",
       "      <td>0</td>\n",
       "      <td>0</td>\n",
       "      <td>0</td>\n",
       "      <td>...</td>\n",
       "      <td>0</td>\n",
       "      <td>0</td>\n",
       "      <td>0</td>\n",
       "      <td>0</td>\n",
       "      <td>0</td>\n",
       "      <td>0</td>\n",
       "      <td>0</td>\n",
       "      <td>0</td>\n",
       "      <td>0</td>\n",
       "      <td>0</td>\n",
       "    </tr>\n",
       "    <tr>\n",
       "      <th>3</th>\n",
       "      <td>855372</td>\n",
       "      <td>[{\"landmarkId\":\"91589773100576\",\"geoId\":null,\"...</td>\n",
       "      <td>1</td>\n",
       "      <td>1</td>\n",
       "      <td>1</td>\n",
       "      <td>1</td>\n",
       "      <td>0</td>\n",
       "      <td>0</td>\n",
       "      <td>0</td>\n",
       "      <td>0</td>\n",
       "      <td>...</td>\n",
       "      <td>0</td>\n",
       "      <td>0</td>\n",
       "      <td>0</td>\n",
       "      <td>0</td>\n",
       "      <td>0</td>\n",
       "      <td>0</td>\n",
       "      <td>0</td>\n",
       "      <td>0</td>\n",
       "      <td>0</td>\n",
       "      <td>0</td>\n",
       "    </tr>\n",
       "    <tr>\n",
       "      <th>4</th>\n",
       "      <td>2545455</td>\n",
       "      <td>[{\"landmarkId\":\"91589773100576\",\"geoId\":null,\"...</td>\n",
       "      <td>1</td>\n",
       "      <td>1</td>\n",
       "      <td>1</td>\n",
       "      <td>1</td>\n",
       "      <td>0</td>\n",
       "      <td>0</td>\n",
       "      <td>0</td>\n",
       "      <td>0</td>\n",
       "      <td>...</td>\n",
       "      <td>0</td>\n",
       "      <td>0</td>\n",
       "      <td>0</td>\n",
       "      <td>0</td>\n",
       "      <td>0</td>\n",
       "      <td>0</td>\n",
       "      <td>0</td>\n",
       "      <td>0</td>\n",
       "      <td>0</td>\n",
       "      <td>0</td>\n",
       "    </tr>\n",
       "  </tbody>\n",
       "</table>\n",
       "<p>5 rows × 21 columns</p>\n",
       "</div>"
      ],
      "text/plain": [
       "   originalRate                            nearestPointOfInterests  \\\n",
       "0       1227273  [{\"landmarkId\":\"91589773100576\",\"geoId\":null,\"...   \n",
       "1        596694  [{\"landmarkId\":\"91589773100576\",\"geoId\":null,\"...   \n",
       "2       1450413  [{\"landmarkId\":\"91589773100576\",\"geoId\":null,\"...   \n",
       "3        855372  [{\"landmarkId\":\"91589773100576\",\"geoId\":null,\"...   \n",
       "4       2545455  [{\"landmarkId\":\"91589773100576\",\"geoId\":null,\"...   \n",
       "\n",
       "  SHOPPING_AREA OFFICIAL_BUILDING RESTAURANT ATTRACTION BEACH MONUMENT  \\\n",
       "0             1                 1          1          1     0        0   \n",
       "1             1                 1          1          1     0        0   \n",
       "2             1                 1          1          1     0        0   \n",
       "3             1                 1          1          1     0        0   \n",
       "4             1                 1          1          1     0        0   \n",
       "\n",
       "  TERMINAL PARK  ... MUSEUM GALLERY PLACE_OF_WORSHIP TRAIN_STATION ZOO  \\\n",
       "0        0    0  ...      0       0                0             0   0   \n",
       "1        0    0  ...      0       0                0             0   0   \n",
       "2        0    0  ...      0       0                0             0   0   \n",
       "3        0    0  ...      0       0                0             0   0   \n",
       "4        0    0  ...      0       0                0             0   0   \n",
       "\n",
       "  ENTERTAINMENT GARDEN THEATER STORE SCHOOL  \n",
       "0             0      0       0     0      0  \n",
       "1             0      0       0     0      0  \n",
       "2             0      0       0     0      0  \n",
       "3             0      0       0     0      0  \n",
       "4             0      0       0     0      0  \n",
       "\n",
       "[5 rows x 21 columns]"
      ]
     },
     "execution_count": 27,
     "metadata": {},
     "output_type": "execute_result"
    }
   ],
   "source": [
    "# add value to encoded columns\n",
    "for i in range(len(dfPoint)):\n",
    "    value = dfPoint['nearestPointOfInterests'][i]\n",
    "    if value == '[]':\n",
    "        dfPoint.drop([i], axis=0, inplace=True)\n",
    "        continue\n",
    "    for j in range(2, len(dfPoint.columns)):\n",
    "        column_name = dfPoint.columns[j]\n",
    "        if column_name in value:\n",
    "            dfPoint.loc[i, column_name] = 1\n",
    "        else:\n",
    "            dfPoint.loc[i, column_name] = 0\n",
    "print(dfPoint.shape)\n",
    "dfPoint.head()\n"
   ]
  },
  {
   "cell_type": "code",
   "execution_count": 28,
   "metadata": {},
   "outputs": [],
   "source": [
    "dfPoint.drop('nearestPointOfInterests', axis=1, inplace=True)"
   ]
  },
  {
   "cell_type": "code",
   "execution_count": 29,
   "metadata": {},
   "outputs": [],
   "source": [
    "# Convert to int\n",
    "for i in range(1, len(dfPoint.columns)):\n",
    "    dfPoint = dfPoint.astype({dfPoint.columns[i]: int})\n"
   ]
  },
  {
   "attachments": {},
   "cell_type": "markdown",
   "metadata": {},
   "source": [
    "### Add Prefix"
   ]
  },
  {
   "cell_type": "code",
   "execution_count": 30,
   "metadata": {},
   "outputs": [],
   "source": [
    "dfHotel = dfHotel.add_prefix('Hotel_')\n",
    "dfRoom = dfRoom.add_prefix('Room_')\n",
    "dfPoint = dfPoint.add_prefix('Point_')"
   ]
  },
  {
   "attachments": {},
   "cell_type": "markdown",
   "metadata": {},
   "source": [
    "## Feature Selection"
   ]
  },
  {
   "cell_type": "code",
   "execution_count": 31,
   "metadata": {},
   "outputs": [],
   "source": [
    "import matplotlib.pyplot as plt\n",
    "import seaborn as sns"
   ]
  },
  {
   "cell_type": "code",
   "execution_count": 32,
   "metadata": {},
   "outputs": [],
   "source": [
    "# create funtion to get the mean value of the columns and add to the dataframe\n",
    "def getMean(df):\n",
    "    dfMean = pd.DataFrame(columns=['Mean'])\n",
    "    for i in range(1, len(df.columns)):\n",
    "        dfMean.loc[i-1] = df[df.columns[i]].mean()\n",
    "    dfMean.index = df.columns[1:]\n",
    "    dfMean = dfMean.reset_index(drop=False)\n",
    "    dfMean.columns = ['Facilities', 'Mean']\n",
    "    return dfMean\n"
   ]
  },
  {
   "cell_type": "code",
   "execution_count": 33,
   "metadata": {},
   "outputs": [],
   "source": [
    "# create function to remove outlier from data frame using IQR baesd on the mean value of the columns\n",
    "def featureSelection(dfFunction):\n",
    "    dfMean = getMean(dfFunction)\n",
    "    initialLength = len(dfMean)\n",
    "    q1 = dfMean['Mean'].quantile(0.25)\n",
    "    q3 = dfMean['Mean'].quantile(0.75)\n",
    "    iqr = q3 - q1\n",
    "\n",
    "    # create list of facilities that will be removed then drop it from the dataframe (df)\n",
    "    removedFacilities = []\n",
    "    for i in range(len(dfMean)):\n",
    "        if dfMean['Mean'][i] >= (q3 + 1.5 * iqr) or dfMean['Mean'][i] <= (q1 - 1.5 * iqr):\n",
    "            removedFacilities.append(dfMean.loc[i, 'Facilities'])\n",
    "    df = dfFunction.drop(removedFacilities, axis=1)\n",
    "\n",
    "    # create new dataframe that will be used to store the cleaned data\n",
    "    dfClean = dfMean[~dfMean['Facilities'].isin(removedFacilities)]\n",
    "    print(f\"Null value : {dfClean.isnull().sum().any()}\")\n",
    "\n",
    "    # calculate the number of facilities that will be removed\n",
    "    print(f'Final Number of Features: {len(dfClean)}')\n",
    "    calRemovedFacilities = initialLength - len(dfClean)\n",
    "    print(f'Number of Facilities Removed: {calRemovedFacilities}')\n",
    "\n",
    "    # print the q1, q3, and iqr\n",
    "    print(f'Q1: {q1}')\n",
    "    print(f'Q3: {q3}')\n",
    "    print(f'IQR: {iqr}')\n",
    "\n",
    "    return dfClean, df\n"
   ]
  },
  {
   "cell_type": "code",
   "execution_count": 34,
   "metadata": {},
   "outputs": [],
   "source": [
    "# create function to make histplot of the dataframe clomuns mean\n",
    "def getHist(df, title):\n",
    "    plt.figure(figsize=(10, 5))\n",
    "    sns.histplot(data=df, x='Mean', kde=True, bins=50)\n",
    "    plt.title(f'{title} Facilities')\n",
    "    plt.show()"
   ]
  },
  {
   "attachments": {},
   "cell_type": "markdown",
   "metadata": {},
   "source": [
    "### Hotel, Room, and Point of Interest Features"
   ]
  },
  {
   "cell_type": "markdown",
   "metadata": {},
   "source": [
    "#### Hotel Features"
   ]
  },
  {
   "cell_type": "code",
   "execution_count": 35,
   "metadata": {},
   "outputs": [],
   "source": [
    "dfMeanHotel = getMean(dfHotel)\n",
    "dfMeanRooom = getMean(dfRoom)\n",
    "dfMeanPoint = getMean(dfPoint)"
   ]
  },
  {
   "cell_type": "code",
   "execution_count": 36,
   "metadata": {},
   "outputs": [
    {
     "data": {
      "text/html": [
       "<div>\n",
       "<style scoped>\n",
       "    .dataframe tbody tr th:only-of-type {\n",
       "        vertical-align: middle;\n",
       "    }\n",
       "\n",
       "    .dataframe tbody tr th {\n",
       "        vertical-align: top;\n",
       "    }\n",
       "\n",
       "    .dataframe thead th {\n",
       "        text-align: right;\n",
       "    }\n",
       "</style>\n",
       "<table border=\"1\" class=\"dataframe\">\n",
       "  <thead>\n",
       "    <tr style=\"text-align: right;\">\n",
       "      <th></th>\n",
       "      <th>count</th>\n",
       "      <th>mean</th>\n",
       "      <th>std</th>\n",
       "      <th>min</th>\n",
       "      <th>25%</th>\n",
       "      <th>50%</th>\n",
       "      <th>75%</th>\n",
       "      <th>max</th>\n",
       "    </tr>\n",
       "  </thead>\n",
       "  <tbody>\n",
       "    <tr>\n",
       "      <th>Mean</th>\n",
       "      <td>240.0</td>\n",
       "      <td>0.173744</td>\n",
       "      <td>0.209587</td>\n",
       "      <td>0.000613</td>\n",
       "      <td>0.023953</td>\n",
       "      <td>0.085189</td>\n",
       "      <td>0.237692</td>\n",
       "      <td>0.866394</td>\n",
       "    </tr>\n",
       "  </tbody>\n",
       "</table>\n",
       "</div>"
      ],
      "text/plain": [
       "      count      mean       std       min       25%       50%       75%  \\\n",
       "Mean  240.0  0.173744  0.209587  0.000613  0.023953  0.085189  0.237692   \n",
       "\n",
       "           max  \n",
       "Mean  0.866394  "
      ]
     },
     "execution_count": 36,
     "metadata": {},
     "output_type": "execute_result"
    }
   ],
   "source": [
    "dfMeanHotel.describe().T"
   ]
  },
  {
   "cell_type": "code",
   "execution_count": 37,
   "metadata": {},
   "outputs": [
    {
     "data": {
      "text/plain": [
       "(4895, 241)"
      ]
     },
     "execution_count": 37,
     "metadata": {},
     "output_type": "execute_result"
    }
   ],
   "source": [
    "dfHotel.shape"
   ]
  },
  {
   "cell_type": "code",
   "execution_count": 38,
   "metadata": {},
   "outputs": [
    {
     "name": "stdout",
     "output_type": "stream",
     "text": [
      "Null value : False\n",
      "Final Number of Features: 216\n",
      "Number of Facilities Removed: 24\n",
      "Q1: 0.023953013278855975\n",
      "Q3: 0.23769152196118487\n",
      "IQR: 0.2137385086823289\n"
     ]
    },
    {
     "data": {
      "text/html": [
       "<div>\n",
       "<style scoped>\n",
       "    .dataframe tbody tr th:only-of-type {\n",
       "        vertical-align: middle;\n",
       "    }\n",
       "\n",
       "    .dataframe tbody tr th {\n",
       "        vertical-align: top;\n",
       "    }\n",
       "\n",
       "    .dataframe thead th {\n",
       "        text-align: right;\n",
       "    }\n",
       "</style>\n",
       "<table border=\"1\" class=\"dataframe\">\n",
       "  <thead>\n",
       "    <tr style=\"text-align: right;\">\n",
       "      <th></th>\n",
       "      <th>Facilities</th>\n",
       "      <th>Mean</th>\n",
       "    </tr>\n",
       "  </thead>\n",
       "  <tbody>\n",
       "    <tr>\n",
       "      <th>1</th>\n",
       "      <td>Hotel_ELEVATOR</td>\n",
       "      <td>0.191216</td>\n",
       "    </tr>\n",
       "    <tr>\n",
       "      <th>2</th>\n",
       "      <td>Hotel_HAS_24_HOUR_ROOM_SERVICE</td>\n",
       "      <td>0.194893</td>\n",
       "    </tr>\n",
       "    <tr>\n",
       "      <th>4</th>\n",
       "      <td>Hotel_RESTAURANT_FOR_BREAKFAST</td>\n",
       "      <td>0.385495</td>\n",
       "    </tr>\n",
       "    <tr>\n",
       "      <th>5</th>\n",
       "      <td>Hotel_RESTAURANT_FOR_DINNER</td>\n",
       "      <td>0.318284</td>\n",
       "    </tr>\n",
       "    <tr>\n",
       "      <th>6</th>\n",
       "      <td>Hotel_RESTAURANT_FOR_LUNCH</td>\n",
       "      <td>0.322983</td>\n",
       "    </tr>\n",
       "    <tr>\n",
       "      <th>...</th>\n",
       "      <td>...</td>\n",
       "      <td>...</td>\n",
       "    </tr>\n",
       "    <tr>\n",
       "      <th>235</th>\n",
       "      <td>Hotel_PRIVATE_BEACH_NEARBY</td>\n",
       "      <td>0.022268</td>\n",
       "    </tr>\n",
       "    <tr>\n",
       "      <th>236</th>\n",
       "      <td>Hotel_BEACH_SUN_LOUNGERS</td>\n",
       "      <td>0.050051</td>\n",
       "    </tr>\n",
       "    <tr>\n",
       "      <th>237</th>\n",
       "      <td>Hotel_DARTS</td>\n",
       "      <td>0.010419</td>\n",
       "    </tr>\n",
       "    <tr>\n",
       "      <th>238</th>\n",
       "      <td>Hotel_ENTERTAINMENT_PROGRAMME_FOR_CHILDREN</td>\n",
       "      <td>0.011849</td>\n",
       "    </tr>\n",
       "    <tr>\n",
       "      <th>239</th>\n",
       "      <td>Hotel_KARAOKE</td>\n",
       "      <td>0.005720</td>\n",
       "    </tr>\n",
       "  </tbody>\n",
       "</table>\n",
       "<p>216 rows × 2 columns</p>\n",
       "</div>"
      ],
      "text/plain": [
       "                                     Facilities      Mean\n",
       "1                                Hotel_ELEVATOR  0.191216\n",
       "2                Hotel_HAS_24_HOUR_ROOM_SERVICE  0.194893\n",
       "4                Hotel_RESTAURANT_FOR_BREAKFAST  0.385495\n",
       "5                   Hotel_RESTAURANT_FOR_DINNER  0.318284\n",
       "6                    Hotel_RESTAURANT_FOR_LUNCH  0.322983\n",
       "..                                          ...       ...\n",
       "235                  Hotel_PRIVATE_BEACH_NEARBY  0.022268\n",
       "236                    Hotel_BEACH_SUN_LOUNGERS  0.050051\n",
       "237                                 Hotel_DARTS  0.010419\n",
       "238  Hotel_ENTERTAINMENT_PROGRAMME_FOR_CHILDREN  0.011849\n",
       "239                               Hotel_KARAOKE  0.005720\n",
       "\n",
       "[216 rows x 2 columns]"
      ]
     },
     "execution_count": 38,
     "metadata": {},
     "output_type": "execute_result"
    }
   ],
   "source": [
    "dfMeanHotel, dfHotel = featureSelection(dfHotel)\n",
    "dfMeanHotel\n"
   ]
  },
  {
   "cell_type": "code",
   "execution_count": 39,
   "metadata": {},
   "outputs": [
    {
     "data": {
      "text/plain": [
       "(4895, 217)"
      ]
     },
     "execution_count": 39,
     "metadata": {},
     "output_type": "execute_result"
    }
   ],
   "source": [
    "dfHotel.shape"
   ]
  },
  {
   "cell_type": "code",
   "execution_count": 40,
   "metadata": {},
   "outputs": [
    {
     "data": {
      "image/png": "[encoded data removed]",
      "text/plain": [
       "<Figure size 1000x500 with 1 Axes>"
      ]
     },
     "metadata": {},
     "output_type": "display_data"
    }
   ],
   "source": [
    "getHist(dfMeanHotel, 'Hotel')"
   ]
  },
  {
   "cell_type": "markdown",
   "metadata": {},
   "source": [
    "#### Room Features"
   ]
  },
  {
   "cell_type": "code",
   "execution_count": 41,
   "metadata": {},
   "outputs": [
    {
     "data": {
      "text/html": [
       "<div>\n",
       "<style scoped>\n",
       "    .dataframe tbody tr th:only-of-type {\n",
       "        vertical-align: middle;\n",
       "    }\n",
       "\n",
       "    .dataframe tbody tr th {\n",
       "        vertical-align: top;\n",
       "    }\n",
       "\n",
       "    .dataframe thead th {\n",
       "        text-align: right;\n",
       "    }\n",
       "</style>\n",
       "<table border=\"1\" class=\"dataframe\">\n",
       "  <thead>\n",
       "    <tr style=\"text-align: right;\">\n",
       "      <th></th>\n",
       "      <th>count</th>\n",
       "      <th>mean</th>\n",
       "      <th>std</th>\n",
       "      <th>min</th>\n",
       "      <th>25%</th>\n",
       "      <th>50%</th>\n",
       "      <th>75%</th>\n",
       "      <th>max</th>\n",
       "    </tr>\n",
       "  </thead>\n",
       "  <tbody>\n",
       "    <tr>\n",
       "      <th>Mean</th>\n",
       "      <td>110.0</td>\n",
       "      <td>0.134488</td>\n",
       "      <td>0.218502</td>\n",
       "      <td>0.000211</td>\n",
       "      <td>0.00575</td>\n",
       "      <td>0.03524</td>\n",
       "      <td>0.121281</td>\n",
       "      <td>0.944081</td>\n",
       "    </tr>\n",
       "  </tbody>\n",
       "</table>\n",
       "</div>"
      ],
      "text/plain": [
       "      count      mean       std       min      25%      50%       75%  \\\n",
       "Mean  110.0  0.134488  0.218502  0.000211  0.00575  0.03524  0.121281   \n",
       "\n",
       "           max  \n",
       "Mean  0.944081  "
      ]
     },
     "execution_count": 41,
     "metadata": {},
     "output_type": "execute_result"
    }
   ],
   "source": [
    "dfMeanRooom.describe().T"
   ]
  },
  {
   "cell_type": "code",
   "execution_count": 42,
   "metadata": {},
   "outputs": [
    {
     "name": "stdout",
     "output_type": "stream",
     "text": [
      "Null value : False\n",
      "Final Number of Features: 93\n",
      "Number of Facilities Removed: 17\n",
      "Q1: 0.005750158261236548\n",
      "Q3: 0.12128086094112682\n",
      "IQR: 0.11553070267989027\n"
     ]
    },
    {
     "data": {
      "text/html": [
       "<div>\n",
       "<style scoped>\n",
       "    .dataframe tbody tr th:only-of-type {\n",
       "        vertical-align: middle;\n",
       "    }\n",
       "\n",
       "    .dataframe tbody tr th {\n",
       "        vertical-align: top;\n",
       "    }\n",
       "\n",
       "    .dataframe thead th {\n",
       "        text-align: right;\n",
       "    }\n",
       "</style>\n",
       "<table border=\"1\" class=\"dataframe\">\n",
       "  <thead>\n",
       "    <tr style=\"text-align: right;\">\n",
       "      <th></th>\n",
       "      <th>Facilities</th>\n",
       "      <th>Mean</th>\n",
       "    </tr>\n",
       "  </thead>\n",
       "  <tbody>\n",
       "    <tr>\n",
       "      <th>2</th>\n",
       "      <td>Room_BATHROBES</td>\n",
       "      <td>0.214391</td>\n",
       "    </tr>\n",
       "    <tr>\n",
       "      <th>3</th>\n",
       "      <td>Room_BATHTUB</td>\n",
       "      <td>0.224520</td>\n",
       "    </tr>\n",
       "    <tr>\n",
       "      <th>4</th>\n",
       "      <td>Room_BLACKOUT_DRAPES_CURTAINS</td>\n",
       "      <td>0.287824</td>\n",
       "    </tr>\n",
       "    <tr>\n",
       "      <th>8</th>\n",
       "      <td>Room_DVD_PLAYER</td>\n",
       "      <td>0.087993</td>\n",
       "    </tr>\n",
       "    <tr>\n",
       "      <th>9</th>\n",
       "      <td>Room_FREE_NEWSPAPER</td>\n",
       "      <td>0.017725</td>\n",
       "    </tr>\n",
       "    <tr>\n",
       "      <th>...</th>\n",
       "      <td>...</td>\n",
       "      <td>...</td>\n",
       "    </tr>\n",
       "    <tr>\n",
       "      <th>105</th>\n",
       "      <td>Room_IN_ROOM_SAFE_SURCHARGE</td>\n",
       "      <td>0.000422</td>\n",
       "    </tr>\n",
       "    <tr>\n",
       "      <th>106</th>\n",
       "      <td>Room_HOUSEKEEPING_ON_REQUEST</td>\n",
       "      <td>0.008652</td>\n",
       "    </tr>\n",
       "    <tr>\n",
       "      <th>107</th>\n",
       "      <td>Room_NO_HOUSEKEEPING</td>\n",
       "      <td>0.002743</td>\n",
       "    </tr>\n",
       "    <tr>\n",
       "      <th>108</th>\n",
       "      <td>Room_CHANGING_TABLE</td>\n",
       "      <td>0.000422</td>\n",
       "    </tr>\n",
       "    <tr>\n",
       "      <th>109</th>\n",
       "      <td>Room_MICROWAVE_SURCHARGE</td>\n",
       "      <td>0.000211</td>\n",
       "    </tr>\n",
       "  </tbody>\n",
       "</table>\n",
       "<p>93 rows × 2 columns</p>\n",
       "</div>"
      ],
      "text/plain": [
       "                        Facilities      Mean\n",
       "2                   Room_BATHROBES  0.214391\n",
       "3                     Room_BATHTUB  0.224520\n",
       "4    Room_BLACKOUT_DRAPES_CURTAINS  0.287824\n",
       "8                  Room_DVD_PLAYER  0.087993\n",
       "9              Room_FREE_NEWSPAPER  0.017725\n",
       "..                             ...       ...\n",
       "105    Room_IN_ROOM_SAFE_SURCHARGE  0.000422\n",
       "106   Room_HOUSEKEEPING_ON_REQUEST  0.008652\n",
       "107           Room_NO_HOUSEKEEPING  0.002743\n",
       "108            Room_CHANGING_TABLE  0.000422\n",
       "109       Room_MICROWAVE_SURCHARGE  0.000211\n",
       "\n",
       "[93 rows x 2 columns]"
      ]
     },
     "execution_count": 42,
     "metadata": {},
     "output_type": "execute_result"
    }
   ],
   "source": [
    "dfMeanRooom, dfRoom = featureSelection(dfRoom)\n",
    "dfMeanRooom\n"
   ]
  },
  {
   "cell_type": "code",
   "execution_count": 43,
   "metadata": {},
   "outputs": [
    {
     "data": {
      "image/png": "[encoded data removed]",
      "text/plain": [
       "<Figure size 1000x500 with 1 Axes>"
      ]
     },
     "metadata": {},
     "output_type": "display_data"
    }
   ],
   "source": [
    "getHist(dfMeanRooom, 'Room')"
   ]
  },
  {
   "attachments": {},
   "cell_type": "markdown",
   "metadata": {},
   "source": [
    "#### Point of Interest Features"
   ]
  },
  {
   "cell_type": "code",
   "execution_count": 44,
   "metadata": {},
   "outputs": [
    {
     "data": {
      "text/html": [
       "<div>\n",
       "<style scoped>\n",
       "    .dataframe tbody tr th:only-of-type {\n",
       "        vertical-align: middle;\n",
       "    }\n",
       "\n",
       "    .dataframe tbody tr th {\n",
       "        vertical-align: top;\n",
       "    }\n",
       "\n",
       "    .dataframe thead th {\n",
       "        text-align: right;\n",
       "    }\n",
       "</style>\n",
       "<table border=\"1\" class=\"dataframe\">\n",
       "  <thead>\n",
       "    <tr style=\"text-align: right;\">\n",
       "      <th></th>\n",
       "      <th>count</th>\n",
       "      <th>mean</th>\n",
       "      <th>std</th>\n",
       "      <th>min</th>\n",
       "      <th>25%</th>\n",
       "      <th>50%</th>\n",
       "      <th>75%</th>\n",
       "      <th>max</th>\n",
       "    </tr>\n",
       "  </thead>\n",
       "  <tbody>\n",
       "    <tr>\n",
       "      <th>Mean</th>\n",
       "      <td>19.0</td>\n",
       "      <td>0.195143</td>\n",
       "      <td>0.242842</td>\n",
       "      <td>0.000203</td>\n",
       "      <td>0.004254</td>\n",
       "      <td>0.026534</td>\n",
       "      <td>0.337553</td>\n",
       "      <td>0.690298</td>\n",
       "    </tr>\n",
       "  </tbody>\n",
       "</table>\n",
       "</div>"
      ],
      "text/plain": [
       "      count      mean       std       min       25%       50%       75%  \\\n",
       "Mean   19.0  0.195143  0.242842  0.000203  0.004254  0.026534  0.337553   \n",
       "\n",
       "           max  \n",
       "Mean  0.690298  "
      ]
     },
     "execution_count": 44,
     "metadata": {},
     "output_type": "execute_result"
    }
   ],
   "source": [
    "dfMeanPoint.describe().T"
   ]
  },
  {
   "cell_type": "code",
   "execution_count": 45,
   "metadata": {},
   "outputs": [
    {
     "name": "stdout",
     "output_type": "stream",
     "text": [
      "Null value : False\n",
      "Final Number of Features: 19\n",
      "Number of Facilities Removed: 0\n",
      "Q1: 0.0042535953007899535\n",
      "Q3: 0.33755316994125983\n",
      "IQR: 0.3332995746404699\n"
     ]
    },
    {
     "data": {
      "text/html": [
       "<div>\n",
       "<style scoped>\n",
       "    .dataframe tbody tr th:only-of-type {\n",
       "        vertical-align: middle;\n",
       "    }\n",
       "\n",
       "    .dataframe tbody tr th {\n",
       "        vertical-align: top;\n",
       "    }\n",
       "\n",
       "    .dataframe thead th {\n",
       "        text-align: right;\n",
       "    }\n",
       "</style>\n",
       "<table border=\"1\" class=\"dataframe\">\n",
       "  <thead>\n",
       "    <tr style=\"text-align: right;\">\n",
       "      <th></th>\n",
       "      <th>Facilities</th>\n",
       "      <th>Mean</th>\n",
       "    </tr>\n",
       "  </thead>\n",
       "  <tbody>\n",
       "    <tr>\n",
       "      <th>0</th>\n",
       "      <td>Point_SHOPPING_AREA</td>\n",
       "      <td>0.645534</td>\n",
       "    </tr>\n",
       "    <tr>\n",
       "      <th>1</th>\n",
       "      <td>Point_OFFICIAL_BUILDING</td>\n",
       "      <td>0.295929</td>\n",
       "    </tr>\n",
       "    <tr>\n",
       "      <th>2</th>\n",
       "      <td>Point_RESTAURANT</td>\n",
       "      <td>0.690298</td>\n",
       "    </tr>\n",
       "    <tr>\n",
       "      <th>3</th>\n",
       "      <td>Point_ATTRACTION</td>\n",
       "      <td>0.579907</td>\n",
       "    </tr>\n",
       "    <tr>\n",
       "      <th>4</th>\n",
       "      <td>Point_BEACH</td>\n",
       "      <td>0.326717</td>\n",
       "    </tr>\n",
       "    <tr>\n",
       "      <th>5</th>\n",
       "      <td>Point_MONUMENT</td>\n",
       "      <td>0.362771</td>\n",
       "    </tr>\n",
       "    <tr>\n",
       "      <th>6</th>\n",
       "      <td>Point_TERMINAL</td>\n",
       "      <td>0.348390</td>\n",
       "    </tr>\n",
       "    <tr>\n",
       "      <th>7</th>\n",
       "      <td>Point_PARK</td>\n",
       "      <td>0.324286</td>\n",
       "    </tr>\n",
       "    <tr>\n",
       "      <th>8</th>\n",
       "      <td>Point_HOSPITAL</td>\n",
       "      <td>0.019242</td>\n",
       "    </tr>\n",
       "    <tr>\n",
       "      <th>9</th>\n",
       "      <td>Point_MUSEUM</td>\n",
       "      <td>0.021876</td>\n",
       "    </tr>\n",
       "    <tr>\n",
       "      <th>10</th>\n",
       "      <td>Point_GALLERY</td>\n",
       "      <td>0.032813</td>\n",
       "    </tr>\n",
       "    <tr>\n",
       "      <th>11</th>\n",
       "      <td>Point_PLACE_OF_WORSHIP</td>\n",
       "      <td>0.019445</td>\n",
       "    </tr>\n",
       "    <tr>\n",
       "      <th>12</th>\n",
       "      <td>Point_TRAIN_STATION</td>\n",
       "      <td>0.026534</td>\n",
       "    </tr>\n",
       "    <tr>\n",
       "      <th>13</th>\n",
       "      <td>Point_ZOO</td>\n",
       "      <td>0.004659</td>\n",
       "    </tr>\n",
       "    <tr>\n",
       "      <th>14</th>\n",
       "      <td>Point_ENTERTAINMENT</td>\n",
       "      <td>0.001823</td>\n",
       "    </tr>\n",
       "    <tr>\n",
       "      <th>15</th>\n",
       "      <td>Point_GARDEN</td>\n",
       "      <td>0.003241</td>\n",
       "    </tr>\n",
       "    <tr>\n",
       "      <th>16</th>\n",
       "      <td>Point_THEATER</td>\n",
       "      <td>0.003848</td>\n",
       "    </tr>\n",
       "    <tr>\n",
       "      <th>17</th>\n",
       "      <td>Point_STORE</td>\n",
       "      <td>0.000203</td>\n",
       "    </tr>\n",
       "    <tr>\n",
       "      <th>18</th>\n",
       "      <td>Point_SCHOOL</td>\n",
       "      <td>0.000203</td>\n",
       "    </tr>\n",
       "  </tbody>\n",
       "</table>\n",
       "</div>"
      ],
      "text/plain": [
       "                 Facilities      Mean\n",
       "0       Point_SHOPPING_AREA  0.645534\n",
       "1   Point_OFFICIAL_BUILDING  0.295929\n",
       "2          Point_RESTAURANT  0.690298\n",
       "3          Point_ATTRACTION  0.579907\n",
       "4               Point_BEACH  0.326717\n",
       "5            Point_MONUMENT  0.362771\n",
       "6            Point_TERMINAL  0.348390\n",
       "7                Point_PARK  0.324286\n",
       "8            Point_HOSPITAL  0.019242\n",
       "9              Point_MUSEUM  0.021876\n",
       "10            Point_GALLERY  0.032813\n",
       "11   Point_PLACE_OF_WORSHIP  0.019445\n",
       "12      Point_TRAIN_STATION  0.026534\n",
       "13                Point_ZOO  0.004659\n",
       "14      Point_ENTERTAINMENT  0.001823\n",
       "15             Point_GARDEN  0.003241\n",
       "16            Point_THEATER  0.003848\n",
       "17              Point_STORE  0.000203\n",
       "18             Point_SCHOOL  0.000203"
      ]
     },
     "execution_count": 45,
     "metadata": {},
     "output_type": "execute_result"
    }
   ],
   "source": [
    "dfMeanPoint, dfPoint = featureSelection(dfPoint)\n",
    "dfMeanPoint\n"
   ]
  },
  {
   "cell_type": "code",
   "execution_count": 46,
   "metadata": {},
   "outputs": [
    {
     "data": {
      "image/png": "[encoded data removed]",
      "text/plain": [
       "<Figure size 1000x500 with 1 Axes>"
      ]
     },
     "metadata": {},
     "output_type": "display_data"
    }
   ],
   "source": [
    "getHist(dfMeanPoint, 'Point')"
   ]
  },
  {
   "cell_type": "code",
   "execution_count": 47,
   "metadata": {},
   "outputs": [],
   "source": [
    "hotelFacilities = dfHotel.drop(dfHotel.columns[0], axis=1)\n",
    "roomFacilities = dfRoom.drop(dfRoom.columns[0], axis=1)\n",
    "nearestPointOfInterests = dfPoint.drop(dfPoint.columns[0], axis=1)\n",
    "\n",
    "hotelFacilities = hotelFacilities.columns\n",
    "roomFacilities = roomFacilities.columns\n",
    "nearestPointOfInterests = nearestPointOfInterests.columns"
   ]
  },
  {
   "cell_type": "code",
   "execution_count": 48,
   "metadata": {},
   "outputs": [],
   "source": [
    "# export hotelFacilities, roomFacilities, nearestPointOfInterests list to another notebook\n",
    "with open('../Notebook/Variable/hotelFacilities.pkl', 'wb') as f:\n",
    "    pickle.dump(hotelFacilities, f)\n",
    "with open('../Notebook/Variable/roomFacilities.pkl', 'wb') as f:\n",
    "    pickle.dump(roomFacilities, f)\n",
    "with open('../Notebook/Variable/nearestPointOfInterests.pkl', 'wb') as f:\n",
    "    pickle.dump(nearestPointOfInterests, f)"
   ]
  },
  {
   "attachments": {},
   "cell_type": "markdown",
   "metadata": {},
   "source": [
    "## Combine Dataframe"
   ]
  },
  {
   "cell_type": "code",
   "execution_count": 49,
   "metadata": {},
   "outputs": [
    {
     "name": "stderr",
     "output_type": "stream",
     "text": [
      "C:\\Users\\goobe\\AppData\\Local\\Temp\\ipykernel_7312\\287735084.py:5: SettingWithCopyWarning: \n",
      "A value is trying to be set on a copy of a slice from a DataFrame\n",
      "\n",
      "See the caveats in the documentation: https://pandas.pydata.org/pandas-docs/stable/user_guide/indexing.html#returning-a-view-versus-a-copy\n",
      "  dfRoomEx.drop('originalRate', axis=1, inplace=True)\n"
     ]
    }
   ],
   "source": [
    "dfRoom.drop('Room_originalRate', axis=1, inplace=True)\n",
    "dfHotel.drop('Hotel_originalRate', axis=1, inplace=True)\n",
    "dfPoint.drop('Point_originalRate', axis=1, inplace=True)\n",
    "dfHotelEx.drop('originalRate', axis=1, inplace=True)\n",
    "dfRoomEx.drop('originalRate', axis=1, inplace=True)\n",
    "df = df[['originalRate']]\n"
   ]
  },
  {
   "cell_type": "code",
   "execution_count": 50,
   "metadata": {},
   "outputs": [],
   "source": [
    "# sort the columns\n",
    "# dfRoom = dfRoom.reindex(sorted(dfRoom.columns), axis=1)\n",
    "# dfHotel = dfHotel.reindex(sorted(dfHotel.columns), axis=1)\n",
    "# dfPoint = dfPoint.reindex(sorted(dfPoint.columns), axis=1)"
   ]
  },
  {
   "cell_type": "code",
   "execution_count": 51,
   "metadata": {},
   "outputs": [],
   "source": [
    "combine = [df,  dfRoomEx, dfHotelEx, dfRoom, dfHotel, dfPoint]\n",
    "df = pd.concat(combine, axis=1)\n",
    "df.dropna(inplace=True)\n",
    "df.reset_index(drop=True, inplace=True)"
   ]
  },
  {
   "cell_type": "code",
   "execution_count": 52,
   "metadata": {},
   "outputs": [],
   "source": [
    "# Check if there is any duplicate column\n",
    "for i in range(0, len(df.columns)):\n",
    "    for j in range(i+1, len(df.columns)):\n",
    "        if df.columns[i] == df.columns[j]:\n",
    "            print(df.columns[i])\n"
   ]
  },
  {
   "cell_type": "code",
   "execution_count": 53,
   "metadata": {},
   "outputs": [
    {
     "name": "stdout",
     "output_type": "stream",
     "text": [
      "<class 'pandas.core.frame.DataFrame'>\n",
      "RangeIndex: 4678 entries, 0 to 4677\n",
      "Columns: 359 entries, originalRate to Point_SCHOOL\n",
      "dtypes: float64(329), int64(9), uint8(21)\n",
      "memory usage: 12.2 MB\n"
     ]
    }
   ],
   "source": [
    "df.info()"
   ]
  },
  {
   "attachments": {},
   "cell_type": "markdown",
   "metadata": {},
   "source": [
    "## Export Data"
   ]
  },
  {
   "cell_type": "code",
   "execution_count": 54,
   "metadata": {},
   "outputs": [],
   "source": [
    "df.to_csv('../Dataset/encoded_data.csv', index=False)"
   ]
  },
  {
   "cell_type": "code",
   "execution_count": 55,
   "metadata": {},
   "outputs": [],
   "source": [
    "col = df.columns\n",
    "# export col to another notebook\n",
    "with open('../Notebook/Variable/col.pkl', 'wb') as f:\n",
    "    pickle.dump(col, f)"
   ]
  },
  {
   "attachments": {},
   "cell_type": "markdown",
   "metadata": {},
   "source": [
    "# Data Analysis"
   ]
  },
  {
   "cell_type": "code",
   "execution_count": 56,
   "metadata": {},
   "outputs": [],
   "source": [
    "# create visualization into 1 chart\n",
    "def createVisualization(df, colName, color):\n",
    "    # create new dataframe with input prefix column name\n",
    "    dfNew = pd.DataFrame()\n",
    "    for i in range(1, len(df.columns)):\n",
    "        if df.columns[i].startswith(f'{colName}'):\n",
    "            dfNew[df.columns[i]] = df[df.columns[i]]\n",
    "    # make table with only the column name and sum of value\n",
    "    dfNew = dfNew.sum().to_frame()\n",
    "    dfNew.reset_index(inplace=True)\n",
    "    dfNew.columns = ['column', 'value']\n",
    "    # change value data type to int\n",
    "    dfNew['value'] = dfNew['value'].astype(int)\n",
    "    # sort value\n",
    "    dfNew = dfNew.sort_values(by='value', ascending=False)\n",
    "    print(dfNew.head(10))\n",
    "    # create barchart to visualize the data with sorted value and horizontal with tight gap and annotate the value on top of each bar\n",
    "    plt.figure(figsize=(8.5, 5))\n",
    "    sns.barplot(x='value', y='column', data=dfNew.head(\n",
    "        10), orient='h', color=color, errorbar=None, )\n",
    "    # plt.tight_layout()\n",
    "    # annotate the value on top of each bar using seaborn annotation\n",
    "    for i, v in enumerate(dfNew['value'].head(10)):\n",
    "        plt.text(v+10, i, str(v), color='black', fontweight=300, fontsize=8)\n",
    "    plt.show()\n"
   ]
  },
  {
   "cell_type": "code",
   "execution_count": 57,
   "metadata": {},
   "outputs": [
    {
     "name": "stdout",
     "output_type": "stream",
     "text": [
      "            column  value\n",
      "0      City_Badung   2000\n",
      "4     City_Gianyar    924\n",
      "7   City_Klungkung    469\n",
      "2    City_Buleleng    332\n",
      "6  City_Karangasem    260\n",
      "8       City_Sanur    237\n",
      "3    City_Denpasar    224\n",
      "9     City_Tabanan    122\n",
      "5    City_Jembrana     58\n",
      "1      City_Bangli     52\n"
     ]
    },
    {
     "data": {
      "image/png": "[encoded data removed]",
      "text/plain": [
       "<Figure size 850x500 with 1 Axes>"
      ]
     },
     "metadata": {},
     "output_type": "display_data"
    }
   ],
   "source": [
    "createVisualization(df, 'City', 'orange')"
   ]
  },
  {
   "cell_type": "code",
   "execution_count": 58,
   "metadata": {},
   "outputs": [
    {
     "name": "stdout",
     "output_type": "stream",
     "text": [
      "               column  value\n",
      "6          Type_Hotel   2251\n",
      "9          Type_Resor    639\n",
      "10          Type_Vila    628\n",
      "3    Type_Guest House    617\n",
      "4       Type_Homestay    248\n",
      "1            Type_B&B    103\n",
      "5         Type_Hostel    102\n",
      "0      Type_Apartemen     74\n",
      "2        Type_Camping     11\n",
      "7   Type_Hotel Kapsul      4\n"
     ]
    },
    {
     "data": {
      "image/png": "[encoded data removed]",
      "text/plain": [
       "<Figure size 850x500 with 1 Axes>"
      ]
     },
     "metadata": {},
     "output_type": "display_data"
    }
   ],
   "source": [
    "createVisualization(df, 'Type', 'mediumseagreen')"
   ]
  },
  {
   "cell_type": "code",
   "execution_count": 59,
   "metadata": {},
   "outputs": [
    {
     "name": "stdout",
     "output_type": "stream",
     "text": [
      "                     column  value\n",
      "2          Point_RESTAURANT   3244\n",
      "0       Point_SHOPPING_AREA   3003\n",
      "3          Point_ATTRACTION   2709\n",
      "5            Point_MONUMENT   1706\n",
      "6            Point_TERMINAL   1641\n",
      "7                Point_PARK   1534\n",
      "4               Point_BEACH   1525\n",
      "1   Point_OFFICIAL_BUILDING   1376\n",
      "10            Point_GALLERY    151\n",
      "12      Point_TRAIN_STATION    122\n"
     ]
    },
    {
     "data": {
      "image/png": "[encoded data removed]",
      "text/plain": [
       "<Figure size 850x500 with 1 Axes>"
      ]
     },
     "metadata": {},
     "output_type": "display_data"
    }
   ],
   "source": [
    "createVisualization(df, 'Point', 'hotpink')"
   ]
  }
 ],
 "metadata": {
  "kernelspec": {
   "display_name": "Python 3.10.6 64-bit",
   "language": "python",
   "name": "python3"
  },
  "language_info": {
   "codemirror_mode": {
    "name": "ipython",
    "version": 3
   },
   "file_extension": ".py",
   "mimetype": "text/x-python",
   "name": "python",
   "nbconvert_exporter": "python",
   "pygments_lexer": "ipython3",
   "version": "3.10.6"
  },
  "orig_nbformat": 4,
  "vscode": {
   "interpreter": {
    "hash": "c7c132e493bab3f05dc3eecde52b8af768e79f0c26a7d99c1a59f019ffce2dd8"
   }
  }
 },
 "nbformat": 4,
 "nbformat_minor": 2
}
