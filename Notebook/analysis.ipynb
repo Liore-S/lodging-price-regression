{
 "cells": [
  {
   "cell_type": "markdown",
   "metadata": {},
   "source": [
    "## Input Data"
   ]
  },
  {
   "cell_type": "code",
   "execution_count": 1,
   "metadata": {},
   "outputs": [],
   "source": [
    "import matplotlib.pyplot as plt\n",
    "import numpy as np\n",
    "import pandas as pd\n",
    "import seaborn as sns\n",
    "import statsmodels.api as sm\n",
    "import statsmodels.formula.api as smf"
   ]
  },
  {
   "cell_type": "code",
   "execution_count": 2,
   "metadata": {},
   "outputs": [
    {
     "data": {
      "text/html": [
       "<div>\n",
       "<style scoped>\n",
       "    .dataframe tbody tr th:only-of-type {\n",
       "        vertical-align: middle;\n",
       "    }\n",
       "\n",
       "    .dataframe tbody tr th {\n",
       "        vertical-align: top;\n",
       "    }\n",
       "\n",
       "    .dataframe thead th {\n",
       "        text-align: right;\n",
       "    }\n",
       "</style>\n",
       "<table border=\"1\" class=\"dataframe\">\n",
       "  <thead>\n",
       "    <tr style=\"text-align: right;\">\n",
       "      <th></th>\n",
       "      <th>originalRate</th>\n",
       "      <th>size</th>\n",
       "      <th>starRating</th>\n",
       "      <th>AIR_CONDITIONING</th>\n",
       "      <th>BALCONY_TERRACE</th>\n",
       "      <th>BATHROBES</th>\n",
       "      <th>BATHTUB</th>\n",
       "      <th>BLACKOUT_DRAPES_CURTAINS</th>\n",
       "      <th>COFFEE_TEA_MAKER</th>\n",
       "      <th>COMPLIMENTARY_BOTTLED_WATER</th>\n",
       "      <th>...</th>\n",
       "      <th>PARK</th>\n",
       "      <th>HOSPITAL</th>\n",
       "      <th>MUSEUM</th>\n",
       "      <th>GALLERY</th>\n",
       "      <th>PLACE_OF_WORSHIP</th>\n",
       "      <th>TRAIN_STATION</th>\n",
       "      <th>ZOO</th>\n",
       "      <th>ENTERTAINMENT</th>\n",
       "      <th>GARDEN.1</th>\n",
       "      <th>THEATER</th>\n",
       "    </tr>\n",
       "  </thead>\n",
       "  <tbody>\n",
       "    <tr>\n",
       "      <th>0</th>\n",
       "      <td>1227273</td>\n",
       "      <td>46.0</td>\n",
       "      <td>4.0</td>\n",
       "      <td>1.0</td>\n",
       "      <td>1.0</td>\n",
       "      <td>1.0</td>\n",
       "      <td>1.0</td>\n",
       "      <td>1.0</td>\n",
       "      <td>1.0</td>\n",
       "      <td>1.0</td>\n",
       "      <td>...</td>\n",
       "      <td>0.0</td>\n",
       "      <td>0.0</td>\n",
       "      <td>0.0</td>\n",
       "      <td>0.0</td>\n",
       "      <td>0.0</td>\n",
       "      <td>0.0</td>\n",
       "      <td>0.0</td>\n",
       "      <td>0.0</td>\n",
       "      <td>0.0</td>\n",
       "      <td>0.0</td>\n",
       "    </tr>\n",
       "    <tr>\n",
       "      <th>1</th>\n",
       "      <td>596694</td>\n",
       "      <td>31.0</td>\n",
       "      <td>4.0</td>\n",
       "      <td>1.0</td>\n",
       "      <td>0.0</td>\n",
       "      <td>1.0</td>\n",
       "      <td>1.0</td>\n",
       "      <td>1.0</td>\n",
       "      <td>1.0</td>\n",
       "      <td>1.0</td>\n",
       "      <td>...</td>\n",
       "      <td>0.0</td>\n",
       "      <td>0.0</td>\n",
       "      <td>0.0</td>\n",
       "      <td>0.0</td>\n",
       "      <td>0.0</td>\n",
       "      <td>0.0</td>\n",
       "      <td>0.0</td>\n",
       "      <td>0.0</td>\n",
       "      <td>0.0</td>\n",
       "      <td>0.0</td>\n",
       "    </tr>\n",
       "    <tr>\n",
       "      <th>2</th>\n",
       "      <td>1450413</td>\n",
       "      <td>52.0</td>\n",
       "      <td>4.0</td>\n",
       "      <td>1.0</td>\n",
       "      <td>1.0</td>\n",
       "      <td>1.0</td>\n",
       "      <td>1.0</td>\n",
       "      <td>1.0</td>\n",
       "      <td>1.0</td>\n",
       "      <td>1.0</td>\n",
       "      <td>...</td>\n",
       "      <td>0.0</td>\n",
       "      <td>0.0</td>\n",
       "      <td>0.0</td>\n",
       "      <td>0.0</td>\n",
       "      <td>0.0</td>\n",
       "      <td>0.0</td>\n",
       "      <td>0.0</td>\n",
       "      <td>0.0</td>\n",
       "      <td>0.0</td>\n",
       "      <td>0.0</td>\n",
       "    </tr>\n",
       "  </tbody>\n",
       "</table>\n",
       "<p>3 rows × 294 columns</p>\n",
       "</div>"
      ],
      "text/plain": [
       "   originalRate  size  starRating  AIR_CONDITIONING  BALCONY_TERRACE  \\\n",
       "0       1227273  46.0         4.0               1.0              1.0   \n",
       "1        596694  31.0         4.0               1.0              0.0   \n",
       "2       1450413  52.0         4.0               1.0              1.0   \n",
       "\n",
       "   BATHROBES  BATHTUB  BLACKOUT_DRAPES_CURTAINS  COFFEE_TEA_MAKER  \\\n",
       "0        1.0      1.0                       1.0               1.0   \n",
       "1        1.0      1.0                       1.0               1.0   \n",
       "2        1.0      1.0                       1.0               1.0   \n",
       "\n",
       "   COMPLIMENTARY_BOTTLED_WATER  ...  PARK  HOSPITAL  MUSEUM  GALLERY  \\\n",
       "0                          1.0  ...   0.0       0.0     0.0      0.0   \n",
       "1                          1.0  ...   0.0       0.0     0.0      0.0   \n",
       "2                          1.0  ...   0.0       0.0     0.0      0.0   \n",
       "\n",
       "   PLACE_OF_WORSHIP  TRAIN_STATION  ZOO  ENTERTAINMENT  GARDEN.1  THEATER  \n",
       "0               0.0            0.0  0.0            0.0       0.0      0.0  \n",
       "1               0.0            0.0  0.0            0.0       0.0      0.0  \n",
       "2               0.0            0.0  0.0            0.0       0.0      0.0  \n",
       "\n",
       "[3 rows x 294 columns]"
      ]
     },
     "execution_count": 2,
     "metadata": {},
     "output_type": "execute_result"
    }
   ],
   "source": [
    "df = pd.read_csv('../Dataset//full_feature.csv')\n",
    "df.head(3)"
   ]
  },
  {
   "cell_type": "markdown",
   "metadata": {},
   "source": [
    "### Data Distribution"
   ]
  },
  {
   "cell_type": "code",
   "execution_count": 3,
   "metadata": {},
   "outputs": [
    {
     "data": {
      "text/plain": [
       "<Figure size 2400x800 with 0 Axes>"
      ]
     },
     "metadata": {},
     "output_type": "display_data"
    },
    {
     "data": {
      "image/png": "[encoded data removed]",
      "text/plain": [
       "<Figure size 500x500 with 1 Axes>"
      ]
     },
     "metadata": {},
     "output_type": "display_data"
    }
   ],
   "source": [
    "# OriginalRate Distribution\n",
    "plt.figure(figsize=(30, 10), dpi=80)\n",
    "sns.displot(df,x=\"originalRate\", kind=\"kde\", fill=True)\n",
    "plt.show()"
   ]
  },
  {
   "cell_type": "code",
   "execution_count": 11,
   "metadata": {},
   "outputs": [
    {
     "name": "stdout",
     "output_type": "stream",
     "text": [
      "Original rate maximum value : 60000000\n",
      "Original rate miimum value : 40313\n"
     ]
    }
   ],
   "source": [
    "# MaxMin OriginalRate\n",
    "print(f'Original rate maximum value : {df.originalRate.max()}')\n",
    "print(f'Original rate miimum value : {df.originalRate.min()}')"
   ]
  },
  {
   "cell_type": "code",
   "execution_count": 28,
   "metadata": {},
   "outputs": [
    {
     "data": {
      "text/plain": [
       "<Figure size 8000x4800 with 0 Axes>"
      ]
     },
     "metadata": {},
     "output_type": "display_data"
    },
    {
     "data": {
      "image/png": "[encoded data removed]",
      "text/plain": [
       "<Figure size 583.111x500 with 1 Axes>"
      ]
     },
     "metadata": {},
     "output_type": "display_data"
    }
   ],
   "source": [
    "plt.figure(figsize=(50, 30), dpi=160)\n",
    "sns.displot(df,x=\"originalRate\", hue='starRating' , element=\"step\", fill=True)\n",
    "plt.show()"
   ]
  },
  {
   "cell_type": "code",
   "execution_count": 33,
   "metadata": {},
   "outputs": [
    {
     "ename": "AttributeError",
     "evalue": "module 'seaborn' has no attribute 'plot_errorbars'",
     "output_type": "error",
     "traceback": [
      "\u001b[1;31m---------------------------------------------------------------------------\u001b[0m",
      "\u001b[1;31mAttributeError\u001b[0m                            Traceback (most recent call last)",
      "\u001b[1;32mc:\\Users\\goobe\\OneDrive\\Documents\\Skripsi\\Program\\Notebook\\analysis.ipynb Cell 8\u001b[0m in \u001b[0;36m<cell line: 7>\u001b[1;34m()\u001b[0m\n\u001b[0;32m      <a href='vscode-notebook-cell:/c%3A/Users/goobe/OneDrive/Documents/Skripsi/Program/Notebook/analysis.ipynb#X12sZmlsZQ%3D%3D?line=4'>5</a>\u001b[0m     sns\u001b[39m.\u001b[39mpointplot(x\u001b[39m=\u001b[39mx, errorbar\u001b[39m=\u001b[39marg, \u001b[39m*\u001b[39m\u001b[39m*\u001b[39mkws, capsize\u001b[39m=\u001b[39m\u001b[39m.3\u001b[39m, ax\u001b[39m=\u001b[39maxs[\u001b[39m0\u001b[39m])\n\u001b[0;32m      <a href='vscode-notebook-cell:/c%3A/Users/goobe/OneDrive/Documents/Skripsi/Program/Notebook/analysis.ipynb#X12sZmlsZQ%3D%3D?line=5'>6</a>\u001b[0m     sns\u001b[39m.\u001b[39mstripplot(x\u001b[39m=\u001b[39mx, jitter\u001b[39m=\u001b[39m\u001b[39m.3\u001b[39m, ax\u001b[39m=\u001b[39maxs[\u001b[39m1\u001b[39m])\n\u001b[1;32m----> <a href='vscode-notebook-cell:/c%3A/Users/goobe/OneDrive/Documents/Skripsi/Program/Notebook/analysis.ipynb#X12sZmlsZQ%3D%3D?line=6'>7</a>\u001b[0m sns\u001b[39m.\u001b[39;49mplot_errorbars(\u001b[39m\"\u001b[39m\u001b[39msd\u001b[39m\u001b[39m\"\u001b[39m)\n",
      "\u001b[1;31mAttributeError\u001b[0m: module 'seaborn' has no attribute 'plot_errorbars'"
     ]
    }
   ],
   "source": [
    "def plot_errorbars(arg, **kws):\n",
    "    np.random.seed(sum(map(ord, \"error_bars\")))\n",
    "    x = df.originalRate\n",
    "    f, axs = plt.subplots(2, figsize=(7, 2), sharex=True, layout=\"tight\")\n",
    "    sns.pointplot(x=x, errorbar=arg, **kws, capsize=.3, ax=axs[0])\n",
    "    sns.stripplot(x=x, jitter=.3, ax=axs[1])\n",
    "sns.plot_errorbars(\"sd\")"
   ]
  },
  {
   "cell_type": "code",
   "execution_count": 22,
   "metadata": {},
   "outputs": [
    {
     "name": "stdout",
     "output_type": "stream",
     "text": [
      "Original rate under 10Million : 4983\n",
      "Original rate under 20Million : 118\n",
      "Original rate under 30Million : 22\n",
      "Original rate under 40Million : 7\n",
      "Original rate under 50Million : 3\n",
      "Original rate under 60Million : 4\n"
     ]
    }
   ],
   "source": [
    "under1 = 0\n",
    "under2 = 0\n",
    "under3 = 0\n",
    "under4 = 0\n",
    "under5 = 0\n",
    "under6 = 0\n",
    "for i in range (len(df)):\n",
    "    if df.originalRate[i] <= 1*10**7:\n",
    "        under1 += 1\n",
    "    elif df.originalRate[i] <= 2*10**7:\n",
    "        under2 += 1\n",
    "    elif df.originalRate[i] <= 3*10**7:\n",
    "        under3 += 1\n",
    "    elif df.originalRate[i] <= 4*10**7:\n",
    "        under4 += 1\n",
    "    elif df.originalRate[i] <= 5*10**7:\n",
    "        under5 += 1\n",
    "    elif df.originalRate[i] <= 6*10**7:\n",
    "        under6 += 1\n",
    "print(f'Original rate under 10Million : {under1}')\n",
    "print(f'Original rate under 20Million : {under2}')\n",
    "print(f'Original rate under 30Million : {under3}')\n",
    "print(f'Original rate under 40Million : {under4}')\n",
    "print(f'Original rate under 50Million : {under5}')\n",
    "print(f'Original rate under 60Million : {under6}')"
   ]
  },
  {
   "cell_type": "code",
   "execution_count": 21,
   "metadata": {},
   "outputs": [
    {
     "name": "stdout",
     "output_type": "stream",
     "text": [
      "Original rate under 1Million : 2284\n",
      "Original rate under 2Million : 1059\n",
      "Original rate under 3Million : 555\n",
      "Original rate under 4Million : 350\n",
      "Original rate under 5Million : 283\n",
      "Original rate under 6Million : 151\n",
      "Original rate under 7Million : 131\n",
      "Original rate under 8Million : 77\n",
      "Original rate under 9Million : 43\n",
      "Original rate under 10Million : 50\n",
      "4983\n"
     ]
    }
   ],
   "source": [
    "under1 = 0\n",
    "under2 = 0\n",
    "under3 = 0\n",
    "under4 = 0\n",
    "under5 = 0\n",
    "under6 = 0\n",
    "under7 = 0\n",
    "under8 = 0\n",
    "under9 = 0\n",
    "under10 = 0\n",
    "for i in range (len(df)):\n",
    "    if df.originalRate[i] <= 1*10**6:\n",
    "        under1 += 1\n",
    "    elif df.originalRate[i] < 2*10**6:\n",
    "        under2 += 1\n",
    "    elif df.originalRate[i] < 3*10**6:\n",
    "        under3 += 1\n",
    "    elif df.originalRate[i] < 4*10**6:\n",
    "        under4 += 1\n",
    "    elif df.originalRate[i] < 5*10**6:\n",
    "        under5 += 1\n",
    "    elif df.originalRate[i] < 6*10**6:\n",
    "        under6 += 1\n",
    "    elif df.originalRate[i] < 7*10**6:\n",
    "        under7 += 1\n",
    "    elif df.originalRate[i] < 8*10**6:\n",
    "        under8 += 1\n",
    "    elif df.originalRate[i] < 9*10**6:\n",
    "        under9 += 1\n",
    "    elif df.originalRate[i] <= 10*10**6:\n",
    "        under10 += 1\n",
    "\n",
    "print(f'Original rate under 1Million : {under1}')\n",
    "print(f'Original rate under 2Million : {under2}')\n",
    "print(f'Original rate under 3Million : {under3}')\n",
    "print(f'Original rate under 4Million : {under4}')\n",
    "print(f'Original rate under 5Million : {under5}')\n",
    "print(f'Original rate under 6Million : {under6}')\n",
    "print(f'Original rate under 7Million : {under7}')\n",
    "print(f'Original rate under 8Million : {under8}')\n",
    "print(f'Original rate under 9Million : {under9}')\n",
    "print(f'Original rate under 10Million : {under10}')\n",
    "print(under1+under2+under3+under4+under5+under6+under7+under8+under9+under10)"
   ]
  }
 ],
 "metadata": {
  "kernelspec": {
   "display_name": "Python 3.10.6 64-bit",
   "language": "python",
   "name": "python3"
  },
  "language_info": {
   "codemirror_mode": {
    "name": "ipython",
    "version": 3
   },
   "file_extension": ".py",
   "mimetype": "text/x-python",
   "name": "python",
   "nbconvert_exporter": "python",
   "pygments_lexer": "ipython3",
   "version": "3.10.6"
  },
  "orig_nbformat": 4,
  "vscode": {
   "interpreter": {
    "hash": "c7c132e493bab3f05dc3eecde52b8af768e79f0c26a7d99c1a59f019ffce2dd8"
   }
  }
 },
 "nbformat": 4,
 "nbformat_minor": 2
}
