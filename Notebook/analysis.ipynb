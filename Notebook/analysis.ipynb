{
 "cells": [
  {
   "cell_type": "code",
   "execution_count": 1,
   "metadata": {},
   "outputs": [],
   "source": [
    "import sqlite3\n",
    "import matplotlib.pyplot as plt\n",
    "import numpy as np\n",
    "import pandas as pd\n",
    "import seaborn as sns"
   ]
  },
  {
   "cell_type": "markdown",
   "metadata": {},
   "source": [
    "## Input Data"
   ]
  },
  {
   "cell_type": "code",
   "execution_count": 2,
   "metadata": {},
   "outputs": [],
   "source": [
    "con = sqlite3.connect('../Dataset/hotel-directories-ORI.sqlite3')\n",
    "df_room = pd.read_sql_query(\"SELECT * FROM hotel_rooms\", con)\n",
    "df_hotel = pd.read_sql_query(\"SELECT * FROM hotels\", con)"
   ]
  },
  {
   "cell_type": "code",
   "execution_count": 3,
   "metadata": {},
   "outputs": [],
   "source": [
    "df_room.to_csv('../Dataset/rooms.csv', index=False)\n",
    "df_hotel.to_csv('../Dataset/hotels.csv', index=False)"
   ]
  },
  {
   "cell_type": "code",
   "execution_count": 4,
   "metadata": {},
   "outputs": [
    {
     "data": {
      "text/html": [
       "<div>\n",
       "<style scoped>\n",
       "    .dataframe tbody tr th:only-of-type {\n",
       "        vertical-align: middle;\n",
       "    }\n",
       "\n",
       "    .dataframe tbody tr th {\n",
       "        vertical-align: top;\n",
       "    }\n",
       "\n",
       "    .dataframe thead th {\n",
       "        text-align: right;\n",
       "    }\n",
       "</style>\n",
       "<table border=\"1\" class=\"dataframe\">\n",
       "  <thead>\n",
       "    <tr style=\"text-align: right;\">\n",
       "      <th></th>\n",
       "      <th>id</th>\n",
       "      <th>hotelId</th>\n",
       "      <th>name</th>\n",
       "      <th>images</th>\n",
       "      <th>roomType</th>\n",
       "      <th>description</th>\n",
       "      <th>originalDescription</th>\n",
       "      <th>bedDescription</th>\n",
       "      <th>size</th>\n",
       "      <th>rate</th>\n",
       "      <th>...</th>\n",
       "      <th>numExtraBeds</th>\n",
       "      <th>numChargedRooms</th>\n",
       "      <th>numRemainingRooms</th>\n",
       "      <th>numBreakfastIncluded</th>\n",
       "      <th>isBreakfastIncluded</th>\n",
       "      <th>isWifiIncluded</th>\n",
       "      <th>isRefundable</th>\n",
       "      <th>hasLivingRoom</th>\n",
       "      <th>extraBedIsIncluded</th>\n",
       "      <th>facilities</th>\n",
       "    </tr>\n",
       "  </thead>\n",
       "  <tbody>\n",
       "    <tr>\n",
       "      <th>0</th>\n",
       "      <td>1000009181</td>\n",
       "      <td>3000020003208</td>\n",
       "      <td>Family</td>\n",
       "      <td>[\"https://ik.imagekit.io/tvlk/generic-asset/dg...</td>\n",
       "      <td>Family</td>\n",
       "      <td>None</td>\n",
       "      <td>None</td>\n",
       "      <td>None</td>\n",
       "      <td>30.0</td>\n",
       "      <td>{\"amount\":\"989182\",\"currency\":\"IDR\",\"tax\":\"207...</td>\n",
       "      <td>...</td>\n",
       "      <td>0</td>\n",
       "      <td>1</td>\n",
       "      <td>3</td>\n",
       "      <td>NaN</td>\n",
       "      <td>1</td>\n",
       "      <td>1</td>\n",
       "      <td>1</td>\n",
       "      <td>0</td>\n",
       "      <td>0</td>\n",
       "      <td>[\"AIR_CONDITIONING\",\"BATHROBES\",\"BLACKOUT_DRAP...</td>\n",
       "    </tr>\n",
       "    <tr>\n",
       "      <th>1</th>\n",
       "      <td>1000009219</td>\n",
       "      <td>3000020003208</td>\n",
       "      <td>President Suite</td>\n",
       "      <td>[\"https://ik.imagekit.io/tvlk/generic-asset/dg...</td>\n",
       "      <td>President Suite</td>\n",
       "      <td>None</td>\n",
       "      <td>None</td>\n",
       "      <td>None</td>\n",
       "      <td>75.0</td>\n",
       "      <td>{\"amount\":\"3272727\",\"currency\":\"IDR\",\"tax\":\"68...</td>\n",
       "      <td>...</td>\n",
       "      <td>0</td>\n",
       "      <td>1</td>\n",
       "      <td>1</td>\n",
       "      <td>NaN</td>\n",
       "      <td>1</td>\n",
       "      <td>1</td>\n",
       "      <td>1</td>\n",
       "      <td>0</td>\n",
       "      <td>0</td>\n",
       "      <td>[\"AIR_CONDITIONING\",\"BATHROBES\",\"BLACKOUT_DRAP...</td>\n",
       "    </tr>\n",
       "  </tbody>\n",
       "</table>\n",
       "<p>2 rows × 25 columns</p>\n",
       "</div>"
      ],
      "text/plain": [
       "           id        hotelId             name  \\\n",
       "0  1000009181  3000020003208           Family   \n",
       "1  1000009219  3000020003208  President Suite   \n",
       "\n",
       "                                              images         roomType  \\\n",
       "0  [\"https://ik.imagekit.io/tvlk/generic-asset/dg...           Family   \n",
       "1  [\"https://ik.imagekit.io/tvlk/generic-asset/dg...  President Suite   \n",
       "\n",
       "  description originalDescription bedDescription  size  \\\n",
       "0        None                None           None  30.0   \n",
       "1        None                None           None  75.0   \n",
       "\n",
       "                                                rate  ... numExtraBeds  \\\n",
       "0  {\"amount\":\"989182\",\"currency\":\"IDR\",\"tax\":\"207...  ...            0   \n",
       "1  {\"amount\":\"3272727\",\"currency\":\"IDR\",\"tax\":\"68...  ...            0   \n",
       "\n",
       "   numChargedRooms  numRemainingRooms  numBreakfastIncluded  \\\n",
       "0                1                  3                   NaN   \n",
       "1                1                  1                   NaN   \n",
       "\n",
       "   isBreakfastIncluded  isWifiIncluded  isRefundable  hasLivingRoom  \\\n",
       "0                    1               1             1              0   \n",
       "1                    1               1             1              0   \n",
       "\n",
       "   extraBedIsIncluded                                         facilities  \n",
       "0                   0  [\"AIR_CONDITIONING\",\"BATHROBES\",\"BLACKOUT_DRAP...  \n",
       "1                   0  [\"AIR_CONDITIONING\",\"BATHROBES\",\"BLACKOUT_DRAP...  \n",
       "\n",
       "[2 rows x 25 columns]"
      ]
     },
     "execution_count": 4,
     "metadata": {},
     "output_type": "execute_result"
    }
   ],
   "source": [
    "df_room.head(2)"
   ]
  },
  {
   "cell_type": "code",
   "execution_count": 5,
   "metadata": {},
   "outputs": [
    {
     "data": {
      "text/html": [
       "<div>\n",
       "<style scoped>\n",
       "    .dataframe tbody tr th:only-of-type {\n",
       "        vertical-align: middle;\n",
       "    }\n",
       "\n",
       "    .dataframe tbody tr th {\n",
       "        vertical-align: top;\n",
       "    }\n",
       "\n",
       "    .dataframe thead th {\n",
       "        text-align: right;\n",
       "    }\n",
       "</style>\n",
       "<table border=\"1\" class=\"dataframe\">\n",
       "  <thead>\n",
       "    <tr style=\"text-align: right;\">\n",
       "      <th></th>\n",
       "      <th>id</th>\n",
       "      <th>type</th>\n",
       "      <th>name</th>\n",
       "      <th>displayName</th>\n",
       "      <th>description</th>\n",
       "      <th>link</th>\n",
       "      <th>address</th>\n",
       "      <th>region</th>\n",
       "      <th>city</th>\n",
       "      <th>province</th>\n",
       "      <th>...</th>\n",
       "      <th>images</th>\n",
       "      <th>facilities</th>\n",
       "      <th>properties</th>\n",
       "      <th>nearestPointOfInterests</th>\n",
       "      <th>starRating</th>\n",
       "      <th>userRating</th>\n",
       "      <th>userRatingInfo</th>\n",
       "      <th>numReviews</th>\n",
       "      <th>latitude</th>\n",
       "      <th>longitude</th>\n",
       "    </tr>\n",
       "  </thead>\n",
       "  <tbody>\n",
       "    <tr>\n",
       "      <th>0</th>\n",
       "      <td>3000020003208</td>\n",
       "      <td>Hotel</td>\n",
       "      <td>Kyriad Hotel Muraya Aceh</td>\n",
       "      <td>Kyriad Hotel Muraya Aceh</td>\n",
       "      <td>&lt;p&gt;&lt;b&gt;Lokasi&lt;/b&gt;&lt;br&gt;Kyriad Hotel Muraya Aceh b...</td>\n",
       "      <td>https://www.traveloka.com/id-id/hotel/detail?s...</td>\n",
       "      <td>Jalan Tengku H. Mohd Daud Beureueuh No. 5 Kuta...</td>\n",
       "      <td>Aceh</td>\n",
       "      <td>Banda Aceh</td>\n",
       "      <td>Aceh</td>\n",
       "      <td>...</td>\n",
       "      <td>[\"https://ik.imagekit.io/tvlk/apr-asset/dgXfoy...</td>\n",
       "      <td>[\"CARPARK\",\"COFFEE_OR_TEA_IN_LOBBY\",\"COFFEE_SH...</td>\n",
       "      <td>{\"checkInTime\":\"14:00\",\"checkOutTime\":\"12:00\",...</td>\n",
       "      <td>[{\"landmarkId\":\"6254734\",\"geoId\":null,\"name\":\"...</td>\n",
       "      <td>4.0</td>\n",
       "      <td>8.6</td>\n",
       "      <td>Mengesankan</td>\n",
       "      <td>1845.0</td>\n",
       "      <td>5.556686</td>\n",
       "      <td>95.322269</td>\n",
       "    </tr>\n",
       "    <tr>\n",
       "      <th>1</th>\n",
       "      <td>3000010003879</td>\n",
       "      <td>Hotel</td>\n",
       "      <td>Hermes Palace by BENCOOLEN</td>\n",
       "      <td>Hermes Palace by BENCOOLEN</td>\n",
       "      <td>&lt;p&gt;&lt;b&gt;Lokasi&lt;/b&gt;&lt;br&gt;Hermes Palace by BENCOOLEN...</td>\n",
       "      <td>https://www.traveloka.com/id-id/hotel/detail?s...</td>\n",
       "      <td>Jalan. T. Panglima Nyak Makam Banda Aceh Aceh ...</td>\n",
       "      <td>Aceh</td>\n",
       "      <td>Banda Aceh</td>\n",
       "      <td>Aceh</td>\n",
       "      <td>...</td>\n",
       "      <td>[\"https://ik.imagekit.io/tvlk/apr-asset/dgXfoy...</td>\n",
       "      <td>[\"CARPARK\",\"COFFEE_SHOP\",\"ELEVATOR\",\"HAS_24_HO...</td>\n",
       "      <td>{\"checkInTime\":\"14:00\",\"checkOutTime\":\"12:00\",...</td>\n",
       "      <td>[{\"landmarkId\":\"6254734\",\"geoId\":null,\"name\":\"...</td>\n",
       "      <td>5.0</td>\n",
       "      <td>8.4</td>\n",
       "      <td>Mengesankan</td>\n",
       "      <td>2525.0</td>\n",
       "      <td>5.556202</td>\n",
       "      <td>95.344114</td>\n",
       "    </tr>\n",
       "  </tbody>\n",
       "</table>\n",
       "<p>2 rows × 24 columns</p>\n",
       "</div>"
      ],
      "text/plain": [
       "              id   type                        name  \\\n",
       "0  3000020003208  Hotel    Kyriad Hotel Muraya Aceh   \n",
       "1  3000010003879  Hotel  Hermes Palace by BENCOOLEN   \n",
       "\n",
       "                  displayName  \\\n",
       "0    Kyriad Hotel Muraya Aceh   \n",
       "1  Hermes Palace by BENCOOLEN   \n",
       "\n",
       "                                         description  \\\n",
       "0  <p><b>Lokasi</b><br>Kyriad Hotel Muraya Aceh b...   \n",
       "1  <p><b>Lokasi</b><br>Hermes Palace by BENCOOLEN...   \n",
       "\n",
       "                                                link  \\\n",
       "0  https://www.traveloka.com/id-id/hotel/detail?s...   \n",
       "1  https://www.traveloka.com/id-id/hotel/detail?s...   \n",
       "\n",
       "                                             address region        city  \\\n",
       "0  Jalan Tengku H. Mohd Daud Beureueuh No. 5 Kuta...   Aceh  Banda Aceh   \n",
       "1  Jalan. T. Panglima Nyak Makam Banda Aceh Aceh ...   Aceh  Banda Aceh   \n",
       "\n",
       "  province  ...                                             images  \\\n",
       "0     Aceh  ...  [\"https://ik.imagekit.io/tvlk/apr-asset/dgXfoy...   \n",
       "1     Aceh  ...  [\"https://ik.imagekit.io/tvlk/apr-asset/dgXfoy...   \n",
       "\n",
       "                                          facilities  \\\n",
       "0  [\"CARPARK\",\"COFFEE_OR_TEA_IN_LOBBY\",\"COFFEE_SH...   \n",
       "1  [\"CARPARK\",\"COFFEE_SHOP\",\"ELEVATOR\",\"HAS_24_HO...   \n",
       "\n",
       "                                          properties  \\\n",
       "0  {\"checkInTime\":\"14:00\",\"checkOutTime\":\"12:00\",...   \n",
       "1  {\"checkInTime\":\"14:00\",\"checkOutTime\":\"12:00\",...   \n",
       "\n",
       "                             nearestPointOfInterests starRating userRating  \\\n",
       "0  [{\"landmarkId\":\"6254734\",\"geoId\":null,\"name\":\"...        4.0        8.6   \n",
       "1  [{\"landmarkId\":\"6254734\",\"geoId\":null,\"name\":\"...        5.0        8.4   \n",
       "\n",
       "  userRatingInfo numReviews  latitude  longitude  \n",
       "0    Mengesankan     1845.0  5.556686  95.322269  \n",
       "1    Mengesankan     2525.0  5.556202  95.344114  \n",
       "\n",
       "[2 rows x 24 columns]"
      ]
     },
     "execution_count": 5,
     "metadata": {},
     "output_type": "execute_result"
    }
   ],
   "source": [
    "df_hotel.head(2)"
   ]
  },
  {
   "cell_type": "markdown",
   "metadata": {},
   "source": [
    "## Drop Unnecessary Column"
   ]
  },
  {
   "attachments": {},
   "cell_type": "markdown",
   "metadata": {},
   "source": [
    "### Room Table"
   ]
  },
  {
   "cell_type": "code",
   "execution_count": 6,
   "metadata": {},
   "outputs": [
    {
     "name": "stdout",
     "output_type": "stream",
     "text": [
      "numExtraBeds: 1\n",
      "numChargedRooms: 1\n",
      "extraBedIsIncluded: 1\n"
     ]
    }
   ],
   "source": [
    "for i in df_room.columns:\n",
    "    if df_room[i].nunique() == 1:\n",
    "        print(f'{i}: {df_room[i].nunique()}')"
   ]
  },
  {
   "cell_type": "code",
   "execution_count": 7,
   "metadata": {},
   "outputs": [
    {
     "data": {
      "text/html": [
       "<div>\n",
       "<style scoped>\n",
       "    .dataframe tbody tr th:only-of-type {\n",
       "        vertical-align: middle;\n",
       "    }\n",
       "\n",
       "    .dataframe tbody tr th {\n",
       "        vertical-align: top;\n",
       "    }\n",
       "\n",
       "    .dataframe thead th {\n",
       "        text-align: right;\n",
       "    }\n",
       "</style>\n",
       "<table border=\"1\" class=\"dataframe\">\n",
       "  <thead>\n",
       "    <tr style=\"text-align: right;\">\n",
       "      <th></th>\n",
       "      <th>id</th>\n",
       "      <th>hotelId</th>\n",
       "      <th>name</th>\n",
       "      <th>size</th>\n",
       "      <th>originalRate</th>\n",
       "      <th>baseOccupancy</th>\n",
       "      <th>maxChildOccupancy</th>\n",
       "      <th>maxChildAge</th>\n",
       "      <th>numBreakfastIncluded</th>\n",
       "      <th>isBreakfastIncluded</th>\n",
       "      <th>isWifiIncluded</th>\n",
       "      <th>isRefundable</th>\n",
       "      <th>hasLivingRoom</th>\n",
       "      <th>facilities</th>\n",
       "    </tr>\n",
       "  </thead>\n",
       "  <tbody>\n",
       "    <tr>\n",
       "      <th>0</th>\n",
       "      <td>1000009181</td>\n",
       "      <td>3000020003208</td>\n",
       "      <td>Family</td>\n",
       "      <td>30.0</td>\n",
       "      <td>{\"amount\":\"999174\",\"currency\":\"IDR\",\"tax\":\"209...</td>\n",
       "      <td>2</td>\n",
       "      <td>1</td>\n",
       "      <td>10</td>\n",
       "      <td>NaN</td>\n",
       "      <td>1</td>\n",
       "      <td>1</td>\n",
       "      <td>1</td>\n",
       "      <td>0</td>\n",
       "      <td>[\"AIR_CONDITIONING\",\"BATHROBES\",\"BLACKOUT_DRAP...</td>\n",
       "    </tr>\n",
       "    <tr>\n",
       "      <th>1</th>\n",
       "      <td>1000009219</td>\n",
       "      <td>3000020003208</td>\n",
       "      <td>President Suite</td>\n",
       "      <td>75.0</td>\n",
       "      <td>{\"amount\":\"3305785\",\"currency\":\"IDR\",\"tax\":\"69...</td>\n",
       "      <td>2</td>\n",
       "      <td>1</td>\n",
       "      <td>10</td>\n",
       "      <td>NaN</td>\n",
       "      <td>1</td>\n",
       "      <td>1</td>\n",
       "      <td>1</td>\n",
       "      <td>0</td>\n",
       "      <td>[\"AIR_CONDITIONING\",\"BATHROBES\",\"BLACKOUT_DRAP...</td>\n",
       "    </tr>\n",
       "  </tbody>\n",
       "</table>\n",
       "</div>"
      ],
      "text/plain": [
       "           id        hotelId             name  size  \\\n",
       "0  1000009181  3000020003208           Family  30.0   \n",
       "1  1000009219  3000020003208  President Suite  75.0   \n",
       "\n",
       "                                        originalRate  baseOccupancy  \\\n",
       "0  {\"amount\":\"999174\",\"currency\":\"IDR\",\"tax\":\"209...              2   \n",
       "1  {\"amount\":\"3305785\",\"currency\":\"IDR\",\"tax\":\"69...              2   \n",
       "\n",
       "   maxChildOccupancy  maxChildAge  numBreakfastIncluded  isBreakfastIncluded  \\\n",
       "0                  1           10                   NaN                    1   \n",
       "1                  1           10                   NaN                    1   \n",
       "\n",
       "   isWifiIncluded  isRefundable  hasLivingRoom  \\\n",
       "0               1             1              0   \n",
       "1               1             1              0   \n",
       "\n",
       "                                          facilities  \n",
       "0  [\"AIR_CONDITIONING\",\"BATHROBES\",\"BLACKOUT_DRAP...  \n",
       "1  [\"AIR_CONDITIONING\",\"BATHROBES\",\"BLACKOUT_DRAP...  "
      ]
     },
     "execution_count": 7,
     "metadata": {},
     "output_type": "execute_result"
    }
   ],
   "source": [
    "room_drop = ['images', 'description', 'bedDescription', 'originalDescription', 'rate', 'maxOccupancy', 'numRemainingRooms', \n",
    "            'extraBedIsIncluded', 'numExtraBeds', 'numChargedRooms', 'roomType']\n",
    "# 'numBreakfastIncluded',\n",
    "df_room.drop(room_drop, axis=1, inplace=True)\n",
    "\n",
    "df_room.head(2)"
   ]
  },
  {
   "attachments": {},
   "cell_type": "markdown",
   "metadata": {},
   "source": [
    "Description:\n",
    "- Drop the column with no relation to price estimation (`images`, `description`, `bedDescription`, `originalDescription`, `numRemainingRooms`, `roomType`)\n",
    "- Drop the column with only 1 unique value (`extraBedIsIncluded`, `numExtraBeds`, `numChargedRooms`)\n",
    "- Drop `rate` column because it is the discounted price from the original price (`originalRate`) on the platform\n",
    "- Drop `maxOccupancy` column because it is the same as `baseOccupancy`+`maxChildOccupancy` column"
   ]
  },
  {
   "attachments": {},
   "cell_type": "markdown",
   "metadata": {},
   "source": [
    "### Hotel Table"
   ]
  },
  {
   "cell_type": "code",
   "execution_count": 8,
   "metadata": {},
   "outputs": [
    {
     "name": "stdout",
     "output_type": "stream",
     "text": [
      "country: 1\n",
      "Column with 1 unique value\n"
     ]
    }
   ],
   "source": [
    "for i in df_hotel.columns:\n",
    "    if df_hotel[i].nunique() == 1:\n",
    "        print(f'{i}: {df_hotel[i].nunique()}')\n",
    "print('Column with 1 unique value')"
   ]
  },
  {
   "cell_type": "code",
   "execution_count": 9,
   "metadata": {},
   "outputs": [
    {
     "data": {
      "text/html": [
       "<div>\n",
       "<style scoped>\n",
       "    .dataframe tbody tr th:only-of-type {\n",
       "        vertical-align: middle;\n",
       "    }\n",
       "\n",
       "    .dataframe tbody tr th {\n",
       "        vertical-align: top;\n",
       "    }\n",
       "\n",
       "    .dataframe thead th {\n",
       "        text-align: right;\n",
       "    }\n",
       "</style>\n",
       "<table border=\"1\" class=\"dataframe\">\n",
       "  <thead>\n",
       "    <tr style=\"text-align: right;\">\n",
       "      <th></th>\n",
       "      <th>id</th>\n",
       "      <th>type</th>\n",
       "      <th>name</th>\n",
       "      <th>city</th>\n",
       "      <th>province</th>\n",
       "      <th>facilities</th>\n",
       "      <th>nearestPointOfInterests</th>\n",
       "      <th>starRating</th>\n",
       "    </tr>\n",
       "  </thead>\n",
       "  <tbody>\n",
       "    <tr>\n",
       "      <th>0</th>\n",
       "      <td>3000020003208</td>\n",
       "      <td>Hotel</td>\n",
       "      <td>Kyriad Hotel Muraya Aceh</td>\n",
       "      <td>Banda Aceh</td>\n",
       "      <td>Aceh</td>\n",
       "      <td>[\"CARPARK\",\"COFFEE_OR_TEA_IN_LOBBY\",\"COFFEE_SH...</td>\n",
       "      <td>[{\"landmarkId\":\"6254734\",\"geoId\":null,\"name\":\"...</td>\n",
       "      <td>4.0</td>\n",
       "    </tr>\n",
       "    <tr>\n",
       "      <th>1</th>\n",
       "      <td>3000010003879</td>\n",
       "      <td>Hotel</td>\n",
       "      <td>Hermes Palace by BENCOOLEN</td>\n",
       "      <td>Banda Aceh</td>\n",
       "      <td>Aceh</td>\n",
       "      <td>[\"CARPARK\",\"COFFEE_SHOP\",\"ELEVATOR\",\"HAS_24_HO...</td>\n",
       "      <td>[{\"landmarkId\":\"6254734\",\"geoId\":null,\"name\":\"...</td>\n",
       "      <td>5.0</td>\n",
       "    </tr>\n",
       "  </tbody>\n",
       "</table>\n",
       "</div>"
      ],
      "text/plain": [
       "              id   type                        name        city province  \\\n",
       "0  3000020003208  Hotel    Kyriad Hotel Muraya Aceh  Banda Aceh     Aceh   \n",
       "1  3000010003879  Hotel  Hermes Palace by BENCOOLEN  Banda Aceh     Aceh   \n",
       "\n",
       "                                          facilities  \\\n",
       "0  [\"CARPARK\",\"COFFEE_OR_TEA_IN_LOBBY\",\"COFFEE_SH...   \n",
       "1  [\"CARPARK\",\"COFFEE_SHOP\",\"ELEVATOR\",\"HAS_24_HO...   \n",
       "\n",
       "                             nearestPointOfInterests  starRating  \n",
       "0  [{\"landmarkId\":\"6254734\",\"geoId\":null,\"name\":\"...         4.0  \n",
       "1  [{\"landmarkId\":\"6254734\",\"geoId\":null,\"name\":\"...         5.0  "
      ]
     },
     "execution_count": 9,
     "metadata": {},
     "output_type": "execute_result"
    }
   ],
   "source": [
    "hotel_drop = ['displayName', 'description', 'link', 'address', 'region', 'country', 'geodirectoryId', 'postal', 'image', \n",
    "            'images', 'userRating', 'latitude', 'longitude', 'userRatingInfo', 'numReviews', 'properties', ]\n",
    "df_hotel.drop(hotel_drop, axis=1, inplace=True)\n",
    "\n",
    "df_hotel.head(2)"
   ]
  },
  {
   "attachments": {},
   "cell_type": "markdown",
   "metadata": {},
   "source": [
    "Description:\n",
    "- Drop the column with no relation to price estimation (`displayName`, `description`, `link`, `geodirectoryId`, `postal`, `image`, `images`)\n",
    "- Drop the column with only 1 unique value (`country`)\n",
    "- Drop `address`, `geodirectoryId`, `potal`, `latitude`, `longitude` because they are the same as `city` column"
   ]
  },
  {
   "cell_type": "markdown",
   "metadata": {},
   "source": [
    "## Combine Dataset Based on ID"
   ]
  },
  {
   "cell_type": "code",
   "execution_count": 10,
   "metadata": {},
   "outputs": [
    {
     "data": {
      "text/html": [
       "<div>\n",
       "<style scoped>\n",
       "    .dataframe tbody tr th:only-of-type {\n",
       "        vertical-align: middle;\n",
       "    }\n",
       "\n",
       "    .dataframe tbody tr th {\n",
       "        vertical-align: top;\n",
       "    }\n",
       "\n",
       "    .dataframe thead th {\n",
       "        text-align: right;\n",
       "    }\n",
       "</style>\n",
       "<table border=\"1\" class=\"dataframe\">\n",
       "  <thead>\n",
       "    <tr style=\"text-align: right;\">\n",
       "      <th></th>\n",
       "      <th>hotelId</th>\n",
       "      <th>type</th>\n",
       "      <th>hotelName</th>\n",
       "      <th>city</th>\n",
       "      <th>province</th>\n",
       "      <th>hotelFacilities</th>\n",
       "      <th>nearestPointOfInterests</th>\n",
       "      <th>starRating</th>\n",
       "    </tr>\n",
       "  </thead>\n",
       "  <tbody>\n",
       "    <tr>\n",
       "      <th>0</th>\n",
       "      <td>3000020003208</td>\n",
       "      <td>Hotel</td>\n",
       "      <td>Kyriad Hotel Muraya Aceh</td>\n",
       "      <td>Banda Aceh</td>\n",
       "      <td>Aceh</td>\n",
       "      <td>[\"CARPARK\",\"COFFEE_OR_TEA_IN_LOBBY\",\"COFFEE_SH...</td>\n",
       "      <td>[{\"landmarkId\":\"6254734\",\"geoId\":null,\"name\":\"...</td>\n",
       "      <td>4.0</td>\n",
       "    </tr>\n",
       "    <tr>\n",
       "      <th>1</th>\n",
       "      <td>3000010003879</td>\n",
       "      <td>Hotel</td>\n",
       "      <td>Hermes Palace by BENCOOLEN</td>\n",
       "      <td>Banda Aceh</td>\n",
       "      <td>Aceh</td>\n",
       "      <td>[\"CARPARK\",\"COFFEE_SHOP\",\"ELEVATOR\",\"HAS_24_HO...</td>\n",
       "      <td>[{\"landmarkId\":\"6254734\",\"geoId\":null,\"name\":\"...</td>\n",
       "      <td>5.0</td>\n",
       "    </tr>\n",
       "  </tbody>\n",
       "</table>\n",
       "</div>"
      ],
      "text/plain": [
       "         hotelId   type                   hotelName        city province  \\\n",
       "0  3000020003208  Hotel    Kyriad Hotel Muraya Aceh  Banda Aceh     Aceh   \n",
       "1  3000010003879  Hotel  Hermes Palace by BENCOOLEN  Banda Aceh     Aceh   \n",
       "\n",
       "                                     hotelFacilities  \\\n",
       "0  [\"CARPARK\",\"COFFEE_OR_TEA_IN_LOBBY\",\"COFFEE_SH...   \n",
       "1  [\"CARPARK\",\"COFFEE_SHOP\",\"ELEVATOR\",\"HAS_24_HO...   \n",
       "\n",
       "                             nearestPointOfInterests  starRating  \n",
       "0  [{\"landmarkId\":\"6254734\",\"geoId\":null,\"name\":\"...         4.0  \n",
       "1  [{\"landmarkId\":\"6254734\",\"geoId\":null,\"name\":\"...         5.0  "
      ]
     },
     "execution_count": 10,
     "metadata": {},
     "output_type": "execute_result"
    }
   ],
   "source": [
    "# rename columns\n",
    "\n",
    "df_hotel.rename(columns={'id': 'hotelId'}, inplace=True)\n",
    "df_hotel.rename(columns={'name': 'hotelName'}, inplace=True)\n",
    "df_hotel.rename(columns={'facilities': 'hotelFacilities'}, inplace=True)\n",
    "df_room.rename(columns={'facilities': 'roomFacilities'}, inplace=True)\n",
    "df_hotel.head(2)"
   ]
  },
  {
   "cell_type": "code",
   "execution_count": 11,
   "metadata": {},
   "outputs": [
    {
     "data": {
      "text/html": [
       "<div>\n",
       "<style scoped>\n",
       "    .dataframe tbody tr th:only-of-type {\n",
       "        vertical-align: middle;\n",
       "    }\n",
       "\n",
       "    .dataframe tbody tr th {\n",
       "        vertical-align: top;\n",
       "    }\n",
       "\n",
       "    .dataframe thead th {\n",
       "        text-align: right;\n",
       "    }\n",
       "</style>\n",
       "<table border=\"1\" class=\"dataframe\">\n",
       "  <thead>\n",
       "    <tr style=\"text-align: right;\">\n",
       "      <th></th>\n",
       "      <th>hotelId</th>\n",
       "      <th>type</th>\n",
       "      <th>hotelName</th>\n",
       "      <th>city</th>\n",
       "      <th>province</th>\n",
       "      <th>hotelFacilities</th>\n",
       "      <th>nearestPointOfInterests</th>\n",
       "      <th>starRating</th>\n",
       "      <th>id</th>\n",
       "      <th>name</th>\n",
       "      <th>...</th>\n",
       "      <th>originalRate</th>\n",
       "      <th>baseOccupancy</th>\n",
       "      <th>maxChildOccupancy</th>\n",
       "      <th>maxChildAge</th>\n",
       "      <th>numBreakfastIncluded</th>\n",
       "      <th>isBreakfastIncluded</th>\n",
       "      <th>isWifiIncluded</th>\n",
       "      <th>isRefundable</th>\n",
       "      <th>hasLivingRoom</th>\n",
       "      <th>roomFacilities</th>\n",
       "    </tr>\n",
       "  </thead>\n",
       "  <tbody>\n",
       "    <tr>\n",
       "      <th>0</th>\n",
       "      <td>3000020003208</td>\n",
       "      <td>Hotel</td>\n",
       "      <td>Kyriad Hotel Muraya Aceh</td>\n",
       "      <td>Banda Aceh</td>\n",
       "      <td>Aceh</td>\n",
       "      <td>[\"CARPARK\",\"COFFEE_OR_TEA_IN_LOBBY\",\"COFFEE_SH...</td>\n",
       "      <td>[{\"landmarkId\":\"6254734\",\"geoId\":null,\"name\":\"...</td>\n",
       "      <td>4.0</td>\n",
       "      <td>1000009181</td>\n",
       "      <td>Family</td>\n",
       "      <td>...</td>\n",
       "      <td>{\"amount\":\"999174\",\"currency\":\"IDR\",\"tax\":\"209...</td>\n",
       "      <td>2</td>\n",
       "      <td>1</td>\n",
       "      <td>10</td>\n",
       "      <td>NaN</td>\n",
       "      <td>1</td>\n",
       "      <td>1</td>\n",
       "      <td>1</td>\n",
       "      <td>0</td>\n",
       "      <td>[\"AIR_CONDITIONING\",\"BATHROBES\",\"BLACKOUT_DRAP...</td>\n",
       "    </tr>\n",
       "    <tr>\n",
       "      <th>1</th>\n",
       "      <td>3000020003208</td>\n",
       "      <td>Hotel</td>\n",
       "      <td>Kyriad Hotel Muraya Aceh</td>\n",
       "      <td>Banda Aceh</td>\n",
       "      <td>Aceh</td>\n",
       "      <td>[\"CARPARK\",\"COFFEE_OR_TEA_IN_LOBBY\",\"COFFEE_SH...</td>\n",
       "      <td>[{\"landmarkId\":\"6254734\",\"geoId\":null,\"name\":\"...</td>\n",
       "      <td>4.0</td>\n",
       "      <td>1000009219</td>\n",
       "      <td>President Suite</td>\n",
       "      <td>...</td>\n",
       "      <td>{\"amount\":\"3305785\",\"currency\":\"IDR\",\"tax\":\"69...</td>\n",
       "      <td>2</td>\n",
       "      <td>1</td>\n",
       "      <td>10</td>\n",
       "      <td>NaN</td>\n",
       "      <td>1</td>\n",
       "      <td>1</td>\n",
       "      <td>1</td>\n",
       "      <td>0</td>\n",
       "      <td>[\"AIR_CONDITIONING\",\"BATHROBES\",\"BLACKOUT_DRAP...</td>\n",
       "    </tr>\n",
       "  </tbody>\n",
       "</table>\n",
       "<p>2 rows × 21 columns</p>\n",
       "</div>"
      ],
      "text/plain": [
       "         hotelId   type                 hotelName        city province  \\\n",
       "0  3000020003208  Hotel  Kyriad Hotel Muraya Aceh  Banda Aceh     Aceh   \n",
       "1  3000020003208  Hotel  Kyriad Hotel Muraya Aceh  Banda Aceh     Aceh   \n",
       "\n",
       "                                     hotelFacilities  \\\n",
       "0  [\"CARPARK\",\"COFFEE_OR_TEA_IN_LOBBY\",\"COFFEE_SH...   \n",
       "1  [\"CARPARK\",\"COFFEE_OR_TEA_IN_LOBBY\",\"COFFEE_SH...   \n",
       "\n",
       "                             nearestPointOfInterests  starRating          id  \\\n",
       "0  [{\"landmarkId\":\"6254734\",\"geoId\":null,\"name\":\"...         4.0  1000009181   \n",
       "1  [{\"landmarkId\":\"6254734\",\"geoId\":null,\"name\":\"...         4.0  1000009219   \n",
       "\n",
       "              name  ...                                       originalRate  \\\n",
       "0           Family  ...  {\"amount\":\"999174\",\"currency\":\"IDR\",\"tax\":\"209...   \n",
       "1  President Suite  ...  {\"amount\":\"3305785\",\"currency\":\"IDR\",\"tax\":\"69...   \n",
       "\n",
       "  baseOccupancy  maxChildOccupancy  maxChildAge  numBreakfastIncluded  \\\n",
       "0             2                  1           10                   NaN   \n",
       "1             2                  1           10                   NaN   \n",
       "\n",
       "   isBreakfastIncluded  isWifiIncluded  isRefundable  hasLivingRoom  \\\n",
       "0                    1               1             1              0   \n",
       "1                    1               1             1              0   \n",
       "\n",
       "                                      roomFacilities  \n",
       "0  [\"AIR_CONDITIONING\",\"BATHROBES\",\"BLACKOUT_DRAP...  \n",
       "1  [\"AIR_CONDITIONING\",\"BATHROBES\",\"BLACKOUT_DRAP...  \n",
       "\n",
       "[2 rows x 21 columns]"
      ]
     },
     "execution_count": 11,
     "metadata": {},
     "output_type": "execute_result"
    }
   ],
   "source": [
    "df = pd.merge(df_hotel, df_room, on='hotelId', how='inner')\n",
    "df.head(2)"
   ]
  },
  {
   "cell_type": "markdown",
   "metadata": {},
   "source": [
    "### Filter for Bali Province"
   ]
  },
  {
   "cell_type": "code",
   "execution_count": 12,
   "metadata": {},
   "outputs": [
    {
     "data": {
      "text/plain": [
       "(7221, 21)"
      ]
     },
     "execution_count": 12,
     "metadata": {},
     "output_type": "execute_result"
    }
   ],
   "source": [
    "df = df[df['province'] == 'Bali']\n",
    "df.reset_index(drop=True, inplace=True)\n",
    "df.shape"
   ]
  },
  {
   "cell_type": "code",
   "execution_count": 13,
   "metadata": {},
   "outputs": [
    {
     "name": "stdout",
     "output_type": "stream",
     "text": [
      "(7221, 16)\n"
     ]
    },
    {
     "data": {
      "text/html": [
       "<div>\n",
       "<style scoped>\n",
       "    .dataframe tbody tr th:only-of-type {\n",
       "        vertical-align: middle;\n",
       "    }\n",
       "\n",
       "    .dataframe tbody tr th {\n",
       "        vertical-align: top;\n",
       "    }\n",
       "\n",
       "    .dataframe thead th {\n",
       "        text-align: right;\n",
       "    }\n",
       "</style>\n",
       "<table border=\"1\" class=\"dataframe\">\n",
       "  <thead>\n",
       "    <tr style=\"text-align: right;\">\n",
       "      <th></th>\n",
       "      <th>type</th>\n",
       "      <th>city</th>\n",
       "      <th>hotelFacilities</th>\n",
       "      <th>nearestPointOfInterests</th>\n",
       "      <th>starRating</th>\n",
       "      <th>size</th>\n",
       "      <th>originalRate</th>\n",
       "      <th>baseOccupancy</th>\n",
       "      <th>maxChildOccupancy</th>\n",
       "      <th>maxChildAge</th>\n",
       "      <th>numBreakfastIncluded</th>\n",
       "      <th>isBreakfastIncluded</th>\n",
       "      <th>isWifiIncluded</th>\n",
       "      <th>isRefundable</th>\n",
       "      <th>hasLivingRoom</th>\n",
       "      <th>roomFacilities</th>\n",
       "    </tr>\n",
       "  </thead>\n",
       "  <tbody>\n",
       "    <tr>\n",
       "      <th>0</th>\n",
       "      <td>Hotel</td>\n",
       "      <td>Badung</td>\n",
       "      <td>[\"CARPARK\",\"ELEVATOR\",\"HAS_24_HOUR_ROOM_SERVIC...</td>\n",
       "      <td>[{\"landmarkId\":\"91589773100576\",\"geoId\":null,\"...</td>\n",
       "      <td>4.0</td>\n",
       "      <td>46.0</td>\n",
       "      <td>{\"amount\":\"1227273\",\"currency\":\"IDR\",\"tax\":\"25...</td>\n",
       "      <td>3</td>\n",
       "      <td>1</td>\n",
       "      <td>5</td>\n",
       "      <td>NaN</td>\n",
       "      <td>1</td>\n",
       "      <td>1</td>\n",
       "      <td>1</td>\n",
       "      <td>0</td>\n",
       "      <td>[\"AIR_CONDITIONING\",\"BALCONY_TERRACE\",\"BATHROB...</td>\n",
       "    </tr>\n",
       "    <tr>\n",
       "      <th>1</th>\n",
       "      <td>Hotel</td>\n",
       "      <td>Badung</td>\n",
       "      <td>[\"CARPARK\",\"ELEVATOR\",\"HAS_24_HOUR_ROOM_SERVIC...</td>\n",
       "      <td>[{\"landmarkId\":\"91589773100576\",\"geoId\":null,\"...</td>\n",
       "      <td>4.0</td>\n",
       "      <td>31.0</td>\n",
       "      <td>{\"amount\":\"596694\",\"currency\":\"IDR\",\"tax\":\"125...</td>\n",
       "      <td>2</td>\n",
       "      <td>1</td>\n",
       "      <td>5</td>\n",
       "      <td>NaN</td>\n",
       "      <td>0</td>\n",
       "      <td>1</td>\n",
       "      <td>1</td>\n",
       "      <td>0</td>\n",
       "      <td>[\"AIR_CONDITIONING\",\"BATHROBES\",\"BATHTUB\",\"BLA...</td>\n",
       "    </tr>\n",
       "    <tr>\n",
       "      <th>2</th>\n",
       "      <td>Hotel</td>\n",
       "      <td>Badung</td>\n",
       "      <td>[\"CARPARK\",\"ELEVATOR\",\"HAS_24_HOUR_ROOM_SERVIC...</td>\n",
       "      <td>[{\"landmarkId\":\"91589773100576\",\"geoId\":null,\"...</td>\n",
       "      <td>4.0</td>\n",
       "      <td>52.0</td>\n",
       "      <td>{\"amount\":\"1450413\",\"currency\":\"IDR\",\"tax\":\"30...</td>\n",
       "      <td>2</td>\n",
       "      <td>1</td>\n",
       "      <td>5</td>\n",
       "      <td>NaN</td>\n",
       "      <td>1</td>\n",
       "      <td>1</td>\n",
       "      <td>1</td>\n",
       "      <td>1</td>\n",
       "      <td>[\"AIR_CONDITIONING\",\"BALCONY_TERRACE\",\"BATHROB...</td>\n",
       "    </tr>\n",
       "  </tbody>\n",
       "</table>\n",
       "</div>"
      ],
      "text/plain": [
       "    type    city                                    hotelFacilities  \\\n",
       "0  Hotel  Badung  [\"CARPARK\",\"ELEVATOR\",\"HAS_24_HOUR_ROOM_SERVIC...   \n",
       "1  Hotel  Badung  [\"CARPARK\",\"ELEVATOR\",\"HAS_24_HOUR_ROOM_SERVIC...   \n",
       "2  Hotel  Badung  [\"CARPARK\",\"ELEVATOR\",\"HAS_24_HOUR_ROOM_SERVIC...   \n",
       "\n",
       "                             nearestPointOfInterests  starRating  size  \\\n",
       "0  [{\"landmarkId\":\"91589773100576\",\"geoId\":null,\"...         4.0  46.0   \n",
       "1  [{\"landmarkId\":\"91589773100576\",\"geoId\":null,\"...         4.0  31.0   \n",
       "2  [{\"landmarkId\":\"91589773100576\",\"geoId\":null,\"...         4.0  52.0   \n",
       "\n",
       "                                        originalRate  baseOccupancy  \\\n",
       "0  {\"amount\":\"1227273\",\"currency\":\"IDR\",\"tax\":\"25...              3   \n",
       "1  {\"amount\":\"596694\",\"currency\":\"IDR\",\"tax\":\"125...              2   \n",
       "2  {\"amount\":\"1450413\",\"currency\":\"IDR\",\"tax\":\"30...              2   \n",
       "\n",
       "   maxChildOccupancy  maxChildAge  numBreakfastIncluded  isBreakfastIncluded  \\\n",
       "0                  1            5                   NaN                    1   \n",
       "1                  1            5                   NaN                    0   \n",
       "2                  1            5                   NaN                    1   \n",
       "\n",
       "   isWifiIncluded  isRefundable  hasLivingRoom  \\\n",
       "0               1             1              0   \n",
       "1               1             1              0   \n",
       "2               1             1              1   \n",
       "\n",
       "                                      roomFacilities  \n",
       "0  [\"AIR_CONDITIONING\",\"BALCONY_TERRACE\",\"BATHROB...  \n",
       "1  [\"AIR_CONDITIONING\",\"BATHROBES\",\"BATHTUB\",\"BLA...  \n",
       "2  [\"AIR_CONDITIONING\",\"BALCONY_TERRACE\",\"BATHROB...  "
      ]
     },
     "execution_count": 13,
     "metadata": {},
     "output_type": "execute_result"
    }
   ],
   "source": [
    "# drop another columns\n",
    "drop = ['hotelId', 'hotelName', 'province', 'id', 'name']\n",
    "for column_name in drop:\n",
    "    df.drop(column_name, axis=1, inplace=True)\n",
    "print(df.shape)\n",
    "df.head(3)"
   ]
  },
  {
   "cell_type": "markdown",
   "metadata": {},
   "source": [
    "## Data Analysis & Cleaning"
   ]
  },
  {
   "cell_type": "code",
   "execution_count": 14,
   "metadata": {},
   "outputs": [
    {
     "data": {
      "text/plain": [
       "type                          0\n",
       "city                          0\n",
       "hotelFacilities               0\n",
       "nearestPointOfInterests       0\n",
       "starRating                    0\n",
       "size                       2084\n",
       "originalRate                  0\n",
       "baseOccupancy                 0\n",
       "maxChildOccupancy             0\n",
       "maxChildAge                   0\n",
       "numBreakfastIncluded       7088\n",
       "isBreakfastIncluded           0\n",
       "isWifiIncluded                0\n",
       "isRefundable                  0\n",
       "hasLivingRoom                 0\n",
       "roomFacilities                0\n",
       "dtype: int64"
      ]
     },
     "execution_count": 14,
     "metadata": {},
     "output_type": "execute_result"
    }
   ],
   "source": [
    "df.isnull().sum()"
   ]
  },
  {
   "attachments": {},
   "cell_type": "markdown",
   "metadata": {},
   "source": [
    "Because the amount of nan value in `numBreakfastIncluded` column is too high, we will drop this column"
   ]
  },
  {
   "cell_type": "code",
   "execution_count": 15,
   "metadata": {},
   "outputs": [],
   "source": [
    "df.drop(['numBreakfastIncluded'], axis=1, inplace=True)"
   ]
  },
  {
   "cell_type": "code",
   "execution_count": 16,
   "metadata": {},
   "outputs": [
    {
     "data": {
      "text/plain": [
       "True"
      ]
     },
     "execution_count": 16,
     "metadata": {},
     "output_type": "execute_result"
    }
   ],
   "source": [
    "df.duplicated().any()"
   ]
  },
  {
   "cell_type": "code",
   "execution_count": 17,
   "metadata": {},
   "outputs": [
    {
     "data": {
      "text/plain": [
       "(4959, 15)"
      ]
     },
     "execution_count": 17,
     "metadata": {},
     "output_type": "execute_result"
    }
   ],
   "source": [
    "df.drop_duplicates(inplace=True)\n",
    "df.dropna(inplace=True)\n",
    "df.reset_index(drop=True, inplace=True)\n",
    "df.shape"
   ]
  },
  {
   "cell_type": "markdown",
   "metadata": {},
   "source": [
    "## Original Rate/Target Processing"
   ]
  },
  {
   "cell_type": "code",
   "execution_count": 18,
   "metadata": {},
   "outputs": [
    {
     "data": {
      "text/plain": [
       "'{\"amount\":\"1227273\",\"currency\":\"IDR\",\"tax\":\"257727\"}'"
      ]
     },
     "execution_count": 18,
     "metadata": {},
     "output_type": "execute_result"
    }
   ],
   "source": [
    "df.loc[0, 'originalRate']"
   ]
  },
  {
   "cell_type": "code",
   "execution_count": 19,
   "metadata": {},
   "outputs": [
    {
     "data": {
      "text/html": [
       "<div>\n",
       "<style scoped>\n",
       "    .dataframe tbody tr th:only-of-type {\n",
       "        vertical-align: middle;\n",
       "    }\n",
       "\n",
       "    .dataframe tbody tr th {\n",
       "        vertical-align: top;\n",
       "    }\n",
       "\n",
       "    .dataframe thead th {\n",
       "        text-align: right;\n",
       "    }\n",
       "</style>\n",
       "<table border=\"1\" class=\"dataframe\">\n",
       "  <thead>\n",
       "    <tr style=\"text-align: right;\">\n",
       "      <th></th>\n",
       "      <th>type</th>\n",
       "      <th>city</th>\n",
       "      <th>hotelFacilities</th>\n",
       "      <th>nearestPointOfInterests</th>\n",
       "      <th>starRating</th>\n",
       "      <th>size</th>\n",
       "      <th>originalRate</th>\n",
       "      <th>baseOccupancy</th>\n",
       "      <th>maxChildOccupancy</th>\n",
       "      <th>maxChildAge</th>\n",
       "      <th>isBreakfastIncluded</th>\n",
       "      <th>isWifiIncluded</th>\n",
       "      <th>isRefundable</th>\n",
       "      <th>hasLivingRoom</th>\n",
       "      <th>roomFacilities</th>\n",
       "    </tr>\n",
       "  </thead>\n",
       "  <tbody>\n",
       "    <tr>\n",
       "      <th>0</th>\n",
       "      <td>Hotel</td>\n",
       "      <td>Badung</td>\n",
       "      <td>[\"CARPARK\",\"ELEVATOR\",\"HAS_24_HOUR_ROOM_SERVIC...</td>\n",
       "      <td>[{\"landmarkId\":\"91589773100576\",\"geoId\":null,\"...</td>\n",
       "      <td>4.0</td>\n",
       "      <td>46.0</td>\n",
       "      <td>1227273</td>\n",
       "      <td>3</td>\n",
       "      <td>1</td>\n",
       "      <td>5</td>\n",
       "      <td>1</td>\n",
       "      <td>1</td>\n",
       "      <td>1</td>\n",
       "      <td>0</td>\n",
       "      <td>[\"AIR_CONDITIONING\",\"BALCONY_TERRACE\",\"BATHROB...</td>\n",
       "    </tr>\n",
       "    <tr>\n",
       "      <th>1</th>\n",
       "      <td>Hotel</td>\n",
       "      <td>Badung</td>\n",
       "      <td>[\"CARPARK\",\"ELEVATOR\",\"HAS_24_HOUR_ROOM_SERVIC...</td>\n",
       "      <td>[{\"landmarkId\":\"91589773100576\",\"geoId\":null,\"...</td>\n",
       "      <td>4.0</td>\n",
       "      <td>31.0</td>\n",
       "      <td>596694</td>\n",
       "      <td>2</td>\n",
       "      <td>1</td>\n",
       "      <td>5</td>\n",
       "      <td>0</td>\n",
       "      <td>1</td>\n",
       "      <td>1</td>\n",
       "      <td>0</td>\n",
       "      <td>[\"AIR_CONDITIONING\",\"BATHROBES\",\"BATHTUB\",\"BLA...</td>\n",
       "    </tr>\n",
       "  </tbody>\n",
       "</table>\n",
       "</div>"
      ],
      "text/plain": [
       "    type    city                                    hotelFacilities  \\\n",
       "0  Hotel  Badung  [\"CARPARK\",\"ELEVATOR\",\"HAS_24_HOUR_ROOM_SERVIC...   \n",
       "1  Hotel  Badung  [\"CARPARK\",\"ELEVATOR\",\"HAS_24_HOUR_ROOM_SERVIC...   \n",
       "\n",
       "                             nearestPointOfInterests  starRating  size  \\\n",
       "0  [{\"landmarkId\":\"91589773100576\",\"geoId\":null,\"...         4.0  46.0   \n",
       "1  [{\"landmarkId\":\"91589773100576\",\"geoId\":null,\"...         4.0  31.0   \n",
       "\n",
       "   originalRate  baseOccupancy  maxChildOccupancy  maxChildAge  \\\n",
       "0       1227273              3                  1            5   \n",
       "1        596694              2                  1            5   \n",
       "\n",
       "   isBreakfastIncluded  isWifiIncluded  isRefundable  hasLivingRoom  \\\n",
       "0                    1               1             1              0   \n",
       "1                    0               1             1              0   \n",
       "\n",
       "                                      roomFacilities  \n",
       "0  [\"AIR_CONDITIONING\",\"BALCONY_TERRACE\",\"BATHROB...  \n",
       "1  [\"AIR_CONDITIONING\",\"BATHROBES\",\"BATHTUB\",\"BLA...  "
      ]
     },
     "execution_count": 19,
     "metadata": {},
     "output_type": "execute_result"
    }
   ],
   "source": [
    "# Exstract original rate\n",
    "for i in range (len(df['originalRate'])):\n",
    "    df.loc[i, 'originalRate'] = df['originalRate'][i].split('\"')[3]\n",
    "    # df['originalRate'][i] = int(df['originalRate'][i].split('\"')[11])\n",
    "df['originalRate'] = df['originalRate'].astype(int)\n",
    "df.head(2)"
   ]
  },
  {
   "cell_type": "code",
   "execution_count": 20,
   "metadata": {},
   "outputs": [
    {
     "data": {
      "text/plain": [
       "(4959, 15)"
      ]
     },
     "execution_count": 20,
     "metadata": {},
     "output_type": "execute_result"
    }
   ],
   "source": [
    "df.shape"
   ]
  },
  {
   "cell_type": "code",
   "execution_count": 21,
   "metadata": {},
   "outputs": [
    {
     "name": "stdout",
     "output_type": "stream",
     "text": [
      "<class 'pandas.core.frame.DataFrame'>\n",
      "RangeIndex: 4959 entries, 0 to 4958\n",
      "Data columns (total 15 columns):\n",
      " #   Column                   Non-Null Count  Dtype  \n",
      "---  ------                   --------------  -----  \n",
      " 0   type                     4959 non-null   object \n",
      " 1   city                     4959 non-null   object \n",
      " 2   hotelFacilities          4959 non-null   object \n",
      " 3   nearestPointOfInterests  4959 non-null   object \n",
      " 4   starRating               4959 non-null   float64\n",
      " 5   size                     4959 non-null   object \n",
      " 6   originalRate             4959 non-null   int32  \n",
      " 7   baseOccupancy            4959 non-null   int64  \n",
      " 8   maxChildOccupancy        4959 non-null   int64  \n",
      " 9   maxChildAge              4959 non-null   int64  \n",
      " 10  isBreakfastIncluded      4959 non-null   int64  \n",
      " 11  isWifiIncluded           4959 non-null   int64  \n",
      " 12  isRefundable             4959 non-null   int64  \n",
      " 13  hasLivingRoom            4959 non-null   int64  \n",
      " 14  roomFacilities           4959 non-null   object \n",
      "dtypes: float64(1), int32(1), int64(7), object(6)\n",
      "memory usage: 561.9+ KB\n"
     ]
    }
   ],
   "source": [
    "# Checking the data type\n",
    "df.info()"
   ]
  },
  {
   "cell_type": "code",
   "execution_count": 22,
   "metadata": {},
   "outputs": [
    {
     "data": {
      "text/plain": [
       "dtype('float64')"
      ]
     },
     "execution_count": 22,
     "metadata": {},
     "output_type": "execute_result"
    }
   ],
   "source": [
    "# change size data type to float\n",
    "df['size'] = df['size'].astype(float)\n",
    "df['size'].dtype"
   ]
  },
  {
   "cell_type": "markdown",
   "metadata": {},
   "source": [
    "---------"
   ]
  },
  {
   "cell_type": "markdown",
   "metadata": {},
   "source": [
    "## Data Analysis and Cleaning"
   ]
  },
  {
   "cell_type": "markdown",
   "metadata": {},
   "source": [
    "### Data Statistics"
   ]
  },
  {
   "cell_type": "code",
   "execution_count": 23,
   "metadata": {},
   "outputs": [
    {
     "name": "stdout",
     "output_type": "stream",
     "text": [
      "Total number of rows: 4959\n",
      "Total number of columns: 15\n"
     ]
    }
   ],
   "source": [
    "originalRows = df.shape[0]\n",
    "\n",
    "print(f'Total number of rows: {df.shape[0]}')\n",
    "print(f'Total number of columns: {df.shape[1]}')"
   ]
  },
  {
   "cell_type": "code",
   "execution_count": 24,
   "metadata": {},
   "outputs": [
    {
     "data": {
      "text/html": [
       "<div>\n",
       "<style scoped>\n",
       "    .dataframe tbody tr th:only-of-type {\n",
       "        vertical-align: middle;\n",
       "    }\n",
       "\n",
       "    .dataframe tbody tr th {\n",
       "        vertical-align: top;\n",
       "    }\n",
       "\n",
       "    .dataframe thead th {\n",
       "        text-align: right;\n",
       "    }\n",
       "</style>\n",
       "<table border=\"1\" class=\"dataframe\">\n",
       "  <thead>\n",
       "    <tr style=\"text-align: right;\">\n",
       "      <th></th>\n",
       "      <th>starRating</th>\n",
       "      <th>size</th>\n",
       "      <th>originalRate</th>\n",
       "      <th>baseOccupancy</th>\n",
       "      <th>maxChildOccupancy</th>\n",
       "      <th>maxChildAge</th>\n",
       "      <th>isBreakfastIncluded</th>\n",
       "      <th>isWifiIncluded</th>\n",
       "      <th>isRefundable</th>\n",
       "      <th>hasLivingRoom</th>\n",
       "    </tr>\n",
       "  </thead>\n",
       "  <tbody>\n",
       "    <tr>\n",
       "      <th>count</th>\n",
       "      <td>4959.000000</td>\n",
       "      <td>4959.000000</td>\n",
       "      <td>4.959000e+03</td>\n",
       "      <td>4959.000000</td>\n",
       "      <td>4959.000000</td>\n",
       "      <td>4959.000000</td>\n",
       "      <td>4959.000000</td>\n",
       "      <td>4959.000000</td>\n",
       "      <td>4959.000000</td>\n",
       "      <td>4959.000000</td>\n",
       "    </tr>\n",
       "    <tr>\n",
       "      <th>mean</th>\n",
       "      <td>2.986288</td>\n",
       "      <td>110.373573</td>\n",
       "      <td>2.443721e+06</td>\n",
       "      <td>2.286146</td>\n",
       "      <td>0.632991</td>\n",
       "      <td>6.683807</td>\n",
       "      <td>0.456745</td>\n",
       "      <td>0.898568</td>\n",
       "      <td>0.379714</td>\n",
       "      <td>0.065537</td>\n",
       "    </tr>\n",
       "    <tr>\n",
       "      <th>std</th>\n",
       "      <td>1.555746</td>\n",
       "      <td>878.573270</td>\n",
       "      <td>3.805472e+06</td>\n",
       "      <td>1.311580</td>\n",
       "      <td>0.668251</td>\n",
       "      <td>3.826781</td>\n",
       "      <td>0.498176</td>\n",
       "      <td>0.301930</td>\n",
       "      <td>0.485365</td>\n",
       "      <td>0.247497</td>\n",
       "    </tr>\n",
       "    <tr>\n",
       "      <th>min</th>\n",
       "      <td>0.000000</td>\n",
       "      <td>0.000000</td>\n",
       "      <td>4.031300e+04</td>\n",
       "      <td>1.000000</td>\n",
       "      <td>0.000000</td>\n",
       "      <td>0.000000</td>\n",
       "      <td>0.000000</td>\n",
       "      <td>0.000000</td>\n",
       "      <td>0.000000</td>\n",
       "      <td>0.000000</td>\n",
       "    </tr>\n",
       "    <tr>\n",
       "      <th>25%</th>\n",
       "      <td>2.000000</td>\n",
       "      <td>24.000000</td>\n",
       "      <td>5.509640e+05</td>\n",
       "      <td>2.000000</td>\n",
       "      <td>0.000000</td>\n",
       "      <td>5.000000</td>\n",
       "      <td>0.000000</td>\n",
       "      <td>1.000000</td>\n",
       "      <td>0.000000</td>\n",
       "      <td>0.000000</td>\n",
       "    </tr>\n",
       "    <tr>\n",
       "      <th>50%</th>\n",
       "      <td>3.000000</td>\n",
       "      <td>35.000000</td>\n",
       "      <td>1.225344e+06</td>\n",
       "      <td>2.000000</td>\n",
       "      <td>1.000000</td>\n",
       "      <td>5.000000</td>\n",
       "      <td>0.000000</td>\n",
       "      <td>1.000000</td>\n",
       "      <td>0.000000</td>\n",
       "      <td>0.000000</td>\n",
       "    </tr>\n",
       "    <tr>\n",
       "      <th>75%</th>\n",
       "      <td>4.000000</td>\n",
       "      <td>65.000000</td>\n",
       "      <td>2.892562e+06</td>\n",
       "      <td>2.000000</td>\n",
       "      <td>1.000000</td>\n",
       "      <td>10.000000</td>\n",
       "      <td>1.000000</td>\n",
       "      <td>1.000000</td>\n",
       "      <td>1.000000</td>\n",
       "      <td>0.000000</td>\n",
       "    </tr>\n",
       "    <tr>\n",
       "      <th>max</th>\n",
       "      <td>6.000000</td>\n",
       "      <td>36000.000000</td>\n",
       "      <td>6.000000e+07</td>\n",
       "      <td>18.000000</td>\n",
       "      <td>8.000000</td>\n",
       "      <td>17.000000</td>\n",
       "      <td>1.000000</td>\n",
       "      <td>1.000000</td>\n",
       "      <td>1.000000</td>\n",
       "      <td>1.000000</td>\n",
       "    </tr>\n",
       "  </tbody>\n",
       "</table>\n",
       "</div>"
      ],
      "text/plain": [
       "        starRating          size  originalRate  baseOccupancy  \\\n",
       "count  4959.000000   4959.000000  4.959000e+03    4959.000000   \n",
       "mean      2.986288    110.373573  2.443721e+06       2.286146   \n",
       "std       1.555746    878.573270  3.805472e+06       1.311580   \n",
       "min       0.000000      0.000000  4.031300e+04       1.000000   \n",
       "25%       2.000000     24.000000  5.509640e+05       2.000000   \n",
       "50%       3.000000     35.000000  1.225344e+06       2.000000   \n",
       "75%       4.000000     65.000000  2.892562e+06       2.000000   \n",
       "max       6.000000  36000.000000  6.000000e+07      18.000000   \n",
       "\n",
       "       maxChildOccupancy  maxChildAge  isBreakfastIncluded  isWifiIncluded  \\\n",
       "count        4959.000000  4959.000000          4959.000000     4959.000000   \n",
       "mean            0.632991     6.683807             0.456745        0.898568   \n",
       "std             0.668251     3.826781             0.498176        0.301930   \n",
       "min             0.000000     0.000000             0.000000        0.000000   \n",
       "25%             0.000000     5.000000             0.000000        1.000000   \n",
       "50%             1.000000     5.000000             0.000000        1.000000   \n",
       "75%             1.000000    10.000000             1.000000        1.000000   \n",
       "max             8.000000    17.000000             1.000000        1.000000   \n",
       "\n",
       "       isRefundable  hasLivingRoom  \n",
       "count   4959.000000    4959.000000  \n",
       "mean       0.379714       0.065537  \n",
       "std        0.485365       0.247497  \n",
       "min        0.000000       0.000000  \n",
       "25%        0.000000       0.000000  \n",
       "50%        0.000000       0.000000  \n",
       "75%        1.000000       0.000000  \n",
       "max        1.000000       1.000000  "
      ]
     },
     "execution_count": 24,
     "metadata": {},
     "output_type": "execute_result"
    }
   ],
   "source": [
    "df.describe()"
   ]
  },
  {
   "cell_type": "markdown",
   "metadata": {},
   "source": [
    "- Nilai minimum pada kolom `size` adalah 0, yang berarti ada data yang tidak valid. "
   ]
  },
  {
   "cell_type": "code",
   "execution_count": 25,
   "metadata": {},
   "outputs": [],
   "source": [
    "# Drop rows if value in 'size' is 1 and below 1\n",
    "for i in range(len(df)):\n",
    "    x = df['size'][i]\n",
    "    if x <= 1:\n",
    "        df.drop(i, inplace=True, axis=0)"
   ]
  },
  {
   "cell_type": "code",
   "execution_count": 26,
   "metadata": {},
   "outputs": [
    {
     "name": "stdout",
     "output_type": "stream",
     "text": [
      "Total number of rows: 4921\n",
      "Total number of deleted rows: 4944\n",
      "Size Minimum value : 2.0\n"
     ]
    }
   ],
   "source": [
    "print(f'Total number of rows: {df.shape[0]}')\n",
    "print(f'Total number of deleted rows: {originalRows-df.shape[1]}')\n",
    "print('Size Minimum value : {}'.format(df['size'].min()))"
   ]
  },
  {
   "cell_type": "markdown",
   "metadata": {},
   "source": [
    "### Function"
   ]
  },
  {
   "cell_type": "code",
   "execution_count": 27,
   "metadata": {},
   "outputs": [],
   "source": [
    "# remove outlier with standard deviation\n",
    "def std_outlier(df, col):\n",
    "    std = df[col].std()\n",
    "    mean = df[col].mean()\n",
    "    return df[(df[col] < mean + 3 * std) & (df[col] > mean - 3 * std)]"
   ]
  },
  {
   "cell_type": "code",
   "execution_count": 28,
   "metadata": {},
   "outputs": [],
   "source": [
    "# count outlier with IQR\n",
    "def iqr_outlier(df, col):\n",
    "    q1 = df[col].quantile(0.25)\n",
    "    q3 = df[col].quantile(0.75)\n",
    "    iqr = q3 - q1\n",
    "    return df.loc[(df[col] <= q3 + 1.5 * iqr) & (df[col] >= q1 - 1.5 * iqr)]"
   ]
  },
  {
   "cell_type": "code",
   "execution_count": 29,
   "metadata": {},
   "outputs": [
    {
     "name": "stdout",
     "output_type": "stream",
     "text": [
      "0       1227273\n",
      "1        596694\n",
      "2       1450413\n",
      "3        855372\n",
      "4       2545455\n",
      "         ...   \n",
      "4954    1298481\n",
      "4955    1525148\n",
      "4956     228417\n",
      "4957    3264463\n",
      "4958     164187\n",
      "Name: originalRate, Length: 4921, dtype: int32 : \n",
      "number of outliers: 396\n",
      "max outlier value: 60000000\n",
      "min outlier value: 6414417\n"
     ]
    }
   ],
   "source": [
    "# Loop through each column and check for outliers\n",
    "q_1, q_3 = np.percentile(df.originalRate, [25, 75])\n",
    "iqr = q_3 - q_1\n",
    "fLow = q_1 - (1.5 * iqr)\n",
    "fHigh = q_3 + (1.5 * iqr)\n",
    "outliers = df.originalRate[((df.originalRate < (fLow)) | (df.originalRate > (fHigh)))]\n",
    "#   if outliers.max() > 0:\n",
    "    # df = df.loc[(df.originalRate >= (fLow)) & (df.originalRate <= (fHigh))]\n",
    "#     print(f'{df.originalRate} : ')\n",
    "#     print('number of outliers: '+ str(len(outliers))+ ' (drop)')\n",
    "#     print('max outlier value: '+ str(outliers.max()))\n",
    "#     print('min outlier value: '+ str(outliers.min()))\n",
    "print(f'{df.originalRate} : ')\n",
    "print('number of outliers: '+ str(len(outliers)))\n",
    "print('max outlier value: '+ str(outliers.max()))\n",
    "print('min outlier value: '+ str(outliers.min()))"
   ]
  },
  {
   "cell_type": "markdown",
   "metadata": {},
   "source": [
    "### Data Distribution"
   ]
  },
  {
   "cell_type": "markdown",
   "metadata": {},
   "source": [
    "#### OriginalRate Distribution"
   ]
  },
  {
   "cell_type": "code",
   "execution_count": 30,
   "metadata": {},
   "outputs": [
    {
     "name": "stdout",
     "output_type": "stream",
     "text": [
      "OriginalRate\n",
      "maximum value : 60000000\n",
      "minimum value : 40313\n",
      "skew value : 6.05\n"
     ]
    },
    {
     "data": {
      "text/plain": [
       "<Figure size 1600x800 with 0 Axes>"
      ]
     },
     "metadata": {},
     "output_type": "display_data"
    },
    {
     "data": {
      "image/png": "[encoded data removed]",
      "text/plain": [
       "<Figure size 500x500 with 1 Axes>"
      ]
     },
     "metadata": {},
     "output_type": "display_data"
    }
   ],
   "source": [
    "# OriginalRate Statistics\n",
    "print('OriginalRate')\n",
    "print(f'maximum value : {df.originalRate.max()}')\n",
    "print(f'minimum value : {df.originalRate.min()}')\n",
    "print(f'skew value : {round(df.originalRate.skew(), 2)}')\n",
    "\n",
    "# OriginalRate Distribution\n",
    "sns.set_style('darkgrid')\n",
    "plt.figure(figsize=(20, 10), dpi=80)\n",
    "sns.displot(df,x=\"originalRate\", kind=\"kde\", fill=True).set(title='OriginalRate Distribution')\n",
    "plt.show()"
   ]
  },
  {
   "cell_type": "code",
   "execution_count": 31,
   "metadata": {},
   "outputs": [
    {
     "name": "stdout",
     "output_type": "stream",
     "text": [
      "Deleted row : 396\n",
      "Total data : 4525\n"
     ]
    }
   ],
   "source": [
    "# Remove outlier in OriginalRate\n",
    "df_len = len(df)\n",
    "df = iqr_outlier(df, 'originalRate')\n",
    "df_len = df_len - len(df)\n",
    "print(f'Deleted row : {df_len}')\n",
    "print(f'Total data : {df.shape[0]}')"
   ]
  },
  {
   "cell_type": "code",
   "execution_count": 32,
   "metadata": {},
   "outputs": [
    {
     "name": "stdout",
     "output_type": "stream",
     "text": [
      "OriginalRate\n",
      "maximum value : 6400397\n",
      "minimum value : 40313\n",
      "skew value : 1.26\n"
     ]
    },
    {
     "data": {
      "text/plain": [
       "<Figure size 1600x800 with 0 Axes>"
      ]
     },
     "metadata": {},
     "output_type": "display_data"
    },
    {
     "data": {
      "image/png": "[encoded data removed]",
      "text/plain": [
       "<Figure size 500x500 with 1 Axes>"
      ]
     },
     "metadata": {},
     "output_type": "display_data"
    }
   ],
   "source": [
    "# OriginalRate Statistics\n",
    "print('OriginalRate')\n",
    "print(f'maximum value : {df.originalRate.max()}')\n",
    "print(f'minimum value : {df.originalRate.min()}')\n",
    "print(f'skew value : {round(df.originalRate.skew(), 2)}')\n",
    "\n",
    "# OriginalRate Distribution after removing outlier\n",
    "plt.figure(figsize=(20, 10), dpi=80)\n",
    "sns.set_style('darkgrid')\n",
    "sns.displot(df,x=\"originalRate\", kind=\"kde\", fill=True).set(title='OriginalRate Distribution')\n",
    "plt.show()"
   ]
  },
  {
   "cell_type": "markdown",
   "metadata": {},
   "source": [
    "#### OriginalRate based on starRating"
   ]
  },
  {
   "cell_type": "code",
   "execution_count": 33,
   "metadata": {},
   "outputs": [
    {
     "name": "stdout",
     "output_type": "stream",
     "text": [
      "OriginalRate Distribution by starRating\n",
      "4.0    1420\n",
      "3.0    1343\n",
      "0.0     668\n",
      "5.0     441\n",
      "2.0     413\n",
      "1.0     214\n",
      "3.5      17\n",
      "4.5       6\n",
      "1.5       3\n",
      "Name: starRating, dtype: int64\n"
     ]
    },
    {
     "data": {
      "image/png": "[encoded data removed]",
      "text/plain": [
       "<Figure size 1600x800 with 2 Axes>"
      ]
     },
     "metadata": {},
     "output_type": "display_data"
    }
   ],
   "source": [
    "# starRating Distribution\n",
    "value = df.starRating.value_counts()\n",
    "\n",
    "# starRating Distribution by percentage\n",
    "value_percentage = value / len(df) * 100\n",
    "\n",
    "print('OriginalRate Distribution by starRating')\n",
    "print(value)\n",
    "\n",
    "fig, ax = plt.subplots(1,2, figsize=(20, 10), dpi=80, gridspec_kw={'width_ratios': [1, 0.5]})\n",
    "sns.histplot(df,x=\"originalRate\", hue='starRating' ,palette='bright', ax=ax[0]).set(title='OriginalRate Distribution by starRating')\n",
    "\n",
    "# starRating percentage plot\n",
    "sns.barplot(x=value_percentage.index, y=value_percentage.values, palette='bright', ax=ax[1]).set(title='starRating percentage')\n",
    "\n",
    "fig.tight_layout()\n"
   ]
  },
  {
   "cell_type": "markdown",
   "metadata": {},
   "source": [
    "#### Size Distribution "
   ]
  },
  {
   "cell_type": "code",
   "execution_count": 34,
   "metadata": {},
   "outputs": [
    {
     "name": "stdout",
     "output_type": "stream",
     "text": [
      "Size\n",
      "maximum value : 36000.0\n",
      "minimum value : 2.0\n",
      "skew value : 35.50827824484883\n"
     ]
    },
    {
     "data": {
      "text/plain": [
       "<Figure size 1600x800 with 0 Axes>"
      ]
     },
     "metadata": {},
     "output_type": "display_data"
    },
    {
     "data": {
      "image/png": "[encoded data removed]",
      "text/plain": [
       "<Figure size 600x600 with 3 Axes>"
      ]
     },
     "metadata": {},
     "output_type": "display_data"
    }
   ],
   "source": [
    "# Size Statistics\n",
    "print('Size')\n",
    "print('maximum value : {}'.format(df['size'].max()))\n",
    "print('minimum value : {}'.format(df['size'].min()))\n",
    "print('skew value : {}'.format(df['size'].skew()))\n",
    "\n",
    "# Size Distribution plot\n",
    "plt.figure(figsize=(20, 10), dpi=80)\n",
    "sns.set_style('darkgrid')\n",
    "sns.jointplot(data=df, x='size', y='originalRate')\n",
    "plt.show()"
   ]
  },
  {
   "cell_type": "code",
   "execution_count": 35,
   "metadata": {},
   "outputs": [
    {
     "name": "stdout",
     "output_type": "stream",
     "text": [
      "Deleted row : 626\n",
      "(3899, 15)\n"
     ]
    }
   ],
   "source": [
    "df_len = len(df)\n",
    "df = iqr_outlier(df, 'size')\n",
    "df_len = df_len - len(df)\n",
    "print(f'Deleted row : {df_len}')\n",
    "print(df.shape)"
   ]
  },
  {
   "cell_type": "code",
   "execution_count": 36,
   "metadata": {},
   "outputs": [
    {
     "name": "stdout",
     "output_type": "stream",
     "text": [
      "Size\n",
      "maximum value : 99.0\n",
      "minimum value : 2.0\n",
      "skew value : 1.1688944757017654\n"
     ]
    },
    {
     "data": {
      "text/plain": [
       "<Figure size 1600x800 with 0 Axes>"
      ]
     },
     "metadata": {},
     "output_type": "display_data"
    },
    {
     "data": {
      "image/png": "[encoded data removed]",
      "text/plain": [
       "<Figure size 600x600 with 3 Axes>"
      ]
     },
     "metadata": {},
     "output_type": "display_data"
    }
   ],
   "source": [
    "# Size Statistics\n",
    "print('Size')\n",
    "print('maximum value : {}'.format(df['size'].max()))\n",
    "print('minimum value : {}'.format(df['size'].min()))\n",
    "print('skew value : {}'.format(df['size'].skew()))\n",
    "\n",
    "# Size Distribution plot\n",
    "plt.figure(figsize=(20, 10), dpi=80)\n",
    "sns.set_style('darkgrid')\n",
    "sns.jointplot(data=df, x='size', y='originalRate')\n",
    "plt.show()"
   ]
  },
  {
   "cell_type": "code",
   "execution_count": 37,
   "metadata": {},
   "outputs": [
    {
     "name": "stdout",
     "output_type": "stream",
     "text": [
      "Total rows : 3899\n",
      "Total deleted rows : 1060\n"
     ]
    }
   ],
   "source": [
    "# Output total deleted rows\n",
    "print(f'Total rows : {df.shape[0]}')\n",
    "print(f'Total deleted rows : {originalRows - df.shape[0]}')"
   ]
  },
  {
   "cell_type": "markdown",
   "metadata": {},
   "source": [
    "## Export Data to CSV"
   ]
  },
  {
   "cell_type": "code",
   "execution_count": 38,
   "metadata": {},
   "outputs": [
    {
     "name": "stdout",
     "output_type": "stream",
     "text": [
      "<class 'pandas.core.frame.DataFrame'>\n",
      "Int64Index: 3899 entries, 0 to 4958\n",
      "Data columns (total 15 columns):\n",
      " #   Column                   Non-Null Count  Dtype  \n",
      "---  ------                   --------------  -----  \n",
      " 0   type                     3899 non-null   object \n",
      " 1   city                     3899 non-null   object \n",
      " 2   hotelFacilities          3899 non-null   object \n",
      " 3   nearestPointOfInterests  3899 non-null   object \n",
      " 4   starRating               3899 non-null   float64\n",
      " 5   size                     3899 non-null   float64\n",
      " 6   originalRate             3899 non-null   int32  \n",
      " 7   baseOccupancy            3899 non-null   int64  \n",
      " 8   maxChildOccupancy        3899 non-null   int64  \n",
      " 9   maxChildAge              3899 non-null   int64  \n",
      " 10  isBreakfastIncluded      3899 non-null   int64  \n",
      " 11  isWifiIncluded           3899 non-null   int64  \n",
      " 12  isRefundable             3899 non-null   int64  \n",
      " 13  hasLivingRoom            3899 non-null   int64  \n",
      " 14  roomFacilities           3899 non-null   object \n",
      "dtypes: float64(2), int32(1), int64(7), object(5)\n",
      "memory usage: 601.2+ KB\n"
     ]
    }
   ],
   "source": [
    "df.to_csv('../Dataset/clean_data.csv', index=False)\n",
    "df.info()"
   ]
  }
 ],
 "metadata": {
  "kernelspec": {
   "display_name": "Python 3.10.6 64-bit",
   "language": "python",
   "name": "python3"
  },
  "language_info": {
   "codemirror_mode": {
    "name": "ipython",
    "version": 3
   },
   "file_extension": ".py",
   "mimetype": "text/x-python",
   "name": "python",
   "nbconvert_exporter": "python",
   "pygments_lexer": "ipython3",
   "version": "3.10.6"
  },
  "orig_nbformat": 4,
  "vscode": {
   "interpreter": {
    "hash": "c7c132e493bab3f05dc3eecde52b8af768e79f0c26a7d99c1a59f019ffce2dd8"
   }
  }
 },
 "nbformat": 4,
 "nbformat_minor": 2
}
