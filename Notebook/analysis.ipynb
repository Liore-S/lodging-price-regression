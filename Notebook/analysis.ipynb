{
 "cells": [
  {
   "cell_type": "code",
   "execution_count": 1,
   "metadata": {},
   "outputs": [],
   "source": [
    "import sqlite3\n",
    "import matplotlib.pyplot as plt\n",
    "import numpy as np\n",
    "import pandas as pd\n",
    "import seaborn as sns"
   ]
  },
  {
   "cell_type": "markdown",
   "metadata": {},
   "source": [
    "## Input Data"
   ]
  },
  {
   "cell_type": "code",
   "execution_count": 2,
   "metadata": {},
   "outputs": [],
   "source": [
    "con = sqlite3.connect('../Dataset/hotel-directories-ORI.sqlite3')\n",
    "df_room = pd.read_sql_query(\"SELECT * FROM hotel_rooms\", con)\n",
    "df_hotel = pd.read_sql_query(\"SELECT * FROM hotels\", con)"
   ]
  },
  {
   "cell_type": "code",
   "execution_count": 3,
   "metadata": {},
   "outputs": [
    {
     "data": {
      "text/html": [
       "<div>\n",
       "<style scoped>\n",
       "    .dataframe tbody tr th:only-of-type {\n",
       "        vertical-align: middle;\n",
       "    }\n",
       "\n",
       "    .dataframe tbody tr th {\n",
       "        vertical-align: top;\n",
       "    }\n",
       "\n",
       "    .dataframe thead th {\n",
       "        text-align: right;\n",
       "    }\n",
       "</style>\n",
       "<table border=\"1\" class=\"dataframe\">\n",
       "  <thead>\n",
       "    <tr style=\"text-align: right;\">\n",
       "      <th></th>\n",
       "      <th>id</th>\n",
       "      <th>hotelId</th>\n",
       "      <th>name</th>\n",
       "      <th>images</th>\n",
       "      <th>roomType</th>\n",
       "      <th>description</th>\n",
       "      <th>originalDescription</th>\n",
       "      <th>bedDescription</th>\n",
       "      <th>size</th>\n",
       "      <th>rate</th>\n",
       "      <th>...</th>\n",
       "      <th>numExtraBeds</th>\n",
       "      <th>numChargedRooms</th>\n",
       "      <th>numRemainingRooms</th>\n",
       "      <th>numBreakfastIncluded</th>\n",
       "      <th>isBreakfastIncluded</th>\n",
       "      <th>isWifiIncluded</th>\n",
       "      <th>isRefundable</th>\n",
       "      <th>hasLivingRoom</th>\n",
       "      <th>extraBedIsIncluded</th>\n",
       "      <th>facilities</th>\n",
       "    </tr>\n",
       "  </thead>\n",
       "  <tbody>\n",
       "    <tr>\n",
       "      <th>0</th>\n",
       "      <td>1000009181</td>\n",
       "      <td>3000020003208</td>\n",
       "      <td>Family</td>\n",
       "      <td>[\"https://ik.imagekit.io/tvlk/generic-asset/dg...</td>\n",
       "      <td>Family</td>\n",
       "      <td>None</td>\n",
       "      <td>None</td>\n",
       "      <td>None</td>\n",
       "      <td>30.0</td>\n",
       "      <td>{\"amount\":\"989182\",\"currency\":\"IDR\",\"tax\":\"207...</td>\n",
       "      <td>...</td>\n",
       "      <td>0</td>\n",
       "      <td>1</td>\n",
       "      <td>3</td>\n",
       "      <td>NaN</td>\n",
       "      <td>1</td>\n",
       "      <td>1</td>\n",
       "      <td>1</td>\n",
       "      <td>0</td>\n",
       "      <td>0</td>\n",
       "      <td>[\"AIR_CONDITIONING\",\"BATHROBES\",\"BLACKOUT_DRAP...</td>\n",
       "    </tr>\n",
       "    <tr>\n",
       "      <th>1</th>\n",
       "      <td>1000009219</td>\n",
       "      <td>3000020003208</td>\n",
       "      <td>President Suite</td>\n",
       "      <td>[\"https://ik.imagekit.io/tvlk/generic-asset/dg...</td>\n",
       "      <td>President Suite</td>\n",
       "      <td>None</td>\n",
       "      <td>None</td>\n",
       "      <td>None</td>\n",
       "      <td>75.0</td>\n",
       "      <td>{\"amount\":\"3272727\",\"currency\":\"IDR\",\"tax\":\"68...</td>\n",
       "      <td>...</td>\n",
       "      <td>0</td>\n",
       "      <td>1</td>\n",
       "      <td>1</td>\n",
       "      <td>NaN</td>\n",
       "      <td>1</td>\n",
       "      <td>1</td>\n",
       "      <td>1</td>\n",
       "      <td>0</td>\n",
       "      <td>0</td>\n",
       "      <td>[\"AIR_CONDITIONING\",\"BATHROBES\",\"BLACKOUT_DRAP...</td>\n",
       "    </tr>\n",
       "  </tbody>\n",
       "</table>\n",
       "<p>2 rows × 25 columns</p>\n",
       "</div>"
      ],
      "text/plain": [
       "           id        hotelId             name  \\\n",
       "0  1000009181  3000020003208           Family   \n",
       "1  1000009219  3000020003208  President Suite   \n",
       "\n",
       "                                              images         roomType  \\\n",
       "0  [\"https://ik.imagekit.io/tvlk/generic-asset/dg...           Family   \n",
       "1  [\"https://ik.imagekit.io/tvlk/generic-asset/dg...  President Suite   \n",
       "\n",
       "  description originalDescription bedDescription  size  \\\n",
       "0        None                None           None  30.0   \n",
       "1        None                None           None  75.0   \n",
       "\n",
       "                                                rate  ... numExtraBeds  \\\n",
       "0  {\"amount\":\"989182\",\"currency\":\"IDR\",\"tax\":\"207...  ...            0   \n",
       "1  {\"amount\":\"3272727\",\"currency\":\"IDR\",\"tax\":\"68...  ...            0   \n",
       "\n",
       "   numChargedRooms  numRemainingRooms  numBreakfastIncluded  \\\n",
       "0                1                  3                   NaN   \n",
       "1                1                  1                   NaN   \n",
       "\n",
       "   isBreakfastIncluded  isWifiIncluded  isRefundable  hasLivingRoom  \\\n",
       "0                    1               1             1              0   \n",
       "1                    1               1             1              0   \n",
       "\n",
       "   extraBedIsIncluded                                         facilities  \n",
       "0                   0  [\"AIR_CONDITIONING\",\"BATHROBES\",\"BLACKOUT_DRAP...  \n",
       "1                   0  [\"AIR_CONDITIONING\",\"BATHROBES\",\"BLACKOUT_DRAP...  \n",
       "\n",
       "[2 rows x 25 columns]"
      ]
     },
     "execution_count": 3,
     "metadata": {},
     "output_type": "execute_result"
    }
   ],
   "source": [
    "df_room.head(2)"
   ]
  },
  {
   "cell_type": "code",
   "execution_count": 4,
   "metadata": {},
   "outputs": [
    {
     "data": {
      "text/html": [
       "<div>\n",
       "<style scoped>\n",
       "    .dataframe tbody tr th:only-of-type {\n",
       "        vertical-align: middle;\n",
       "    }\n",
       "\n",
       "    .dataframe tbody tr th {\n",
       "        vertical-align: top;\n",
       "    }\n",
       "\n",
       "    .dataframe thead th {\n",
       "        text-align: right;\n",
       "    }\n",
       "</style>\n",
       "<table border=\"1\" class=\"dataframe\">\n",
       "  <thead>\n",
       "    <tr style=\"text-align: right;\">\n",
       "      <th></th>\n",
       "      <th>id</th>\n",
       "      <th>type</th>\n",
       "      <th>name</th>\n",
       "      <th>displayName</th>\n",
       "      <th>description</th>\n",
       "      <th>link</th>\n",
       "      <th>address</th>\n",
       "      <th>region</th>\n",
       "      <th>city</th>\n",
       "      <th>province</th>\n",
       "      <th>...</th>\n",
       "      <th>images</th>\n",
       "      <th>facilities</th>\n",
       "      <th>properties</th>\n",
       "      <th>nearestPointOfInterests</th>\n",
       "      <th>starRating</th>\n",
       "      <th>userRating</th>\n",
       "      <th>userRatingInfo</th>\n",
       "      <th>numReviews</th>\n",
       "      <th>latitude</th>\n",
       "      <th>longitude</th>\n",
       "    </tr>\n",
       "  </thead>\n",
       "  <tbody>\n",
       "    <tr>\n",
       "      <th>0</th>\n",
       "      <td>3000020003208</td>\n",
       "      <td>Hotel</td>\n",
       "      <td>Kyriad Hotel Muraya Aceh</td>\n",
       "      <td>Kyriad Hotel Muraya Aceh</td>\n",
       "      <td>&lt;p&gt;&lt;b&gt;Lokasi&lt;/b&gt;&lt;br&gt;Kyriad Hotel Muraya Aceh b...</td>\n",
       "      <td>https://www.traveloka.com/id-id/hotel/detail?s...</td>\n",
       "      <td>Jalan Tengku H. Mohd Daud Beureueuh No. 5 Kuta...</td>\n",
       "      <td>Aceh</td>\n",
       "      <td>Banda Aceh</td>\n",
       "      <td>Aceh</td>\n",
       "      <td>...</td>\n",
       "      <td>[\"https://ik.imagekit.io/tvlk/apr-asset/dgXfoy...</td>\n",
       "      <td>[\"CARPARK\",\"COFFEE_OR_TEA_IN_LOBBY\",\"COFFEE_SH...</td>\n",
       "      <td>{\"checkInTime\":\"14:00\",\"checkOutTime\":\"12:00\",...</td>\n",
       "      <td>[{\"landmarkId\":\"6254734\",\"geoId\":null,\"name\":\"...</td>\n",
       "      <td>4.0</td>\n",
       "      <td>8.6</td>\n",
       "      <td>Mengesankan</td>\n",
       "      <td>1845.0</td>\n",
       "      <td>5.556686</td>\n",
       "      <td>95.322269</td>\n",
       "    </tr>\n",
       "    <tr>\n",
       "      <th>1</th>\n",
       "      <td>3000010003879</td>\n",
       "      <td>Hotel</td>\n",
       "      <td>Hermes Palace by BENCOOLEN</td>\n",
       "      <td>Hermes Palace by BENCOOLEN</td>\n",
       "      <td>&lt;p&gt;&lt;b&gt;Lokasi&lt;/b&gt;&lt;br&gt;Hermes Palace by BENCOOLEN...</td>\n",
       "      <td>https://www.traveloka.com/id-id/hotel/detail?s...</td>\n",
       "      <td>Jalan. T. Panglima Nyak Makam Banda Aceh Aceh ...</td>\n",
       "      <td>Aceh</td>\n",
       "      <td>Banda Aceh</td>\n",
       "      <td>Aceh</td>\n",
       "      <td>...</td>\n",
       "      <td>[\"https://ik.imagekit.io/tvlk/apr-asset/dgXfoy...</td>\n",
       "      <td>[\"CARPARK\",\"COFFEE_SHOP\",\"ELEVATOR\",\"HAS_24_HO...</td>\n",
       "      <td>{\"checkInTime\":\"14:00\",\"checkOutTime\":\"12:00\",...</td>\n",
       "      <td>[{\"landmarkId\":\"6254734\",\"geoId\":null,\"name\":\"...</td>\n",
       "      <td>5.0</td>\n",
       "      <td>8.4</td>\n",
       "      <td>Mengesankan</td>\n",
       "      <td>2525.0</td>\n",
       "      <td>5.556202</td>\n",
       "      <td>95.344114</td>\n",
       "    </tr>\n",
       "  </tbody>\n",
       "</table>\n",
       "<p>2 rows × 24 columns</p>\n",
       "</div>"
      ],
      "text/plain": [
       "              id   type                        name  \\\n",
       "0  3000020003208  Hotel    Kyriad Hotel Muraya Aceh   \n",
       "1  3000010003879  Hotel  Hermes Palace by BENCOOLEN   \n",
       "\n",
       "                  displayName  \\\n",
       "0    Kyriad Hotel Muraya Aceh   \n",
       "1  Hermes Palace by BENCOOLEN   \n",
       "\n",
       "                                         description  \\\n",
       "0  <p><b>Lokasi</b><br>Kyriad Hotel Muraya Aceh b...   \n",
       "1  <p><b>Lokasi</b><br>Hermes Palace by BENCOOLEN...   \n",
       "\n",
       "                                                link  \\\n",
       "0  https://www.traveloka.com/id-id/hotel/detail?s...   \n",
       "1  https://www.traveloka.com/id-id/hotel/detail?s...   \n",
       "\n",
       "                                             address region        city  \\\n",
       "0  Jalan Tengku H. Mohd Daud Beureueuh No. 5 Kuta...   Aceh  Banda Aceh   \n",
       "1  Jalan. T. Panglima Nyak Makam Banda Aceh Aceh ...   Aceh  Banda Aceh   \n",
       "\n",
       "  province  ...                                             images  \\\n",
       "0     Aceh  ...  [\"https://ik.imagekit.io/tvlk/apr-asset/dgXfoy...   \n",
       "1     Aceh  ...  [\"https://ik.imagekit.io/tvlk/apr-asset/dgXfoy...   \n",
       "\n",
       "                                          facilities  \\\n",
       "0  [\"CARPARK\",\"COFFEE_OR_TEA_IN_LOBBY\",\"COFFEE_SH...   \n",
       "1  [\"CARPARK\",\"COFFEE_SHOP\",\"ELEVATOR\",\"HAS_24_HO...   \n",
       "\n",
       "                                          properties  \\\n",
       "0  {\"checkInTime\":\"14:00\",\"checkOutTime\":\"12:00\",...   \n",
       "1  {\"checkInTime\":\"14:00\",\"checkOutTime\":\"12:00\",...   \n",
       "\n",
       "                             nearestPointOfInterests starRating userRating  \\\n",
       "0  [{\"landmarkId\":\"6254734\",\"geoId\":null,\"name\":\"...        4.0        8.6   \n",
       "1  [{\"landmarkId\":\"6254734\",\"geoId\":null,\"name\":\"...        5.0        8.4   \n",
       "\n",
       "  userRatingInfo numReviews  latitude  longitude  \n",
       "0    Mengesankan     1845.0  5.556686  95.322269  \n",
       "1    Mengesankan     2525.0  5.556202  95.344114  \n",
       "\n",
       "[2 rows x 24 columns]"
      ]
     },
     "execution_count": 4,
     "metadata": {},
     "output_type": "execute_result"
    }
   ],
   "source": [
    "df_hotel.head(2)"
   ]
  },
  {
   "cell_type": "markdown",
   "metadata": {},
   "source": [
    "## Drop Unnecessary Column"
   ]
  },
  {
   "attachments": {},
   "cell_type": "markdown",
   "metadata": {},
   "source": [
    "### Room Table"
   ]
  },
  {
   "cell_type": "code",
   "execution_count": 5,
   "metadata": {},
   "outputs": [
    {
     "name": "stdout",
     "output_type": "stream",
     "text": [
      "numExtraBeds: 1\n",
      "numChargedRooms: 1\n",
      "extraBedIsIncluded: 1\n"
     ]
    }
   ],
   "source": [
    "for i in df_room.columns:\n",
    "    if df_room[i].nunique() == 1:\n",
    "        print(f'{i}: {df_room[i].nunique()}')"
   ]
  },
  {
   "cell_type": "code",
   "execution_count": 6,
   "metadata": {},
   "outputs": [
    {
     "data": {
      "text/html": [
       "<div>\n",
       "<style scoped>\n",
       "    .dataframe tbody tr th:only-of-type {\n",
       "        vertical-align: middle;\n",
       "    }\n",
       "\n",
       "    .dataframe tbody tr th {\n",
       "        vertical-align: top;\n",
       "    }\n",
       "\n",
       "    .dataframe thead th {\n",
       "        text-align: right;\n",
       "    }\n",
       "</style>\n",
       "<table border=\"1\" class=\"dataframe\">\n",
       "  <thead>\n",
       "    <tr style=\"text-align: right;\">\n",
       "      <th></th>\n",
       "      <th>id</th>\n",
       "      <th>hotelId</th>\n",
       "      <th>name</th>\n",
       "      <th>size</th>\n",
       "      <th>originalRate</th>\n",
       "      <th>baseOccupancy</th>\n",
       "      <th>maxChildOccupancy</th>\n",
       "      <th>maxChildAge</th>\n",
       "      <th>numBreakfastIncluded</th>\n",
       "      <th>isBreakfastIncluded</th>\n",
       "      <th>isWifiIncluded</th>\n",
       "      <th>isRefundable</th>\n",
       "      <th>hasLivingRoom</th>\n",
       "      <th>facilities</th>\n",
       "    </tr>\n",
       "  </thead>\n",
       "  <tbody>\n",
       "    <tr>\n",
       "      <th>0</th>\n",
       "      <td>1000009181</td>\n",
       "      <td>3000020003208</td>\n",
       "      <td>Family</td>\n",
       "      <td>30.0</td>\n",
       "      <td>{\"amount\":\"999174\",\"currency\":\"IDR\",\"tax\":\"209...</td>\n",
       "      <td>2</td>\n",
       "      <td>1</td>\n",
       "      <td>10</td>\n",
       "      <td>NaN</td>\n",
       "      <td>1</td>\n",
       "      <td>1</td>\n",
       "      <td>1</td>\n",
       "      <td>0</td>\n",
       "      <td>[\"AIR_CONDITIONING\",\"BATHROBES\",\"BLACKOUT_DRAP...</td>\n",
       "    </tr>\n",
       "    <tr>\n",
       "      <th>1</th>\n",
       "      <td>1000009219</td>\n",
       "      <td>3000020003208</td>\n",
       "      <td>President Suite</td>\n",
       "      <td>75.0</td>\n",
       "      <td>{\"amount\":\"3305785\",\"currency\":\"IDR\",\"tax\":\"69...</td>\n",
       "      <td>2</td>\n",
       "      <td>1</td>\n",
       "      <td>10</td>\n",
       "      <td>NaN</td>\n",
       "      <td>1</td>\n",
       "      <td>1</td>\n",
       "      <td>1</td>\n",
       "      <td>0</td>\n",
       "      <td>[\"AIR_CONDITIONING\",\"BATHROBES\",\"BLACKOUT_DRAP...</td>\n",
       "    </tr>\n",
       "  </tbody>\n",
       "</table>\n",
       "</div>"
      ],
      "text/plain": [
       "           id        hotelId             name  size  \\\n",
       "0  1000009181  3000020003208           Family  30.0   \n",
       "1  1000009219  3000020003208  President Suite  75.0   \n",
       "\n",
       "                                        originalRate  baseOccupancy  \\\n",
       "0  {\"amount\":\"999174\",\"currency\":\"IDR\",\"tax\":\"209...              2   \n",
       "1  {\"amount\":\"3305785\",\"currency\":\"IDR\",\"tax\":\"69...              2   \n",
       "\n",
       "   maxChildOccupancy  maxChildAge  numBreakfastIncluded  isBreakfastIncluded  \\\n",
       "0                  1           10                   NaN                    1   \n",
       "1                  1           10                   NaN                    1   \n",
       "\n",
       "   isWifiIncluded  isRefundable  hasLivingRoom  \\\n",
       "0               1             1              0   \n",
       "1               1             1              0   \n",
       "\n",
       "                                          facilities  \n",
       "0  [\"AIR_CONDITIONING\",\"BATHROBES\",\"BLACKOUT_DRAP...  \n",
       "1  [\"AIR_CONDITIONING\",\"BATHROBES\",\"BLACKOUT_DRAP...  "
      ]
     },
     "execution_count": 6,
     "metadata": {},
     "output_type": "execute_result"
    }
   ],
   "source": [
    "room_drop = ['images', 'description', 'bedDescription', 'originalDescription', 'rate', 'maxOccupancy', 'numRemainingRooms', \n",
    "            'extraBedIsIncluded', 'numExtraBeds', 'numChargedRooms', 'roomType']\n",
    "df_room.drop(room_drop, axis=1, inplace=True)\n",
    "\n",
    "df_room.head(2)"
   ]
  },
  {
   "attachments": {},
   "cell_type": "markdown",
   "metadata": {},
   "source": [
    "Description:\n",
    "- Drop the column with no relation to price estimation (`images`, `description`, `bedDescription`, `originalDescription`, `numRemainingRooms`, `roomType`)\n",
    "- Drop the column with only 1 unique value (`extraBedIsIncluded`, `numExtraBeds`, `numChargedRooms`)\n",
    "- Drop `rate` column because it is the discounted price from the original price (`originalRate`) on the platform\n",
    "- Drop `maxOccupancy` column because it is the same as `baseOccupancy`+`maxChildOccupancy` column"
   ]
  },
  {
   "attachments": {},
   "cell_type": "markdown",
   "metadata": {},
   "source": [
    "### Hotel Table"
   ]
  },
  {
   "cell_type": "code",
   "execution_count": 7,
   "metadata": {},
   "outputs": [
    {
     "name": "stdout",
     "output_type": "stream",
     "text": [
      "country: 1\n",
      "Column with 1 unique value\n"
     ]
    }
   ],
   "source": [
    "for i in df_hotel.columns:\n",
    "    if df_hotel[i].nunique() == 1:\n",
    "        print(f'{i}: {df_hotel[i].nunique()}')\n",
    "print('Column with 1 unique value')"
   ]
  },
  {
   "cell_type": "code",
   "execution_count": 8,
   "metadata": {},
   "outputs": [
    {
     "data": {
      "text/html": [
       "<div>\n",
       "<style scoped>\n",
       "    .dataframe tbody tr th:only-of-type {\n",
       "        vertical-align: middle;\n",
       "    }\n",
       "\n",
       "    .dataframe tbody tr th {\n",
       "        vertical-align: top;\n",
       "    }\n",
       "\n",
       "    .dataframe thead th {\n",
       "        text-align: right;\n",
       "    }\n",
       "</style>\n",
       "<table border=\"1\" class=\"dataframe\">\n",
       "  <thead>\n",
       "    <tr style=\"text-align: right;\">\n",
       "      <th></th>\n",
       "      <th>id</th>\n",
       "      <th>type</th>\n",
       "      <th>name</th>\n",
       "      <th>city</th>\n",
       "      <th>province</th>\n",
       "      <th>facilities</th>\n",
       "      <th>nearestPointOfInterests</th>\n",
       "      <th>starRating</th>\n",
       "    </tr>\n",
       "  </thead>\n",
       "  <tbody>\n",
       "    <tr>\n",
       "      <th>0</th>\n",
       "      <td>3000020003208</td>\n",
       "      <td>Hotel</td>\n",
       "      <td>Kyriad Hotel Muraya Aceh</td>\n",
       "      <td>Banda Aceh</td>\n",
       "      <td>Aceh</td>\n",
       "      <td>[\"CARPARK\",\"COFFEE_OR_TEA_IN_LOBBY\",\"COFFEE_SH...</td>\n",
       "      <td>[{\"landmarkId\":\"6254734\",\"geoId\":null,\"name\":\"...</td>\n",
       "      <td>4.0</td>\n",
       "    </tr>\n",
       "    <tr>\n",
       "      <th>1</th>\n",
       "      <td>3000010003879</td>\n",
       "      <td>Hotel</td>\n",
       "      <td>Hermes Palace by BENCOOLEN</td>\n",
       "      <td>Banda Aceh</td>\n",
       "      <td>Aceh</td>\n",
       "      <td>[\"CARPARK\",\"COFFEE_SHOP\",\"ELEVATOR\",\"HAS_24_HO...</td>\n",
       "      <td>[{\"landmarkId\":\"6254734\",\"geoId\":null,\"name\":\"...</td>\n",
       "      <td>5.0</td>\n",
       "    </tr>\n",
       "  </tbody>\n",
       "</table>\n",
       "</div>"
      ],
      "text/plain": [
       "              id   type                        name        city province  \\\n",
       "0  3000020003208  Hotel    Kyriad Hotel Muraya Aceh  Banda Aceh     Aceh   \n",
       "1  3000010003879  Hotel  Hermes Palace by BENCOOLEN  Banda Aceh     Aceh   \n",
       "\n",
       "                                          facilities  \\\n",
       "0  [\"CARPARK\",\"COFFEE_OR_TEA_IN_LOBBY\",\"COFFEE_SH...   \n",
       "1  [\"CARPARK\",\"COFFEE_SHOP\",\"ELEVATOR\",\"HAS_24_HO...   \n",
       "\n",
       "                             nearestPointOfInterests  starRating  \n",
       "0  [{\"landmarkId\":\"6254734\",\"geoId\":null,\"name\":\"...         4.0  \n",
       "1  [{\"landmarkId\":\"6254734\",\"geoId\":null,\"name\":\"...         5.0  "
      ]
     },
     "execution_count": 8,
     "metadata": {},
     "output_type": "execute_result"
    }
   ],
   "source": [
    "hotel_drop = ['displayName', 'description', 'link', 'address', 'region', 'country', 'geodirectoryId', 'postal', 'image', \n",
    "            'images', 'userRating', 'latitude', 'longitude', 'userRatingInfo', 'numReviews', 'properties', ]\n",
    "df_hotel.drop(hotel_drop, axis=1, inplace=True)\n",
    "\n",
    "df_hotel.head(2)"
   ]
  },
  {
   "attachments": {},
   "cell_type": "markdown",
   "metadata": {},
   "source": [
    "Description:\n",
    "- Drop the column with no relation to price estimation (`displayName`, `description`, `link`, `geodirectoryId`, `postal`, `image`, `images`)\n",
    "- Drop the column with only 1 unique value (`country`)\n",
    "- Drop `address`, `geodirectoryId`, `potal`, `latitude`, `longitude` because they are the same as `city` column"
   ]
  },
  {
   "cell_type": "markdown",
   "metadata": {},
   "source": [
    "## Combine Dataset Based on ID"
   ]
  },
  {
   "cell_type": "code",
   "execution_count": 9,
   "metadata": {},
   "outputs": [
    {
     "data": {
      "text/html": [
       "<div>\n",
       "<style scoped>\n",
       "    .dataframe tbody tr th:only-of-type {\n",
       "        vertical-align: middle;\n",
       "    }\n",
       "\n",
       "    .dataframe tbody tr th {\n",
       "        vertical-align: top;\n",
       "    }\n",
       "\n",
       "    .dataframe thead th {\n",
       "        text-align: right;\n",
       "    }\n",
       "</style>\n",
       "<table border=\"1\" class=\"dataframe\">\n",
       "  <thead>\n",
       "    <tr style=\"text-align: right;\">\n",
       "      <th></th>\n",
       "      <th>hotelId</th>\n",
       "      <th>type</th>\n",
       "      <th>hotelName</th>\n",
       "      <th>city</th>\n",
       "      <th>province</th>\n",
       "      <th>hotelFacilities</th>\n",
       "      <th>nearestPointOfInterests</th>\n",
       "      <th>starRating</th>\n",
       "    </tr>\n",
       "  </thead>\n",
       "  <tbody>\n",
       "    <tr>\n",
       "      <th>0</th>\n",
       "      <td>3000020003208</td>\n",
       "      <td>Hotel</td>\n",
       "      <td>Kyriad Hotel Muraya Aceh</td>\n",
       "      <td>Banda Aceh</td>\n",
       "      <td>Aceh</td>\n",
       "      <td>[\"CARPARK\",\"COFFEE_OR_TEA_IN_LOBBY\",\"COFFEE_SH...</td>\n",
       "      <td>[{\"landmarkId\":\"6254734\",\"geoId\":null,\"name\":\"...</td>\n",
       "      <td>4.0</td>\n",
       "    </tr>\n",
       "    <tr>\n",
       "      <th>1</th>\n",
       "      <td>3000010003879</td>\n",
       "      <td>Hotel</td>\n",
       "      <td>Hermes Palace by BENCOOLEN</td>\n",
       "      <td>Banda Aceh</td>\n",
       "      <td>Aceh</td>\n",
       "      <td>[\"CARPARK\",\"COFFEE_SHOP\",\"ELEVATOR\",\"HAS_24_HO...</td>\n",
       "      <td>[{\"landmarkId\":\"6254734\",\"geoId\":null,\"name\":\"...</td>\n",
       "      <td>5.0</td>\n",
       "    </tr>\n",
       "  </tbody>\n",
       "</table>\n",
       "</div>"
      ],
      "text/plain": [
       "         hotelId   type                   hotelName        city province  \\\n",
       "0  3000020003208  Hotel    Kyriad Hotel Muraya Aceh  Banda Aceh     Aceh   \n",
       "1  3000010003879  Hotel  Hermes Palace by BENCOOLEN  Banda Aceh     Aceh   \n",
       "\n",
       "                                     hotelFacilities  \\\n",
       "0  [\"CARPARK\",\"COFFEE_OR_TEA_IN_LOBBY\",\"COFFEE_SH...   \n",
       "1  [\"CARPARK\",\"COFFEE_SHOP\",\"ELEVATOR\",\"HAS_24_HO...   \n",
       "\n",
       "                             nearestPointOfInterests  starRating  \n",
       "0  [{\"landmarkId\":\"6254734\",\"geoId\":null,\"name\":\"...         4.0  \n",
       "1  [{\"landmarkId\":\"6254734\",\"geoId\":null,\"name\":\"...         5.0  "
      ]
     },
     "execution_count": 9,
     "metadata": {},
     "output_type": "execute_result"
    }
   ],
   "source": [
    "# rename columns\n",
    "\n",
    "df_hotel.rename(columns={'id': 'hotelId'}, inplace=True)\n",
    "df_hotel.rename(columns={'name': 'hotelName'}, inplace=True)\n",
    "df_hotel.rename(columns={'facilities': 'hotelFacilities'}, inplace=True)\n",
    "df_room.rename(columns={'facilities': 'roomFacilities'}, inplace=True)\n",
    "df_hotel.head(2)"
   ]
  },
  {
   "cell_type": "code",
   "execution_count": 10,
   "metadata": {},
   "outputs": [
    {
     "data": {
      "text/html": [
       "<div>\n",
       "<style scoped>\n",
       "    .dataframe tbody tr th:only-of-type {\n",
       "        vertical-align: middle;\n",
       "    }\n",
       "\n",
       "    .dataframe tbody tr th {\n",
       "        vertical-align: top;\n",
       "    }\n",
       "\n",
       "    .dataframe thead th {\n",
       "        text-align: right;\n",
       "    }\n",
       "</style>\n",
       "<table border=\"1\" class=\"dataframe\">\n",
       "  <thead>\n",
       "    <tr style=\"text-align: right;\">\n",
       "      <th></th>\n",
       "      <th>hotelId</th>\n",
       "      <th>type</th>\n",
       "      <th>hotelName</th>\n",
       "      <th>city</th>\n",
       "      <th>province</th>\n",
       "      <th>hotelFacilities</th>\n",
       "      <th>nearestPointOfInterests</th>\n",
       "      <th>starRating</th>\n",
       "      <th>id</th>\n",
       "      <th>name</th>\n",
       "      <th>...</th>\n",
       "      <th>originalRate</th>\n",
       "      <th>baseOccupancy</th>\n",
       "      <th>maxChildOccupancy</th>\n",
       "      <th>maxChildAge</th>\n",
       "      <th>numBreakfastIncluded</th>\n",
       "      <th>isBreakfastIncluded</th>\n",
       "      <th>isWifiIncluded</th>\n",
       "      <th>isRefundable</th>\n",
       "      <th>hasLivingRoom</th>\n",
       "      <th>roomFacilities</th>\n",
       "    </tr>\n",
       "  </thead>\n",
       "  <tbody>\n",
       "    <tr>\n",
       "      <th>0</th>\n",
       "      <td>3000020003208</td>\n",
       "      <td>Hotel</td>\n",
       "      <td>Kyriad Hotel Muraya Aceh</td>\n",
       "      <td>Banda Aceh</td>\n",
       "      <td>Aceh</td>\n",
       "      <td>[\"CARPARK\",\"COFFEE_OR_TEA_IN_LOBBY\",\"COFFEE_SH...</td>\n",
       "      <td>[{\"landmarkId\":\"6254734\",\"geoId\":null,\"name\":\"...</td>\n",
       "      <td>4.0</td>\n",
       "      <td>1000009181</td>\n",
       "      <td>Family</td>\n",
       "      <td>...</td>\n",
       "      <td>{\"amount\":\"999174\",\"currency\":\"IDR\",\"tax\":\"209...</td>\n",
       "      <td>2</td>\n",
       "      <td>1</td>\n",
       "      <td>10</td>\n",
       "      <td>NaN</td>\n",
       "      <td>1</td>\n",
       "      <td>1</td>\n",
       "      <td>1</td>\n",
       "      <td>0</td>\n",
       "      <td>[\"AIR_CONDITIONING\",\"BATHROBES\",\"BLACKOUT_DRAP...</td>\n",
       "    </tr>\n",
       "    <tr>\n",
       "      <th>1</th>\n",
       "      <td>3000020003208</td>\n",
       "      <td>Hotel</td>\n",
       "      <td>Kyriad Hotel Muraya Aceh</td>\n",
       "      <td>Banda Aceh</td>\n",
       "      <td>Aceh</td>\n",
       "      <td>[\"CARPARK\",\"COFFEE_OR_TEA_IN_LOBBY\",\"COFFEE_SH...</td>\n",
       "      <td>[{\"landmarkId\":\"6254734\",\"geoId\":null,\"name\":\"...</td>\n",
       "      <td>4.0</td>\n",
       "      <td>1000009219</td>\n",
       "      <td>President Suite</td>\n",
       "      <td>...</td>\n",
       "      <td>{\"amount\":\"3305785\",\"currency\":\"IDR\",\"tax\":\"69...</td>\n",
       "      <td>2</td>\n",
       "      <td>1</td>\n",
       "      <td>10</td>\n",
       "      <td>NaN</td>\n",
       "      <td>1</td>\n",
       "      <td>1</td>\n",
       "      <td>1</td>\n",
       "      <td>0</td>\n",
       "      <td>[\"AIR_CONDITIONING\",\"BATHROBES\",\"BLACKOUT_DRAP...</td>\n",
       "    </tr>\n",
       "  </tbody>\n",
       "</table>\n",
       "<p>2 rows × 21 columns</p>\n",
       "</div>"
      ],
      "text/plain": [
       "         hotelId   type                 hotelName        city province  \\\n",
       "0  3000020003208  Hotel  Kyriad Hotel Muraya Aceh  Banda Aceh     Aceh   \n",
       "1  3000020003208  Hotel  Kyriad Hotel Muraya Aceh  Banda Aceh     Aceh   \n",
       "\n",
       "                                     hotelFacilities  \\\n",
       "0  [\"CARPARK\",\"COFFEE_OR_TEA_IN_LOBBY\",\"COFFEE_SH...   \n",
       "1  [\"CARPARK\",\"COFFEE_OR_TEA_IN_LOBBY\",\"COFFEE_SH...   \n",
       "\n",
       "                             nearestPointOfInterests  starRating          id  \\\n",
       "0  [{\"landmarkId\":\"6254734\",\"geoId\":null,\"name\":\"...         4.0  1000009181   \n",
       "1  [{\"landmarkId\":\"6254734\",\"geoId\":null,\"name\":\"...         4.0  1000009219   \n",
       "\n",
       "              name  ...                                       originalRate  \\\n",
       "0           Family  ...  {\"amount\":\"999174\",\"currency\":\"IDR\",\"tax\":\"209...   \n",
       "1  President Suite  ...  {\"amount\":\"3305785\",\"currency\":\"IDR\",\"tax\":\"69...   \n",
       "\n",
       "  baseOccupancy  maxChildOccupancy  maxChildAge  numBreakfastIncluded  \\\n",
       "0             2                  1           10                   NaN   \n",
       "1             2                  1           10                   NaN   \n",
       "\n",
       "   isBreakfastIncluded  isWifiIncluded  isRefundable  hasLivingRoom  \\\n",
       "0                    1               1             1              0   \n",
       "1                    1               1             1              0   \n",
       "\n",
       "                                      roomFacilities  \n",
       "0  [\"AIR_CONDITIONING\",\"BATHROBES\",\"BLACKOUT_DRAP...  \n",
       "1  [\"AIR_CONDITIONING\",\"BATHROBES\",\"BLACKOUT_DRAP...  \n",
       "\n",
       "[2 rows x 21 columns]"
      ]
     },
     "execution_count": 10,
     "metadata": {},
     "output_type": "execute_result"
    }
   ],
   "source": [
    "df = pd.merge(df_hotel, df_room, on='hotelId', how='inner')\n",
    "df.head(2)"
   ]
  },
  {
   "cell_type": "markdown",
   "metadata": {},
   "source": [
    "### Filter for Bali Province"
   ]
  },
  {
   "cell_type": "code",
   "execution_count": 11,
   "metadata": {},
   "outputs": [
    {
     "data": {
      "text/plain": [
       "(7221, 21)"
      ]
     },
     "execution_count": 11,
     "metadata": {},
     "output_type": "execute_result"
    }
   ],
   "source": [
    "df = df[df['province'] == 'Bali']\n",
    "df.reset_index(drop=True, inplace=True)\n",
    "df.shape"
   ]
  },
  {
   "cell_type": "code",
   "execution_count": 12,
   "metadata": {},
   "outputs": [
    {
     "name": "stdout",
     "output_type": "stream",
     "text": [
      "Total Hotel : 2720\n",
      "Total Hotel Room : 7221\n"
     ]
    }
   ],
   "source": [
    "print(f'Total Hotel : {df.hotelId.nunique()}')\n",
    "print(f'Total Hotel Room : {df.shape[0]}')"
   ]
  },
  {
   "cell_type": "code",
   "execution_count": 13,
   "metadata": {},
   "outputs": [
    {
     "name": "stdout",
     "output_type": "stream",
     "text": [
      "(7221, 16)\n"
     ]
    },
    {
     "data": {
      "text/html": [
       "<div>\n",
       "<style scoped>\n",
       "    .dataframe tbody tr th:only-of-type {\n",
       "        vertical-align: middle;\n",
       "    }\n",
       "\n",
       "    .dataframe tbody tr th {\n",
       "        vertical-align: top;\n",
       "    }\n",
       "\n",
       "    .dataframe thead th {\n",
       "        text-align: right;\n",
       "    }\n",
       "</style>\n",
       "<table border=\"1\" class=\"dataframe\">\n",
       "  <thead>\n",
       "    <tr style=\"text-align: right;\">\n",
       "      <th></th>\n",
       "      <th>type</th>\n",
       "      <th>city</th>\n",
       "      <th>hotelFacilities</th>\n",
       "      <th>nearestPointOfInterests</th>\n",
       "      <th>starRating</th>\n",
       "      <th>size</th>\n",
       "      <th>originalRate</th>\n",
       "      <th>baseOccupancy</th>\n",
       "      <th>maxChildOccupancy</th>\n",
       "      <th>maxChildAge</th>\n",
       "      <th>numBreakfastIncluded</th>\n",
       "      <th>isBreakfastIncluded</th>\n",
       "      <th>isWifiIncluded</th>\n",
       "      <th>isRefundable</th>\n",
       "      <th>hasLivingRoom</th>\n",
       "      <th>roomFacilities</th>\n",
       "    </tr>\n",
       "  </thead>\n",
       "  <tbody>\n",
       "    <tr>\n",
       "      <th>0</th>\n",
       "      <td>Hotel</td>\n",
       "      <td>Badung</td>\n",
       "      <td>[\"CARPARK\",\"ELEVATOR\",\"HAS_24_HOUR_ROOM_SERVIC...</td>\n",
       "      <td>[{\"landmarkId\":\"91589773100576\",\"geoId\":null,\"...</td>\n",
       "      <td>4.0</td>\n",
       "      <td>46.0</td>\n",
       "      <td>{\"amount\":\"1227273\",\"currency\":\"IDR\",\"tax\":\"25...</td>\n",
       "      <td>3</td>\n",
       "      <td>1</td>\n",
       "      <td>5</td>\n",
       "      <td>NaN</td>\n",
       "      <td>1</td>\n",
       "      <td>1</td>\n",
       "      <td>1</td>\n",
       "      <td>0</td>\n",
       "      <td>[\"AIR_CONDITIONING\",\"BALCONY_TERRACE\",\"BATHROB...</td>\n",
       "    </tr>\n",
       "    <tr>\n",
       "      <th>1</th>\n",
       "      <td>Hotel</td>\n",
       "      <td>Badung</td>\n",
       "      <td>[\"CARPARK\",\"ELEVATOR\",\"HAS_24_HOUR_ROOM_SERVIC...</td>\n",
       "      <td>[{\"landmarkId\":\"91589773100576\",\"geoId\":null,\"...</td>\n",
       "      <td>4.0</td>\n",
       "      <td>31.0</td>\n",
       "      <td>{\"amount\":\"596694\",\"currency\":\"IDR\",\"tax\":\"125...</td>\n",
       "      <td>2</td>\n",
       "      <td>1</td>\n",
       "      <td>5</td>\n",
       "      <td>NaN</td>\n",
       "      <td>0</td>\n",
       "      <td>1</td>\n",
       "      <td>1</td>\n",
       "      <td>0</td>\n",
       "      <td>[\"AIR_CONDITIONING\",\"BATHROBES\",\"BATHTUB\",\"BLA...</td>\n",
       "    </tr>\n",
       "    <tr>\n",
       "      <th>2</th>\n",
       "      <td>Hotel</td>\n",
       "      <td>Badung</td>\n",
       "      <td>[\"CARPARK\",\"ELEVATOR\",\"HAS_24_HOUR_ROOM_SERVIC...</td>\n",
       "      <td>[{\"landmarkId\":\"91589773100576\",\"geoId\":null,\"...</td>\n",
       "      <td>4.0</td>\n",
       "      <td>52.0</td>\n",
       "      <td>{\"amount\":\"1450413\",\"currency\":\"IDR\",\"tax\":\"30...</td>\n",
       "      <td>2</td>\n",
       "      <td>1</td>\n",
       "      <td>5</td>\n",
       "      <td>NaN</td>\n",
       "      <td>1</td>\n",
       "      <td>1</td>\n",
       "      <td>1</td>\n",
       "      <td>1</td>\n",
       "      <td>[\"AIR_CONDITIONING\",\"BALCONY_TERRACE\",\"BATHROB...</td>\n",
       "    </tr>\n",
       "  </tbody>\n",
       "</table>\n",
       "</div>"
      ],
      "text/plain": [
       "    type    city                                    hotelFacilities  \\\n",
       "0  Hotel  Badung  [\"CARPARK\",\"ELEVATOR\",\"HAS_24_HOUR_ROOM_SERVIC...   \n",
       "1  Hotel  Badung  [\"CARPARK\",\"ELEVATOR\",\"HAS_24_HOUR_ROOM_SERVIC...   \n",
       "2  Hotel  Badung  [\"CARPARK\",\"ELEVATOR\",\"HAS_24_HOUR_ROOM_SERVIC...   \n",
       "\n",
       "                             nearestPointOfInterests  starRating  size  \\\n",
       "0  [{\"landmarkId\":\"91589773100576\",\"geoId\":null,\"...         4.0  46.0   \n",
       "1  [{\"landmarkId\":\"91589773100576\",\"geoId\":null,\"...         4.0  31.0   \n",
       "2  [{\"landmarkId\":\"91589773100576\",\"geoId\":null,\"...         4.0  52.0   \n",
       "\n",
       "                                        originalRate  baseOccupancy  \\\n",
       "0  {\"amount\":\"1227273\",\"currency\":\"IDR\",\"tax\":\"25...              3   \n",
       "1  {\"amount\":\"596694\",\"currency\":\"IDR\",\"tax\":\"125...              2   \n",
       "2  {\"amount\":\"1450413\",\"currency\":\"IDR\",\"tax\":\"30...              2   \n",
       "\n",
       "   maxChildOccupancy  maxChildAge  numBreakfastIncluded  isBreakfastIncluded  \\\n",
       "0                  1            5                   NaN                    1   \n",
       "1                  1            5                   NaN                    0   \n",
       "2                  1            5                   NaN                    1   \n",
       "\n",
       "   isWifiIncluded  isRefundable  hasLivingRoom  \\\n",
       "0               1             1              0   \n",
       "1               1             1              0   \n",
       "2               1             1              1   \n",
       "\n",
       "                                      roomFacilities  \n",
       "0  [\"AIR_CONDITIONING\",\"BALCONY_TERRACE\",\"BATHROB...  \n",
       "1  [\"AIR_CONDITIONING\",\"BATHROBES\",\"BATHTUB\",\"BLA...  \n",
       "2  [\"AIR_CONDITIONING\",\"BALCONY_TERRACE\",\"BATHROB...  "
      ]
     },
     "execution_count": 13,
     "metadata": {},
     "output_type": "execute_result"
    }
   ],
   "source": [
    "# drop another columns\n",
    "drop = ['hotelId', 'hotelName', 'province', 'id', 'name']\n",
    "for column_name in drop:\n",
    "    df.drop(column_name, axis=1, inplace=True)\n",
    "print(df.shape)\n",
    "df.head(3)"
   ]
  },
  {
   "cell_type": "markdown",
   "metadata": {},
   "source": [
    "## Original Rate/Target Processing"
   ]
  },
  {
   "cell_type": "code",
   "execution_count": 14,
   "metadata": {},
   "outputs": [
    {
     "data": {
      "text/plain": [
       "'{\"amount\":\"1227273\",\"currency\":\"IDR\",\"tax\":\"257727\"}'"
      ]
     },
     "execution_count": 14,
     "metadata": {},
     "output_type": "execute_result"
    }
   ],
   "source": [
    "df.loc[0, 'originalRate']"
   ]
  },
  {
   "cell_type": "code",
   "execution_count": 15,
   "metadata": {},
   "outputs": [
    {
     "data": {
      "text/html": [
       "<div>\n",
       "<style scoped>\n",
       "    .dataframe tbody tr th:only-of-type {\n",
       "        vertical-align: middle;\n",
       "    }\n",
       "\n",
       "    .dataframe tbody tr th {\n",
       "        vertical-align: top;\n",
       "    }\n",
       "\n",
       "    .dataframe thead th {\n",
       "        text-align: right;\n",
       "    }\n",
       "</style>\n",
       "<table border=\"1\" class=\"dataframe\">\n",
       "  <thead>\n",
       "    <tr style=\"text-align: right;\">\n",
       "      <th></th>\n",
       "      <th>type</th>\n",
       "      <th>city</th>\n",
       "      <th>hotelFacilities</th>\n",
       "      <th>nearestPointOfInterests</th>\n",
       "      <th>starRating</th>\n",
       "      <th>size</th>\n",
       "      <th>originalRate</th>\n",
       "      <th>baseOccupancy</th>\n",
       "      <th>maxChildOccupancy</th>\n",
       "      <th>maxChildAge</th>\n",
       "      <th>numBreakfastIncluded</th>\n",
       "      <th>isBreakfastIncluded</th>\n",
       "      <th>isWifiIncluded</th>\n",
       "      <th>isRefundable</th>\n",
       "      <th>hasLivingRoom</th>\n",
       "      <th>roomFacilities</th>\n",
       "    </tr>\n",
       "  </thead>\n",
       "  <tbody>\n",
       "    <tr>\n",
       "      <th>0</th>\n",
       "      <td>Hotel</td>\n",
       "      <td>Badung</td>\n",
       "      <td>[\"CARPARK\",\"ELEVATOR\",\"HAS_24_HOUR_ROOM_SERVIC...</td>\n",
       "      <td>[{\"landmarkId\":\"91589773100576\",\"geoId\":null,\"...</td>\n",
       "      <td>4.0</td>\n",
       "      <td>46.0</td>\n",
       "      <td>1227273</td>\n",
       "      <td>3</td>\n",
       "      <td>1</td>\n",
       "      <td>5</td>\n",
       "      <td>NaN</td>\n",
       "      <td>1</td>\n",
       "      <td>1</td>\n",
       "      <td>1</td>\n",
       "      <td>0</td>\n",
       "      <td>[\"AIR_CONDITIONING\",\"BALCONY_TERRACE\",\"BATHROB...</td>\n",
       "    </tr>\n",
       "    <tr>\n",
       "      <th>1</th>\n",
       "      <td>Hotel</td>\n",
       "      <td>Badung</td>\n",
       "      <td>[\"CARPARK\",\"ELEVATOR\",\"HAS_24_HOUR_ROOM_SERVIC...</td>\n",
       "      <td>[{\"landmarkId\":\"91589773100576\",\"geoId\":null,\"...</td>\n",
       "      <td>4.0</td>\n",
       "      <td>31.0</td>\n",
       "      <td>596694</td>\n",
       "      <td>2</td>\n",
       "      <td>1</td>\n",
       "      <td>5</td>\n",
       "      <td>NaN</td>\n",
       "      <td>0</td>\n",
       "      <td>1</td>\n",
       "      <td>1</td>\n",
       "      <td>0</td>\n",
       "      <td>[\"AIR_CONDITIONING\",\"BATHROBES\",\"BATHTUB\",\"BLA...</td>\n",
       "    </tr>\n",
       "  </tbody>\n",
       "</table>\n",
       "</div>"
      ],
      "text/plain": [
       "    type    city                                    hotelFacilities  \\\n",
       "0  Hotel  Badung  [\"CARPARK\",\"ELEVATOR\",\"HAS_24_HOUR_ROOM_SERVIC...   \n",
       "1  Hotel  Badung  [\"CARPARK\",\"ELEVATOR\",\"HAS_24_HOUR_ROOM_SERVIC...   \n",
       "\n",
       "                             nearestPointOfInterests  starRating  size  \\\n",
       "0  [{\"landmarkId\":\"91589773100576\",\"geoId\":null,\"...         4.0  46.0   \n",
       "1  [{\"landmarkId\":\"91589773100576\",\"geoId\":null,\"...         4.0  31.0   \n",
       "\n",
       "   originalRate  baseOccupancy  maxChildOccupancy  maxChildAge  \\\n",
       "0       1227273              3                  1            5   \n",
       "1        596694              2                  1            5   \n",
       "\n",
       "   numBreakfastIncluded  isBreakfastIncluded  isWifiIncluded  isRefundable  \\\n",
       "0                   NaN                    1               1             1   \n",
       "1                   NaN                    0               1             1   \n",
       "\n",
       "   hasLivingRoom                                     roomFacilities  \n",
       "0              0  [\"AIR_CONDITIONING\",\"BALCONY_TERRACE\",\"BATHROB...  \n",
       "1              0  [\"AIR_CONDITIONING\",\"BATHROBES\",\"BATHTUB\",\"BLA...  "
      ]
     },
     "execution_count": 15,
     "metadata": {},
     "output_type": "execute_result"
    }
   ],
   "source": [
    "# Exstract original rate\n",
    "for i in range (len(df['originalRate'])):\n",
    "    df.loc[i, 'originalRate'] = df['originalRate'][i].split('\"')[3]\n",
    "    # df['originalRate'][i] = int(df['originalRate'][i].split('\"')[11])\n",
    "df['originalRate'] = df['originalRate'].astype(int)\n",
    "df.head(2)"
   ]
  },
  {
   "cell_type": "code",
   "execution_count": 16,
   "metadata": {},
   "outputs": [
    {
     "data": {
      "text/plain": [
       "(7221, 16)"
      ]
     },
     "execution_count": 16,
     "metadata": {},
     "output_type": "execute_result"
    }
   ],
   "source": [
    "df.shape"
   ]
  },
  {
   "cell_type": "code",
   "execution_count": 17,
   "metadata": {},
   "outputs": [
    {
     "name": "stdout",
     "output_type": "stream",
     "text": [
      "<class 'pandas.core.frame.DataFrame'>\n",
      "RangeIndex: 7221 entries, 0 to 7220\n",
      "Data columns (total 16 columns):\n",
      " #   Column                   Non-Null Count  Dtype  \n",
      "---  ------                   --------------  -----  \n",
      " 0   type                     7221 non-null   object \n",
      " 1   city                     7221 non-null   object \n",
      " 2   hotelFacilities          7221 non-null   object \n",
      " 3   nearestPointOfInterests  7221 non-null   object \n",
      " 4   starRating               7221 non-null   float64\n",
      " 5   size                     5137 non-null   object \n",
      " 6   originalRate             7221 non-null   int32  \n",
      " 7   baseOccupancy            7221 non-null   int64  \n",
      " 8   maxChildOccupancy        7221 non-null   int64  \n",
      " 9   maxChildAge              7221 non-null   int64  \n",
      " 10  numBreakfastIncluded     133 non-null    float64\n",
      " 11  isBreakfastIncluded      7221 non-null   int64  \n",
      " 12  isWifiIncluded           7221 non-null   int64  \n",
      " 13  isRefundable             7221 non-null   int64  \n",
      " 14  hasLivingRoom            7221 non-null   int64  \n",
      " 15  roomFacilities           7221 non-null   object \n",
      "dtypes: float64(2), int32(1), int64(7), object(6)\n",
      "memory usage: 874.5+ KB\n"
     ]
    }
   ],
   "source": [
    "# Checking the data type\n",
    "df.info()"
   ]
  },
  {
   "cell_type": "code",
   "execution_count": 18,
   "metadata": {},
   "outputs": [
    {
     "data": {
      "text/plain": [
       "dtype('float64')"
      ]
     },
     "execution_count": 18,
     "metadata": {},
     "output_type": "execute_result"
    }
   ],
   "source": [
    "# change size data type to float\n",
    "df['size'] = df['size'].astype(float)\n",
    "df['size'].dtype"
   ]
  },
  {
   "cell_type": "markdown",
   "metadata": {},
   "source": [
    "---------"
   ]
  },
  {
   "cell_type": "markdown",
   "metadata": {},
   "source": [
    "## Data Analysis and Cleaning"
   ]
  },
  {
   "attachments": {},
   "cell_type": "markdown",
   "metadata": {},
   "source": [
    "### Check Missing and Duplicate value"
   ]
  },
  {
   "cell_type": "code",
   "execution_count": 19,
   "metadata": {},
   "outputs": [
    {
     "data": {
      "text/plain": [
       "type                          0\n",
       "city                          0\n",
       "hotelFacilities               0\n",
       "nearestPointOfInterests       0\n",
       "starRating                    0\n",
       "size                       2084\n",
       "originalRate                  0\n",
       "baseOccupancy                 0\n",
       "maxChildOccupancy             0\n",
       "maxChildAge                   0\n",
       "numBreakfastIncluded       7088\n",
       "isBreakfastIncluded           0\n",
       "isWifiIncluded                0\n",
       "isRefundable                  0\n",
       "hasLivingRoom                 0\n",
       "roomFacilities                0\n",
       "dtype: int64"
      ]
     },
     "execution_count": 19,
     "metadata": {},
     "output_type": "execute_result"
    }
   ],
   "source": [
    "df.isnull().sum()"
   ]
  },
  {
   "attachments": {},
   "cell_type": "markdown",
   "metadata": {},
   "source": [
    "- Because the amount of nan value in `numBreakfastIncluded` column is too high, we will drop this column\n",
    "- `size` will be handled after some analysis"
   ]
  },
  {
   "cell_type": "code",
   "execution_count": 20,
   "metadata": {},
   "outputs": [],
   "source": [
    "df.drop(['numBreakfastIncluded'], axis=1, inplace=True)"
   ]
  },
  {
   "cell_type": "code",
   "execution_count": 21,
   "metadata": {},
   "outputs": [
    {
     "data": {
      "text/plain": [
       "275"
      ]
     },
     "execution_count": 21,
     "metadata": {},
     "output_type": "execute_result"
    }
   ],
   "source": [
    "# show index who has duplicate value\n",
    "df.duplicated().sum()"
   ]
  },
  {
   "cell_type": "code",
   "execution_count": 22,
   "metadata": {},
   "outputs": [
    {
     "data": {
      "text/plain": [
       "(6946, 15)"
      ]
     },
     "execution_count": 22,
     "metadata": {},
     "output_type": "execute_result"
    }
   ],
   "source": [
    "df.drop_duplicates(inplace=True)\n",
    "# df.dropna(inplace=True)\n",
    "df.reset_index(drop=True, inplace=True)\n",
    "df.shape"
   ]
  },
  {
   "cell_type": "markdown",
   "metadata": {},
   "source": [
    "### Data Statistics"
   ]
  },
  {
   "cell_type": "code",
   "execution_count": 23,
   "metadata": {},
   "outputs": [
    {
     "name": "stdout",
     "output_type": "stream",
     "text": [
      "Total number of rows: 6946\n",
      "Total number of columns: 15\n"
     ]
    }
   ],
   "source": [
    "originalRows = df.shape[0]\n",
    "\n",
    "print(f'Total number of rows: {df.shape[0]}')\n",
    "print(f'Total number of columns: {df.shape[1]}')"
   ]
  },
  {
   "cell_type": "code",
   "execution_count": 24,
   "metadata": {},
   "outputs": [
    {
     "data": {
      "text/html": [
       "<div>\n",
       "<style scoped>\n",
       "    .dataframe tbody tr th:only-of-type {\n",
       "        vertical-align: middle;\n",
       "    }\n",
       "\n",
       "    .dataframe tbody tr th {\n",
       "        vertical-align: top;\n",
       "    }\n",
       "\n",
       "    .dataframe thead th {\n",
       "        text-align: right;\n",
       "    }\n",
       "</style>\n",
       "<table border=\"1\" class=\"dataframe\">\n",
       "  <thead>\n",
       "    <tr style=\"text-align: right;\">\n",
       "      <th></th>\n",
       "      <th>starRating</th>\n",
       "      <th>size</th>\n",
       "      <th>originalRate</th>\n",
       "      <th>baseOccupancy</th>\n",
       "      <th>maxChildOccupancy</th>\n",
       "      <th>maxChildAge</th>\n",
       "      <th>isBreakfastIncluded</th>\n",
       "      <th>isWifiIncluded</th>\n",
       "      <th>isRefundable</th>\n",
       "      <th>hasLivingRoom</th>\n",
       "    </tr>\n",
       "  </thead>\n",
       "  <tbody>\n",
       "    <tr>\n",
       "      <th>count</th>\n",
       "      <td>6946.000000</td>\n",
       "      <td>4959.000000</td>\n",
       "      <td>6.946000e+03</td>\n",
       "      <td>6946.000000</td>\n",
       "      <td>6946.000000</td>\n",
       "      <td>6946.000000</td>\n",
       "      <td>6946.000000</td>\n",
       "      <td>6946.000000</td>\n",
       "      <td>6946.000000</td>\n",
       "      <td>6946.000000</td>\n",
       "    </tr>\n",
       "    <tr>\n",
       "      <th>mean</th>\n",
       "      <td>2.940901</td>\n",
       "      <td>110.373573</td>\n",
       "      <td>2.765252e+06</td>\n",
       "      <td>2.023179</td>\n",
       "      <td>0.489922</td>\n",
       "      <td>5.200547</td>\n",
       "      <td>0.479413</td>\n",
       "      <td>0.880651</td>\n",
       "      <td>0.401958</td>\n",
       "      <td>0.048229</td>\n",
       "    </tr>\n",
       "    <tr>\n",
       "      <th>std</th>\n",
       "      <td>1.549356</td>\n",
       "      <td>878.573270</td>\n",
       "      <td>7.782595e+06</td>\n",
       "      <td>1.403547</td>\n",
       "      <td>0.658531</td>\n",
       "      <td>4.367687</td>\n",
       "      <td>0.499612</td>\n",
       "      <td>0.324222</td>\n",
       "      <td>0.490329</td>\n",
       "      <td>0.214266</td>\n",
       "    </tr>\n",
       "    <tr>\n",
       "      <th>min</th>\n",
       "      <td>0.000000</td>\n",
       "      <td>0.000000</td>\n",
       "      <td>4.031300e+04</td>\n",
       "      <td>1.000000</td>\n",
       "      <td>0.000000</td>\n",
       "      <td>0.000000</td>\n",
       "      <td>0.000000</td>\n",
       "      <td>0.000000</td>\n",
       "      <td>0.000000</td>\n",
       "      <td>0.000000</td>\n",
       "    </tr>\n",
       "    <tr>\n",
       "      <th>25%</th>\n",
       "      <td>2.000000</td>\n",
       "      <td>24.000000</td>\n",
       "      <td>5.509640e+05</td>\n",
       "      <td>1.000000</td>\n",
       "      <td>0.000000</td>\n",
       "      <td>0.000000</td>\n",
       "      <td>0.000000</td>\n",
       "      <td>1.000000</td>\n",
       "      <td>0.000000</td>\n",
       "      <td>0.000000</td>\n",
       "    </tr>\n",
       "    <tr>\n",
       "      <th>50%</th>\n",
       "      <td>3.000000</td>\n",
       "      <td>35.000000</td>\n",
       "      <td>1.239669e+06</td>\n",
       "      <td>2.000000</td>\n",
       "      <td>0.000000</td>\n",
       "      <td>5.000000</td>\n",
       "      <td>0.000000</td>\n",
       "      <td>1.000000</td>\n",
       "      <td>0.000000</td>\n",
       "      <td>0.000000</td>\n",
       "    </tr>\n",
       "    <tr>\n",
       "      <th>75%</th>\n",
       "      <td>4.000000</td>\n",
       "      <td>65.000000</td>\n",
       "      <td>2.977504e+06</td>\n",
       "      <td>2.000000</td>\n",
       "      <td>1.000000</td>\n",
       "      <td>10.000000</td>\n",
       "      <td>1.000000</td>\n",
       "      <td>1.000000</td>\n",
       "      <td>1.000000</td>\n",
       "      <td>0.000000</td>\n",
       "    </tr>\n",
       "    <tr>\n",
       "      <th>max</th>\n",
       "      <td>6.000000</td>\n",
       "      <td>36000.000000</td>\n",
       "      <td>3.175333e+08</td>\n",
       "      <td>30.000000</td>\n",
       "      <td>10.000000</td>\n",
       "      <td>17.000000</td>\n",
       "      <td>1.000000</td>\n",
       "      <td>1.000000</td>\n",
       "      <td>1.000000</td>\n",
       "      <td>1.000000</td>\n",
       "    </tr>\n",
       "  </tbody>\n",
       "</table>\n",
       "</div>"
      ],
      "text/plain": [
       "        starRating          size  originalRate  baseOccupancy  \\\n",
       "count  6946.000000   4959.000000  6.946000e+03    6946.000000   \n",
       "mean      2.940901    110.373573  2.765252e+06       2.023179   \n",
       "std       1.549356    878.573270  7.782595e+06       1.403547   \n",
       "min       0.000000      0.000000  4.031300e+04       1.000000   \n",
       "25%       2.000000     24.000000  5.509640e+05       1.000000   \n",
       "50%       3.000000     35.000000  1.239669e+06       2.000000   \n",
       "75%       4.000000     65.000000  2.977504e+06       2.000000   \n",
       "max       6.000000  36000.000000  3.175333e+08      30.000000   \n",
       "\n",
       "       maxChildOccupancy  maxChildAge  isBreakfastIncluded  isWifiIncluded  \\\n",
       "count        6946.000000  6946.000000          6946.000000     6946.000000   \n",
       "mean            0.489922     5.200547             0.479413        0.880651   \n",
       "std             0.658531     4.367687             0.499612        0.324222   \n",
       "min             0.000000     0.000000             0.000000        0.000000   \n",
       "25%             0.000000     0.000000             0.000000        1.000000   \n",
       "50%             0.000000     5.000000             0.000000        1.000000   \n",
       "75%             1.000000    10.000000             1.000000        1.000000   \n",
       "max            10.000000    17.000000             1.000000        1.000000   \n",
       "\n",
       "       isRefundable  hasLivingRoom  \n",
       "count   6946.000000    6946.000000  \n",
       "mean       0.401958       0.048229  \n",
       "std        0.490329       0.214266  \n",
       "min        0.000000       0.000000  \n",
       "25%        0.000000       0.000000  \n",
       "50%        0.000000       0.000000  \n",
       "75%        1.000000       0.000000  \n",
       "max        1.000000       1.000000  "
      ]
     },
     "execution_count": 24,
     "metadata": {},
     "output_type": "execute_result"
    }
   ],
   "source": [
    "df.describe()"
   ]
  },
  {
   "cell_type": "markdown",
   "metadata": {},
   "source": [
    "- Nilai minimum pada kolom `size` adalah 0, yang berarti ada data yang tidak valid. "
   ]
  },
  {
   "cell_type": "code",
   "execution_count": 25,
   "metadata": {},
   "outputs": [
    {
     "name": "stdout",
     "output_type": "stream",
     "text": [
      "Number of unique values above 10 in each column:\n",
      "starRating: 11\n",
      "size: 330\n",
      "originalRate: 3778\n",
      "baseOccupancy: 17\n",
      "maxChildAge: 18\n"
     ]
    }
   ],
   "source": [
    "# print the number of unique values in each column\n",
    "print('Number of unique values above 10 in each column:')\n",
    "for i in df.describe().columns:\n",
    "    if df[i].nunique() > 10:\n",
    "        print(f'{i}: {df[i].nunique()}')"
   ]
  },
  {
   "cell_type": "code",
   "execution_count": 26,
   "metadata": {},
   "outputs": [
    {
     "name": "stdout",
     "output_type": "stream",
     "text": [
      "Total number of rows: 6908\n",
      "Total number of deleted rows: 6931\n",
      "Size Minimum value : 2.0\n"
     ]
    }
   ],
   "source": [
    "# Drop rows if value in 'size' is 1 and below 1\n",
    "for i in range(len(df)):\n",
    "    x = df['size'][i]\n",
    "    if x <= 1:\n",
    "        df.drop(i, inplace=True, axis=0)\n",
    "\n",
    "print(f'Total number of rows: {df.shape[0]}')\n",
    "print(f'Total number of deleted rows: {originalRows-df.shape[1]}')\n",
    "print('Size Minimum value : {}'.format(df['size'].min()))"
   ]
  },
  {
   "cell_type": "markdown",
   "metadata": {},
   "source": [
    "### Function"
   ]
  },
  {
   "cell_type": "code",
   "execution_count": 27,
   "metadata": {},
   "outputs": [],
   "source": [
    "# count outlier with IQR\n",
    "def iqr_outlier(df, col):\n",
    "    q1 = df[col].quantile(0.25)\n",
    "    q3 = df[col].quantile(0.75)\n",
    "    iqr = q3 - q1\n",
    "    outliers = df[col][((df[col] < (q1 - 1-5 * iqr)) | (df[col] > (q3 + 1.5 * iqr)))]\n",
    "    print('Number of outliers: '+ str(len(outliers)))\n",
    "    print('Max outlier value: '+ str(outliers.max()))\n",
    "    print('Min outlier value: '+ str(outliers.min()))   \n",
    "    return df.loc[(df[col] <= q3 + 1.5 * iqr) & (df[col] >= q1 - 1.5 * iqr)]"
   ]
  },
  {
   "cell_type": "markdown",
   "metadata": {},
   "source": [
    "### Data Distribution"
   ]
  },
  {
   "cell_type": "markdown",
   "metadata": {},
   "source": [
    "#### OriginalRate Distribution"
   ]
  },
  {
   "cell_type": "code",
   "execution_count": 28,
   "metadata": {},
   "outputs": [
    {
     "name": "stdout",
     "output_type": "stream",
     "text": [
      "OriginalRate\n",
      "maximum value : 317533333\n",
      "minimum value : 40313\n",
      "skew value : 21.34\n"
     ]
    },
    {
     "data": {
      "text/plain": [
       "<Figure size 1600x800 with 0 Axes>"
      ]
     },
     "metadata": {},
     "output_type": "display_data"
    },
    {
     "data": {
      "image/png": "[encoded data removed]",
      "text/plain": [
       "<Figure size 500x500 with 1 Axes>"
      ]
     },
     "metadata": {},
     "output_type": "display_data"
    }
   ],
   "source": [
    "# OriginalRate Statistics\n",
    "print('OriginalRate')\n",
    "print(f'maximum value : {df.originalRate.max()}')\n",
    "print(f'minimum value : {df.originalRate.min()}')\n",
    "print(f'skew value : {round(df.originalRate.skew(), 2)}')\n",
    "\n",
    "# OriginalRate Distribution\n",
    "sns.set_style('darkgrid')\n",
    "plt.figure(figsize=(20, 10), dpi=80)\n",
    "sns.displot(df,x=\"originalRate\", kind=\"kde\", fill=True).set(title='OriginalRate Distribution')\n",
    "plt.show()"
   ]
  },
  {
   "cell_type": "code",
   "execution_count": 29,
   "metadata": {},
   "outputs": [
    {
     "name": "stdout",
     "output_type": "stream",
     "text": [
      "Number of outliers: 554\n",
      "Max outlier value: 317533333\n",
      "Min outlier value: 6617993\n",
      "Deleted row : 554\n",
      "Remaining data : 6354\n"
     ]
    }
   ],
   "source": [
    "# Remove outlier in OriginalRate\n",
    "df_len = len(df)\n",
    "df = iqr_outlier(df, 'originalRate')\n",
    "df_len = df_len - len(df)\n",
    "print(f'Deleted row : {df_len}')\n",
    "print(f'Remaining data : {df.shape[0]}')"
   ]
  },
  {
   "cell_type": "code",
   "execution_count": 30,
   "metadata": {},
   "outputs": [
    {
     "name": "stdout",
     "output_type": "stream",
     "text": [
      "OriginalRate\n",
      "Maximum value : 6611571\n",
      "Minimum value : 40313\n",
      "Skew value : 1.3\n"
     ]
    },
    {
     "data": {
      "text/plain": [
       "<Figure size 1600x800 with 0 Axes>"
      ]
     },
     "metadata": {},
     "output_type": "display_data"
    },
    {
     "data": {
      "image/png": "[encoded data removed]",
      "text/plain": [
       "<Figure size 500x500 with 1 Axes>"
      ]
     },
     "metadata": {},
     "output_type": "display_data"
    }
   ],
   "source": [
    "# OriginalRate Statistics\n",
    "print('OriginalRate')\n",
    "print(f'Maximum value : {df.originalRate.max()}')\n",
    "print(f'Minimum value : {df.originalRate.min()}')\n",
    "print(f'Skew value : {round(df.originalRate.skew(), 2)}')\n",
    "\n",
    "# OriginalRate Distribution after removing outlier\n",
    "plt.figure(figsize=(20, 10), dpi=80)\n",
    "sns.set_style('darkgrid')\n",
    "sns.displot(df,x=\"originalRate\", kind=\"kde\", fill=True).set(title='OriginalRate Distribution')\n",
    "plt.show()"
   ]
  },
  {
   "cell_type": "markdown",
   "metadata": {},
   "source": [
    "#### OriginalRate based on starRating"
   ]
  },
  {
   "cell_type": "code",
   "execution_count": 31,
   "metadata": {},
   "outputs": [
    {
     "name": "stdout",
     "output_type": "stream",
     "text": [
      "OriginalRate Distribution by starRating\n",
      "3.0    1958\n",
      "4.0    1772\n",
      "0.0     967\n",
      "5.0     597\n",
      "2.0     539\n",
      "1.0     308\n",
      "3.5     132\n",
      "2.5      56\n",
      "1.5      14\n",
      "4.5      11\n",
      "Name: starRating, dtype: int64\n"
     ]
    },
    {
     "data": {
      "image/png": "[encoded data removed]",
      "text/plain": [
       "<Figure size 1600x800 with 2 Axes>"
      ]
     },
     "metadata": {},
     "output_type": "display_data"
    }
   ],
   "source": [
    "# starRating Distribution\n",
    "value = df.starRating.value_counts()\n",
    "\n",
    "# starRating Distribution by percentage\n",
    "value_percentage = value / len(df) * 100\n",
    "\n",
    "print('OriginalRate Distribution by starRating')\n",
    "print(value)\n",
    "\n",
    "fig, ax = plt.subplots(1,2, figsize=(20, 10), dpi=80, gridspec_kw={'width_ratios': [1, 0.5]})\n",
    "sns.histplot(df,x=\"originalRate\", hue='starRating' ,palette='bright', ax=ax[0]).set(title='OriginalRate Distribution by starRating')\n",
    "\n",
    "# starRating percentage plot\n",
    "sns.barplot(x=value_percentage.index, y=value_percentage.values, palette='bright', ax=ax[1]).set(title='starRating percentage')\n",
    "\n",
    "fig.tight_layout()\n"
   ]
  },
  {
   "attachments": {},
   "cell_type": "markdown",
   "metadata": {},
   "source": [
    "- Because the amount of `starRating` with 0.5 star is to low, we will handle it with removing 0.5 `starRating`\n",
    "- Change `starRating` to integer"
   ]
  },
  {
   "cell_type": "code",
   "execution_count": 32,
   "metadata": {},
   "outputs": [
    {
     "name": "stdout",
     "output_type": "stream",
     "text": [
      "OriginalRate Distribution by starRating\n",
      "3    2090\n",
      "4    1783\n",
      "0     967\n",
      "5     597\n",
      "2     595\n",
      "1     322\n",
      "Name: starRating, dtype: int64\n"
     ]
    },
    {
     "data": {
      "image/png": "[encoded data removed]",
      "text/plain": [
       "<Figure size 1600x800 with 2 Axes>"
      ]
     },
     "metadata": {},
     "output_type": "display_data"
    }
   ],
   "source": [
    "# change .5 star\n",
    "df['starRating'] = df['starRating'].replace(1.5, 1)\n",
    "df['starRating'] = df['starRating'].replace(2.5, 2)\n",
    "df['starRating'] = df['starRating'].replace(3.5, 3)\n",
    "df['starRating'] = df['starRating'].replace(4.5, 4)\n",
    "# change starRating to interger\n",
    "df['starRating'] = df['starRating'].astype(int)\n",
    "\n",
    "# starRating Distribution\n",
    "value = df.starRating.value_counts()\n",
    "\n",
    "# starRating Distribution by percentage\n",
    "value_percentage = value / len(df) * 100\n",
    "\n",
    "print('OriginalRate Distribution by starRating')\n",
    "print(value)\n",
    "\n",
    "fig, ax = plt.subplots(1,2, figsize=(20, 10), dpi=80, gridspec_kw={'width_ratios': [1, 0.5]})\n",
    "sns.histplot(df,x=\"originalRate\", hue='starRating' ,palette='bright', ax=ax[0]).set(title='OriginalRate Distribution by starRating')\n",
    "\n",
    "# starRating percentage plot\n",
    "sns.barplot(x=value_percentage.index, y=value_percentage.values, palette='bright', ax=ax[1]).set(title='starRating percentage')\n",
    "\n",
    "fig.tight_layout()\n"
   ]
  },
  {
   "cell_type": "code",
   "execution_count": 33,
   "metadata": {},
   "outputs": [
    {
     "data": {
      "image/png": "[encoded data removed]",
      "text/plain": [
       "<Figure size 1600x800 with 6 Axes>"
      ]
     },
     "metadata": {},
     "output_type": "display_data"
    }
   ],
   "source": [
    "filtered_0 = df[df['starRating'] == 0.0]\n",
    "filtered_1 = df[df['starRating'] == 1.0]\n",
    "filtered_2 = df[df['starRating'] == 2.0]\n",
    "filtered_3 = df[df['starRating'] == 3.0]\n",
    "filtered_4 = df[df['starRating'] == 4.0]\n",
    "filtered_5 = df[df['starRating'] == 5.0]\n",
    "\n",
    "# OriginalRate Distribution by starRating using hisplot inside subplot\n",
    "fig, ax = plt.subplots(2,3, figsize=(20, 10), dpi=80, gridspec_kw={'width_ratios': [1, 1, 1]})\n",
    "sns.histplot(filtered_0,x=\"originalRate\", ax=ax[0,0]).set(title='OriginalRate Distribution by 0 starRating')\n",
    "sns.histplot(filtered_1,x=\"originalRate\", ax=ax[0,1]).set(title='OriginalRate Distribution by 1 starRating')\n",
    "sns.histplot(filtered_2,x=\"originalRate\", ax=ax[0,2]).set(title='OriginalRate Distribution by 2 starRating')\n",
    "sns.histplot(filtered_3,x=\"originalRate\", ax=ax[1,0]).set(title='OriginalRate Distribution by 3 starRating')\n",
    "sns.histplot(filtered_4,x=\"originalRate\", ax=ax[1,1]).set(title='OriginalRate Distribution by 4 starRating')\n",
    "sns.histplot(filtered_5,x=\"originalRate\", ax=ax[1,2]).set(title='OriginalRate Distribution by 5 starRating')\n",
    "fig.tight_layout()"
   ]
  },
  {
   "cell_type": "code",
   "execution_count": 34,
   "metadata": {},
   "outputs": [
    {
     "data": {
      "text/html": [
       "<div>\n",
       "<style scoped>\n",
       "    .dataframe tbody tr th:only-of-type {\n",
       "        vertical-align: middle;\n",
       "    }\n",
       "\n",
       "    .dataframe tbody tr th {\n",
       "        vertical-align: top;\n",
       "    }\n",
       "\n",
       "    .dataframe thead tr th {\n",
       "        text-align: left;\n",
       "    }\n",
       "\n",
       "    .dataframe thead tr:last-of-type th {\n",
       "        text-align: right;\n",
       "    }\n",
       "</style>\n",
       "<table border=\"1\" class=\"dataframe\">\n",
       "  <thead>\n",
       "    <tr>\n",
       "      <th></th>\n",
       "      <th colspan=\"7\" halign=\"left\">originalRate</th>\n",
       "    </tr>\n",
       "    <tr>\n",
       "      <th></th>\n",
       "      <th>mean</th>\n",
       "      <th>std</th>\n",
       "      <th>min</th>\n",
       "      <th>max</th>\n",
       "      <th>&lt;lambda_0&gt;</th>\n",
       "      <th>median</th>\n",
       "      <th>&lt;lambda_1&gt;</th>\n",
       "    </tr>\n",
       "    <tr>\n",
       "      <th>starRating</th>\n",
       "      <th></th>\n",
       "      <th></th>\n",
       "      <th></th>\n",
       "      <th></th>\n",
       "      <th></th>\n",
       "      <th></th>\n",
       "      <th></th>\n",
       "    </tr>\n",
       "  </thead>\n",
       "  <tbody>\n",
       "    <tr>\n",
       "      <th>0</th>\n",
       "      <td>1.084746e+06</td>\n",
       "      <td>1.259045e+06</td>\n",
       "      <td>60607</td>\n",
       "      <td>6611570</td>\n",
       "      <td>330579.00</td>\n",
       "      <td>584023.0</td>\n",
       "      <td>1276033.00</td>\n",
       "    </tr>\n",
       "    <tr>\n",
       "      <th>1</th>\n",
       "      <td>4.462668e+05</td>\n",
       "      <td>4.969806e+05</td>\n",
       "      <td>40313</td>\n",
       "      <td>6446281</td>\n",
       "      <td>195913.25</td>\n",
       "      <td>309917.0</td>\n",
       "      <td>512193.75</td>\n",
       "    </tr>\n",
       "    <tr>\n",
       "      <th>2</th>\n",
       "      <td>5.933323e+05</td>\n",
       "      <td>6.836323e+05</td>\n",
       "      <td>55096</td>\n",
       "      <td>5730028</td>\n",
       "      <td>268854.50</td>\n",
       "      <td>413223.0</td>\n",
       "      <td>656328.50</td>\n",
       "    </tr>\n",
       "    <tr>\n",
       "      <th>3</th>\n",
       "      <td>1.200529e+06</td>\n",
       "      <td>9.682570e+05</td>\n",
       "      <td>95041</td>\n",
       "      <td>6611571</td>\n",
       "      <td>550964.00</td>\n",
       "      <td>893939.5</td>\n",
       "      <td>1487603.00</td>\n",
       "    </tr>\n",
       "    <tr>\n",
       "      <th>4</th>\n",
       "      <td>2.463116e+06</td>\n",
       "      <td>1.542309e+06</td>\n",
       "      <td>231405</td>\n",
       "      <td>6611571</td>\n",
       "      <td>1194903.50</td>\n",
       "      <td>2103719.0</td>\n",
       "      <td>3493823.50</td>\n",
       "    </tr>\n",
       "    <tr>\n",
       "      <th>5</th>\n",
       "      <td>3.577792e+06</td>\n",
       "      <td>1.476333e+06</td>\n",
       "      <td>698347</td>\n",
       "      <td>6611571</td>\n",
       "      <td>2383571.00</td>\n",
       "      <td>3504384.0</td>\n",
       "      <td>4608688.00</td>\n",
       "    </tr>\n",
       "  </tbody>\n",
       "</table>\n",
       "</div>"
      ],
      "text/plain": [
       "            originalRate                                             \\\n",
       "                    mean           std     min      max  <lambda_0>   \n",
       "starRating                                                            \n",
       "0           1.084746e+06  1.259045e+06   60607  6611570   330579.00   \n",
       "1           4.462668e+05  4.969806e+05   40313  6446281   195913.25   \n",
       "2           5.933323e+05  6.836323e+05   55096  5730028   268854.50   \n",
       "3           1.200529e+06  9.682570e+05   95041  6611571   550964.00   \n",
       "4           2.463116e+06  1.542309e+06  231405  6611571  1194903.50   \n",
       "5           3.577792e+06  1.476333e+06  698347  6611571  2383571.00   \n",
       "\n",
       "                                   \n",
       "               median  <lambda_1>  \n",
       "starRating                         \n",
       "0            584023.0  1276033.00  \n",
       "1            309917.0   512193.75  \n",
       "2            413223.0   656328.50  \n",
       "3            893939.5  1487603.00  \n",
       "4           2103719.0  3493823.50  \n",
       "5           3504384.0  4608688.00  "
      ]
     },
     "execution_count": 34,
     "metadata": {},
     "output_type": "execute_result"
    }
   ],
   "source": [
    "df.groupby('starRating').agg(\n",
    "    {'originalRate': ['mean', 'std', 'min', 'max',lambda x: x.quantile(0.25),'median', lambda x: x.quantile(0.75)]})"
   ]
  },
  {
   "cell_type": "code",
   "execution_count": 35,
   "metadata": {},
   "outputs": [],
   "source": [
    "q1b1 = df[df['starRating'] == 1.0]['originalRate'].quantile(0.25)\n",
    "q1b2 = df[df['starRating'] == 2.0]['originalRate'].quantile(0.25)\n",
    "q1b3 = df[df['starRating'] == 3.0]['originalRate'].quantile(0.25)\n",
    "q1b4 = df[df['starRating'] == 4.0]['originalRate'].quantile(0.25)\n",
    "q1b5 = df[df['starRating'] == 5.0]['originalRate'].quantile(0.25)"
   ]
  },
  {
   "cell_type": "code",
   "execution_count": 36,
   "metadata": {},
   "outputs": [],
   "source": [
    "# change starRating value based on originalRate 25% from other starRating\n",
    "for i in range(0,5):\n",
    "    if i == 0:\n",
    "        df.loc[(df['starRating'] == i) & (df['originalRate'] > q1b1), 'starRating'] += 1.0\n",
    "    elif i == 1:\n",
    "        df.loc[(df['starRating'] == i) & (df['originalRate'] > q1b2), 'starRating'] += 1.0\n",
    "    elif i == 2:\n",
    "        df.loc[(df['starRating'] == i) & (df['originalRate'] > q1b3), 'starRating'] += 1.0\n",
    "    elif i == 3:\n",
    "        df.loc[(df['starRating'] == i) & (df['originalRate'] > q1b4), 'starRating'] += 1.0\n",
    "    elif i == 4:\n",
    "        df.loc[(df['starRating'] == i) & (df['originalRate'] > q1b5), 'starRating'] += 1.0"
   ]
  },
  {
   "cell_type": "code",
   "execution_count": 37,
   "metadata": {},
   "outputs": [
    {
     "name": "stdout",
     "output_type": "stream",
     "text": [
      "OriginalRate Distribution by starRating\n",
      "3    1790\n",
      "5    1732\n",
      "4    1707\n",
      "2     823\n",
      "1     201\n",
      "0     101\n",
      "Name: starRating, dtype: int64\n"
     ]
    },
    {
     "data": {
      "image/png": "[encoded data removed]",
      "text/plain": [
       "<Figure size 1600x800 with 2 Axes>"
      ]
     },
     "metadata": {},
     "output_type": "display_data"
    }
   ],
   "source": [
    "# change .5 star\n",
    "df['starRating'] = df['starRating'].replace(1.5, 1)\n",
    "df['starRating'] = df['starRating'].replace(3.5, 3)\n",
    "df['starRating'] = df['starRating'].replace(4.5, 4)\n",
    "\n",
    "# starRating Distribution\n",
    "value = df.starRating.value_counts()\n",
    "\n",
    "# starRating Distribution by percentage\n",
    "value_percentage = value / len(df) * 100\n",
    "\n",
    "print('OriginalRate Distribution by starRating')\n",
    "print(value)\n",
    "\n",
    "fig, ax = plt.subplots(1,2, figsize=(20, 10), dpi=80, gridspec_kw={'width_ratios': [1, 0.5]})\n",
    "sns.histplot(df,x=\"originalRate\", hue='starRating' ,palette='bright', ax=ax[0]).set(title='OriginalRate Distribution by starRating')\n",
    "\n",
    "# starRating percentage plot\n",
    "sns.barplot(x=value_percentage.index, y=value_percentage.values, palette='bright', ax=ax[1]).set(title='starRating percentage')\n",
    "\n",
    "fig.tight_layout()"
   ]
  },
  {
   "cell_type": "code",
   "execution_count": 38,
   "metadata": {},
   "outputs": [
    {
     "data": {
      "text/html": [
       "<div>\n",
       "<style scoped>\n",
       "    .dataframe tbody tr th:only-of-type {\n",
       "        vertical-align: middle;\n",
       "    }\n",
       "\n",
       "    .dataframe tbody tr th {\n",
       "        vertical-align: top;\n",
       "    }\n",
       "\n",
       "    .dataframe thead tr th {\n",
       "        text-align: left;\n",
       "    }\n",
       "\n",
       "    .dataframe thead tr:last-of-type th {\n",
       "        text-align: right;\n",
       "    }\n",
       "</style>\n",
       "<table border=\"1\" class=\"dataframe\">\n",
       "  <thead>\n",
       "    <tr>\n",
       "      <th></th>\n",
       "      <th colspan=\"7\" halign=\"left\">originalRate</th>\n",
       "    </tr>\n",
       "    <tr>\n",
       "      <th></th>\n",
       "      <th>mean</th>\n",
       "      <th>std</th>\n",
       "      <th>min</th>\n",
       "      <th>max</th>\n",
       "      <th>&lt;lambda_0&gt;</th>\n",
       "      <th>median</th>\n",
       "      <th>&lt;lambda_1&gt;</th>\n",
       "    </tr>\n",
       "    <tr>\n",
       "      <th>starRating</th>\n",
       "      <th></th>\n",
       "      <th></th>\n",
       "      <th></th>\n",
       "      <th></th>\n",
       "      <th></th>\n",
       "      <th></th>\n",
       "      <th></th>\n",
       "    </tr>\n",
       "  </thead>\n",
       "  <tbody>\n",
       "    <tr>\n",
       "      <th>0</th>\n",
       "      <td>1.532357e+05</td>\n",
       "      <td>3.149420e+04</td>\n",
       "      <td>60607</td>\n",
       "      <td>195900</td>\n",
       "      <td>130028.0</td>\n",
       "      <td>157025.0</td>\n",
       "      <td>183471.00</td>\n",
       "    </tr>\n",
       "    <tr>\n",
       "      <th>1</th>\n",
       "      <td>1.972876e+05</td>\n",
       "      <td>4.900288e+04</td>\n",
       "      <td>40313</td>\n",
       "      <td>267769</td>\n",
       "      <td>163413.0</td>\n",
       "      <td>206612.0</td>\n",
       "      <td>239669.00</td>\n",
       "    </tr>\n",
       "    <tr>\n",
       "      <th>2</th>\n",
       "      <td>3.595947e+05</td>\n",
       "      <td>1.110327e+05</td>\n",
       "      <td>55096</td>\n",
       "      <td>550964</td>\n",
       "      <td>277396.5</td>\n",
       "      <td>357025.0</td>\n",
       "      <td>446117.00</td>\n",
       "    </tr>\n",
       "    <tr>\n",
       "      <th>3</th>\n",
       "      <td>6.933194e+05</td>\n",
       "      <td>2.505965e+05</td>\n",
       "      <td>95041</td>\n",
       "      <td>1193756</td>\n",
       "      <td>506887.0</td>\n",
       "      <td>694215.0</td>\n",
       "      <td>881543.00</td>\n",
       "    </tr>\n",
       "    <tr>\n",
       "      <th>4</th>\n",
       "      <td>1.464302e+06</td>\n",
       "      <td>5.004292e+05</td>\n",
       "      <td>231405</td>\n",
       "      <td>2380165</td>\n",
       "      <td>1157025.0</td>\n",
       "      <td>1453719.0</td>\n",
       "      <td>1861799.50</td>\n",
       "    </tr>\n",
       "    <tr>\n",
       "      <th>5</th>\n",
       "      <td>3.747564e+06</td>\n",
       "      <td>1.261685e+06</td>\n",
       "      <td>698347</td>\n",
       "      <td>6611571</td>\n",
       "      <td>2754821.0</td>\n",
       "      <td>3553719.0</td>\n",
       "      <td>4587356.75</td>\n",
       "    </tr>\n",
       "  </tbody>\n",
       "</table>\n",
       "</div>"
      ],
      "text/plain": [
       "            originalRate                                                       \\\n",
       "                    mean           std     min      max <lambda_0>     median   \n",
       "starRating                                                                      \n",
       "0           1.532357e+05  3.149420e+04   60607   195900   130028.0   157025.0   \n",
       "1           1.972876e+05  4.900288e+04   40313   267769   163413.0   206612.0   \n",
       "2           3.595947e+05  1.110327e+05   55096   550964   277396.5   357025.0   \n",
       "3           6.933194e+05  2.505965e+05   95041  1193756   506887.0   694215.0   \n",
       "4           1.464302e+06  5.004292e+05  231405  2380165  1157025.0  1453719.0   \n",
       "5           3.747564e+06  1.261685e+06  698347  6611571  2754821.0  3553719.0   \n",
       "\n",
       "                        \n",
       "            <lambda_1>  \n",
       "starRating              \n",
       "0            183471.00  \n",
       "1            239669.00  \n",
       "2            446117.00  \n",
       "3            881543.00  \n",
       "4           1861799.50  \n",
       "5           4587356.75  "
      ]
     },
     "execution_count": 38,
     "metadata": {},
     "output_type": "execute_result"
    }
   ],
   "source": [
    "df.groupby('starRating').agg({'originalRate': ['mean', 'std', 'min', 'max',lambda x: x.quantile(0.25),'median', lambda x: x.quantile(0.75)]})"
   ]
  },
  {
   "cell_type": "code",
   "execution_count": 39,
   "metadata": {},
   "outputs": [
    {
     "data": {
      "image/png": "[encoded data removed]",
      "text/plain": [
       "<Figure size 1600x800 with 6 Axes>"
      ]
     },
     "metadata": {},
     "output_type": "display_data"
    }
   ],
   "source": [
    "filtered_0 = df[df['starRating'] == 0]\n",
    "filtered_1 = df[df['starRating'] == 1]\n",
    "filtered_2 = df[df['starRating'] == 2]\n",
    "filtered_3 = df[df['starRating'] == 3]\n",
    "filtered_4 = df[df['starRating'] == 4]\n",
    "filtered_5 = df[df['starRating'] == 5]\n",
    "\n",
    "# OriginalRate Distribution by starRating using hisplot inside subplot\n",
    "fig, ax = plt.subplots(2,3, figsize=(20, 10), dpi=80, gridspec_kw={'width_ratios': [1, 1, 1]})\n",
    "sns.histplot(filtered_0,x=\"originalRate\", ax=ax[0,0]).set(title='OriginalRate Distribution by 0 starRating')\n",
    "sns.histplot(filtered_1,x=\"originalRate\", ax=ax[0,1]).set(title='OriginalRate Distribution by 1 starRating')\n",
    "sns.histplot(filtered_2,x=\"originalRate\", ax=ax[0,2]).set(title='OriginalRate Distribution by 2 starRating')\n",
    "sns.histplot(filtered_3,x=\"originalRate\", ax=ax[1,0]).set(title='OriginalRate Distribution by 3 starRating')\n",
    "sns.histplot(filtered_4,x=\"originalRate\", ax=ax[1,1]).set(title='OriginalRate Distribution by 4 starRating')\n",
    "sns.histplot(filtered_5,x=\"originalRate\", ax=ax[1,2]).set(title='OriginalRate Distribution by 5 starRating')\n",
    "fig.tight_layout()"
   ]
  },
  {
   "attachments": {},
   "cell_type": "markdown",
   "metadata": {},
   "source": [
    "### Handling `size` missing value"
   ]
  },
  {
   "attachments": {},
   "cell_type": "markdown",
   "metadata": {},
   "source": [
    "Missing value will be handled by using randomized value from 25% and 75% quantile of `size` based on every `starRating`"
   ]
  },
  {
   "cell_type": "code",
   "execution_count": 40,
   "metadata": {},
   "outputs": [
    {
     "data": {
      "text/html": [
       "<div>\n",
       "<style scoped>\n",
       "    .dataframe tbody tr th:only-of-type {\n",
       "        vertical-align: middle;\n",
       "    }\n",
       "\n",
       "    .dataframe tbody tr th {\n",
       "        vertical-align: top;\n",
       "    }\n",
       "\n",
       "    .dataframe thead tr th {\n",
       "        text-align: left;\n",
       "    }\n",
       "\n",
       "    .dataframe thead tr:last-of-type th {\n",
       "        text-align: right;\n",
       "    }\n",
       "</style>\n",
       "<table border=\"1\" class=\"dataframe\">\n",
       "  <thead>\n",
       "    <tr>\n",
       "      <th></th>\n",
       "      <th colspan=\"7\" halign=\"left\">size</th>\n",
       "    </tr>\n",
       "    <tr>\n",
       "      <th></th>\n",
       "      <th>mean</th>\n",
       "      <th>std</th>\n",
       "      <th>min</th>\n",
       "      <th>max</th>\n",
       "      <th>&lt;lambda_0&gt;</th>\n",
       "      <th>median</th>\n",
       "      <th>&lt;lambda_1&gt;</th>\n",
       "    </tr>\n",
       "    <tr>\n",
       "      <th>starRating</th>\n",
       "      <th></th>\n",
       "      <th></th>\n",
       "      <th></th>\n",
       "      <th></th>\n",
       "      <th></th>\n",
       "      <th></th>\n",
       "      <th></th>\n",
       "    </tr>\n",
       "  </thead>\n",
       "  <tbody>\n",
       "    <tr>\n",
       "      <th>0</th>\n",
       "      <td>21.428571</td>\n",
       "      <td>10.534940</td>\n",
       "      <td>4.0</td>\n",
       "      <td>80.0</td>\n",
       "      <td>15.00</td>\n",
       "      <td>20.0</td>\n",
       "      <td>25.0</td>\n",
       "    </tr>\n",
       "    <tr>\n",
       "      <th>1</th>\n",
       "      <td>23.891503</td>\n",
       "      <td>35.915449</td>\n",
       "      <td>2.0</td>\n",
       "      <td>441.0</td>\n",
       "      <td>16.00</td>\n",
       "      <td>19.0</td>\n",
       "      <td>25.0</td>\n",
       "    </tr>\n",
       "    <tr>\n",
       "      <th>2</th>\n",
       "      <td>23.223021</td>\n",
       "      <td>29.126477</td>\n",
       "      <td>3.5</td>\n",
       "      <td>625.0</td>\n",
       "      <td>15.00</td>\n",
       "      <td>20.0</td>\n",
       "      <td>25.0</td>\n",
       "    </tr>\n",
       "    <tr>\n",
       "      <th>3</th>\n",
       "      <td>61.841964</td>\n",
       "      <td>1029.397823</td>\n",
       "      <td>3.0</td>\n",
       "      <td>36000.0</td>\n",
       "      <td>20.04</td>\n",
       "      <td>28.0</td>\n",
       "      <td>35.0</td>\n",
       "    </tr>\n",
       "    <tr>\n",
       "      <th>4</th>\n",
       "      <td>56.872724</td>\n",
       "      <td>139.390133</td>\n",
       "      <td>4.0</td>\n",
       "      <td>2600.0</td>\n",
       "      <td>28.00</td>\n",
       "      <td>36.0</td>\n",
       "      <td>50.0</td>\n",
       "    </tr>\n",
       "    <tr>\n",
       "      <th>5</th>\n",
       "      <td>192.528144</td>\n",
       "      <td>1320.910898</td>\n",
       "      <td>8.0</td>\n",
       "      <td>33000.0</td>\n",
       "      <td>45.00</td>\n",
       "      <td>75.0</td>\n",
       "      <td>140.0</td>\n",
       "    </tr>\n",
       "  </tbody>\n",
       "</table>\n",
       "</div>"
      ],
      "text/plain": [
       "                  size                                                        \n",
       "                  mean          std  min      max <lambda_0> median <lambda_1>\n",
       "starRating                                                                    \n",
       "0            21.428571    10.534940  4.0     80.0      15.00   20.0       25.0\n",
       "1            23.891503    35.915449  2.0    441.0      16.00   19.0       25.0\n",
       "2            23.223021    29.126477  3.5    625.0      15.00   20.0       25.0\n",
       "3            61.841964  1029.397823  3.0  36000.0      20.04   28.0       35.0\n",
       "4            56.872724   139.390133  4.0   2600.0      28.00   36.0       50.0\n",
       "5           192.528144  1320.910898  8.0  33000.0      45.00   75.0      140.0"
      ]
     },
     "execution_count": 40,
     "metadata": {},
     "output_type": "execute_result"
    }
   ],
   "source": [
    "df.groupby('starRating').agg({'size': ['mean', 'std', 'min', 'max',lambda x: x.quantile(0.25),'median', lambda x: x.quantile(0.75)]})"
   ]
  },
  {
   "cell_type": "code",
   "execution_count": 41,
   "metadata": {},
   "outputs": [],
   "source": [
    "df['size'].fillna(0, inplace=True)\n",
    "\n",
    "for i in range (0,6):\n",
    "    low_limit = df[df['starRating'] == i]['size'].quantile(0.25)\n",
    "    high_limit = df[df['starRating'] == i]['size'].quantile(0.75)\n",
    "    randomize = np.random.uniform(low_limit, high_limit)\n",
    "    df.loc[(df['size'] == 0) & (df['starRating'] == i), 'size'] = randomize"
   ]
  },
  {
   "cell_type": "code",
   "execution_count": 42,
   "metadata": {},
   "outputs": [
    {
     "data": {
      "text/html": [
       "<div>\n",
       "<style scoped>\n",
       "    .dataframe tbody tr th:only-of-type {\n",
       "        vertical-align: middle;\n",
       "    }\n",
       "\n",
       "    .dataframe tbody tr th {\n",
       "        vertical-align: top;\n",
       "    }\n",
       "\n",
       "    .dataframe thead tr th {\n",
       "        text-align: left;\n",
       "    }\n",
       "\n",
       "    .dataframe thead tr:last-of-type th {\n",
       "        text-align: right;\n",
       "    }\n",
       "</style>\n",
       "<table border=\"1\" class=\"dataframe\">\n",
       "  <thead>\n",
       "    <tr>\n",
       "      <th></th>\n",
       "      <th colspan=\"7\" halign=\"left\">size</th>\n",
       "    </tr>\n",
       "    <tr>\n",
       "      <th></th>\n",
       "      <th>mean</th>\n",
       "      <th>std</th>\n",
       "      <th>min</th>\n",
       "      <th>max</th>\n",
       "      <th>&lt;lambda_0&gt;</th>\n",
       "      <th>median</th>\n",
       "      <th>&lt;lambda_1&gt;</th>\n",
       "    </tr>\n",
       "    <tr>\n",
       "      <th>starRating</th>\n",
       "      <th></th>\n",
       "      <th></th>\n",
       "      <th></th>\n",
       "      <th></th>\n",
       "      <th></th>\n",
       "      <th></th>\n",
       "      <th></th>\n",
       "    </tr>\n",
       "  </thead>\n",
       "  <tbody>\n",
       "    <tr>\n",
       "      <th>0</th>\n",
       "      <td>18.174011</td>\n",
       "      <td>10.893650</td>\n",
       "      <td>4.0</td>\n",
       "      <td>80.0</td>\n",
       "      <td>7.732295</td>\n",
       "      <td>16.000000</td>\n",
       "      <td>24.0</td>\n",
       "    </tr>\n",
       "    <tr>\n",
       "      <th>1</th>\n",
       "      <td>20.205029</td>\n",
       "      <td>31.998028</td>\n",
       "      <td>2.0</td>\n",
       "      <td>441.0</td>\n",
       "      <td>8.454391</td>\n",
       "      <td>16.000000</td>\n",
       "      <td>24.0</td>\n",
       "    </tr>\n",
       "    <tr>\n",
       "      <th>2</th>\n",
       "      <td>22.030691</td>\n",
       "      <td>24.428521</td>\n",
       "      <td>3.5</td>\n",
       "      <td>625.0</td>\n",
       "      <td>16.000000</td>\n",
       "      <td>19.250198</td>\n",
       "      <td>24.0</td>\n",
       "    </tr>\n",
       "    <tr>\n",
       "      <th>3</th>\n",
       "      <td>49.518172</td>\n",
       "      <td>850.616975</td>\n",
       "      <td>3.0</td>\n",
       "      <td>36000.0</td>\n",
       "      <td>23.004660</td>\n",
       "      <td>23.004660</td>\n",
       "      <td>30.0</td>\n",
       "    </tr>\n",
       "    <tr>\n",
       "      <th>4</th>\n",
       "      <td>48.762891</td>\n",
       "      <td>121.753210</td>\n",
       "      <td>4.0</td>\n",
       "      <td>2600.0</td>\n",
       "      <td>24.068257</td>\n",
       "      <td>32.000000</td>\n",
       "      <td>45.0</td>\n",
       "    </tr>\n",
       "    <tr>\n",
       "      <th>5</th>\n",
       "      <td>143.612477</td>\n",
       "      <td>1124.797865</td>\n",
       "      <td>8.0</td>\n",
       "      <td>33000.0</td>\n",
       "      <td>16.756495</td>\n",
       "      <td>49.000000</td>\n",
       "      <td>110.0</td>\n",
       "    </tr>\n",
       "  </tbody>\n",
       "</table>\n",
       "</div>"
      ],
      "text/plain": [
       "                  size                                                   \\\n",
       "                  mean          std  min      max <lambda_0>     median   \n",
       "starRating                                                                \n",
       "0            18.174011    10.893650  4.0     80.0   7.732295  16.000000   \n",
       "1            20.205029    31.998028  2.0    441.0   8.454391  16.000000   \n",
       "2            22.030691    24.428521  3.5    625.0  16.000000  19.250198   \n",
       "3            49.518172   850.616975  3.0  36000.0  23.004660  23.004660   \n",
       "4            48.762891   121.753210  4.0   2600.0  24.068257  32.000000   \n",
       "5           143.612477  1124.797865  8.0  33000.0  16.756495  49.000000   \n",
       "\n",
       "                       \n",
       "           <lambda_1>  \n",
       "starRating             \n",
       "0                24.0  \n",
       "1                24.0  \n",
       "2                24.0  \n",
       "3                30.0  \n",
       "4                45.0  \n",
       "5               110.0  "
      ]
     },
     "execution_count": 42,
     "metadata": {},
     "output_type": "execute_result"
    }
   ],
   "source": [
    "df.groupby('starRating').agg({'size': ['mean', 'std', 'min', 'max',lambda x: x.quantile(0.25),'median', lambda x: x.quantile(0.75)]})"
   ]
  },
  {
   "cell_type": "markdown",
   "metadata": {},
   "source": [
    "#### Size Distribution "
   ]
  },
  {
   "cell_type": "code",
   "execution_count": 43,
   "metadata": {},
   "outputs": [
    {
     "name": "stdout",
     "output_type": "stream",
     "text": [
      "Size\n",
      "Maximum value : 36000.0\n",
      "Minimum value : 2.0\n",
      "Skew value : 42.026532831910345\n"
     ]
    },
    {
     "data": {
      "text/plain": [
       "<Figure size 1600x800 with 0 Axes>"
      ]
     },
     "metadata": {},
     "output_type": "display_data"
    },
    {
     "data": {
      "image/png": "[encoded data removed]",
      "text/plain": [
       "<Figure size 600x600 with 3 Axes>"
      ]
     },
     "metadata": {},
     "output_type": "display_data"
    }
   ],
   "source": [
    "# Size Statistics\n",
    "print('Size')\n",
    "print('Maximum value : {}'.format(df['size'].max()))\n",
    "print('Minimum value : {}'.format(df['size'].min()))\n",
    "print('Skew value : {}'.format(df['size'].skew()))\n",
    "\n",
    "# Size Distribution plot\n",
    "plt.figure(figsize=(20, 10), dpi=80)\n",
    "sns.set_style('darkgrid')\n",
    "sns.jointplot(data=df, x='size', y='originalRate')\n",
    "plt.show()"
   ]
  },
  {
   "cell_type": "code",
   "execution_count": 44,
   "metadata": {},
   "outputs": [
    {
     "name": "stdout",
     "output_type": "stream",
     "text": [
      "Number of outliers: 739\n",
      "Max outlier value: 36000.0\n",
      "Min outlier value: 83.0\n",
      "Deleted row : 739\n",
      "Remaining data : 5615\n"
     ]
    }
   ],
   "source": [
    "df_len = len(df)\n",
    "df = iqr_outlier(df, 'size')\n",
    "df_len = df_len - len(df)\n",
    "print(f'Deleted row : {df_len}')\n",
    "print(f'Remaining data : {df.shape[0]}')"
   ]
  },
  {
   "cell_type": "code",
   "execution_count": 45,
   "metadata": {},
   "outputs": [
    {
     "name": "stdout",
     "output_type": "stream",
     "text": [
      "Size\n",
      "maximum value : 82.0\n",
      "minimum value : 2.0\n",
      "skew value : 1.3696699287929899\n"
     ]
    },
    {
     "data": {
      "text/plain": [
       "<Figure size 1600x800 with 0 Axes>"
      ]
     },
     "metadata": {},
     "output_type": "display_data"
    },
    {
     "data": {
      "image/png": "[encoded data removed]",
      "text/plain": [
       "<Figure size 600x600 with 3 Axes>"
      ]
     },
     "metadata": {},
     "output_type": "display_data"
    }
   ],
   "source": [
    "# Size Statistics\n",
    "print('Size')\n",
    "print('maximum value : {}'.format(df['size'].max()))\n",
    "print('minimum value : {}'.format(df['size'].min()))\n",
    "print('skew value : {}'.format(df['size'].skew()))\n",
    "\n",
    "# Size Distribution plot\n",
    "plt.figure(figsize=(20, 10), dpi=80)\n",
    "sns.set_style('darkgrid')\n",
    "sns.jointplot(data=df, x='size', y='originalRate')\n",
    "plt.show()"
   ]
  },
  {
   "cell_type": "code",
   "execution_count": 46,
   "metadata": {},
   "outputs": [
    {
     "name": "stdout",
     "output_type": "stream",
     "text": [
      "Total rows : 5615\n",
      "Total deleted rows : 1331\n"
     ]
    }
   ],
   "source": [
    "# Output total deleted rows\n",
    "print(f'Total rows : {df.shape[0]}')\n",
    "print(f'Total deleted rows : {originalRows - df.shape[0]}')"
   ]
  },
  {
   "cell_type": "markdown",
   "metadata": {},
   "source": [
    "## Export Data to CSV"
   ]
  },
  {
   "cell_type": "code",
   "execution_count": 47,
   "metadata": {},
   "outputs": [
    {
     "name": "stdout",
     "output_type": "stream",
     "text": [
      "<class 'pandas.core.frame.DataFrame'>\n",
      "Int64Index: 5615 entries, 0 to 6945\n",
      "Data columns (total 15 columns):\n",
      " #   Column                   Non-Null Count  Dtype  \n",
      "---  ------                   --------------  -----  \n",
      " 0   type                     5615 non-null   object \n",
      " 1   city                     5615 non-null   object \n",
      " 2   hotelFacilities          5615 non-null   object \n",
      " 3   nearestPointOfInterests  5615 non-null   object \n",
      " 4   starRating               5615 non-null   int32  \n",
      " 5   size                     5615 non-null   float64\n",
      " 6   originalRate             5615 non-null   int32  \n",
      " 7   baseOccupancy            5615 non-null   int64  \n",
      " 8   maxChildOccupancy        5615 non-null   int64  \n",
      " 9   maxChildAge              5615 non-null   int64  \n",
      " 10  isBreakfastIncluded      5615 non-null   int64  \n",
      " 11  isWifiIncluded           5615 non-null   int64  \n",
      " 12  isRefundable             5615 non-null   int64  \n",
      " 13  hasLivingRoom            5615 non-null   int64  \n",
      " 14  roomFacilities           5615 non-null   object \n",
      "dtypes: float64(1), int32(2), int64(7), object(5)\n",
      "memory usage: 787.0+ KB\n"
     ]
    }
   ],
   "source": [
    "df.to_csv('../Dataset/clean_data.csv', index=False)\n",
    "df.info()"
   ]
  }
 ],
 "metadata": {
  "kernelspec": {
   "display_name": "Python 3.10.6 64-bit",
   "language": "python",
   "name": "python3"
  },
  "language_info": {
   "codemirror_mode": {
    "name": "ipython",
    "version": 3
   },
   "file_extension": ".py",
   "mimetype": "text/x-python",
   "name": "python",
   "nbconvert_exporter": "python",
   "pygments_lexer": "ipython3",
   "version": "3.10.6"
  },
  "orig_nbformat": 4,
  "vscode": {
   "interpreter": {
    "hash": "c7c132e493bab3f05dc3eecde52b8af768e79f0c26a7d99c1a59f019ffce2dd8"
   }
  }
 },
 "nbformat": 4,
 "nbformat_minor": 2
}
